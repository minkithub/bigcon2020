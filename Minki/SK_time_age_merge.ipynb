{
 "cells": [
  {
   "cell_type": "code",
   "execution_count": 1,
   "metadata": {},
   "outputs": [],
   "source": [
    "import numpy as np\n",
    "import pandas as pd\n",
    "import datetime as dt\n",
    "import warnings\n",
    "warnings.filterwarnings(\"ignore\")\n",
    "from sklearn.metrics import mean_squared_error\n",
    "\n",
    "import os\n",
    "\n",
    "from pandas.plotting import register_matplotlib_converters\n",
    "import seaborn as sns\n",
    "import matplotlib.pyplot as plt\n",
    "import matplotlib as mpl\n",
    "import matplotlib.pyplot as plt\n",
    "import matplotlib.font_manager as fm\n",
    "font_path = '/Library/Fonts/NanumGothic.ttf'\n",
    "font_name = fm.FontProperties(fname=font_path, size=10).get_name()\n",
    "plt.rc('font', family=font_name, size=12)\n",
    "plt.rcParams[\"figure.figsize\"] = (30, 10)\n",
    "register_matplotlib_converters()\n",
    "\n",
    "mpl.font_manager._rebuild()\n",
    "mpl.pyplot.rc('font', family='NanumGothic')"
   ]
  },
  {
   "cell_type": "code",
   "execution_count": 2,
   "metadata": {},
   "outputs": [],
   "source": [
    "FLOWTIME_PATH = '/Users/minki/pythonworkspace/bigcon2020/2020dataset/SK_data/FLOW_TIME'\n",
    "FLOWAGE_PATH = '/Users/minki/pythonworkspace/bigcon2020/2020dataset/SK_data/FLOW_AGE'"
   ]
  },
  {
   "cell_type": "code",
   "execution_count": 3,
   "metadata": {},
   "outputs": [],
   "source": [
    "sk_data_TIME = pd.read_excel(f'{FLOWTIME_PATH}/SK_TIME_DATA.xlsx')\n",
    "sk_data_AGE = pd.read_excel(f'{FLOWAGE_PATH}/SK_AGE_DATA.xlsx')\n",
    "\n",
    "del sk_data_TIME['Unnamed: 0']\n",
    "del sk_data_AGE['Unnamed: 0']"
   ]
  },
  {
   "cell_type": "code",
   "execution_count": 4,
   "metadata": {},
   "outputs": [],
   "source": [
    "sk_TIME_2019 = sk_data_TIME[sk_data_TIME['STD_YM'] < 202000]\n",
    "sk_TIME_2020 = sk_data_TIME[sk_data_TIME['STD_YM'] >= 202000]\n",
    "\n",
    "sk_AGE_2019 = sk_data_AGE[sk_data_AGE['STD_YM'] < 202000]\n",
    "sk_AGE_2020 = sk_data_AGE[sk_data_AGE['STD_YM'] >= 202000]"
   ]
  },
  {
   "cell_type": "code",
   "execution_count": 10,
   "metadata": {},
   "outputs": [
    {
     "data": {
      "text/plain": [
       "0       -1.000000e-02\n",
       "1        1.796629e+05\n",
       "2        2.930369e+05\n",
       "3        5.884561e+04\n",
       "4       -2.556252e+04\n",
       "             ...     \n",
       "16624   -1.288185e+04\n",
       "16625   -2.791713e+04\n",
       "16626    7.161017e+04\n",
       "16627    1.610322e+05\n",
       "16628   -7.275958e-12\n",
       "Length: 16629, dtype: float64"
      ]
     },
     "execution_count": 10,
     "metadata": {},
     "output_type": "execute_result"
    }
   ],
   "source": [
    "sk_data_TIME.iloc[:, 6:].apply(np.sum, axis = 1) - sk_data_AGE.iloc[:, 6:].apply(np.sum, axis = 1)"
   ]
  },
  {
   "cell_type": "code",
   "execution_count": 35,
   "metadata": {},
   "outputs": [],
   "source": [
    "sk_data_TIME['total'] = sk_data_TIME.iloc[:, 6:].apply(np.sum, axis = 1)"
   ]
  },
  {
   "cell_type": "code",
   "execution_count": 38,
   "metadata": {},
   "outputs": [],
   "source": [
    "sk_data_AGE['total'] = sk_data_AGE.iloc[:, 6:].apply(np.sum, axis = 1)"
   ]
  },
  {
   "cell_type": "code",
   "execution_count": 40,
   "metadata": {},
   "outputs": [],
   "source": [
    "sk_data_TIME_percent = sk_data_TIME.copy()\n",
    "sk_data_AGE_percent = sk_data_AGE.copy()"
   ]
  },
  {
   "cell_type": "code",
   "execution_count": 42,
   "metadata": {},
   "outputs": [],
   "source": [
    "sk_data_TIME_percent.iloc[:, 6:] = sk_data_TIME_percent.iloc[:, 6:].div(sk_data_TIME_percent.iloc[:, 6:].total, axis = 0)*100"
   ]
  },
  {
   "cell_type": "code",
   "execution_count": 44,
   "metadata": {},
   "outputs": [],
   "source": [
    "sk_data_AGE_percent.iloc[:, 6:] = sk_data_AGE_percent.iloc[:, 6:].div(sk_data_AGE_percent.iloc[:, 6:].total, axis = 0)*100"
   ]
  },
  {
   "cell_type": "code",
   "execution_count": null,
   "metadata": {},
   "outputs": [],
   "source": []
  }
 ],
 "metadata": {
  "kernelspec": {
   "display_name": "Python 3",
   "language": "python",
   "name": "python3"
  },
  "language_info": {
   "codemirror_mode": {
    "name": "ipython",
    "version": 3
   },
   "file_extension": ".py",
   "mimetype": "text/x-python",
   "name": "python",
   "nbconvert_exporter": "python",
   "pygments_lexer": "ipython3",
   "version": "3.6.8"
  }
 },
 "nbformat": 4,
 "nbformat_minor": 2
}
