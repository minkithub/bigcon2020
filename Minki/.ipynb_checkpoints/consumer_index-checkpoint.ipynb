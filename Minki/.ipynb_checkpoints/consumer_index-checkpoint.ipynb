{
 "cells": [
  {
   "cell_type": "code",
   "execution_count": 1,
   "metadata": {},
   "outputs": [],
   "source": [
    "import numpy as np\n",
    "import pandas as pd\n",
    "import datetime as dt\n",
    "import warnings\n",
    "warnings.filterwarnings(\"ignore\")\n",
    "from sklearn.metrics import mean_squared_error\n",
    "\n",
    "import os\n",
    "\n",
    "from pandas.plotting import register_matplotlib_converters\n",
    "import seaborn as sns\n",
    "import matplotlib.pyplot as plt\n",
    "import matplotlib as mpl\n",
    "import matplotlib.pyplot as plt\n",
    "import matplotlib.font_manager as fm\n",
    "font_path = '/Library/Fonts/NanumGothic.ttf'\n",
    "font_name = fm.FontProperties(fname=font_path, size=10).get_name()\n",
    "plt.rc('font', family=font_name, size=12)\n",
    "plt.rcParams[\"figure.figsize\"] = (30, 10)\n",
    "register_matplotlib_converters()"
   ]
  },
  {
   "cell_type": "code",
   "execution_count": 90,
   "metadata": {},
   "outputs": [],
   "source": [
    "plt.style.use('ggplot')\n",
    "mpl.font_manager._rebuild()\n",
    "mpl.pyplot.rc('font', family='NanumGothic')"
   ]
  },
  {
   "cell_type": "code",
   "execution_count": 2,
   "metadata": {},
   "outputs": [],
   "source": [
    "# 소비자물가지수\n",
    "consumer = pd.read_excel('/Users/minki/pythonworkspace/bigcon2020/2020dataset/counsumer_index.xlsx')"
   ]
  },
  {
   "cell_type": "code",
   "execution_count": 3,
   "metadata": {},
   "outputs": [],
   "source": [
    "# 온라인쇼핑몰 운영형태\n",
    "online_shop = pd.read_excel('/Users/minki/pythonworkspace/bigcon2020/2020dataset/온라인쇼핑몰_운영형태_상품군별거래액.xlsx')"
   ]
  },
  {
   "cell_type": "code",
   "execution_count": 4,
   "metadata": {},
   "outputs": [],
   "source": [
    "# cj 물류 데이터\n",
    "cj_shop = pd.read_excel('/Users/minki/pythonworkspace/bigcon2020/2020dataset/CJ_data/CJ_data.xlsx')"
   ]
  },
  {
   "cell_type": "code",
   "execution_count": 5,
   "metadata": {},
   "outputs": [],
   "source": [
    "# gs 유통 데이터\n",
    "gs_category = pd.read_excel(\"/Users/minki/pythonworkspace/bigcon2020/2020dataset/GS_data/04_혁신아이디어분야_유통데이터(GS리테일)_데이터정의서 및 문제 데이터.xlsx\", sheet_name='카테고리별 매출비중')\n",
    "gs_dong = pd.read_excel(\"/Users/minki/pythonworkspace/bigcon2020/2020dataset/GS_data/04_혁신아이디어분야_유통데이터(GS리테일)_데이터정의서 및 문제 데이터.xlsx\", sheet_name='동별매출지수', header=[3])\n",
    "gs_total = pd.read_excel(\"/Users/minki/pythonworkspace/bigcon2020/2020dataset/GS_data/04_혁신아이디어분야_유통데이터(GS리테일)_데이터정의서 및 문제 데이터.xlsx\", sheet_name='종합테이블(TB_DD_STR_PURCH_CLS)')"
   ]
  },
  {
   "cell_type": "code",
   "execution_count": 6,
   "metadata": {},
   "outputs": [],
   "source": [
    "# 신한카드 데이터\n",
    "resident = pd.read_csv('/Users/minki/pythonworkspace/bigcon2020/csv_files/카드_내국인.csv', encoding = 'utf-8')\n",
    "foreigner = pd.read_csv('/Users/minki/pythonworkspace/bigcon2020/csv_files/카드_외국인.csv', encoding = 'utf-8')"
   ]
  },
  {
   "cell_type": "markdown",
   "metadata": {},
   "source": [
    "# 1. 소비자 물가지수에 따른 소비 패턴 변화 파악"
   ]
  },
  {
   "cell_type": "code",
   "execution_count": 137,
   "metadata": {},
   "outputs": [],
   "source": [
    "consumer_2019 = consumer.iloc[:, :14]\n",
    "consumer_2020 = consumer.iloc[:, [0, 1, 14, 15, 16, 17, 18]]"
   ]
  },
  {
   "cell_type": "code",
   "execution_count": 138,
   "metadata": {},
   "outputs": [],
   "source": [
    "consumer_index = list(consumer_2019.지수코드별.value_counts().index)"
   ]
  },
  {
   "cell_type": "code",
   "execution_count": 139,
   "metadata": {},
   "outputs": [],
   "source": [
    "sample = consumer_2019[consumer_2019.지수코드별 == '\\u3000\\u3000\\u3000금리수준전망CSI'].iloc[:, 1:].T"
   ]
  },
  {
   "cell_type": "code",
   "execution_count": 140,
   "metadata": {},
   "outputs": [],
   "source": [
    "sample = sample.rename(columns = sample.iloc[0])"
   ]
  },
  {
   "cell_type": "code",
   "execution_count": 141,
   "metadata": {},
   "outputs": [],
   "source": [
    "sample = sample.drop(sample.index[0])"
   ]
  },
  {
   "cell_type": "code",
   "execution_count": 142,
   "metadata": {},
   "outputs": [],
   "source": [
    "sample = sample.iloc[1:5, :]"
   ]
  },
  {
   "cell_type": "code",
   "execution_count": 160,
   "metadata": {},
   "outputs": [],
   "source": [
    "sample2 = consumer_2020[consumer_2020.지수코드별 == '\\u3000\\u3000\\u3000금리수준전망CSI'].iloc[:, 1:].T"
   ]
  },
  {
   "cell_type": "code",
   "execution_count": 161,
   "metadata": {},
   "outputs": [],
   "source": [
    "sample2 = sample2.rename(columns = sample2.iloc[0])"
   ]
  },
  {
   "cell_type": "code",
   "execution_count": 164,
   "metadata": {},
   "outputs": [],
   "source": [
    "sample2 = sample2.drop(sample2.index[0])"
   ]
  },
  {
   "cell_type": "code",
   "execution_count": 168,
   "metadata": {},
   "outputs": [],
   "source": [
    "sample2 = sample2.iloc[1:, :]"
   ]
  },
  {
   "cell_type": "code",
   "execution_count": 169,
   "metadata": {},
   "outputs": [
    {
     "data": {
      "text/html": [
       "<div>\n",
       "<style scoped>\n",
       "    .dataframe tbody tr th:only-of-type {\n",
       "        vertical-align: middle;\n",
       "    }\n",
       "\n",
       "    .dataframe tbody tr th {\n",
       "        vertical-align: top;\n",
       "    }\n",
       "\n",
       "    .dataframe thead th {\n",
       "        text-align: right;\n",
       "    }\n",
       "</style>\n",
       "<table border=\"1\" class=\"dataframe\">\n",
       "  <thead>\n",
       "    <tr style=\"text-align: right;\">\n",
       "      <th></th>\n",
       "      <th>전체</th>\n",
       "      <th>남자</th>\n",
       "      <th>여자</th>\n",
       "      <th>40세미만</th>\n",
       "      <th>40-50세</th>\n",
       "      <th>50-60세</th>\n",
       "      <th>60-70세</th>\n",
       "      <th>70세이상</th>\n",
       "      <th>봉급생활자</th>\n",
       "      <th>자영업자</th>\n",
       "      <th>...</th>\n",
       "      <th>100-200만원</th>\n",
       "      <th>200-300만원</th>\n",
       "      <th>300-400만원</th>\n",
       "      <th>400-500만원</th>\n",
       "      <th>500만원이상</th>\n",
       "      <th>자가</th>\n",
       "      <th>임차 등</th>\n",
       "      <th>서울</th>\n",
       "      <th>6대광역시</th>\n",
       "      <th>기타도시</th>\n",
       "    </tr>\n",
       "  </thead>\n",
       "  <tbody>\n",
       "    <tr>\n",
       "      <th>2019. 02</th>\n",
       "      <td>120</td>\n",
       "      <td>121</td>\n",
       "      <td>117</td>\n",
       "      <td>120</td>\n",
       "      <td>124</td>\n",
       "      <td>120</td>\n",
       "      <td>118</td>\n",
       "      <td>114</td>\n",
       "      <td>121</td>\n",
       "      <td>122</td>\n",
       "      <td>...</td>\n",
       "      <td>115</td>\n",
       "      <td>119</td>\n",
       "      <td>120</td>\n",
       "      <td>124</td>\n",
       "      <td>124</td>\n",
       "      <td>121</td>\n",
       "      <td>118</td>\n",
       "      <td>120</td>\n",
       "      <td>120</td>\n",
       "      <td>120</td>\n",
       "    </tr>\n",
       "    <tr>\n",
       "      <th>2019. 03</th>\n",
       "      <td>115</td>\n",
       "      <td>115</td>\n",
       "      <td>114</td>\n",
       "      <td>114</td>\n",
       "      <td>117</td>\n",
       "      <td>116</td>\n",
       "      <td>114</td>\n",
       "      <td>112</td>\n",
       "      <td>115</td>\n",
       "      <td>117</td>\n",
       "      <td>...</td>\n",
       "      <td>109</td>\n",
       "      <td>112</td>\n",
       "      <td>117</td>\n",
       "      <td>117</td>\n",
       "      <td>118</td>\n",
       "      <td>116</td>\n",
       "      <td>114</td>\n",
       "      <td>116</td>\n",
       "      <td>116</td>\n",
       "      <td>114</td>\n",
       "    </tr>\n",
       "    <tr>\n",
       "      <th>2019. 04</th>\n",
       "      <td>110</td>\n",
       "      <td>110</td>\n",
       "      <td>111</td>\n",
       "      <td>112</td>\n",
       "      <td>112</td>\n",
       "      <td>109</td>\n",
       "      <td>108</td>\n",
       "      <td>106</td>\n",
       "      <td>110</td>\n",
       "      <td>111</td>\n",
       "      <td>...</td>\n",
       "      <td>108</td>\n",
       "      <td>109</td>\n",
       "      <td>113</td>\n",
       "      <td>109</td>\n",
       "      <td>110</td>\n",
       "      <td>110</td>\n",
       "      <td>110</td>\n",
       "      <td>108</td>\n",
       "      <td>109</td>\n",
       "      <td>111</td>\n",
       "    </tr>\n",
       "    <tr>\n",
       "      <th>2019. 05</th>\n",
       "      <td>109</td>\n",
       "      <td>109</td>\n",
       "      <td>109</td>\n",
       "      <td>111</td>\n",
       "      <td>109</td>\n",
       "      <td>109</td>\n",
       "      <td>107</td>\n",
       "      <td>104</td>\n",
       "      <td>109</td>\n",
       "      <td>110</td>\n",
       "      <td>...</td>\n",
       "      <td>109</td>\n",
       "      <td>111</td>\n",
       "      <td>111</td>\n",
       "      <td>108</td>\n",
       "      <td>108</td>\n",
       "      <td>108</td>\n",
       "      <td>110</td>\n",
       "      <td>108</td>\n",
       "      <td>108</td>\n",
       "      <td>109</td>\n",
       "    </tr>\n",
       "  </tbody>\n",
       "</table>\n",
       "<p>4 rows × 22 columns</p>\n",
       "</div>"
      ],
      "text/plain": [
       "           전체 　　　남자 　　　여자 　　　40세미만 　　　40-50세 　　　50-60세 　　　60-70세 　　　70세이상  \\\n",
       "2019. 02  120   121   117      120       124       120       118      114   \n",
       "2019. 03  115   115   114      114       117       116       114      112   \n",
       "2019. 04  110   110   111      112       112       109       108      106   \n",
       "2019. 05  109   109   109      111       109       109       107      104   \n",
       "\n",
       "         　　　봉급생활자 　　　자영업자  ... 　　　100-200만원 　　　200-300만원 　　　300-400만원  \\\n",
       "2019. 02      121     122  ...          115          119          120   \n",
       "2019. 03      115     117  ...          109          112          117   \n",
       "2019. 04      110     111  ...          108          109          113   \n",
       "2019. 05      109     110  ...          109          111          111   \n",
       "\n",
       "         　　　400-500만원 　　　500만원이상 　　　자가 　　　임차 등 　　　서울 　　　6대광역시 　　　기타도시  \n",
       "2019. 02          124        124   121     118   120      120     120  \n",
       "2019. 03          117        118   116     114   116      116     114  \n",
       "2019. 04          109        110   110     110   108      109     111  \n",
       "2019. 05          108        108   108     110   108      108     109  \n",
       "\n",
       "[4 rows x 22 columns]"
      ]
     },
     "execution_count": 169,
     "metadata": {},
     "output_type": "execute_result"
    }
   ],
   "source": [
    "sample"
   ]
  },
  {
   "cell_type": "code",
   "execution_count": 245,
   "metadata": {},
   "outputs": [
    {
     "data": {
      "text/html": [
       "<div>\n",
       "<style scoped>\n",
       "    .dataframe tbody tr th:only-of-type {\n",
       "        vertical-align: middle;\n",
       "    }\n",
       "\n",
       "    .dataframe tbody tr th {\n",
       "        vertical-align: top;\n",
       "    }\n",
       "\n",
       "    .dataframe thead th {\n",
       "        text-align: right;\n",
       "    }\n",
       "</style>\n",
       "<table border=\"1\" class=\"dataframe\">\n",
       "  <thead>\n",
       "    <tr style=\"text-align: right;\">\n",
       "      <th></th>\n",
       "      <th>전체</th>\n",
       "      <th>남자</th>\n",
       "      <th>여자</th>\n",
       "      <th>40세미만</th>\n",
       "      <th>40-50세</th>\n",
       "      <th>50-60세</th>\n",
       "      <th>60-70세</th>\n",
       "      <th>70세이상</th>\n",
       "      <th>봉급생활자</th>\n",
       "      <th>자영업자</th>\n",
       "      <th>...</th>\n",
       "      <th>100-200만원</th>\n",
       "      <th>200-300만원</th>\n",
       "      <th>300-400만원</th>\n",
       "      <th>400-500만원</th>\n",
       "      <th>500만원이상</th>\n",
       "      <th>자가</th>\n",
       "      <th>임차 등</th>\n",
       "      <th>서울</th>\n",
       "      <th>6대광역시</th>\n",
       "      <th>기타도시</th>\n",
       "    </tr>\n",
       "  </thead>\n",
       "  <tbody>\n",
       "    <tr>\n",
       "      <th>2020. 02</th>\n",
       "      <td>92</td>\n",
       "      <td>92</td>\n",
       "      <td>91</td>\n",
       "      <td>95</td>\n",
       "      <td>94</td>\n",
       "      <td>93</td>\n",
       "      <td>87</td>\n",
       "      <td>87</td>\n",
       "      <td>93</td>\n",
       "      <td>93</td>\n",
       "      <td>...</td>\n",
       "      <td>89</td>\n",
       "      <td>94</td>\n",
       "      <td>91</td>\n",
       "      <td>91</td>\n",
       "      <td>93</td>\n",
       "      <td>91</td>\n",
       "      <td>94</td>\n",
       "      <td>91</td>\n",
       "      <td>92</td>\n",
       "      <td>92</td>\n",
       "    </tr>\n",
       "    <tr>\n",
       "      <th>2020. 03</th>\n",
       "      <td>72</td>\n",
       "      <td>72</td>\n",
       "      <td>76</td>\n",
       "      <td>75</td>\n",
       "      <td>72</td>\n",
       "      <td>72</td>\n",
       "      <td>71</td>\n",
       "      <td>70</td>\n",
       "      <td>74</td>\n",
       "      <td>70</td>\n",
       "      <td>...</td>\n",
       "      <td>77</td>\n",
       "      <td>76</td>\n",
       "      <td>72</td>\n",
       "      <td>70</td>\n",
       "      <td>69</td>\n",
       "      <td>72</td>\n",
       "      <td>74</td>\n",
       "      <td>70</td>\n",
       "      <td>74</td>\n",
       "      <td>73</td>\n",
       "    </tr>\n",
       "    <tr>\n",
       "      <th>2020. 04</th>\n",
       "      <td>77</td>\n",
       "      <td>77</td>\n",
       "      <td>74</td>\n",
       "      <td>81</td>\n",
       "      <td>75</td>\n",
       "      <td>75</td>\n",
       "      <td>77</td>\n",
       "      <td>72</td>\n",
       "      <td>77</td>\n",
       "      <td>78</td>\n",
       "      <td>...</td>\n",
       "      <td>76</td>\n",
       "      <td>80</td>\n",
       "      <td>76</td>\n",
       "      <td>76</td>\n",
       "      <td>77</td>\n",
       "      <td>76</td>\n",
       "      <td>79</td>\n",
       "      <td>76</td>\n",
       "      <td>77</td>\n",
       "      <td>77</td>\n",
       "    </tr>\n",
       "    <tr>\n",
       "      <th>2020. 05</th>\n",
       "      <td>82</td>\n",
       "      <td>83</td>\n",
       "      <td>79</td>\n",
       "      <td>83</td>\n",
       "      <td>83</td>\n",
       "      <td>82</td>\n",
       "      <td>84</td>\n",
       "      <td>78</td>\n",
       "      <td>83</td>\n",
       "      <td>84</td>\n",
       "      <td>...</td>\n",
       "      <td>81</td>\n",
       "      <td>84</td>\n",
       "      <td>80</td>\n",
       "      <td>82</td>\n",
       "      <td>82</td>\n",
       "      <td>82</td>\n",
       "      <td>83</td>\n",
       "      <td>82</td>\n",
       "      <td>82</td>\n",
       "      <td>82</td>\n",
       "    </tr>\n",
       "  </tbody>\n",
       "</table>\n",
       "<p>4 rows × 22 columns</p>\n",
       "</div>"
      ],
      "text/plain": [
       "          전체 　　　남자 　　　여자 　　　40세미만 　　　40-50세 　　　50-60세 　　　60-70세 　　　70세이상  \\\n",
       "2020. 02  92    92    91       95        94        93        87       87   \n",
       "2020. 03  72    72    76       75        72        72        71       70   \n",
       "2020. 04  77    77    74       81        75        75        77       72   \n",
       "2020. 05  82    83    79       83        83        82        84       78   \n",
       "\n",
       "         　　　봉급생활자 　　　자영업자  ... 　　　100-200만원 　　　200-300만원 　　　300-400만원  \\\n",
       "2020. 02       93      93  ...           89           94           91   \n",
       "2020. 03       74      70  ...           77           76           72   \n",
       "2020. 04       77      78  ...           76           80           76   \n",
       "2020. 05       83      84  ...           81           84           80   \n",
       "\n",
       "         　　　400-500만원 　　　500만원이상 　　　자가 　　　임차 등 　　　서울 　　　6대광역시 　　　기타도시  \n",
       "2020. 02           91         93    91      94    91       92      92  \n",
       "2020. 03           70         69    72      74    70       74      73  \n",
       "2020. 04           76         77    76      79    76       77      77  \n",
       "2020. 05           82         82    82      83    82       82      82  \n",
       "\n",
       "[4 rows x 22 columns]"
      ]
     },
     "execution_count": 245,
     "metadata": {},
     "output_type": "execute_result"
    }
   ],
   "source": [
    "sample2"
   ]
  },
  {
   "cell_type": "code",
   "execution_count": 256,
   "metadata": {},
   "outputs": [],
   "source": [
    "data = sample.iloc[:, 0].astype(float)\n",
    "data2 = sample2.iloc[:, 0].astype(float)"
   ]
  },
  {
   "cell_type": "code",
   "execution_count": 270,
   "metadata": {},
   "outputs": [],
   "source": [
    "days = ['02', '03', '04', '05']"
   ]
  },
  {
   "cell_type": "code",
   "execution_count": 271,
   "metadata": {},
   "outputs": [
    {
     "data": {
      "image/png": "[encoded data removed]",
      "text/plain": [
       "<Figure size 1008x288 with 2 Axes>"
      ]
     },
     "metadata": {},
     "output_type": "display_data"
    }
   ],
   "source": [
    "fig, ax = plt.subplots(figsize=(14,4))\n",
    "sns.lineplot(x = data.reset_index(drop=True).index, y = data.values, color = 'red', label = '2019', ax = ax, linewidth = 1)\n",
    "g = ax.twiny()\n",
    "\n",
    "g = sns.lineplot(x = data2.reset_index(drop=True).index, y = data2.values, color = 'blue', label = '2020', ax = ax, linewidth = 1)\n",
    "\n",
    "\n",
    "g.set_xticks(range(len(days)))\n",
    "g.set_xticklabels(days)\n",
    "                   \n",
    "plt.show()\n",
    "             \n",
    "             \n",
    "             \n",
    "             "
   ]
  }
 ],
 "metadata": {
  "kernelspec": {
   "display_name": "Python 3",
   "language": "python",
   "name": "python3"
  },
  "language_info": {
   "codemirror_mode": {
    "name": "ipython",
    "version": 3
   },
   "file_extension": ".py",
   "mimetype": "text/x-python",
   "name": "python",
   "nbconvert_exporter": "python",
   "pygments_lexer": "ipython3",
   "version": "3.6.8"
  }
 },
 "nbformat": 4,
 "nbformat_minor": 2
}
