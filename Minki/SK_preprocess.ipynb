{
 "cells": [
  {
   "cell_type": "markdown",
   "metadata": {},
   "source": [
    "# SK 유동인구 전처리 파일"
   ]
  },
  {
   "cell_type": "code",
   "execution_count": 1,
   "metadata": {},
   "outputs": [],
   "source": [
    "import numpy as np\n",
    "import pandas as pd\n",
    "import datetime as dt\n",
    "import warnings\n",
    "warnings.filterwarnings(\"ignore\")\n",
    "from sklearn.metrics import mean_squared_error\n",
    "\n",
    "import os"
   ]
  },
  {
   "cell_type": "code",
   "execution_count": 2,
   "metadata": {},
   "outputs": [],
   "source": [
    "FLOWTIME_PATH = '/Users/minki/pythonworkspace/bigcon2020/2020dataset/SK_data/FLOW_TIME'\n",
    "FLOWAGE_PATH = '/Users/minki/pythonworkspace/bigcon2020/2020dataset/SK_data/FLOW_AGE'"
   ]
  },
  {
   "cell_type": "code",
   "execution_count": 4,
   "metadata": {},
   "outputs": [],
   "source": [
    "# data load\n",
    "\n",
    "sk_data_TIME = pd.DataFrame()\n",
    "\n",
    "for root, dirs, files in os.walk(FLOWTIME_PATH):\n",
    "    for fname in files:\n",
    "        full_fname = os.path.join(root, fname)\n",
    "        data_time = pd.read_csv(full_fname, sep = '|')\n",
    "        sk_data_TIME = pd.concat([sk_data_TIME, data_time])\n",
    "        sk_data_TIME = sk_data_TIME.reset_index(drop=True)\n",
    "        \n",
    "sk_data_AGE = pd.DataFrame()\n",
    "\n",
    "for root, dirs, files in os.walk(FLOWAGE_PATH):\n",
    "    for fname in files:\n",
    "        full_fname = os.path.join(root, fname)\n",
    "        data_age = pd.read_csv(full_fname, sep = '|')\n",
    "        sk_data_AGE = pd.concat([sk_data_AGE, data_age])\n",
    "        sk_data_AGE = sk_data_AGE.reset_index(drop=True)\n",
    "\n",
    "# edit type\n",
    "sk_data_AGE['STD_YM'] = sk_data_AGE['STD_YM'].astype(int).astype(str)\n",
    "sk_data_AGE['STD_YMD'] = sk_data_AGE['STD_YMD'].astype(int).astype(str)\n",
    "sk_data_AGE['HDONG_CD'] = sk_data_AGE['HDONG_CD'].astype(int).astype(str)\n",
    "\n",
    "sk_data_TIME['STD_YM'] = sk_data_TIME['STD_YM'].astype(int).astype(str)\n",
    "sk_data_TIME['STD_YMD'] = sk_data_TIME['STD_YMD'].astype(int).astype(str)\n",
    "sk_data_TIME['HDONG_CD'] = sk_data_TIME['HDONG_CD'].astype(int).astype(str)"
   ]
  },
  {
   "cell_type": "markdown",
   "metadata": {},
   "source": [
    "## 데이터셋에 도시이름 추가"
   ]
  },
  {
   "cell_type": "code",
   "execution_count": 8,
   "metadata": {},
   "outputs": [],
   "source": [
    "# 법정동 코드 load\n",
    "\n",
    "import json\n",
    "\n",
    "file_path = '/Users/minki/pythonworkspace/bigcon2020/2020dataset/SK_data/dict_number.json'\n",
    "with open(file_path, 'r') as json_file:\n",
    "    dict_data = json.load(json_file)\n",
    "    \n",
    "dict_data = {v:k for k, v in dict_data.items()}"
   ]
  },
  {
   "cell_type": "code",
   "execution_count": 9,
   "metadata": {},
   "outputs": [
    {
     "name": "stderr",
     "output_type": "stream",
     "text": [
      "16629it [00:07, 2338.37it/s]\n",
      "16629it [00:07, 2373.00it/s]\n"
     ]
    }
   ],
   "source": [
    "from tqdm import tqdm\n",
    "\n",
    "sk_data_AGE['CITY'] = np.nan\n",
    "sk_data_AGE['GU_NAME'] = np.nan\n",
    "\n",
    "sk_data_TIME['CITY'] = np.nan\n",
    "sk_data_TIME['GU_NAME'] = np.nan\n",
    "\n",
    "for i, val in tqdm(sk_data_AGE.iterrows()):\n",
    "    res1 = dict_data[int(val.HDONG_CD)]\n",
    "    res2 = res1.split()\n",
    "    \n",
    "    sk_data_AGE['CITY'][i] = res2[0]\n",
    "    sk_data_AGE['GU_NAME'][i] = res2[1]\n",
    "    \n",
    "for i, val in tqdm(sk_data_TIME.iterrows()):\n",
    "    res1 = dict_data[int(val.HDONG_CD)]\n",
    "    res2 = res1.split()\n",
    "    \n",
    "    sk_data_TIME['CITY'][i] = res2[0]\n",
    "    sk_data_TIME['GU_NAME'][i] = res2[1]"
   ]
  },
  {
   "cell_type": "code",
   "execution_count": 10,
   "metadata": {},
   "outputs": [
    {
     "name": "stdout",
     "output_type": "stream",
     "text": [
      "Counter({'대구광역시': 8435, '서울특별시': 8194})\n",
      "Counter({'중구': 6507, '수성구': 5543, '노원구': 4579})\n",
      "Counter({'대구광역시': 8435, '서울특별시': 8194})\n",
      "Counter({'중구': 6507, '수성구': 5543, '노원구': 4579})\n"
     ]
    }
   ],
   "source": [
    "# null check\n",
    "\n",
    "from collections import Counter\n",
    "\n",
    "print(Counter(sk_data_TIME['CITY']))\n",
    "print(Counter(sk_data_TIME['GU_NAME']))\n",
    "\n",
    "print(Counter(sk_data_AGE['CITY']))\n",
    "print(Counter(sk_data_AGE['GU_NAME']))"
   ]
  },
  {
   "cell_type": "code",
   "execution_count": 11,
   "metadata": {},
   "outputs": [],
   "source": [
    "col_age_order = ['STD_YM',\n",
    " 'STD_YMD',\n",
    " 'HDONG_CD',\n",
    "                 'CITY',\n",
    " 'GU_NAME',\n",
    " 'HDONG_NM',\n",
    " 'MAN_FLOW_POP_CNT_0004',\n",
    " 'MAN_FLOW_POP_CNT_0509',\n",
    " 'MAN_FLOW_POP_CNT_1014',\n",
    " 'MAN_FLOW_POP_CNT_1519',\n",
    " 'MAN_FLOW_POP_CNT_2024',\n",
    " 'MAN_FLOW_POP_CNT_2529',\n",
    " 'MAN_FLOW_POP_CNT_3034',\n",
    " 'MAN_FLOW_POP_CNT_3539',\n",
    " 'MAN_FLOW_POP_CNT_4044',\n",
    " 'MAN_FLOW_POP_CNT_4549',\n",
    " 'MAN_FLOW_POP_CNT_5054',\n",
    " 'MAN_FLOW_POP_CNT_5559',\n",
    " 'MAN_FLOW_POP_CNT_6064',\n",
    " 'MAN_FLOW_POP_CNT_6569',\n",
    " 'MAN_FLOW_POP_CNT_70U',\n",
    " 'WMAN_FLOW_POP_CNT_0004',\n",
    " 'WMAN_FLOW_POP_CNT_0509',\n",
    " 'WMAN_FLOW_POP_CNT_1014',\n",
    " 'WMAN_FLOW_POP_CNT_1519',\n",
    " 'WMAN_FLOW_POP_CNT_2024',\n",
    " 'WMAN_FLOW_POP_CNT_2529',\n",
    " 'WMAN_FLOW_POP_CNT_3034',\n",
    " 'WMAN_FLOW_POP_CNT_3539',\n",
    " 'WMAN_FLOW_POP_CNT_4044',\n",
    " 'WMAN_FLOW_POP_CNT_4549',\n",
    " 'WMAN_FLOW_POP_CNT_5054',\n",
    " 'WMAN_FLOW_POP_CNT_5559',\n",
    " 'WMAN_FLOW_POP_CNT_6064',\n",
    " 'WMAN_FLOW_POP_CNT_6569',\n",
    " 'WMAN_FLOW_POP_CNT_70U']"
   ]
  },
  {
   "cell_type": "code",
   "execution_count": 12,
   "metadata": {},
   "outputs": [],
   "source": [
    "sk_data_AGE = sk_data_AGE[col_age_order]"
   ]
  },
  {
   "cell_type": "code",
   "execution_count": 13,
   "metadata": {},
   "outputs": [],
   "source": [
    "col_time_order = ['STD_YM',\n",
    " 'STD_YMD',\n",
    " 'HDONG_CD',\n",
    "                  'CITY',\n",
    " 'GU_NAME',\n",
    " 'HDONG_NM',\n",
    " 'TMST_00',\n",
    " 'TMST_01',\n",
    " 'TMST_02',\n",
    " 'TMST_03',\n",
    " 'TMST_04',\n",
    " 'TMST_05',\n",
    " 'TMST_06',\n",
    " 'TMST_07',\n",
    " 'TMST_08',\n",
    " 'TMST_09',\n",
    " 'TMST_10',\n",
    " 'TMST_11',\n",
    " 'TMST_12',\n",
    " 'TMST_13',\n",
    " 'TMST_14',\n",
    " 'TMST_15',\n",
    " 'TMST_16',\n",
    " 'TMST_17',\n",
    " 'TMST_18',\n",
    " 'TMST_19',\n",
    " 'TMST_20',\n",
    " 'TMST_21',\n",
    " 'TMST_22',\n",
    " 'TMST_23']"
   ]
  },
  {
   "cell_type": "code",
   "execution_count": 14,
   "metadata": {},
   "outputs": [],
   "source": [
    "sk_data_TIME = sk_data_TIME[col_time_order]"
   ]
  },
  {
   "cell_type": "markdown",
   "metadata": {},
   "source": [
    "## 데이터 저장"
   ]
  },
  {
   "cell_type": "code",
   "execution_count": 15,
   "metadata": {},
   "outputs": [],
   "source": [
    "sk_data_AGE.to_excel(f'{FLOWAGE_PATH}/SK_AGE_DATA.xlsx')\n",
    "sk_data_TIME.to_excel(f'{FLOWTIME_PATH}/SK_TIME_DATA.xlsx')"
   ]
  },
  {
   "cell_type": "code",
   "execution_count": null,
   "metadata": {},
   "outputs": [],
   "source": []
  }
 ],
 "metadata": {
  "kernelspec": {
   "display_name": "Python 3",
   "language": "python",
   "name": "python3"
  },
  "language_info": {
   "codemirror_mode": {
    "name": "ipython",
    "version": 3
   },
   "file_extension": ".py",
   "mimetype": "text/x-python",
   "name": "python",
   "nbconvert_exporter": "python",
   "pygments_lexer": "ipython3",
   "version": "3.6.8"
  }
 },
 "nbformat": 4,
 "nbformat_minor": 2
}
