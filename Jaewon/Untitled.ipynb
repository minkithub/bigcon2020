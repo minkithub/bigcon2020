{
 "cells": [
  {
   "cell_type": "code",
   "execution_count": 1,
   "metadata": {
    "ExecuteTime": {
     "end_time": "2020-08-08T07:28:47.423751Z",
     "start_time": "2020-08-08T07:28:46.519739Z"
    }
   },
   "outputs": [],
   "source": [
    "import pandas as pd\n",
    "import numpy as np\n",
    "import scipy \n",
    "\n",
    "import matplotlib as mpl\n",
    "import matplotlib.pyplot as plt\n",
    "import seaborn as sns\n",
    "%matplotlib inline\n",
    "\n",
    "from random import choices,sample\n",
    "\n",
    "import os\n",
    "import gc\n",
    "import pickle\n",
    "\n",
    "plt.style.use('ggplot')\n",
    "\n",
    "mpl.rcParams['axes.unicode_minus'] = False\n",
    "plt.rcParams[\"font.family\"] = \"Malgun Gothic\"\n",
    "\n",
    "os.chdir(\"../../\")\n",
    "root_path = os.getcwd()\n",
    "\n",
    "raw_file_path = os.path.join(root_path, \"Bigcon2020_raw_file\")\n",
    "csv_file_path = os.path.join(root_path, \"BigCon_2020/csv_files\")\n",
    "pickle_file_path = os.path.join(root_path, \"BigCon_2020/pickle_files\")\n",
    "\n",
    "raw_file_folders = os.listdir(raw_file_path)"
   ]
  },
  {
   "cell_type": "code",
   "execution_count": 80,
   "metadata": {
    "ExecuteTime": {
     "end_time": "2020-08-08T07:26:56.566330Z",
     "start_time": "2020-08-08T07:26:56.558335Z"
    }
   },
   "outputs": [
    {
     "data": {
      "text/plain": [
       "['카드_내국인.csv', '카드_외국인.csv']"
      ]
     },
     "execution_count": 80,
     "metadata": {},
     "output_type": "execute_result"
    }
   ],
   "source": [
    "[file for file in os.listdir(csv_file_path) if file.startswith(\"카드\")]"
   ]
  },
  {
   "cell_type": "code",
   "execution_count": 2,
   "metadata": {
    "ExecuteTime": {
     "end_time": "2020-08-08T07:28:48.936159Z",
     "start_time": "2020-08-08T07:28:48.791439Z"
    }
   },
   "outputs": [
    {
     "data": {
      "text/html": [
       "<div>\n",
       "<style scoped>\n",
       "    .dataframe tbody tr th:only-of-type {\n",
       "        vertical-align: middle;\n",
       "    }\n",
       "\n",
       "    .dataframe tbody tr th {\n",
       "        vertical-align: top;\n",
       "    }\n",
       "\n",
       "    .dataframe thead th {\n",
       "        text-align: right;\n",
       "    }\n",
       "</style>\n",
       "<table border=\"1\" class=\"dataframe\">\n",
       "  <thead>\n",
       "    <tr style=\"text-align: right;\">\n",
       "      <th></th>\n",
       "      <th>Unnamed: 0</th>\n",
       "      <th>STD_DD</th>\n",
       "      <th>GU_CD</th>\n",
       "      <th>DONG_CD</th>\n",
       "      <th>MCT_CAT_CD</th>\n",
       "      <th>COUNTRY_NM</th>\n",
       "      <th>USE_CNT</th>\n",
       "      <th>USE_AMT</th>\n",
       "    </tr>\n",
       "  </thead>\n",
       "  <tbody>\n",
       "    <tr>\n",
       "      <th>0</th>\n",
       "      <td>0</td>\n",
       "      <td>20190204</td>\n",
       "      <td>260</td>\n",
       "      <td>510</td>\n",
       "      <td>81</td>\n",
       "      <td>대만</td>\n",
       "      <td>2</td>\n",
       "      <td>30.0</td>\n",
       "    </tr>\n",
       "    <tr>\n",
       "      <th>1</th>\n",
       "      <td>1</td>\n",
       "      <td>20190213</td>\n",
       "      <td>260</td>\n",
       "      <td>510</td>\n",
       "      <td>40</td>\n",
       "      <td>대만</td>\n",
       "      <td>2</td>\n",
       "      <td>32.0</td>\n",
       "    </tr>\n",
       "    <tr>\n",
       "      <th>2</th>\n",
       "      <td>2</td>\n",
       "      <td>20190416</td>\n",
       "      <td>260</td>\n",
       "      <td>510</td>\n",
       "      <td>40</td>\n",
       "      <td>대만</td>\n",
       "      <td>2</td>\n",
       "      <td>16.0</td>\n",
       "    </tr>\n",
       "    <tr>\n",
       "      <th>3</th>\n",
       "      <td>3</td>\n",
       "      <td>20190419</td>\n",
       "      <td>260</td>\n",
       "      <td>510</td>\n",
       "      <td>42</td>\n",
       "      <td>대만</td>\n",
       "      <td>3</td>\n",
       "      <td>610.0</td>\n",
       "    </tr>\n",
       "    <tr>\n",
       "      <th>4</th>\n",
       "      <td>4</td>\n",
       "      <td>20190308</td>\n",
       "      <td>260</td>\n",
       "      <td>510</td>\n",
       "      <td>10</td>\n",
       "      <td>대만</td>\n",
       "      <td>7</td>\n",
       "      <td>629.0</td>\n",
       "    </tr>\n",
       "    <tr>\n",
       "      <th>...</th>\n",
       "      <td>...</td>\n",
       "      <td>...</td>\n",
       "      <td>...</td>\n",
       "      <td>...</td>\n",
       "      <td>...</td>\n",
       "      <td>...</td>\n",
       "      <td>...</td>\n",
       "      <td>...</td>\n",
       "    </tr>\n",
       "    <tr>\n",
       "      <th>238824</th>\n",
       "      <td>238824</td>\n",
       "      <td>20200507</td>\n",
       "      <td>350</td>\n",
       "      <td>640</td>\n",
       "      <td>40</td>\n",
       "      <td>오스트레일리아</td>\n",
       "      <td>6</td>\n",
       "      <td>29.0</td>\n",
       "    </tr>\n",
       "    <tr>\n",
       "      <th>238825</th>\n",
       "      <td>238825</td>\n",
       "      <td>20200512</td>\n",
       "      <td>350</td>\n",
       "      <td>612</td>\n",
       "      <td>40</td>\n",
       "      <td>오스트레일리아</td>\n",
       "      <td>3</td>\n",
       "      <td>15.0</td>\n",
       "    </tr>\n",
       "    <tr>\n",
       "      <th>238826</th>\n",
       "      <td>238826</td>\n",
       "      <td>20200512</td>\n",
       "      <td>350</td>\n",
       "      <td>670</td>\n",
       "      <td>40</td>\n",
       "      <td>오스트레일리아</td>\n",
       "      <td>2</td>\n",
       "      <td>13.0</td>\n",
       "    </tr>\n",
       "    <tr>\n",
       "      <th>238827</th>\n",
       "      <td>238827</td>\n",
       "      <td>20200516</td>\n",
       "      <td>350</td>\n",
       "      <td>640</td>\n",
       "      <td>71</td>\n",
       "      <td>오스트레일리아</td>\n",
       "      <td>1</td>\n",
       "      <td>39.0</td>\n",
       "    </tr>\n",
       "    <tr>\n",
       "      <th>238828</th>\n",
       "      <td>238828</td>\n",
       "      <td>20200522</td>\n",
       "      <td>350</td>\n",
       "      <td>595</td>\n",
       "      <td>33</td>\n",
       "      <td>오스트레일리아</td>\n",
       "      <td>1</td>\n",
       "      <td>50.0</td>\n",
       "    </tr>\n",
       "  </tbody>\n",
       "</table>\n",
       "<p>238829 rows × 8 columns</p>\n",
       "</div>"
      ],
      "text/plain": [
       "        Unnamed: 0    STD_DD  GU_CD  DONG_CD  MCT_CAT_CD COUNTRY_NM  USE_CNT  \\\n",
       "0                0  20190204    260      510          81         대만        2   \n",
       "1                1  20190213    260      510          40         대만        2   \n",
       "2                2  20190416    260      510          40         대만        2   \n",
       "3                3  20190419    260      510          42         대만        3   \n",
       "4                4  20190308    260      510          10         대만        7   \n",
       "...            ...       ...    ...      ...         ...        ...      ...   \n",
       "238824      238824  20200507    350      640          40    오스트레일리아        6   \n",
       "238825      238825  20200512    350      612          40    오스트레일리아        3   \n",
       "238826      238826  20200512    350      670          40    오스트레일리아        2   \n",
       "238827      238827  20200516    350      640          71    오스트레일리아        1   \n",
       "238828      238828  20200522    350      595          33    오스트레일리아        1   \n",
       "\n",
       "        USE_AMT  \n",
       "0          30.0  \n",
       "1          32.0  \n",
       "2          16.0  \n",
       "3         610.0  \n",
       "4         629.0  \n",
       "...         ...  \n",
       "238824     29.0  \n",
       "238825     15.0  \n",
       "238826     13.0  \n",
       "238827     39.0  \n",
       "238828     50.0  \n",
       "\n",
       "[238829 rows x 8 columns]"
      ]
     },
     "execution_count": 2,
     "metadata": {},
     "output_type": "execute_result"
    }
   ],
   "source": [
    "pd.read_csv(os.path.join(csv_file_path,[file for file in os.listdir(csv_file_path) if file.startswith(\"카드\")][0]))"
   ]
  },
  {
   "cell_type": "code",
   "execution_count": 3,
   "metadata": {
    "ExecuteTime": {
     "end_time": "2020-08-07T12:25:05.326545Z",
     "start_time": "2020-08-07T12:25:05.323554Z"
    }
   },
   "outputs": [],
   "source": [
    "folder_path = os.path.join(raw_file_path, raw_file_folders[1])"
   ]
  },
  {
   "cell_type": "code",
   "execution_count": 9,
   "metadata": {
    "ExecuteTime": {
     "end_time": "2020-08-07T12:27:58.127980Z",
     "start_time": "2020-08-07T12:27:58.123989Z"
    }
   },
   "outputs": [],
   "source": [
    "sub_folder = [sub for sub in os.listdir(folder_path) if sub.startswith('CARD')]"
   ]
  },
  {
   "cell_type": "code",
   "execution_count": 15,
   "metadata": {
    "ExecuteTime": {
     "end_time": "2020-08-07T12:31:12.350815Z",
     "start_time": "2020-08-07T12:31:11.241749Z"
    }
   },
   "outputs": [],
   "source": [
    "df_list = [pd.read_table(os.path.join(folder_path, sub, f'{sub}.txt'), encoding='cp949') for sub in sub_folder]"
   ]
  },
  {
   "cell_type": "code",
   "execution_count": 19,
   "metadata": {
    "ExecuteTime": {
     "end_time": "2020-08-07T12:31:55.325497Z",
     "start_time": "2020-08-07T12:31:55.321511Z"
    }
   },
   "outputs": [],
   "source": [
    "foreigner, resident = df_list"
   ]
  },
  {
   "cell_type": "code",
   "execution_count": null,
   "metadata": {},
   "outputs": [],
   "source": [
    "foreigner.to_excel(\"\")"
   ]
  },
  {
   "cell_type": "code",
   "execution_count": 73,
   "metadata": {
    "ExecuteTime": {
     "end_time": "2020-08-07T13:01:40.859415Z",
     "start_time": "2020-08-07T13:01:40.848447Z"
    }
   },
   "outputs": [],
   "source": [
    "cat_dict = {10 : '숙박',\n",
    "20 : '레저용품',\n",
    "21 : '레저업소',\n",
    "22 : '문화취미',\n",
    "30 : '가구',\n",
    "31 : '전기',\n",
    "32 : '주방용구',\n",
    "33 : '연료판매',\n",
    "34 : '광학제품',\n",
    "35 : '가전',\n",
    "40 : '유통업',\n",
    "42 : '의복',\n",
    "43 : '직물',\n",
    "44 : '신변잡화',\n",
    "50 : '서적문구',\n",
    "52 : '사무통신',\n",
    "60 : '자동차판매',\n",
    "62 : '자동차 정비',\n",
    "70 : '의료기관',\n",
    "71 : '보건위생',\n",
    "80 : '요식업소',\n",
    "81 : '음료식품',\n",
    "92 : '수리서비스'}"
   ]
  },
  {
   "cell_type": "code",
   "execution_count": null,
   "metadata": {},
   "outputs": [],
   "source": []
  },
  {
   "cell_type": "code",
   "execution_count": 22,
   "metadata": {
    "ExecuteTime": {
     "end_time": "2020-08-07T12:32:38.035187Z",
     "start_time": "2020-08-07T12:32:38.024251Z"
    }
   },
   "outputs": [
    {
     "data": {
      "text/html": [
       "<div>\n",
       "<style scoped>\n",
       "    .dataframe tbody tr th:only-of-type {\n",
       "        vertical-align: middle;\n",
       "    }\n",
       "\n",
       "    .dataframe tbody tr th {\n",
       "        vertical-align: top;\n",
       "    }\n",
       "\n",
       "    .dataframe thead th {\n",
       "        text-align: right;\n",
       "    }\n",
       "</style>\n",
       "<table border=\"1\" class=\"dataframe\">\n",
       "  <thead>\n",
       "    <tr style=\"text-align: right;\">\n",
       "      <th></th>\n",
       "      <th>STD_DD</th>\n",
       "      <th>GU_CD</th>\n",
       "      <th>DONG_CD</th>\n",
       "      <th>MCT_CAT_CD</th>\n",
       "      <th>SEX_CD</th>\n",
       "      <th>AGE_CD</th>\n",
       "      <th>USE_CNT</th>\n",
       "      <th>USE_AMT</th>\n",
       "    </tr>\n",
       "  </thead>\n",
       "  <tbody>\n",
       "    <tr>\n",
       "      <th>0</th>\n",
       "      <td>20190201</td>\n",
       "      <td>110</td>\n",
       "      <td>517</td>\n",
       "      <td>10</td>\n",
       "      <td>F</td>\n",
       "      <td>25</td>\n",
       "      <td>11</td>\n",
       "      <td>595</td>\n",
       "    </tr>\n",
       "    <tr>\n",
       "      <th>1</th>\n",
       "      <td>20190201</td>\n",
       "      <td>110</td>\n",
       "      <td>517</td>\n",
       "      <td>10</td>\n",
       "      <td>F</td>\n",
       "      <td>50</td>\n",
       "      <td>5</td>\n",
       "      <td>243</td>\n",
       "    </tr>\n",
       "    <tr>\n",
       "      <th>2</th>\n",
       "      <td>20190201</td>\n",
       "      <td>110</td>\n",
       "      <td>517</td>\n",
       "      <td>10</td>\n",
       "      <td>F</td>\n",
       "      <td>55</td>\n",
       "      <td>5</td>\n",
       "      <td>27</td>\n",
       "    </tr>\n",
       "    <tr>\n",
       "      <th>3</th>\n",
       "      <td>20190201</td>\n",
       "      <td>110</td>\n",
       "      <td>517</td>\n",
       "      <td>10</td>\n",
       "      <td>M</td>\n",
       "      <td>20</td>\n",
       "      <td>11</td>\n",
       "      <td>243</td>\n",
       "    </tr>\n",
       "    <tr>\n",
       "      <th>4</th>\n",
       "      <td>20190201</td>\n",
       "      <td>110</td>\n",
       "      <td>517</td>\n",
       "      <td>10</td>\n",
       "      <td>M</td>\n",
       "      <td>25</td>\n",
       "      <td>11</td>\n",
       "      <td>433</td>\n",
       "    </tr>\n",
       "    <tr>\n",
       "      <th>...</th>\n",
       "      <td>...</td>\n",
       "      <td>...</td>\n",
       "      <td>...</td>\n",
       "      <td>...</td>\n",
       "      <td>...</td>\n",
       "      <td>...</td>\n",
       "      <td>...</td>\n",
       "      <td>...</td>\n",
       "    </tr>\n",
       "    <tr>\n",
       "      <th>2537748</th>\n",
       "      <td>20200531</td>\n",
       "      <td>350</td>\n",
       "      <td>720</td>\n",
       "      <td>81</td>\n",
       "      <td>M</td>\n",
       "      <td>45</td>\n",
       "      <td>19</td>\n",
       "      <td>127</td>\n",
       "    </tr>\n",
       "    <tr>\n",
       "      <th>2537749</th>\n",
       "      <td>20200531</td>\n",
       "      <td>350</td>\n",
       "      <td>720</td>\n",
       "      <td>81</td>\n",
       "      <td>M</td>\n",
       "      <td>50</td>\n",
       "      <td>33</td>\n",
       "      <td>211</td>\n",
       "    </tr>\n",
       "    <tr>\n",
       "      <th>2537750</th>\n",
       "      <td>20200531</td>\n",
       "      <td>350</td>\n",
       "      <td>720</td>\n",
       "      <td>81</td>\n",
       "      <td>M</td>\n",
       "      <td>55</td>\n",
       "      <td>9</td>\n",
       "      <td>61</td>\n",
       "    </tr>\n",
       "    <tr>\n",
       "      <th>2537751</th>\n",
       "      <td>20200531</td>\n",
       "      <td>350</td>\n",
       "      <td>720</td>\n",
       "      <td>81</td>\n",
       "      <td>M</td>\n",
       "      <td>60</td>\n",
       "      <td>19</td>\n",
       "      <td>194</td>\n",
       "    </tr>\n",
       "    <tr>\n",
       "      <th>2537752</th>\n",
       "      <td>20200531</td>\n",
       "      <td>350</td>\n",
       "      <td>720</td>\n",
       "      <td>81</td>\n",
       "      <td>M</td>\n",
       "      <td>65</td>\n",
       "      <td>5</td>\n",
       "      <td>29</td>\n",
       "    </tr>\n",
       "  </tbody>\n",
       "</table>\n",
       "<p>2537753 rows × 8 columns</p>\n",
       "</div>"
      ],
      "text/plain": [
       "           STD_DD  GU_CD  DONG_CD  MCT_CAT_CD SEX_CD  AGE_CD  USE_CNT  USE_AMT\n",
       "0        20190201    110      517          10      F      25       11      595\n",
       "1        20190201    110      517          10      F      50        5      243\n",
       "2        20190201    110      517          10      F      55        5       27\n",
       "3        20190201    110      517          10      M      20       11      243\n",
       "4        20190201    110      517          10      M      25       11      433\n",
       "...           ...    ...      ...         ...    ...     ...      ...      ...\n",
       "2537748  20200531    350      720          81      M      45       19      127\n",
       "2537749  20200531    350      720          81      M      50       33      211\n",
       "2537750  20200531    350      720          81      M      55        9       61\n",
       "2537751  20200531    350      720          81      M      60       19      194\n",
       "2537752  20200531    350      720          81      M      65        5       29\n",
       "\n",
       "[2537753 rows x 8 columns]"
      ]
     },
     "execution_count": 22,
     "metadata": {},
     "output_type": "execute_result"
    }
   ],
   "source": [
    "resident"
   ]
  },
  {
   "cell_type": "code",
   "execution_count": 37,
   "metadata": {
    "ExecuteTime": {
     "end_time": "2020-08-07T12:42:09.040645Z",
     "start_time": "2020-08-07T12:42:08.768339Z"
    }
   },
   "outputs": [],
   "source": [
    "tmp_df = resident.groupby(['MCT_CAT_CD','SEX_CD','AGE_CD'])['USE_AMT'].sum().reset_index()"
   ]
  },
  {
   "cell_type": "code",
   "execution_count": null,
   "metadata": {
    "ExecuteTime": {
     "end_time": "2020-08-07T12:54:18.749107Z",
     "start_time": "2020-08-07T12:54:18.424804Z"
    }
   },
   "outputs": [],
   "source": [
    "tmp_df['rate_ca'] = ( resident.groupby(['MCT_CAT_CD','SEX_CD','AGE_CD'])['USE_AMT'].sum().\\\n",
    "                            reset_index().\\\n",
    "                            groupby(['MCT_CAT_CD','AGE_CD'])['USE_AMT'].apply(lambda x:x/x.sum())\n",
    "                 )\n",
    "\n",
    "tmp_df['rate_cs'] = ( resident.groupby(['MCT_CAT_CD','SEX_CD','AGE_CD'])['USE_AMT'].sum().\\\n",
    "                            reset_index().\\\n",
    "                            groupby(['MCT_CAT_CD','SEX_CD'])['USE_AMT'].apply(lambda x:x/x.sum())\n",
    "                 )\n",
    "\n",
    "tmp_df['rate_c'] = ( resident.groupby(['MCT_CAT_CD','SEX_CD','AGE_CD'])['USE_AMT'].sum().\\\n",
    "                            reset_index().\\\n",
    "                            groupby(['MCT_CAT_CD'])['USE_AMT'].apply(lambda x:x/x.sum())\n",
    "                 )"
   ]
  },
  {
   "cell_type": "code",
   "execution_count": 78,
   "metadata": {
    "ExecuteTime": {
     "end_time": "2020-08-07T13:09:19.056581Z",
     "start_time": "2020-08-07T13:09:13.467520Z"
    },
    "scrolled": false
   },
   "outputs": [
    {
     "name": "stderr",
     "output_type": "stream",
     "text": [
      "c:\\python37\\lib\\site-packages\\matplotlib\\pyplot.py:514: RuntimeWarning: More than 20 figures have been opened. Figures created through the pyplot interface (`matplotlib.pyplot.figure`) are retained until explicitly closed and may consume too much memory. (To control this warning, see the rcParam `figure.max_open_warning`).\n",
      "  max_open_warning, RuntimeWarning)\n"
     ]
    },
    {
     "data": {
      "image/png": "[encoded data removed]",
      "text/plain": [
       "<Figure size 864x288 with 1 Axes>"
      ]
     },
     "metadata": {
      "needs_background": "light"
     },
     "output_type": "display_data"
    },
    {
     "data": {
      "image/png": "[encoded data removed]",
      "text/plain": [
       "<Figure size 864x288 with 1 Axes>"
      ]
     },
     "metadata": {
      "needs_background": "light"
     },
     "output_type": "display_data"
    },
    {
     "data": {
      "image/png": "[encoded data removed]",
      "text/plain": [
       "<Figure size 864x288 with 1 Axes>"
      ]
     },
     "metadata": {
      "needs_background": "light"
     },
     "output_type": "display_data"
    },
    {
     "data": {
      "image/png": "[encoded data removed]",
      "text/plain": [
       "<Figure size 864x288 with 1 Axes>"
      ]
     },
     "metadata": {
      "needs_background": "light"
     },
     "output_type": "display_data"
    },
    {
     "data": {
      "image/png": "[encoded data removed]",
      "text/plain": [
       "<Figure size 864x288 with 1 Axes>"
      ]
     },
     "metadata": {
      "needs_background": "light"
     },
     "output_type": "display_data"
    },
    {
     "data": {
      "image/png": "[encoded data removed]",
      "text/plain": [
       "<Figure size 864x288 with 1 Axes>"
      ]
     },
     "metadata": {
      "needs_background": "light"
     },
     "output_type": "display_data"
    },
    {
     "data": {
      "image/png": "[encoded data removed]",
      "text/plain": [
       "<Figure size 864x288 with 1 Axes>"
      ]
     },
     "metadata": {
      "needs_background": "light"
     },
     "output_type": "display_data"
    },
    {
     "data": {
      "image/png": "[encoded data removed]",
      "text/plain": [
       "<Figure size 864x288 with 1 Axes>"
      ]
     },
     "metadata": {
      "needs_background": "light"
     },
     "output_type": "display_data"
    },
    {
     "data": {
      "image/png": "[encoded data removed]",
      "text/plain": [
       "<Figure size 864x288 with 1 Axes>"
      ]
     },
     "metadata": {
      "needs_background": "light"
     },
     "output_type": "display_data"
    },
    {
     "data": {
      "image/png": "[encoded data removed]",
      "text/plain": [
       "<Figure size 864x288 with 1 Axes>"
      ]
     },
     "metadata": {
      "needs_background": "light"
     },
     "output_type": "display_data"
    },
    {
     "data": {
      "image/png": "[encoded data removed]",
      "text/plain": [
       "<Figure size 864x288 with 1 Axes>"
      ]
     },
     "metadata": {
      "needs_background": "light"
     },
     "output_type": "display_data"
    },
    {
     "data": {
      "image/png": "[encoded data removed]",
      "text/plain": [
       "<Figure size 864x288 with 1 Axes>"
      ]
     },
     "metadata": {
      "needs_background": "light"
     },
     "output_type": "display_data"
    },
    {
     "data": {
      "image/png": "[encoded data removed]",
      "text/plain": [
       "<Figure size 864x288 with 1 Axes>"
      ]
     },
     "metadata": {
      "needs_background": "light"
     },
     "output_type": "display_data"
    },
    {
     "data": {
      "image/png": "[encoded data removed]",
      "text/plain": [
       "<Figure size 864x288 with 1 Axes>"
      ]
     },
     "metadata": {
      "needs_background": "light"
     },
     "output_type": "display_data"
    },
    {
     "data": {
      "image/png": "[encoded data removed]",
      "text/plain": [
       "<Figure size 864x288 with 1 Axes>"
      ]
     },
     "metadata": {
      "needs_background": "light"
     },
     "output_type": "display_data"
    },
    {
     "data": {
      "image/png": "[encoded data removed]",
      "text/plain": [
       "<Figure size 864x288 with 1 Axes>"
      ]
     },
     "metadata": {
      "needs_background": "light"
     },
     "output_type": "display_data"
    },
    {
     "data": {
      "image/png": "[encoded data removed]",
      "text/plain": [
       "<Figure size 864x288 with 1 Axes>"
      ]
     },
     "metadata": {
      "needs_background": "light"
     },
     "output_type": "display_data"
    },
    {
     "data": {
      "image/png": "[encoded data removed]",
      "text/plain": [
       "<Figure size 864x288 with 1 Axes>"
      ]
     },
     "metadata": {
      "needs_background": "light"
     },
     "output_type": "display_data"
    },
    {
     "data": {
      "image/png": "[encoded data removed]",
      "text/plain": [
       "<Figure size 864x288 with 1 Axes>"
      ]
     },
     "metadata": {
      "needs_background": "light"
     },
     "output_type": "display_data"
    },
    {
     "data": {
      "image/png": "[encoded data removed]",
      "text/plain": [
       "<Figure size 864x288 with 1 Axes>"
      ]
     },
     "metadata": {
      "needs_background": "light"
     },
     "output_type": "display_data"
    },
    {
     "data": {
      "image/png": "[encoded data removed]",
      "text/plain": [
       "<Figure size 864x288 with 1 Axes>"
      ]
     },
     "metadata": {
      "needs_background": "light"
     },
     "output_type": "display_data"
    },
    {
     "data": {
      "image/png": "[encoded data removed]",
      "text/plain": [
       "<Figure size 864x288 with 1 Axes>"
      ]
     },
     "metadata": {
      "needs_background": "light"
     },
     "output_type": "display_data"
    },
    {
     "data": {
      "image/png": "[encoded data removed]",
      "text/plain": [
       "<Figure size 864x288 with 1 Axes>"
      ]
     },
     "metadata": {
      "needs_background": "light"
     },
     "output_type": "display_data"
    }
   ],
   "source": [
    "for cat in tmp_df.MCT_CAT_CD.unique():\n",
    "    tmp = tmp_df.loc[tmp_df.MCT_CAT_CD==cat]\n",
    "    \n",
    "    plt.figure(figsize=(12,4))\n",
    "    sns.barplot(\n",
    "        x = tmp.AGE_CD,\n",
    "        y = tmp.rate_ca,\n",
    "        hue = tmp.SEX_CD\n",
    "    )\n",
    "    \n",
    "    plt.title(f'{cat_dict.get(cat)}', fontsize=14)"
   ]
  },
  {
   "cell_type": "code",
   "execution_count": null,
   "metadata": {},
   "outputs": [],
   "source": []
  },
  {
   "cell_type": "code",
   "execution_count": 76,
   "metadata": {
    "ExecuteTime": {
     "end_time": "2020-08-07T13:05:38.313872Z",
     "start_time": "2020-08-07T13:05:37.615725Z"
    }
   },
   "outputs": [
    {
     "data": {
      "text/plain": [
       "Text(0.5, 1.0, '숙박')"
      ]
     },
     "execution_count": 76,
     "metadata": {},
     "output_type": "execute_result"
    },
    {
     "data": {
      "image/png": "[encoded data removed]",
      "text/plain": [
       "<Figure size 864x360 with 1 Axes>"
      ]
     },
     "metadata": {
      "needs_background": "light"
     },
     "output_type": "display_data"
    }
   ],
   "source": [
    "plt.figure(figsize=(12,5))\n",
    "sns.barplot(\n",
    "    x=tmp_df.AGE_CD,\n",
    "    y=tmp_df.rate_ca,\n",
    "    hue = tmp_df.SEX_CD\n",
    ")\n",
    "\n",
    "plt.title(f'{cat_dict.get(10)}', fontsize=16)"
   ]
  },
  {
   "cell_type": "code",
   "execution_count": 65,
   "metadata": {
    "ExecuteTime": {
     "end_time": "2020-08-07T12:55:50.531202Z",
     "start_time": "2020-08-07T12:55:50.520231Z"
    }
   },
   "outputs": [
    {
     "data": {
      "text/html": [
       "<div>\n",
       "<style scoped>\n",
       "    .dataframe tbody tr th:only-of-type {\n",
       "        vertical-align: middle;\n",
       "    }\n",
       "\n",
       "    .dataframe tbody tr th {\n",
       "        vertical-align: top;\n",
       "    }\n",
       "\n",
       "    .dataframe thead th {\n",
       "        text-align: right;\n",
       "    }\n",
       "</style>\n",
       "<table border=\"1\" class=\"dataframe\">\n",
       "  <thead>\n",
       "    <tr style=\"text-align: right;\">\n",
       "      <th></th>\n",
       "      <th>MCT_CAT_CD</th>\n",
       "      <th>SEX_CD</th>\n",
       "      <th>AGE_CD</th>\n",
       "      <th>USE_AMT</th>\n",
       "      <th>rate_ca</th>\n",
       "      <th>rate_c</th>\n",
       "      <th>rate_cs</th>\n",
       "    </tr>\n",
       "  </thead>\n",
       "  <tbody>\n",
       "    <tr>\n",
       "      <th>0</th>\n",
       "      <td>10</td>\n",
       "      <td>F</td>\n",
       "      <td>20</td>\n",
       "      <td>1527907</td>\n",
       "      <td>0.501978</td>\n",
       "      <td>0.014538</td>\n",
       "      <td>0.038127</td>\n",
       "    </tr>\n",
       "    <tr>\n",
       "      <th>1</th>\n",
       "      <td>10</td>\n",
       "      <td>F</td>\n",
       "      <td>25</td>\n",
       "      <td>4684555</td>\n",
       "      <td>0.434689</td>\n",
       "      <td>0.044572</td>\n",
       "      <td>0.116899</td>\n",
       "    </tr>\n",
       "    <tr>\n",
       "      <th>2</th>\n",
       "      <td>10</td>\n",
       "      <td>F</td>\n",
       "      <td>30</td>\n",
       "      <td>5567032</td>\n",
       "      <td>0.379924</td>\n",
       "      <td>0.052969</td>\n",
       "      <td>0.138920</td>\n",
       "    </tr>\n",
       "    <tr>\n",
       "      <th>3</th>\n",
       "      <td>10</td>\n",
       "      <td>F</td>\n",
       "      <td>35</td>\n",
       "      <td>4875372</td>\n",
       "      <td>0.375511</td>\n",
       "      <td>0.046388</td>\n",
       "      <td>0.121660</td>\n",
       "    </tr>\n",
       "    <tr>\n",
       "      <th>4</th>\n",
       "      <td>10</td>\n",
       "      <td>F</td>\n",
       "      <td>40</td>\n",
       "      <td>4084597</td>\n",
       "      <td>0.400365</td>\n",
       "      <td>0.038864</td>\n",
       "      <td>0.101927</td>\n",
       "    </tr>\n",
       "    <tr>\n",
       "      <th>5</th>\n",
       "      <td>10</td>\n",
       "      <td>F</td>\n",
       "      <td>45</td>\n",
       "      <td>3711520</td>\n",
       "      <td>0.356349</td>\n",
       "      <td>0.035314</td>\n",
       "      <td>0.092617</td>\n",
       "    </tr>\n",
       "    <tr>\n",
       "      <th>6</th>\n",
       "      <td>10</td>\n",
       "      <td>F</td>\n",
       "      <td>50</td>\n",
       "      <td>3780978</td>\n",
       "      <td>0.398310</td>\n",
       "      <td>0.035975</td>\n",
       "      <td>0.094351</td>\n",
       "    </tr>\n",
       "    <tr>\n",
       "      <th>7</th>\n",
       "      <td>10</td>\n",
       "      <td>F</td>\n",
       "      <td>55</td>\n",
       "      <td>4831249</td>\n",
       "      <td>0.411593</td>\n",
       "      <td>0.045968</td>\n",
       "      <td>0.120559</td>\n",
       "    </tr>\n",
       "    <tr>\n",
       "      <th>8</th>\n",
       "      <td>10</td>\n",
       "      <td>F</td>\n",
       "      <td>60</td>\n",
       "      <td>2945289</td>\n",
       "      <td>0.318318</td>\n",
       "      <td>0.028024</td>\n",
       "      <td>0.073497</td>\n",
       "    </tr>\n",
       "    <tr>\n",
       "      <th>9</th>\n",
       "      <td>10</td>\n",
       "      <td>F</td>\n",
       "      <td>65</td>\n",
       "      <td>4065144</td>\n",
       "      <td>0.324118</td>\n",
       "      <td>0.038679</td>\n",
       "      <td>0.101442</td>\n",
       "    </tr>\n",
       "    <tr>\n",
       "      <th>10</th>\n",
       "      <td>10</td>\n",
       "      <td>M</td>\n",
       "      <td>20</td>\n",
       "      <td>1515866</td>\n",
       "      <td>0.498022</td>\n",
       "      <td>0.014423</td>\n",
       "      <td>0.023312</td>\n",
       "    </tr>\n",
       "    <tr>\n",
       "      <th>11</th>\n",
       "      <td>10</td>\n",
       "      <td>M</td>\n",
       "      <td>25</td>\n",
       "      <td>6092236</td>\n",
       "      <td>0.565311</td>\n",
       "      <td>0.057966</td>\n",
       "      <td>0.093689</td>\n",
       "    </tr>\n",
       "    <tr>\n",
       "      <th>12</th>\n",
       "      <td>10</td>\n",
       "      <td>M</td>\n",
       "      <td>30</td>\n",
       "      <td>9085969</td>\n",
       "      <td>0.620076</td>\n",
       "      <td>0.086451</td>\n",
       "      <td>0.139728</td>\n",
       "    </tr>\n",
       "    <tr>\n",
       "      <th>13</th>\n",
       "      <td>10</td>\n",
       "      <td>M</td>\n",
       "      <td>35</td>\n",
       "      <td>8107912</td>\n",
       "      <td>0.624489</td>\n",
       "      <td>0.077145</td>\n",
       "      <td>0.124687</td>\n",
       "    </tr>\n",
       "    <tr>\n",
       "      <th>14</th>\n",
       "      <td>10</td>\n",
       "      <td>M</td>\n",
       "      <td>40</td>\n",
       "      <td>6117589</td>\n",
       "      <td>0.599635</td>\n",
       "      <td>0.058207</td>\n",
       "      <td>0.094079</td>\n",
       "    </tr>\n",
       "    <tr>\n",
       "      <th>15</th>\n",
       "      <td>10</td>\n",
       "      <td>M</td>\n",
       "      <td>45</td>\n",
       "      <td>6703896</td>\n",
       "      <td>0.643651</td>\n",
       "      <td>0.063786</td>\n",
       "      <td>0.103095</td>\n",
       "    </tr>\n",
       "    <tr>\n",
       "      <th>16</th>\n",
       "      <td>10</td>\n",
       "      <td>M</td>\n",
       "      <td>50</td>\n",
       "      <td>5711567</td>\n",
       "      <td>0.601690</td>\n",
       "      <td>0.054344</td>\n",
       "      <td>0.087835</td>\n",
       "    </tr>\n",
       "    <tr>\n",
       "      <th>17</th>\n",
       "      <td>10</td>\n",
       "      <td>M</td>\n",
       "      <td>55</td>\n",
       "      <td>6906688</td>\n",
       "      <td>0.588407</td>\n",
       "      <td>0.065716</td>\n",
       "      <td>0.106214</td>\n",
       "    </tr>\n",
       "    <tr>\n",
       "      <th>18</th>\n",
       "      <td>10</td>\n",
       "      <td>M</td>\n",
       "      <td>60</td>\n",
       "      <td>6307366</td>\n",
       "      <td>0.681682</td>\n",
       "      <td>0.060013</td>\n",
       "      <td>0.096997</td>\n",
       "    </tr>\n",
       "    <tr>\n",
       "      <th>19</th>\n",
       "      <td>10</td>\n",
       "      <td>M</td>\n",
       "      <td>65</td>\n",
       "      <td>8477037</td>\n",
       "      <td>0.675882</td>\n",
       "      <td>0.080657</td>\n",
       "      <td>0.130364</td>\n",
       "    </tr>\n",
       "  </tbody>\n",
       "</table>\n",
       "</div>"
      ],
      "text/plain": [
       "    MCT_CAT_CD SEX_CD  AGE_CD  USE_AMT   rate_ca    rate_c   rate_cs\n",
       "0           10      F      20  1527907  0.501978  0.014538  0.038127\n",
       "1           10      F      25  4684555  0.434689  0.044572  0.116899\n",
       "2           10      F      30  5567032  0.379924  0.052969  0.138920\n",
       "3           10      F      35  4875372  0.375511  0.046388  0.121660\n",
       "4           10      F      40  4084597  0.400365  0.038864  0.101927\n",
       "5           10      F      45  3711520  0.356349  0.035314  0.092617\n",
       "6           10      F      50  3780978  0.398310  0.035975  0.094351\n",
       "7           10      F      55  4831249  0.411593  0.045968  0.120559\n",
       "8           10      F      60  2945289  0.318318  0.028024  0.073497\n",
       "9           10      F      65  4065144  0.324118  0.038679  0.101442\n",
       "10          10      M      20  1515866  0.498022  0.014423  0.023312\n",
       "11          10      M      25  6092236  0.565311  0.057966  0.093689\n",
       "12          10      M      30  9085969  0.620076  0.086451  0.139728\n",
       "13          10      M      35  8107912  0.624489  0.077145  0.124687\n",
       "14          10      M      40  6117589  0.599635  0.058207  0.094079\n",
       "15          10      M      45  6703896  0.643651  0.063786  0.103095\n",
       "16          10      M      50  5711567  0.601690  0.054344  0.087835\n",
       "17          10      M      55  6906688  0.588407  0.065716  0.106214\n",
       "18          10      M      60  6307366  0.681682  0.060013  0.096997\n",
       "19          10      M      65  8477037  0.675882  0.080657  0.130364"
      ]
     },
     "execution_count": 65,
     "metadata": {},
     "output_type": "execute_result"
    }
   ],
   "source": [
    "tmp_df.head(20)"
   ]
  },
  {
   "cell_type": "code",
   "execution_count": 43,
   "metadata": {
    "ExecuteTime": {
     "end_time": "2020-08-07T12:48:09.290774Z",
     "start_time": "2020-08-07T12:48:09.287783Z"
    }
   },
   "outputs": [],
   "source": [
    "from itertools import product"
   ]
  },
  {
   "cell_type": "code",
   "execution_count": 53,
   "metadata": {
    "ExecuteTime": {
     "end_time": "2020-08-07T12:51:41.270617Z",
     "start_time": "2020-08-07T12:51:41.259651Z"
    }
   },
   "outputs": [
    {
     "data": {
      "text/html": [
       "<div>\n",
       "<style scoped>\n",
       "    .dataframe tbody tr th:only-of-type {\n",
       "        vertical-align: middle;\n",
       "    }\n",
       "\n",
       "    .dataframe tbody tr th {\n",
       "        vertical-align: top;\n",
       "    }\n",
       "\n",
       "    .dataframe thead th {\n",
       "        text-align: right;\n",
       "    }\n",
       "</style>\n",
       "<table border=\"1\" class=\"dataframe\">\n",
       "  <thead>\n",
       "    <tr style=\"text-align: right;\">\n",
       "      <th></th>\n",
       "      <th>MCT_CAT_CD</th>\n",
       "      <th>SEX_CD</th>\n",
       "      <th>AGE_CD</th>\n",
       "      <th>USE_AMT</th>\n",
       "      <th>rate</th>\n",
       "    </tr>\n",
       "  </thead>\n",
       "  <tbody>\n",
       "    <tr>\n",
       "      <th>0</th>\n",
       "      <td>10</td>\n",
       "      <td>F</td>\n",
       "      <td>20</td>\n",
       "      <td>1527907</td>\n",
       "      <td>0.014538</td>\n",
       "    </tr>\n",
       "    <tr>\n",
       "      <th>1</th>\n",
       "      <td>10</td>\n",
       "      <td>F</td>\n",
       "      <td>25</td>\n",
       "      <td>4684555</td>\n",
       "      <td>0.044572</td>\n",
       "    </tr>\n",
       "    <tr>\n",
       "      <th>2</th>\n",
       "      <td>10</td>\n",
       "      <td>F</td>\n",
       "      <td>30</td>\n",
       "      <td>5567032</td>\n",
       "      <td>0.052969</td>\n",
       "    </tr>\n",
       "    <tr>\n",
       "      <th>3</th>\n",
       "      <td>10</td>\n",
       "      <td>F</td>\n",
       "      <td>35</td>\n",
       "      <td>4875372</td>\n",
       "      <td>0.046388</td>\n",
       "    </tr>\n",
       "    <tr>\n",
       "      <th>4</th>\n",
       "      <td>10</td>\n",
       "      <td>F</td>\n",
       "      <td>40</td>\n",
       "      <td>4084597</td>\n",
       "      <td>0.038864</td>\n",
       "    </tr>\n",
       "    <tr>\n",
       "      <th>5</th>\n",
       "      <td>10</td>\n",
       "      <td>F</td>\n",
       "      <td>45</td>\n",
       "      <td>3711520</td>\n",
       "      <td>0.035314</td>\n",
       "    </tr>\n",
       "    <tr>\n",
       "      <th>6</th>\n",
       "      <td>10</td>\n",
       "      <td>F</td>\n",
       "      <td>50</td>\n",
       "      <td>3780978</td>\n",
       "      <td>0.035975</td>\n",
       "    </tr>\n",
       "    <tr>\n",
       "      <th>7</th>\n",
       "      <td>10</td>\n",
       "      <td>F</td>\n",
       "      <td>55</td>\n",
       "      <td>4831249</td>\n",
       "      <td>0.045968</td>\n",
       "    </tr>\n",
       "    <tr>\n",
       "      <th>8</th>\n",
       "      <td>10</td>\n",
       "      <td>F</td>\n",
       "      <td>60</td>\n",
       "      <td>2945289</td>\n",
       "      <td>0.028024</td>\n",
       "    </tr>\n",
       "    <tr>\n",
       "      <th>9</th>\n",
       "      <td>10</td>\n",
       "      <td>F</td>\n",
       "      <td>65</td>\n",
       "      <td>4065144</td>\n",
       "      <td>0.038679</td>\n",
       "    </tr>\n",
       "    <tr>\n",
       "      <th>10</th>\n",
       "      <td>10</td>\n",
       "      <td>M</td>\n",
       "      <td>20</td>\n",
       "      <td>1515866</td>\n",
       "      <td>0.014423</td>\n",
       "    </tr>\n",
       "    <tr>\n",
       "      <th>11</th>\n",
       "      <td>10</td>\n",
       "      <td>M</td>\n",
       "      <td>25</td>\n",
       "      <td>6092236</td>\n",
       "      <td>0.057966</td>\n",
       "    </tr>\n",
       "    <tr>\n",
       "      <th>12</th>\n",
       "      <td>10</td>\n",
       "      <td>M</td>\n",
       "      <td>30</td>\n",
       "      <td>9085969</td>\n",
       "      <td>0.086451</td>\n",
       "    </tr>\n",
       "    <tr>\n",
       "      <th>13</th>\n",
       "      <td>10</td>\n",
       "      <td>M</td>\n",
       "      <td>35</td>\n",
       "      <td>8107912</td>\n",
       "      <td>0.077145</td>\n",
       "    </tr>\n",
       "    <tr>\n",
       "      <th>14</th>\n",
       "      <td>10</td>\n",
       "      <td>M</td>\n",
       "      <td>40</td>\n",
       "      <td>6117589</td>\n",
       "      <td>0.058207</td>\n",
       "    </tr>\n",
       "    <tr>\n",
       "      <th>15</th>\n",
       "      <td>10</td>\n",
       "      <td>M</td>\n",
       "      <td>45</td>\n",
       "      <td>6703896</td>\n",
       "      <td>0.063786</td>\n",
       "    </tr>\n",
       "    <tr>\n",
       "      <th>16</th>\n",
       "      <td>10</td>\n",
       "      <td>M</td>\n",
       "      <td>50</td>\n",
       "      <td>5711567</td>\n",
       "      <td>0.054344</td>\n",
       "    </tr>\n",
       "    <tr>\n",
       "      <th>17</th>\n",
       "      <td>10</td>\n",
       "      <td>M</td>\n",
       "      <td>55</td>\n",
       "      <td>6906688</td>\n",
       "      <td>0.065716</td>\n",
       "    </tr>\n",
       "    <tr>\n",
       "      <th>18</th>\n",
       "      <td>10</td>\n",
       "      <td>M</td>\n",
       "      <td>60</td>\n",
       "      <td>6307366</td>\n",
       "      <td>0.060013</td>\n",
       "    </tr>\n",
       "    <tr>\n",
       "      <th>19</th>\n",
       "      <td>10</td>\n",
       "      <td>M</td>\n",
       "      <td>65</td>\n",
       "      <td>8477037</td>\n",
       "      <td>0.080657</td>\n",
       "    </tr>\n",
       "  </tbody>\n",
       "</table>\n",
       "</div>"
      ],
      "text/plain": [
       "    MCT_CAT_CD SEX_CD  AGE_CD  USE_AMT      rate\n",
       "0           10      F      20  1527907  0.014538\n",
       "1           10      F      25  4684555  0.044572\n",
       "2           10      F      30  5567032  0.052969\n",
       "3           10      F      35  4875372  0.046388\n",
       "4           10      F      40  4084597  0.038864\n",
       "5           10      F      45  3711520  0.035314\n",
       "6           10      F      50  3780978  0.035975\n",
       "7           10      F      55  4831249  0.045968\n",
       "8           10      F      60  2945289  0.028024\n",
       "9           10      F      65  4065144  0.038679\n",
       "10          10      M      20  1515866  0.014423\n",
       "11          10      M      25  6092236  0.057966\n",
       "12          10      M      30  9085969  0.086451\n",
       "13          10      M      35  8107912  0.077145\n",
       "14          10      M      40  6117589  0.058207\n",
       "15          10      M      45  6703896  0.063786\n",
       "16          10      M      50  5711567  0.054344\n",
       "17          10      M      55  6906688  0.065716\n",
       "18          10      M      60  6307366  0.060013\n",
       "19          10      M      65  8477037  0.080657"
      ]
     },
     "execution_count": 53,
     "metadata": {},
     "output_type": "execute_result"
    }
   ],
   "source": [
    "tmp_df.query('MCT_CAT_CD==10')"
   ]
  },
  {
   "cell_type": "code",
   "execution_count": 18,
   "metadata": {
    "ExecuteTime": {
     "end_time": "2020-08-07T12:31:47.365878Z",
     "start_time": "2020-08-07T12:31:47.353912Z"
    }
   },
   "outputs": [
    {
     "data": {
      "text/html": [
       "<div>\n",
       "<style scoped>\n",
       "    .dataframe tbody tr th:only-of-type {\n",
       "        vertical-align: middle;\n",
       "    }\n",
       "\n",
       "    .dataframe tbody tr th {\n",
       "        vertical-align: top;\n",
       "    }\n",
       "\n",
       "    .dataframe thead th {\n",
       "        text-align: right;\n",
       "    }\n",
       "</style>\n",
       "<table border=\"1\" class=\"dataframe\">\n",
       "  <thead>\n",
       "    <tr style=\"text-align: right;\">\n",
       "      <th></th>\n",
       "      <th>STD_DD</th>\n",
       "      <th>GU_CD</th>\n",
       "      <th>DONG_CD</th>\n",
       "      <th>MCT_CAT_CD</th>\n",
       "      <th>SEX_CD</th>\n",
       "      <th>AGE_CD</th>\n",
       "      <th>USE_CNT</th>\n",
       "      <th>USE_AMT</th>\n",
       "    </tr>\n",
       "  </thead>\n",
       "  <tbody>\n",
       "    <tr>\n",
       "      <th>0</th>\n",
       "      <td>20190201</td>\n",
       "      <td>110</td>\n",
       "      <td>517</td>\n",
       "      <td>10</td>\n",
       "      <td>F</td>\n",
       "      <td>25</td>\n",
       "      <td>11</td>\n",
       "      <td>595</td>\n",
       "    </tr>\n",
       "    <tr>\n",
       "      <th>1</th>\n",
       "      <td>20190201</td>\n",
       "      <td>110</td>\n",
       "      <td>517</td>\n",
       "      <td>10</td>\n",
       "      <td>F</td>\n",
       "      <td>50</td>\n",
       "      <td>5</td>\n",
       "      <td>243</td>\n",
       "    </tr>\n",
       "    <tr>\n",
       "      <th>2</th>\n",
       "      <td>20190201</td>\n",
       "      <td>110</td>\n",
       "      <td>517</td>\n",
       "      <td>10</td>\n",
       "      <td>F</td>\n",
       "      <td>55</td>\n",
       "      <td>5</td>\n",
       "      <td>27</td>\n",
       "    </tr>\n",
       "    <tr>\n",
       "      <th>3</th>\n",
       "      <td>20190201</td>\n",
       "      <td>110</td>\n",
       "      <td>517</td>\n",
       "      <td>10</td>\n",
       "      <td>M</td>\n",
       "      <td>20</td>\n",
       "      <td>11</td>\n",
       "      <td>243</td>\n",
       "    </tr>\n",
       "    <tr>\n",
       "      <th>4</th>\n",
       "      <td>20190201</td>\n",
       "      <td>110</td>\n",
       "      <td>517</td>\n",
       "      <td>10</td>\n",
       "      <td>M</td>\n",
       "      <td>25</td>\n",
       "      <td>11</td>\n",
       "      <td>433</td>\n",
       "    </tr>\n",
       "    <tr>\n",
       "      <th>...</th>\n",
       "      <td>...</td>\n",
       "      <td>...</td>\n",
       "      <td>...</td>\n",
       "      <td>...</td>\n",
       "      <td>...</td>\n",
       "      <td>...</td>\n",
       "      <td>...</td>\n",
       "      <td>...</td>\n",
       "    </tr>\n",
       "    <tr>\n",
       "      <th>2537748</th>\n",
       "      <td>20200531</td>\n",
       "      <td>350</td>\n",
       "      <td>720</td>\n",
       "      <td>81</td>\n",
       "      <td>M</td>\n",
       "      <td>45</td>\n",
       "      <td>19</td>\n",
       "      <td>127</td>\n",
       "    </tr>\n",
       "    <tr>\n",
       "      <th>2537749</th>\n",
       "      <td>20200531</td>\n",
       "      <td>350</td>\n",
       "      <td>720</td>\n",
       "      <td>81</td>\n",
       "      <td>M</td>\n",
       "      <td>50</td>\n",
       "      <td>33</td>\n",
       "      <td>211</td>\n",
       "    </tr>\n",
       "    <tr>\n",
       "      <th>2537750</th>\n",
       "      <td>20200531</td>\n",
       "      <td>350</td>\n",
       "      <td>720</td>\n",
       "      <td>81</td>\n",
       "      <td>M</td>\n",
       "      <td>55</td>\n",
       "      <td>9</td>\n",
       "      <td>61</td>\n",
       "    </tr>\n",
       "    <tr>\n",
       "      <th>2537751</th>\n",
       "      <td>20200531</td>\n",
       "      <td>350</td>\n",
       "      <td>720</td>\n",
       "      <td>81</td>\n",
       "      <td>M</td>\n",
       "      <td>60</td>\n",
       "      <td>19</td>\n",
       "      <td>194</td>\n",
       "    </tr>\n",
       "    <tr>\n",
       "      <th>2537752</th>\n",
       "      <td>20200531</td>\n",
       "      <td>350</td>\n",
       "      <td>720</td>\n",
       "      <td>81</td>\n",
       "      <td>M</td>\n",
       "      <td>65</td>\n",
       "      <td>5</td>\n",
       "      <td>29</td>\n",
       "    </tr>\n",
       "  </tbody>\n",
       "</table>\n",
       "<p>2537753 rows × 8 columns</p>\n",
       "</div>"
      ],
      "text/plain": [
       "           STD_DD  GU_CD  DONG_CD  MCT_CAT_CD SEX_CD  AGE_CD  USE_CNT  USE_AMT\n",
       "0        20190201    110      517          10      F      25       11      595\n",
       "1        20190201    110      517          10      F      50        5      243\n",
       "2        20190201    110      517          10      F      55        5       27\n",
       "3        20190201    110      517          10      M      20       11      243\n",
       "4        20190201    110      517          10      M      25       11      433\n",
       "...           ...    ...      ...         ...    ...     ...      ...      ...\n",
       "2537748  20200531    350      720          81      M      45       19      127\n",
       "2537749  20200531    350      720          81      M      50       33      211\n",
       "2537750  20200531    350      720          81      M      55        9       61\n",
       "2537751  20200531    350      720          81      M      60       19      194\n",
       "2537752  20200531    350      720          81      M      65        5       29\n",
       "\n",
       "[2537753 rows x 8 columns]"
      ]
     },
     "execution_count": 18,
     "metadata": {},
     "output_type": "execute_result"
    }
   ],
   "source": []
  },
  {
   "cell_type": "code",
   "execution_count": null,
   "metadata": {},
   "outputs": [],
   "source": []
  }
 ],
 "metadata": {
  "kernelspec": {
   "display_name": "Python 3",
   "language": "python",
   "name": "python3"
  },
  "language_info": {
   "codemirror_mode": {
    "name": "ipython",
    "version": 3
   },
   "file_extension": ".py",
   "mimetype": "text/x-python",
   "name": "python",
   "nbconvert_exporter": "python",
   "pygments_lexer": "ipython3",
   "version": "3.7.2"
  },
  "toc": {
   "base_numbering": 1,
   "nav_menu": {},
   "number_sections": true,
   "sideBar": true,
   "skip_h1_title": false,
   "title_cell": "Table of Contents",
   "title_sidebar": "Contents",
   "toc_cell": false,
   "toc_position": {},
   "toc_section_display": true,
   "toc_window_display": false
  },
  "varInspector": {
   "cols": {
    "lenName": 16,
    "lenType": 16,
    "lenVar": 40
   },
   "kernels_config": {
    "python": {
     "delete_cmd_postfix": "",
     "delete_cmd_prefix": "del ",
     "library": "var_list.py",
     "varRefreshCmd": "print(var_dic_list())"
    },
    "r": {
     "delete_cmd_postfix": ") ",
     "delete_cmd_prefix": "rm(",
     "library": "var_list.r",
     "varRefreshCmd": "cat(var_dic_list()) "
    }
   },
   "types_to_exclude": [
    "module",
    "function",
    "builtin_function_or_method",
    "instance",
    "_Feature"
   ],
   "window_display": false
  }
 },
 "nbformat": 4,
 "nbformat_minor": 2
}
