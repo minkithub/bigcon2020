{
 "cells": [
  {
   "cell_type": "code",
   "execution_count": 1,
   "metadata": {
    "ExecuteTime": {
     "end_time": "2020-08-06T12:50:39.320756Z",
     "start_time": "2020-08-06T12:50:35.495979Z"
    }
   },
   "outputs": [],
   "source": [
    "import pandas as pd\n",
    "import numpy as np\n",
    "import scipy \n",
    "\n",
    "import matplotlib as mpl\n",
    "import matplotlib.pyplot as plt\n",
    "import seaborn as sns\n",
    "%matplotlib inline\n",
    "\n",
    "import os\n",
    "import gc\n",
    "import pickle"
   ]
  },
  {
   "cell_type": "code",
   "execution_count": 3,
   "metadata": {
    "ExecuteTime": {
     "end_time": "2020-08-06T12:50:53.594716Z",
     "start_time": "2020-08-06T12:50:53.579072Z"
    }
   },
   "outputs": [],
   "source": [
    "plt.style.use('ggplot')\n",
    "\n",
    "mpl.rcParams['axes.unicode_minus'] = False\n",
    "plt.rcParams[\"font.family\"] = \"Malgun Gothic\""
   ]
  },
  {
   "cell_type": "code",
   "execution_count": 2,
   "metadata": {
    "ExecuteTime": {
     "end_time": "2020-08-06T12:50:42.452783Z",
     "start_time": "2020-08-06T12:50:42.444793Z"
    }
   },
   "outputs": [],
   "source": [
    "os.chdir(\"../../\")\n",
    "root_path = os.getcwd()\n",
    "\n",
    "raw_file_path = os.path.join(root_path, \"Bigcon2020_raw_file\")\n",
    "csv_file_path = os.path.join(root_path, \"BigCon_2020/csv_files\")\n",
    "pickle_file_path = os.path.join(root_path, \"BigCon_2020/pickle_files\")\n",
    "\n",
    "raw_file_folders = os.listdir(raw_file_path)"
   ]
  },
  {
   "cell_type": "code",
   "execution_count": 9,
   "metadata": {
    "ExecuteTime": {
     "end_time": "2020-08-06T13:02:08.185203Z",
     "start_time": "2020-08-06T13:02:08.177173Z"
    }
   },
   "outputs": [],
   "source": [
    "folder_path = os.path.join(raw_file_path, raw_file_folders[0])"
   ]
  },
  {
   "cell_type": "code",
   "execution_count": 10,
   "metadata": {
    "ExecuteTime": {
     "end_time": "2020-08-06T13:02:08.617638Z",
     "start_time": "2020-08-06T13:02:08.609644Z"
    }
   },
   "outputs": [],
   "source": [
    "file_names = [file_name for file_name in os.listdir(folder_path) if file_name.split(sep='.')[-1]=='CSV']"
   ]
  },
  {
   "cell_type": "code",
   "execution_count": 17,
   "metadata": {
    "ExecuteTime": {
     "end_time": "2020-08-06T13:05:37.743998Z",
     "start_time": "2020-08-06T13:05:37.567982Z"
    }
   },
   "outputs": [],
   "source": [
    "df_list = []\n",
    "\n",
    "for file_name in file_names:\n",
    "    file_path = os.path.join(folder_path, file_name)\n",
    "    df = pd.read_csv(file_path, sep='|')\n",
    "    df_list.append(df)"
   ]
  },
  {
   "cell_type": "code",
   "execution_count": null,
   "metadata": {},
   "outputs": [],
   "source": [
    "list(map(lambda x: x.shape, df_list))"
   ]
  },
  {
   "cell_type": "code",
   "execution_count": 27,
   "metadata": {
    "ExecuteTime": {
     "end_time": "2020-08-06T13:08:43.142593Z",
     "start_time": "2020-08-06T13:08:43.126639Z"
    }
   },
   "outputs": [],
   "source": [
    "flow_age = pd.concat(df_list[:8])\n",
    "flow_time = pd.concat(df_list[8:])"
   ]
  },
  {
   "cell_type": "code",
   "execution_count": 28,
   "metadata": {
    "ExecuteTime": {
     "end_time": "2020-08-06T13:08:46.601417Z",
     "start_time": "2020-08-06T13:08:46.569406Z"
    }
   },
   "outputs": [
    {
     "data": {
      "text/html": [
       "<div>\n",
       "<style scoped>\n",
       "    .dataframe tbody tr th:only-of-type {\n",
       "        vertical-align: middle;\n",
       "    }\n",
       "\n",
       "    .dataframe tbody tr th {\n",
       "        vertical-align: top;\n",
       "    }\n",
       "\n",
       "    .dataframe thead th {\n",
       "        text-align: right;\n",
       "    }\n",
       "</style>\n",
       "<table border=\"1\" class=\"dataframe\">\n",
       "  <thead>\n",
       "    <tr style=\"text-align: right;\">\n",
       "      <th></th>\n",
       "      <th>STD_YM</th>\n",
       "      <th>STD_YMD</th>\n",
       "      <th>HDONG_CD</th>\n",
       "      <th>HDONG_NM</th>\n",
       "      <th>MAN_FLOW_POP_CNT_0004</th>\n",
       "      <th>MAN_FLOW_POP_CNT_0509</th>\n",
       "      <th>MAN_FLOW_POP_CNT_1014</th>\n",
       "      <th>MAN_FLOW_POP_CNT_1519</th>\n",
       "      <th>MAN_FLOW_POP_CNT_2024</th>\n",
       "      <th>MAN_FLOW_POP_CNT_2529</th>\n",
       "      <th>...</th>\n",
       "      <th>WMAN_FLOW_POP_CNT_2529</th>\n",
       "      <th>WMAN_FLOW_POP_CNT_3034</th>\n",
       "      <th>WMAN_FLOW_POP_CNT_3539</th>\n",
       "      <th>WMAN_FLOW_POP_CNT_4044</th>\n",
       "      <th>WMAN_FLOW_POP_CNT_4549</th>\n",
       "      <th>WMAN_FLOW_POP_CNT_5054</th>\n",
       "      <th>WMAN_FLOW_POP_CNT_5559</th>\n",
       "      <th>WMAN_FLOW_POP_CNT_6064</th>\n",
       "      <th>WMAN_FLOW_POP_CNT_6569</th>\n",
       "      <th>WMAN_FLOW_POP_CNT_70U</th>\n",
       "    </tr>\n",
       "  </thead>\n",
       "  <tbody>\n",
       "    <tr>\n",
       "      <th>0</th>\n",
       "      <td>201902</td>\n",
       "      <td>20190201</td>\n",
       "      <td>1114052000</td>\n",
       "      <td>소공동</td>\n",
       "      <td>16.64</td>\n",
       "      <td>116.18</td>\n",
       "      <td>419.70</td>\n",
       "      <td>1553.57</td>\n",
       "      <td>5196.07</td>\n",
       "      <td>11195.62</td>\n",
       "      <td>...</td>\n",
       "      <td>13323.19</td>\n",
       "      <td>12741.15</td>\n",
       "      <td>11628.80</td>\n",
       "      <td>10006.80</td>\n",
       "      <td>9807.06</td>\n",
       "      <td>8099.38</td>\n",
       "      <td>7260.17</td>\n",
       "      <td>5757.53</td>\n",
       "      <td>3359.85</td>\n",
       "      <td>4431.71</td>\n",
       "    </tr>\n",
       "    <tr>\n",
       "      <th>1</th>\n",
       "      <td>201902</td>\n",
       "      <td>20190202</td>\n",
       "      <td>1114052000</td>\n",
       "      <td>소공동</td>\n",
       "      <td>3.14</td>\n",
       "      <td>141.07</td>\n",
       "      <td>763.30</td>\n",
       "      <td>1405.29</td>\n",
       "      <td>4235.82</td>\n",
       "      <td>7592.34</td>\n",
       "      <td>...</td>\n",
       "      <td>7898.27</td>\n",
       "      <td>6580.27</td>\n",
       "      <td>5714.75</td>\n",
       "      <td>4946.22</td>\n",
       "      <td>5055.32</td>\n",
       "      <td>4560.27</td>\n",
       "      <td>4364.57</td>\n",
       "      <td>3838.77</td>\n",
       "      <td>2453.97</td>\n",
       "      <td>3207.26</td>\n",
       "    </tr>\n",
       "    <tr>\n",
       "      <th>2</th>\n",
       "      <td>201902</td>\n",
       "      <td>20190203</td>\n",
       "      <td>1114052000</td>\n",
       "      <td>소공동</td>\n",
       "      <td>1.38</td>\n",
       "      <td>120.39</td>\n",
       "      <td>698.23</td>\n",
       "      <td>1117.17</td>\n",
       "      <td>3032.90</td>\n",
       "      <td>5173.35</td>\n",
       "      <td>...</td>\n",
       "      <td>5079.63</td>\n",
       "      <td>4454.43</td>\n",
       "      <td>3905.32</td>\n",
       "      <td>3484.47</td>\n",
       "      <td>3703.24</td>\n",
       "      <td>3270.26</td>\n",
       "      <td>2984.05</td>\n",
       "      <td>2484.98</td>\n",
       "      <td>1511.67</td>\n",
       "      <td>1954.98</td>\n",
       "    </tr>\n",
       "    <tr>\n",
       "      <th>3</th>\n",
       "      <td>201902</td>\n",
       "      <td>20190204</td>\n",
       "      <td>1114052000</td>\n",
       "      <td>소공동</td>\n",
       "      <td>0.08</td>\n",
       "      <td>141.61</td>\n",
       "      <td>772.41</td>\n",
       "      <td>1248.85</td>\n",
       "      <td>3001.95</td>\n",
       "      <td>4641.82</td>\n",
       "      <td>...</td>\n",
       "      <td>4317.63</td>\n",
       "      <td>3676.47</td>\n",
       "      <td>3506.37</td>\n",
       "      <td>3108.99</td>\n",
       "      <td>3324.07</td>\n",
       "      <td>2841.35</td>\n",
       "      <td>2644.42</td>\n",
       "      <td>2164.35</td>\n",
       "      <td>1230.21</td>\n",
       "      <td>1520.35</td>\n",
       "    </tr>\n",
       "    <tr>\n",
       "      <th>4</th>\n",
       "      <td>201902</td>\n",
       "      <td>20190205</td>\n",
       "      <td>1114052000</td>\n",
       "      <td>소공동</td>\n",
       "      <td>0.00</td>\n",
       "      <td>254.70</td>\n",
       "      <td>1394.92</td>\n",
       "      <td>2190.69</td>\n",
       "      <td>3420.15</td>\n",
       "      <td>5478.30</td>\n",
       "      <td>...</td>\n",
       "      <td>4813.86</td>\n",
       "      <td>4967.92</td>\n",
       "      <td>5161.96</td>\n",
       "      <td>4856.63</td>\n",
       "      <td>5212.69</td>\n",
       "      <td>4462.94</td>\n",
       "      <td>4183.38</td>\n",
       "      <td>3265.62</td>\n",
       "      <td>1692.74</td>\n",
       "      <td>2147.09</td>\n",
       "    </tr>\n",
       "    <tr>\n",
       "      <th>...</th>\n",
       "      <td>...</td>\n",
       "      <td>...</td>\n",
       "      <td>...</td>\n",
       "      <td>...</td>\n",
       "      <td>...</td>\n",
       "      <td>...</td>\n",
       "      <td>...</td>\n",
       "      <td>...</td>\n",
       "      <td>...</td>\n",
       "      <td>...</td>\n",
       "      <td>...</td>\n",
       "      <td>...</td>\n",
       "      <td>...</td>\n",
       "      <td>...</td>\n",
       "      <td>...</td>\n",
       "      <td>...</td>\n",
       "      <td>...</td>\n",
       "      <td>...</td>\n",
       "      <td>...</td>\n",
       "      <td>...</td>\n",
       "      <td>...</td>\n",
       "    </tr>\n",
       "    <tr>\n",
       "      <th>2134</th>\n",
       "      <td>202005</td>\n",
       "      <td>20200527</td>\n",
       "      <td>2726069000</td>\n",
       "      <td>고산3동</td>\n",
       "      <td>0.00</td>\n",
       "      <td>70.07</td>\n",
       "      <td>519.05</td>\n",
       "      <td>956.45</td>\n",
       "      <td>1205.44</td>\n",
       "      <td>1507.57</td>\n",
       "      <td>...</td>\n",
       "      <td>1201.14</td>\n",
       "      <td>1106.57</td>\n",
       "      <td>1728.34</td>\n",
       "      <td>2209.31</td>\n",
       "      <td>2808.54</td>\n",
       "      <td>2721.54</td>\n",
       "      <td>2070.62</td>\n",
       "      <td>1613.50</td>\n",
       "      <td>1086.34</td>\n",
       "      <td>1143.37</td>\n",
       "    </tr>\n",
       "    <tr>\n",
       "      <th>2135</th>\n",
       "      <td>202005</td>\n",
       "      <td>20200528</td>\n",
       "      <td>2726069000</td>\n",
       "      <td>고산3동</td>\n",
       "      <td>0.00</td>\n",
       "      <td>99.04</td>\n",
       "      <td>749.36</td>\n",
       "      <td>1085.68</td>\n",
       "      <td>1639.82</td>\n",
       "      <td>1777.32</td>\n",
       "      <td>...</td>\n",
       "      <td>1377.94</td>\n",
       "      <td>1258.02</td>\n",
       "      <td>1847.61</td>\n",
       "      <td>2677.19</td>\n",
       "      <td>3342.68</td>\n",
       "      <td>3036.71</td>\n",
       "      <td>2389.70</td>\n",
       "      <td>1848.92</td>\n",
       "      <td>1291.19</td>\n",
       "      <td>1515.36</td>\n",
       "    </tr>\n",
       "    <tr>\n",
       "      <th>2136</th>\n",
       "      <td>202005</td>\n",
       "      <td>20200529</td>\n",
       "      <td>2726069000</td>\n",
       "      <td>고산3동</td>\n",
       "      <td>0.00</td>\n",
       "      <td>155.70</td>\n",
       "      <td>781.70</td>\n",
       "      <td>1235.94</td>\n",
       "      <td>1706.97</td>\n",
       "      <td>1982.74</td>\n",
       "      <td>...</td>\n",
       "      <td>1583.58</td>\n",
       "      <td>1487.06</td>\n",
       "      <td>2149.30</td>\n",
       "      <td>2916.87</td>\n",
       "      <td>3643.31</td>\n",
       "      <td>3395.24</td>\n",
       "      <td>2800.02</td>\n",
       "      <td>2043.25</td>\n",
       "      <td>1356.15</td>\n",
       "      <td>1455.89</td>\n",
       "    </tr>\n",
       "    <tr>\n",
       "      <th>2137</th>\n",
       "      <td>202005</td>\n",
       "      <td>20200530</td>\n",
       "      <td>2726069000</td>\n",
       "      <td>고산3동</td>\n",
       "      <td>0.00</td>\n",
       "      <td>119.89</td>\n",
       "      <td>903.85</td>\n",
       "      <td>1236.60</td>\n",
       "      <td>1722.01</td>\n",
       "      <td>2142.41</td>\n",
       "      <td>...</td>\n",
       "      <td>1644.73</td>\n",
       "      <td>1420.31</td>\n",
       "      <td>1812.27</td>\n",
       "      <td>2640.71</td>\n",
       "      <td>3362.25</td>\n",
       "      <td>2909.34</td>\n",
       "      <td>2353.82</td>\n",
       "      <td>1812.56</td>\n",
       "      <td>1242.56</td>\n",
       "      <td>1372.38</td>\n",
       "    </tr>\n",
       "    <tr>\n",
       "      <th>2138</th>\n",
       "      <td>202005</td>\n",
       "      <td>20200531</td>\n",
       "      <td>2726069000</td>\n",
       "      <td>고산3동</td>\n",
       "      <td>0.00</td>\n",
       "      <td>137.40</td>\n",
       "      <td>756.71</td>\n",
       "      <td>1139.23</td>\n",
       "      <td>1500.39</td>\n",
       "      <td>1814.26</td>\n",
       "      <td>...</td>\n",
       "      <td>1367.72</td>\n",
       "      <td>1145.01</td>\n",
       "      <td>1661.90</td>\n",
       "      <td>2208.72</td>\n",
       "      <td>2782.10</td>\n",
       "      <td>2544.62</td>\n",
       "      <td>2074.62</td>\n",
       "      <td>1529.44</td>\n",
       "      <td>1034.47</td>\n",
       "      <td>1142.95</td>\n",
       "    </tr>\n",
       "  </tbody>\n",
       "</table>\n",
       "<p>16629 rows × 34 columns</p>\n",
       "</div>"
      ],
      "text/plain": [
       "      STD_YM   STD_YMD    HDONG_CD HDONG_NM  MAN_FLOW_POP_CNT_0004  \\\n",
       "0     201902  20190201  1114052000      소공동                  16.64   \n",
       "1     201902  20190202  1114052000      소공동                   3.14   \n",
       "2     201902  20190203  1114052000      소공동                   1.38   \n",
       "3     201902  20190204  1114052000      소공동                   0.08   \n",
       "4     201902  20190205  1114052000      소공동                   0.00   \n",
       "...      ...       ...         ...      ...                    ...   \n",
       "2134  202005  20200527  2726069000     고산3동                   0.00   \n",
       "2135  202005  20200528  2726069000     고산3동                   0.00   \n",
       "2136  202005  20200529  2726069000     고산3동                   0.00   \n",
       "2137  202005  20200530  2726069000     고산3동                   0.00   \n",
       "2138  202005  20200531  2726069000     고산3동                   0.00   \n",
       "\n",
       "      MAN_FLOW_POP_CNT_0509  MAN_FLOW_POP_CNT_1014  MAN_FLOW_POP_CNT_1519  \\\n",
       "0                    116.18                 419.70                1553.57   \n",
       "1                    141.07                 763.30                1405.29   \n",
       "2                    120.39                 698.23                1117.17   \n",
       "3                    141.61                 772.41                1248.85   \n",
       "4                    254.70                1394.92                2190.69   \n",
       "...                     ...                    ...                    ...   \n",
       "2134                  70.07                 519.05                 956.45   \n",
       "2135                  99.04                 749.36                1085.68   \n",
       "2136                 155.70                 781.70                1235.94   \n",
       "2137                 119.89                 903.85                1236.60   \n",
       "2138                 137.40                 756.71                1139.23   \n",
       "\n",
       "      MAN_FLOW_POP_CNT_2024  MAN_FLOW_POP_CNT_2529  ...  \\\n",
       "0                   5196.07               11195.62  ...   \n",
       "1                   4235.82                7592.34  ...   \n",
       "2                   3032.90                5173.35  ...   \n",
       "3                   3001.95                4641.82  ...   \n",
       "4                   3420.15                5478.30  ...   \n",
       "...                     ...                    ...  ...   \n",
       "2134                1205.44                1507.57  ...   \n",
       "2135                1639.82                1777.32  ...   \n",
       "2136                1706.97                1982.74  ...   \n",
       "2137                1722.01                2142.41  ...   \n",
       "2138                1500.39                1814.26  ...   \n",
       "\n",
       "      WMAN_FLOW_POP_CNT_2529  WMAN_FLOW_POP_CNT_3034  WMAN_FLOW_POP_CNT_3539  \\\n",
       "0                   13323.19                12741.15                11628.80   \n",
       "1                    7898.27                 6580.27                 5714.75   \n",
       "2                    5079.63                 4454.43                 3905.32   \n",
       "3                    4317.63                 3676.47                 3506.37   \n",
       "4                    4813.86                 4967.92                 5161.96   \n",
       "...                      ...                     ...                     ...   \n",
       "2134                 1201.14                 1106.57                 1728.34   \n",
       "2135                 1377.94                 1258.02                 1847.61   \n",
       "2136                 1583.58                 1487.06                 2149.30   \n",
       "2137                 1644.73                 1420.31                 1812.27   \n",
       "2138                 1367.72                 1145.01                 1661.90   \n",
       "\n",
       "      WMAN_FLOW_POP_CNT_4044  WMAN_FLOW_POP_CNT_4549  WMAN_FLOW_POP_CNT_5054  \\\n",
       "0                   10006.80                 9807.06                 8099.38   \n",
       "1                    4946.22                 5055.32                 4560.27   \n",
       "2                    3484.47                 3703.24                 3270.26   \n",
       "3                    3108.99                 3324.07                 2841.35   \n",
       "4                    4856.63                 5212.69                 4462.94   \n",
       "...                      ...                     ...                     ...   \n",
       "2134                 2209.31                 2808.54                 2721.54   \n",
       "2135                 2677.19                 3342.68                 3036.71   \n",
       "2136                 2916.87                 3643.31                 3395.24   \n",
       "2137                 2640.71                 3362.25                 2909.34   \n",
       "2138                 2208.72                 2782.10                 2544.62   \n",
       "\n",
       "      WMAN_FLOW_POP_CNT_5559  WMAN_FLOW_POP_CNT_6064  WMAN_FLOW_POP_CNT_6569  \\\n",
       "0                    7260.17                 5757.53                 3359.85   \n",
       "1                    4364.57                 3838.77                 2453.97   \n",
       "2                    2984.05                 2484.98                 1511.67   \n",
       "3                    2644.42                 2164.35                 1230.21   \n",
       "4                    4183.38                 3265.62                 1692.74   \n",
       "...                      ...                     ...                     ...   \n",
       "2134                 2070.62                 1613.50                 1086.34   \n",
       "2135                 2389.70                 1848.92                 1291.19   \n",
       "2136                 2800.02                 2043.25                 1356.15   \n",
       "2137                 2353.82                 1812.56                 1242.56   \n",
       "2138                 2074.62                 1529.44                 1034.47   \n",
       "\n",
       "      WMAN_FLOW_POP_CNT_70U  \n",
       "0                   4431.71  \n",
       "1                   3207.26  \n",
       "2                   1954.98  \n",
       "3                   1520.35  \n",
       "4                   2147.09  \n",
       "...                     ...  \n",
       "2134                1143.37  \n",
       "2135                1515.36  \n",
       "2136                1455.89  \n",
       "2137                1372.38  \n",
       "2138                1142.95  \n",
       "\n",
       "[16629 rows x 34 columns]"
      ]
     },
     "execution_count": 28,
     "metadata": {},
     "output_type": "execute_result"
    }
   ],
   "source": [
    "flow_age"
   ]
  },
  {
   "cell_type": "code",
   "execution_count": 37,
   "metadata": {
    "ExecuteTime": {
     "end_time": "2020-08-06T13:16:22.454069Z",
     "start_time": "2020-08-06T13:16:22.214568Z"
    }
   },
   "outputs": [],
   "source": [
    "melted_flow_age = flow_age.melt(id_vars=['STD_YM','STD_YMD','HDONG_CD','HDONG_NM'], var_name='age', value_name='flow_counts').\\\n",
    "        sort_values(by=['HDONG_CD','STD_YMD','age']).\\\n",
    "        reset_index(drop=True)"
   ]
  },
  {
   "cell_type": "code",
   "execution_count": 34,
   "metadata": {
    "ExecuteTime": {
     "end_time": "2020-08-06T13:13:22.532611Z",
     "start_time": "2020-08-06T13:13:22.332608Z"
    }
   },
   "outputs": [],
   "source": [
    "melted_flow_time = flow_time.melt(id_vars=['STD_YM','STD_YMD','HDONG_CD','HDONG_NM'], var_name='time', value_name='flow_counts').\\\n",
    "        sort_values(by=['HDONG_CD','STD_YMD','time']).\\\n",
    "        reset_index(drop=True)"
   ]
  },
  {
   "cell_type": "code",
   "execution_count": 44,
   "metadata": {
    "ExecuteTime": {
     "end_time": "2020-08-06T13:17:59.984787Z",
     "start_time": "2020-08-06T13:17:59.936822Z"
    }
   },
   "outputs": [],
   "source": [
    "tmp1=melted_flow_age.groupby(['STD_YMD','HDONG_CD'])['flow_counts'].sum().reset_index(name='flow_counts_age')"
   ]
  },
  {
   "cell_type": "code",
   "execution_count": 45,
   "metadata": {
    "ExecuteTime": {
     "end_time": "2020-08-06T13:18:10.530408Z",
     "start_time": "2020-08-06T13:18:10.490433Z"
    }
   },
   "outputs": [],
   "source": [
    "tmp2=melted_flow_time.groupby(['STD_YMD','HDONG_CD'])['flow_counts'].sum().reset_index(name='flow_counts_time')"
   ]
  },
  {
   "cell_type": "code",
   "execution_count": 51,
   "metadata": {
    "ExecuteTime": {
     "end_time": "2020-08-06T13:19:42.033744Z",
     "start_time": "2020-08-06T13:19:41.521657Z"
    }
   },
   "outputs": [
    {
     "data": {
      "text/plain": [
       "<matplotlib.axes._subplots.AxesSubplot at 0x21bac85d198>"
      ]
     },
     "execution_count": 51,
     "metadata": {},
     "output_type": "execute_result"
    },
    {
     "data": {
      "image/png": "[encoded data removed]",
      "text/plain": [
       "<Figure size 432x288 with 1 Axes>"
      ]
     },
     "metadata": {},
     "output_type": "display_data"
    }
   ],
   "source": [
    "pd.merge(tmp1,tmp2).eval('flow_diff = flow_counts_age - flow_counts_time').flow_diff.plot(kind='kde')"
   ]
  },
  {
   "cell_type": "code",
   "execution_count": null,
   "metadata": {},
   "outputs": [],
   "source": []
  }
 ],
 "metadata": {
  "kernelspec": {
   "display_name": "Python 3",
   "language": "python",
   "name": "python3"
  },
  "language_info": {
   "codemirror_mode": {
    "name": "ipython",
    "version": 3
   },
   "file_extension": ".py",
   "mimetype": "text/x-python",
   "name": "python",
   "nbconvert_exporter": "python",
   "pygments_lexer": "ipython3",
   "version": "3.7.2"
  },
  "toc": {
   "base_numbering": 1,
   "nav_menu": {},
   "number_sections": true,
   "sideBar": true,
   "skip_h1_title": false,
   "title_cell": "Table of Contents",
   "title_sidebar": "Contents",
   "toc_cell": false,
   "toc_position": {},
   "toc_section_display": true,
   "toc_window_display": false
  },
  "varInspector": {
   "cols": {
    "lenName": 16,
    "lenType": 16,
    "lenVar": 40
   },
   "kernels_config": {
    "python": {
     "delete_cmd_postfix": "",
     "delete_cmd_prefix": "del ",
     "library": "var_list.py",
     "varRefreshCmd": "print(var_dic_list())"
    },
    "r": {
     "delete_cmd_postfix": ") ",
     "delete_cmd_prefix": "rm(",
     "library": "var_list.r",
     "varRefreshCmd": "cat(var_dic_list()) "
    }
   },
   "types_to_exclude": [
    "module",
    "function",
    "builtin_function_or_method",
    "instance",
    "_Feature"
   ],
   "window_display": false
  }
 },
 "nbformat": 4,
 "nbformat_minor": 2
}
