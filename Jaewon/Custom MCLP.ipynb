{
 "cells": [
  {
   "cell_type": "code",
   "execution_count": 1,
   "metadata": {
    "ExecuteTime": {
     "end_time": "2020-09-15T06:13:25.498502Z",
     "start_time": "2020-09-15T06:13:24.550278Z"
    }
   },
   "outputs": [
    {
     "name": "stderr",
     "output_type": "stream",
     "text": [
      "c:\\python37\\lib\\site-packages\\statsmodels\\tools\\_testing.py:19: FutureWarning: pandas.util.testing is deprecated. Use the functions in the public API at pandas.testing instead.\n",
      "  import pandas.util.testing as tm\n"
     ]
    }
   ],
   "source": [
    "import pandas as pd\n",
    "import numpy as np\n",
    "import scipy \n",
    "\n",
    "import matplotlib as mpl\n",
    "import matplotlib.pyplot as plt\n",
    "import seaborn as sns\n",
    "%matplotlib inline\n",
    "\n",
    "import os\n",
    "import gc\n",
    "import pickle\n",
    "\n",
    "import warnings\n",
    "warnings.filterwarnings('ignore')\n",
    "\n",
    "from tqdm import tqdm,trange\n",
    "\n",
    "plt.style.use('ggplot')\n",
    "\n",
    "mpl.rcParams['axes.unicode_minus'] = False\n",
    "plt.rcParams[\"font.family\"] = \"Malgun Gothic\"\n",
    "\n",
    "os.chdir(\"../../\")\n",
    "root_path = os.getcwd()\n",
    "\n",
    "raw_file_path = os.path.join(root_path, \"Bigcon2020_raw_file\")\n",
    "csv_file_path = os.path.join(root_path, \"BigCon_2020/csv_files\")\n",
    "pickle_file_path = os.path.join(root_path, \"BigCon_2020/pickle_files\")\n",
    "image_path = 'C:/Users/rears/OneDrive/바탕 화면/dacon_covid19/'"
   ]
  },
  {
   "cell_type": "code",
   "execution_count": 24,
   "metadata": {
    "ExecuteTime": {
     "end_time": "2020-09-15T12:57:00.001244Z",
     "start_time": "2020-09-15T12:56:59.997251Z"
    }
   },
   "outputs": [],
   "source": [
    "from itertools import permutations"
   ]
  },
  {
   "cell_type": "markdown",
   "metadata": {},
   "source": [
    "## Prepare Files"
   ]
  },
  {
   "cell_type": "markdown",
   "metadata": {},
   "source": [
    "* 필요파일\n",
    "    * 인접 행정동, 행정동간 거리 파일\n",
    "    * 행정동별 생활인구 파일 \n",
    "    * 행정동별 교통편의성 파일"
   ]
  },
  {
   "cell_type": "code",
   "execution_count": 2,
   "metadata": {
    "ExecuteTime": {
     "end_time": "2020-09-15T06:13:27.497155Z",
     "start_time": "2020-09-15T06:13:27.474217Z"
    }
   },
   "outputs": [],
   "source": [
    "distance_file=[pd.read_csv(os.path.join(csv_file_path,file), index_col=[0]) for file in os.listdir(csv_file_path) if file.startswith('distance')]"
   ]
  },
  {
   "cell_type": "code",
   "execution_count": 3,
   "metadata": {
    "ExecuteTime": {
     "end_time": "2020-09-15T06:13:27.748451Z",
     "start_time": "2020-09-15T06:13:27.745491Z"
    }
   },
   "outputs": [],
   "source": [
    "real_dist = distance_file[0]\n",
    "adjacent_dist = distance_file[1]"
   ]
  },
  {
   "cell_type": "code",
   "execution_count": 4,
   "metadata": {
    "ExecuteTime": {
     "end_time": "2020-09-15T06:13:28.252102Z",
     "start_time": "2020-09-15T06:13:28.239169Z"
    }
   },
   "outputs": [],
   "source": [
    "living_population=pd.read_csv(os.path.join(csv_file_path,'CTGG_HDNG_FLOW.csv'))"
   ]
  },
  {
   "cell_type": "code",
   "execution_count": 37,
   "metadata": {
    "ExecuteTime": {
     "end_time": "2020-09-16T05:44:13.965598Z",
     "start_time": "2020-09-16T05:44:13.957594Z"
    }
   },
   "outputs": [],
   "source": [
    "# bus_route_num_dtd = pd.read_csv(os.path.join(csv_file_path,\"bus_route_num_dtd.csv\"), index_col=[0])"
   ]
  },
  {
   "cell_type": "code",
   "execution_count": 7,
   "metadata": {
    "ExecuteTime": {
     "end_time": "2020-09-15T06:13:48.028264Z",
     "start_time": "2020-09-15T06:13:48.018323Z"
    }
   },
   "outputs": [
    {
     "data": {
      "text/html": [
       "<div>\n",
       "<style scoped>\n",
       "    .dataframe tbody tr th:only-of-type {\n",
       "        vertical-align: middle;\n",
       "    }\n",
       "\n",
       "    .dataframe tbody tr th {\n",
       "        vertical-align: top;\n",
       "    }\n",
       "\n",
       "    .dataframe thead th {\n",
       "        text-align: right;\n",
       "    }\n",
       "</style>\n",
       "<table border=\"1\" class=\"dataframe\">\n",
       "  <thead>\n",
       "    <tr style=\"text-align: right;\">\n",
       "      <th></th>\n",
       "      <th>CTGG_NM</th>\n",
       "      <th>HDNG_NM</th>\n",
       "      <th>Covid_class</th>\n",
       "      <th>dayofweek</th>\n",
       "      <th>variable</th>\n",
       "      <th>value</th>\n",
       "    </tr>\n",
       "  </thead>\n",
       "  <tbody>\n",
       "    <tr>\n",
       "      <th>936</th>\n",
       "      <td>중구</td>\n",
       "      <td>필동</td>\n",
       "      <td>B</td>\n",
       "      <td>0</td>\n",
       "      <td>3059</td>\n",
       "      <td>9023.429519</td>\n",
       "    </tr>\n",
       "    <tr>\n",
       "      <th>937</th>\n",
       "      <td>중구</td>\n",
       "      <td>필동</td>\n",
       "      <td>B</td>\n",
       "      <td>0</td>\n",
       "      <td>30L</td>\n",
       "      <td>3875.263420</td>\n",
       "    </tr>\n",
       "    <tr>\n",
       "      <th>456</th>\n",
       "      <td>노원구</td>\n",
       "      <td>중계4동</td>\n",
       "      <td>B</td>\n",
       "      <td>0</td>\n",
       "      <td>3059</td>\n",
       "      <td>7534.154201</td>\n",
       "    </tr>\n",
       "    <tr>\n",
       "      <th>325</th>\n",
       "      <td>노원구</td>\n",
       "      <td>월계1동</td>\n",
       "      <td>E</td>\n",
       "      <td>0</td>\n",
       "      <td>30L</td>\n",
       "      <td>9642.121804</td>\n",
       "    </tr>\n",
       "    <tr>\n",
       "      <th>417</th>\n",
       "      <td>노원구</td>\n",
       "      <td>중계1동</td>\n",
       "      <td>E</td>\n",
       "      <td>1</td>\n",
       "      <td>3059</td>\n",
       "      <td>10132.004775</td>\n",
       "    </tr>\n",
       "    <tr>\n",
       "      <th>422</th>\n",
       "      <td>노원구</td>\n",
       "      <td>중계2.3동</td>\n",
       "      <td>A</td>\n",
       "      <td>0</td>\n",
       "      <td>60U</td>\n",
       "      <td>9095.363333</td>\n",
       "    </tr>\n",
       "    <tr>\n",
       "      <th>122</th>\n",
       "      <td>노원구</td>\n",
       "      <td>상계2동</td>\n",
       "      <td>A</td>\n",
       "      <td>0</td>\n",
       "      <td>60U</td>\n",
       "      <td>7518.496246</td>\n",
       "    </tr>\n",
       "    <tr>\n",
       "      <th>104</th>\n",
       "      <td>노원구</td>\n",
       "      <td>상계1동</td>\n",
       "      <td>C</td>\n",
       "      <td>0</td>\n",
       "      <td>60U</td>\n",
       "      <td>10928.838838</td>\n",
       "    </tr>\n",
       "    <tr>\n",
       "      <th>466</th>\n",
       "      <td>노원구</td>\n",
       "      <td>중계4동</td>\n",
       "      <td>C</td>\n",
       "      <td>1</td>\n",
       "      <td>30L</td>\n",
       "      <td>6256.807615</td>\n",
       "    </tr>\n",
       "    <tr>\n",
       "      <th>985</th>\n",
       "      <td>중구</td>\n",
       "      <td>황학동</td>\n",
       "      <td>E</td>\n",
       "      <td>0</td>\n",
       "      <td>30L</td>\n",
       "      <td>3288.642985</td>\n",
       "    </tr>\n",
       "  </tbody>\n",
       "</table>\n",
       "</div>"
      ],
      "text/plain": [
       "    CTGG_NM HDNG_NM Covid_class  dayofweek variable         value\n",
       "936      중구      필동           B          0     3059   9023.429519\n",
       "937      중구      필동           B          0      30L   3875.263420\n",
       "456     노원구    중계4동           B          0     3059   7534.154201\n",
       "325     노원구    월계1동           E          0      30L   9642.121804\n",
       "417     노원구    중계1동           E          1     3059  10132.004775\n",
       "422     노원구  중계2.3동           A          0      60U   9095.363333\n",
       "122     노원구    상계2동           A          0      60U   7518.496246\n",
       "104     노원구    상계1동           C          0      60U  10928.838838\n",
       "466     노원구    중계4동           C          1      30L   6256.807615\n",
       "985      중구     황학동           E          0      30L   3288.642985"
      ]
     },
     "execution_count": 7,
     "metadata": {},
     "output_type": "execute_result"
    }
   ],
   "source": [
    "living_population.sample(10)"
   ]
  },
  {
   "cell_type": "code",
   "execution_count": 28,
   "metadata": {
    "ExecuteTime": {
     "end_time": "2020-09-12T08:35:28.415864Z",
     "start_time": "2020-09-12T08:35:28.407482Z"
    }
   },
   "outputs": [],
   "source": [
    "convenience_index = pd.read_csv(os.path.join(csv_file_path,'conv_index.csv'))"
   ]
  },
  {
   "cell_type": "code",
   "execution_count": 30,
   "metadata": {
    "ExecuteTime": {
     "end_time": "2020-09-12T08:36:51.149797Z",
     "start_time": "2020-09-12T08:36:51.142450Z"
    }
   },
   "outputs": [],
   "source": [
    "convenience_index.loc[:,'conv']=np.sqrt(convenience_index.conv)"
   ]
  },
  {
   "cell_type": "code",
   "execution_count": 35,
   "metadata": {
    "ExecuteTime": {
     "end_time": "2020-09-12T08:37:32.075193Z",
     "start_time": "2020-09-12T08:37:32.070414Z"
    }
   },
   "outputs": [],
   "source": [
    "living_population.loc[:,'value'] = np.sqrt(living_population.value)"
   ]
  },
  {
   "cell_type": "code",
   "execution_count": 52,
   "metadata": {
    "ExecuteTime": {
     "end_time": "2020-09-12T11:37:57.146864Z",
     "start_time": "2020-09-12T11:37:57.127916Z"
    }
   },
   "outputs": [
    {
     "data": {
      "text/html": [
       "<div>\n",
       "<style scoped>\n",
       "    .dataframe tbody tr th:only-of-type {\n",
       "        vertical-align: middle;\n",
       "    }\n",
       "\n",
       "    .dataframe tbody tr th {\n",
       "        vertical-align: top;\n",
       "    }\n",
       "\n",
       "    .dataframe thead th {\n",
       "        text-align: right;\n",
       "    }\n",
       "</style>\n",
       "<table border=\"1\" class=\"dataframe\">\n",
       "  <thead>\n",
       "    <tr style=\"text-align: right;\">\n",
       "      <th></th>\n",
       "      <th>HDONG_NM</th>\n",
       "      <th>subway_station_num</th>\n",
       "      <th>bus_station_num</th>\n",
       "      <th>bus_route_num</th>\n",
       "      <th>subway_route_num</th>\n",
       "      <th>AREA</th>\n",
       "      <th>conv</th>\n",
       "    </tr>\n",
       "  </thead>\n",
       "  <tbody>\n",
       "    <tr>\n",
       "      <th>0</th>\n",
       "      <td>신당동</td>\n",
       "      <td>5.0</td>\n",
       "      <td>21</td>\n",
       "      <td>23</td>\n",
       "      <td>2.0</td>\n",
       "      <td>544408.19</td>\n",
       "      <td>3.401794</td>\n",
       "    </tr>\n",
       "    <tr>\n",
       "      <th>1</th>\n",
       "      <td>명동</td>\n",
       "      <td>3.0</td>\n",
       "      <td>49</td>\n",
       "      <td>48</td>\n",
       "      <td>3.0</td>\n",
       "      <td>1053644.29</td>\n",
       "      <td>3.201584</td>\n",
       "    </tr>\n",
       "    <tr>\n",
       "      <th>2</th>\n",
       "      <td>을지로동</td>\n",
       "      <td>3.0</td>\n",
       "      <td>32</td>\n",
       "      <td>20</td>\n",
       "      <td>2.0</td>\n",
       "      <td>599091.52</td>\n",
       "      <td>3.164674</td>\n",
       "    </tr>\n",
       "    <tr>\n",
       "      <th>3</th>\n",
       "      <td>황학동</td>\n",
       "      <td>2.0</td>\n",
       "      <td>9</td>\n",
       "      <td>12</td>\n",
       "      <td>1.0</td>\n",
       "      <td>328678.23</td>\n",
       "      <td>3.120251</td>\n",
       "    </tr>\n",
       "    <tr>\n",
       "      <th>4</th>\n",
       "      <td>신당5동</td>\n",
       "      <td>2.0</td>\n",
       "      <td>11</td>\n",
       "      <td>6</td>\n",
       "      <td>1.0</td>\n",
       "      <td>321347.03</td>\n",
       "      <td>2.844458</td>\n",
       "    </tr>\n",
       "    <tr>\n",
       "      <th>5</th>\n",
       "      <td>청구동</td>\n",
       "      <td>2.0</td>\n",
       "      <td>5</td>\n",
       "      <td>4</td>\n",
       "      <td>1.0</td>\n",
       "      <td>336949.37</td>\n",
       "      <td>2.668845</td>\n",
       "    </tr>\n",
       "    <tr>\n",
       "      <th>6</th>\n",
       "      <td>회현동</td>\n",
       "      <td>1.0</td>\n",
       "      <td>42</td>\n",
       "      <td>39</td>\n",
       "      <td>1.0</td>\n",
       "      <td>847351.57</td>\n",
       "      <td>2.638725</td>\n",
       "    </tr>\n",
       "    <tr>\n",
       "      <th>7</th>\n",
       "      <td>중림동</td>\n",
       "      <td>2.0</td>\n",
       "      <td>23</td>\n",
       "      <td>12</td>\n",
       "      <td>1.0</td>\n",
       "      <td>482329.92</td>\n",
       "      <td>2.575745</td>\n",
       "    </tr>\n",
       "    <tr>\n",
       "      <th>8</th>\n",
       "      <td>소공동</td>\n",
       "      <td>2.0</td>\n",
       "      <td>28</td>\n",
       "      <td>36</td>\n",
       "      <td>1.0</td>\n",
       "      <td>893419.62</td>\n",
       "      <td>2.503608</td>\n",
       "    </tr>\n",
       "    <tr>\n",
       "      <th>9</th>\n",
       "      <td>약수동</td>\n",
       "      <td>2.0</td>\n",
       "      <td>8</td>\n",
       "      <td>4</td>\n",
       "      <td>1.0</td>\n",
       "      <td>490077.51</td>\n",
       "      <td>2.212958</td>\n",
       "    </tr>\n",
       "    <tr>\n",
       "      <th>10</th>\n",
       "      <td>광희동</td>\n",
       "      <td>2.0</td>\n",
       "      <td>22</td>\n",
       "      <td>16</td>\n",
       "      <td>1.0</td>\n",
       "      <td>741195.05</td>\n",
       "      <td>2.203865</td>\n",
       "    </tr>\n",
       "    <tr>\n",
       "      <th>11</th>\n",
       "      <td>월계3동</td>\n",
       "      <td>3.0</td>\n",
       "      <td>23</td>\n",
       "      <td>12</td>\n",
       "      <td>2.0</td>\n",
       "      <td>1142796.41</td>\n",
       "      <td>2.133130</td>\n",
       "    </tr>\n",
       "    <tr>\n",
       "      <th>12</th>\n",
       "      <td>다산동</td>\n",
       "      <td>1.0</td>\n",
       "      <td>5</td>\n",
       "      <td>2</td>\n",
       "      <td>1.0</td>\n",
       "      <td>521341.19</td>\n",
       "      <td>2.054236</td>\n",
       "    </tr>\n",
       "    <tr>\n",
       "      <th>13</th>\n",
       "      <td>필동</td>\n",
       "      <td>3.0</td>\n",
       "      <td>16</td>\n",
       "      <td>6</td>\n",
       "      <td>2.0</td>\n",
       "      <td>1173378.79</td>\n",
       "      <td>1.979975</td>\n",
       "    </tr>\n",
       "    <tr>\n",
       "      <th>14</th>\n",
       "      <td>상계10동</td>\n",
       "      <td>1.0</td>\n",
       "      <td>19</td>\n",
       "      <td>7</td>\n",
       "      <td>1.0</td>\n",
       "      <td>812666.82</td>\n",
       "      <td>1.822744</td>\n",
       "    </tr>\n",
       "    <tr>\n",
       "      <th>15</th>\n",
       "      <td>중계2.3동</td>\n",
       "      <td>1.0</td>\n",
       "      <td>25</td>\n",
       "      <td>8</td>\n",
       "      <td>1.0</td>\n",
       "      <td>917459.99</td>\n",
       "      <td>1.746970</td>\n",
       "    </tr>\n",
       "    <tr>\n",
       "      <th>16</th>\n",
       "      <td>공릉1동</td>\n",
       "      <td>1.0</td>\n",
       "      <td>49</td>\n",
       "      <td>16</td>\n",
       "      <td>1.0</td>\n",
       "      <td>1224521.56</td>\n",
       "      <td>1.714621</td>\n",
       "    </tr>\n",
       "    <tr>\n",
       "      <th>17</th>\n",
       "      <td>상계6.7동</td>\n",
       "      <td>2.0</td>\n",
       "      <td>30</td>\n",
       "      <td>13</td>\n",
       "      <td>1.0</td>\n",
       "      <td>1434588.18</td>\n",
       "      <td>1.516678</td>\n",
       "    </tr>\n",
       "    <tr>\n",
       "      <th>18</th>\n",
       "      <td>하계1동</td>\n",
       "      <td>1.0</td>\n",
       "      <td>47</td>\n",
       "      <td>12</td>\n",
       "      <td>1.0</td>\n",
       "      <td>1522251.10</td>\n",
       "      <td>1.449879</td>\n",
       "    </tr>\n",
       "    <tr>\n",
       "      <th>19</th>\n",
       "      <td>동화동</td>\n",
       "      <td>0.0</td>\n",
       "      <td>3</td>\n",
       "      <td>6</td>\n",
       "      <td>0.0</td>\n",
       "      <td>328213.50</td>\n",
       "      <td>1.352064</td>\n",
       "    </tr>\n",
       "    <tr>\n",
       "      <th>20</th>\n",
       "      <td>중계4동</td>\n",
       "      <td>1.0</td>\n",
       "      <td>21</td>\n",
       "      <td>9</td>\n",
       "      <td>1.0</td>\n",
       "      <td>1831140.50</td>\n",
       "      <td>1.258456</td>\n",
       "    </tr>\n",
       "    <tr>\n",
       "      <th>21</th>\n",
       "      <td>하계2동</td>\n",
       "      <td>0.0</td>\n",
       "      <td>12</td>\n",
       "      <td>7</td>\n",
       "      <td>0.0</td>\n",
       "      <td>502928.23</td>\n",
       "      <td>1.179766</td>\n",
       "    </tr>\n",
       "    <tr>\n",
       "      <th>22</th>\n",
       "      <td>상계2동</td>\n",
       "      <td>0.0</td>\n",
       "      <td>24</td>\n",
       "      <td>8</td>\n",
       "      <td>0.0</td>\n",
       "      <td>624377.16</td>\n",
       "      <td>1.131935</td>\n",
       "    </tr>\n",
       "    <tr>\n",
       "      <th>23</th>\n",
       "      <td>월계1동</td>\n",
       "      <td>0.0</td>\n",
       "      <td>36</td>\n",
       "      <td>13</td>\n",
       "      <td>0.0</td>\n",
       "      <td>1166227.69</td>\n",
       "      <td>1.055796</td>\n",
       "    </tr>\n",
       "    <tr>\n",
       "      <th>24</th>\n",
       "      <td>중계1동</td>\n",
       "      <td>0.0</td>\n",
       "      <td>15</td>\n",
       "      <td>5</td>\n",
       "      <td>0.0</td>\n",
       "      <td>628062.77</td>\n",
       "      <td>0.892244</td>\n",
       "    </tr>\n",
       "    <tr>\n",
       "      <th>25</th>\n",
       "      <td>상계9동</td>\n",
       "      <td>0.0</td>\n",
       "      <td>24</td>\n",
       "      <td>6</td>\n",
       "      <td>0.0</td>\n",
       "      <td>753785.09</td>\n",
       "      <td>0.892179</td>\n",
       "    </tr>\n",
       "    <tr>\n",
       "      <th>26</th>\n",
       "      <td>상계8동</td>\n",
       "      <td>0.0</td>\n",
       "      <td>13</td>\n",
       "      <td>5</td>\n",
       "      <td>0.0</td>\n",
       "      <td>673099.72</td>\n",
       "      <td>0.861877</td>\n",
       "    </tr>\n",
       "    <tr>\n",
       "      <th>27</th>\n",
       "      <td>상계5동</td>\n",
       "      <td>0.0</td>\n",
       "      <td>21</td>\n",
       "      <td>4</td>\n",
       "      <td>0.0</td>\n",
       "      <td>567542.62</td>\n",
       "      <td>0.839519</td>\n",
       "    </tr>\n",
       "    <tr>\n",
       "      <th>28</th>\n",
       "      <td>상계1동</td>\n",
       "      <td>1.0</td>\n",
       "      <td>45</td>\n",
       "      <td>6</td>\n",
       "      <td>1.0</td>\n",
       "      <td>5192495.41</td>\n",
       "      <td>0.707618</td>\n",
       "    </tr>\n",
       "    <tr>\n",
       "      <th>29</th>\n",
       "      <td>장충동</td>\n",
       "      <td>0.0</td>\n",
       "      <td>12</td>\n",
       "      <td>6</td>\n",
       "      <td>0.0</td>\n",
       "      <td>1310554.91</td>\n",
       "      <td>0.676625</td>\n",
       "    </tr>\n",
       "    <tr>\n",
       "      <th>30</th>\n",
       "      <td>상계3.4동</td>\n",
       "      <td>1.0</td>\n",
       "      <td>15</td>\n",
       "      <td>3</td>\n",
       "      <td>1.0</td>\n",
       "      <td>5749582.10</td>\n",
       "      <td>0.632479</td>\n",
       "    </tr>\n",
       "    <tr>\n",
       "      <th>31</th>\n",
       "      <td>중계본동</td>\n",
       "      <td>0.0</td>\n",
       "      <td>27</td>\n",
       "      <td>5</td>\n",
       "      <td>0.0</td>\n",
       "      <td>1867572.70</td>\n",
       "      <td>0.517424</td>\n",
       "    </tr>\n",
       "    <tr>\n",
       "      <th>32</th>\n",
       "      <td>월계2동</td>\n",
       "      <td>0.0</td>\n",
       "      <td>28</td>\n",
       "      <td>4</td>\n",
       "      <td>0.0</td>\n",
       "      <td>1980238.59</td>\n",
       "      <td>0.449439</td>\n",
       "    </tr>\n",
       "    <tr>\n",
       "      <th>33</th>\n",
       "      <td>공릉2동</td>\n",
       "      <td>0.0</td>\n",
       "      <td>59</td>\n",
       "      <td>11</td>\n",
       "      <td>0.0</td>\n",
       "      <td>7006762.92</td>\n",
       "      <td>0.396221</td>\n",
       "    </tr>\n",
       "  </tbody>\n",
       "</table>\n",
       "</div>"
      ],
      "text/plain": [
       "   HDONG_NM  subway_station_num  bus_station_num  bus_route_num  \\\n",
       "0       신당동                 5.0               21             23   \n",
       "1        명동                 3.0               49             48   \n",
       "2      을지로동                 3.0               32             20   \n",
       "3       황학동                 2.0                9             12   \n",
       "4      신당5동                 2.0               11              6   \n",
       "5       청구동                 2.0                5              4   \n",
       "6       회현동                 1.0               42             39   \n",
       "7       중림동                 2.0               23             12   \n",
       "8       소공동                 2.0               28             36   \n",
       "9       약수동                 2.0                8              4   \n",
       "10      광희동                 2.0               22             16   \n",
       "11     월계3동                 3.0               23             12   \n",
       "12      다산동                 1.0                5              2   \n",
       "13       필동                 3.0               16              6   \n",
       "14    상계10동                 1.0               19              7   \n",
       "15   중계2.3동                 1.0               25              8   \n",
       "16     공릉1동                 1.0               49             16   \n",
       "17   상계6.7동                 2.0               30             13   \n",
       "18     하계1동                 1.0               47             12   \n",
       "19      동화동                 0.0                3              6   \n",
       "20     중계4동                 1.0               21              9   \n",
       "21     하계2동                 0.0               12              7   \n",
       "22     상계2동                 0.0               24              8   \n",
       "23     월계1동                 0.0               36             13   \n",
       "24     중계1동                 0.0               15              5   \n",
       "25     상계9동                 0.0               24              6   \n",
       "26     상계8동                 0.0               13              5   \n",
       "27     상계5동                 0.0               21              4   \n",
       "28     상계1동                 1.0               45              6   \n",
       "29      장충동                 0.0               12              6   \n",
       "30   상계3.4동                 1.0               15              3   \n",
       "31     중계본동                 0.0               27              5   \n",
       "32     월계2동                 0.0               28              4   \n",
       "33     공릉2동                 0.0               59             11   \n",
       "\n",
       "    subway_route_num        AREA      conv  \n",
       "0                2.0   544408.19  3.401794  \n",
       "1                3.0  1053644.29  3.201584  \n",
       "2                2.0   599091.52  3.164674  \n",
       "3                1.0   328678.23  3.120251  \n",
       "4                1.0   321347.03  2.844458  \n",
       "5                1.0   336949.37  2.668845  \n",
       "6                1.0   847351.57  2.638725  \n",
       "7                1.0   482329.92  2.575745  \n",
       "8                1.0   893419.62  2.503608  \n",
       "9                1.0   490077.51  2.212958  \n",
       "10               1.0   741195.05  2.203865  \n",
       "11               2.0  1142796.41  2.133130  \n",
       "12               1.0   521341.19  2.054236  \n",
       "13               2.0  1173378.79  1.979975  \n",
       "14               1.0   812666.82  1.822744  \n",
       "15               1.0   917459.99  1.746970  \n",
       "16               1.0  1224521.56  1.714621  \n",
       "17               1.0  1434588.18  1.516678  \n",
       "18               1.0  1522251.10  1.449879  \n",
       "19               0.0   328213.50  1.352064  \n",
       "20               1.0  1831140.50  1.258456  \n",
       "21               0.0   502928.23  1.179766  \n",
       "22               0.0   624377.16  1.131935  \n",
       "23               0.0  1166227.69  1.055796  \n",
       "24               0.0   628062.77  0.892244  \n",
       "25               0.0   753785.09  0.892179  \n",
       "26               0.0   673099.72  0.861877  \n",
       "27               0.0   567542.62  0.839519  \n",
       "28               1.0  5192495.41  0.707618  \n",
       "29               0.0  1310554.91  0.676625  \n",
       "30               1.0  5749582.10  0.632479  \n",
       "31               0.0  1867572.70  0.517424  \n",
       "32               0.0  1980238.59  0.449439  \n",
       "33               0.0  7006762.92  0.396221  "
      ]
     },
     "execution_count": 52,
     "metadata": {},
     "output_type": "execute_result"
    }
   ],
   "source": [
    "convenience_index"
   ]
  },
  {
   "cell_type": "markdown",
   "metadata": {},
   "source": [
    "## MCLP MODELING"
   ]
  },
  {
   "cell_type": "markdown",
   "metadata": {},
   "source": [
    "$\\underset{h \\subset H}{\\operatorname{argmax}} (\\sum_{h^* \\in h} L(h^*) + C(h^*) \\cdot adjL(h^*))$ "
   ]
  },
  {
   "cell_type": "markdown",
   "metadata": {},
   "source": [
    "$L(h^*) : h^*$행정동의 생활인구 제곱근  \n",
    "$C(h^*) : h^*$행정동의 교통편의성 지수 제곱근   \n",
    "$adjL(h^*): h^*$행정동의 인접행정동들의 생활인구합 제곱근   "
   ]
  },
  {
   "cell_type": "code",
   "execution_count": 129,
   "metadata": {
    "ExecuteTime": {
     "end_time": "2020-09-11T07:56:12.536212Z",
     "start_time": "2020-09-11T07:56:12.504123Z"
    }
   },
   "outputs": [
    {
     "name": "stderr",
     "output_type": "stream",
     "text": [
      "Finding Adjacent Dongs: 34it [00:00, 1407.47it/s]\n"
     ]
    }
   ],
   "source": [
    "HDONGS=adjacent_dist.columns.tolist()\n",
    "adjacent_dong_dict = {}\n",
    "    \n",
    "for i,dong in tqdm(enumerate(HDONGS), desc='Finding Adjacent Dongs'):\n",
    "    adjacent_dong_dict[dong] = list(adjacent_dist.loc[adjacent_dist[dong]==0,HDONGS[i]].drop(dong).index)"
   ]
  },
  {
   "cell_type": "code",
   "execution_count": 37,
   "metadata": {
    "ExecuteTime": {
     "end_time": "2020-09-12T08:37:41.171346Z",
     "start_time": "2020-09-12T08:37:41.159848Z"
    }
   },
   "outputs": [],
   "source": [
    "pop_dict=dict(living_population.loc[(living_population.dayofweek==0) & (living_population.Covid_class=='A') & (living_population.variable=='3059')].set_index('HDNG_NM')['value'])\n",
    "conv_dict=dict(convenience_index.set_index('HDONG_NM')['conv'])"
   ]
  },
  {
   "cell_type": "code",
   "execution_count": 11,
   "metadata": {
    "ExecuteTime": {
     "end_time": "2020-09-12T05:53:06.869653Z",
     "start_time": "2020-09-12T05:53:06.865653Z"
    }
   },
   "outputs": [],
   "source": [
    "import copy"
   ]
  },
  {
   "cell_type": "code",
   "execution_count": 38,
   "metadata": {
    "ExecuteTime": {
     "end_time": "2020-09-12T08:37:41.934922Z",
     "start_time": "2020-09-12T08:37:41.855194Z"
    }
   },
   "outputs": [],
   "source": [
    "def MCLP(dist_file, population_file, convenience_file, distance='adjacent', N=5, covid_class='A', Ages='3059'):\n",
    "    HDONGS=dist_file.columns.tolist()\n",
    "    #all_cases = list(combinations(HDONGS,N))\n",
    "    \n",
    "    # 평일 생활인구, 주말 생활인구\n",
    "    weekday_living_pop_dict = dict(population_file.loc[(population_file.dayofweek==0) & (population_file.Covid_class==covid_class) & (population_file.variable==Ages)].set_index('HDNG_NM')['value'])\n",
    "    weekend_living_pop_dict = dict(population_file.loc[(population_file.dayofweek==1) & (population_file.Covid_class==covid_class) & (population_file.variable==Ages)].set_index('HDNG_NM')['value'])\n",
    "    \n",
    "    conv_dict = dict(convenience_file.set_index(['HDONG_NM'])['conv'])\n",
    "    \n",
    "    \"\"\"\n",
    "    # case안의 행정동끼리는 인접하지 않도록 filtering\n",
    "    filtered_case = []\n",
    "    \n",
    "    for case in tqdm(all_cases, desc='Filtering Cases'):\n",
    "        if sum(sum((dist_file.loc[case,case]==0).values)) == N:\n",
    "            filtered_case.append(case)\n",
    "    \"\"\"\n",
    "    \n",
    "    #각 행정동별 인접 행정동\n",
    "    adjacent_dong_dict = {}\n",
    "    \n",
    "    for dong in tqdm(HDONGS, desc='Finding Adjacent Dongs'):\n",
    "        adjacent_dong_dict[dong] = list(dist_file.loc[dist_file[dong]==0, dong].drop(dong).index)\n",
    "    \n",
    "    weekday_HDONG = []\n",
    "    weekend_HDONG = []\n",
    "    \n",
    "    adjacent_dong_dict_copy = copy.deepcopy(adjacent_dong_dict)\n",
    "    HDONGS_copy = copy.deepcopy(HDONGS)\n",
    "    \n",
    "    for i in trange(N, desc='Getting HDONG [Weekday]'):\n",
    "        if i != 0:\n",
    "            adjacent_dong_dict_copy = {}\n",
    "            for dong in HDONGS_copy:\n",
    "                tmp_df = dist_file.loc[HDONGS_copy,HDONGS_copy]\n",
    "                adjacent_dong_dict_copy[dong] = list(tmp_df.loc[tmp_df[dong]==0, dong].drop(dong).index)\n",
    "                \n",
    "                \n",
    "        hdong = HDONGS_copy[np.argmax([weekday_living_pop_dict.get(dong) + (conv_dict.get(dong)*(sum([weekday_living_pop_dict.get(adjacent_dong) for adjacent_dong in adjacent_dongs])))\n",
    "                           for dong, adjacent_dongs in adjacent_dong_dict_copy.items()])]\n",
    "        \n",
    "        weekday_HDONG.append(hdong)\n",
    "\n",
    "        drop_dongs = adjacent_dong_dict_copy.get(hdong)\n",
    "        drop_dongs.append(hdong)\n",
    "        #print(list(adjacent_dong_dict_copy.keys()))\n",
    "        \n",
    "        for dong in drop_dongs:\n",
    "            adjacent_dong_dict_copy.pop(dong)\n",
    "            HDONGS_copy.remove(dong)\n",
    "        \n",
    "    adjacent_dong_dict_copy = copy.deepcopy(adjacent_dong_dict)\n",
    "    HDONGS_copy = copy.deepcopy(HDONGS)\n",
    "    \n",
    "    for i in trange(N, desc='Getting HDONG [Weekend]'):\n",
    "        if i != 0:\n",
    "            adjacent_dong_dict_copy = {}\n",
    "            for dong in HDONGS_copy:\n",
    "                tmp_df = dist_file.loc[HDONGS_copy,HDONGS_copy]\n",
    "                adjacent_dong_dict_copy[dong] = list(tmp_df.loc[tmp_df[dong]==0, dong].drop(dong).index)\n",
    "                \n",
    "                \n",
    "        hdong = HDONGS_copy[np.argmax([weekend_living_pop_dict.get(dong) + (conv_dict.get(dong)*(sum([weekend_living_pop_dict.get(adjacent_dong) for adjacent_dong in adjacent_dongs])))\n",
    "                           for dong, adjacent_dongs in adjacent_dong_dict_copy.items()])]\n",
    "        \n",
    "        weekend_HDONG.append(hdong)\n",
    "\n",
    "        drop_dongs = adjacent_dong_dict_copy.get(hdong)\n",
    "        drop_dongs.append(hdong)\n",
    "        #print(list(adjacent_dong_dict_copy.keys()))\n",
    "        \n",
    "        for dong in drop_dongs:\n",
    "            adjacent_dong_dict_copy.pop(dong)\n",
    "            HDONGS_copy.remove(dong)\n",
    "            \n",
    "    return weekday_HDONG, weekend_HDONG"
   ]
  },
  {
   "cell_type": "code",
   "execution_count": 39,
   "metadata": {
    "ExecuteTime": {
     "end_time": "2020-09-12T08:37:42.625292Z",
     "start_time": "2020-09-12T08:37:42.217328Z"
    }
   },
   "outputs": [
    {
     "name": "stderr",
     "output_type": "stream",
     "text": [
      "Finding Adjacent Dongs: 100%|████████████████████████████████████████████████████████| 34/34 [00:00<00:00, 1045.08it/s]\n",
      "Getting HDONG [Weekday]: 100%|███████████████████████████████████████████████████████████| 4/4 [00:00<00:00, 24.82it/s]\n",
      "Getting HDONG [Weekend]: 100%|███████████████████████████████████████████████████████████| 4/4 [00:00<00:00, 21.59it/s]\n"
     ]
    },
    {
     "data": {
      "text/plain": [
       "(['신당동', '명동', '월계3동', '상계2동'], ['신당동', '월계3동', '명동', '상계2동'])"
      ]
     },
     "execution_count": 39,
     "metadata": {},
     "output_type": "execute_result"
    }
   ],
   "source": [
    "MCLP(adjacent_dist, living_population, convenience_index,Ages='60U', N=4)"
   ]
  },
  {
   "cell_type": "code",
   "execution_count": 40,
   "metadata": {
    "ExecuteTime": {
     "end_time": "2020-09-12T08:37:47.839696Z",
     "start_time": "2020-09-12T08:37:47.527864Z"
    }
   },
   "outputs": [
    {
     "name": "stderr",
     "output_type": "stream",
     "text": [
      "Finding Adjacent Dongs: 100%|█████████████████████████████████████████████████████████| 34/34 [00:00<00:00, 895.86it/s]\n",
      "Getting HDONG [Weekday]: 100%|███████████████████████████████████████████████████████████| 4/4 [00:00<00:00, 27.93it/s]\n",
      "Getting HDONG [Weekend]: 100%|███████████████████████████████████████████████████████████| 4/4 [00:00<00:00, 36.59it/s]\n"
     ]
    },
    {
     "data": {
      "text/plain": [
       "(['신당동', '명동', '월계3동', '상계2동'], ['신당동', '월계3동', '명동', '상계2동'])"
      ]
     },
     "execution_count": 40,
     "metadata": {},
     "output_type": "execute_result"
    }
   ],
   "source": [
    "MCLP(adjacent_dist, living_population, convenience_index, N=4)"
   ]
  },
  {
   "cell_type": "code",
   "execution_count": 41,
   "metadata": {
    "ExecuteTime": {
     "end_time": "2020-09-12T08:37:48.422838Z",
     "start_time": "2020-09-12T08:37:48.049912Z"
    }
   },
   "outputs": [
    {
     "name": "stderr",
     "output_type": "stream",
     "text": [
      "Finding Adjacent Dongs: 100%|█████████████████████████████████████████████████████████| 34/34 [00:00<00:00, 653.41it/s]\n",
      "Getting HDONG [Weekday]: 100%|███████████████████████████████████████████████████████████| 4/4 [00:00<00:00, 26.70it/s]\n",
      "Getting HDONG [Weekend]: 100%|███████████████████████████████████████████████████████████| 4/4 [00:00<00:00, 29.41it/s]\n"
     ]
    },
    {
     "data": {
      "text/plain": [
       "(['신당동', '명동', '월계3동', '하계1동'], ['신당동', '월계3동', '명동', '하계1동'])"
      ]
     },
     "execution_count": 41,
     "metadata": {},
     "output_type": "execute_result"
    }
   ],
   "source": [
    "MCLP(adjacent_dist, living_population, convenience_index,Ages='30L', N=4)"
   ]
  },
  {
   "cell_type": "code",
   "execution_count": 49,
   "metadata": {
    "ExecuteTime": {
     "end_time": "2020-09-12T11:17:09.376137Z",
     "start_time": "2020-09-12T11:17:06.480492Z"
    }
   },
   "outputs": [
    {
     "name": "stderr",
     "output_type": "stream",
     "text": [
      "Finding Adjacent Dongs: 100%|████████████████████████████████████████████████████████| 34/34 [00:00<00:00, 1623.31it/s]\n",
      "Getting HDONG [Weekday]: 100%|███████████████████████████████████████████████████████████| 4/4 [00:00<00:00, 50.16it/s]\n",
      "Getting HDONG [Weekend]: 100%|███████████████████████████████████████████████████████████| 4/4 [00:00<00:00, 50.75it/s]\n",
      "Finding Adjacent Dongs: 100%|████████████████████████████████████████████████████████| 34/34 [00:00<00:00, 1707.64it/s]\n",
      "Getting HDONG [Weekday]: 100%|███████████████████████████████████████████████████████████| 4/4 [00:00<00:00, 49.49it/s]\n",
      "Getting HDONG [Weekend]: 100%|███████████████████████████████████████████████████████████| 4/4 [00:00<00:00, 47.73it/s]\n",
      "Finding Adjacent Dongs: 100%|████████████████████████████████████████████████████████| 34/34 [00:00<00:00, 1704.45it/s]\n",
      "Getting HDONG [Weekday]: 100%|███████████████████████████████████████████████████████████| 4/4 [00:00<00:00, 50.13it/s]\n",
      "Getting HDONG [Weekend]: 100%|███████████████████████████████████████████████████████████| 4/4 [00:00<00:00, 49.49it/s]\n",
      "Finding Adjacent Dongs: 100%|████████████████████████████████████████████████████████| 34/34 [00:00<00:00, 1704.55it/s]\n",
      "Getting HDONG [Weekday]: 100%|███████████████████████████████████████████████████████████| 4/4 [00:00<00:00, 49.73it/s]\n",
      "Getting HDONG [Weekend]: 100%|███████████████████████████████████████████████████████████| 4/4 [00:00<00:00, 50.42it/s]\n",
      "Finding Adjacent Dongs: 100%|████████████████████████████████████████████████████████| 34/34 [00:00<00:00, 1704.41it/s]\n",
      "Getting HDONG [Weekday]: 100%|███████████████████████████████████████████████████████████| 4/4 [00:00<00:00, 50.11it/s]\n",
      "Getting HDONG [Weekend]: 100%|███████████████████████████████████████████████████████████| 4/4 [00:00<00:00, 50.77it/s]\n",
      "Finding Adjacent Dongs: 100%|████████████████████████████████████████████████████████| 34/34 [00:00<00:00, 1797.68it/s]\n",
      "Getting HDONG [Weekday]: 100%|███████████████████████████████████████████████████████████| 4/4 [00:00<00:00, 48.30it/s]\n",
      "Getting HDONG [Weekend]: 100%|███████████████████████████████████████████████████████████| 4/4 [00:00<00:00, 48.82it/s]\n",
      "Finding Adjacent Dongs: 100%|████████████████████████████████████████████████████████| 34/34 [00:00<00:00, 1623.44it/s]\n",
      "Getting HDONG [Weekday]: 100%|███████████████████████████████████████████████████████████| 4/4 [00:00<00:00, 48.72it/s]\n",
      "Getting HDONG [Weekend]: 100%|███████████████████████████████████████████████████████████| 4/4 [00:00<00:00, 49.78it/s]\n",
      "Finding Adjacent Dongs: 100%|████████████████████████████████████████████████████████| 34/34 [00:00<00:00, 1623.39it/s]\n",
      "Getting HDONG [Weekday]: 100%|███████████████████████████████████████████████████████████| 4/4 [00:00<00:00, 51.42it/s]\n",
      "Getting HDONG [Weekend]: 100%|███████████████████████████████████████████████████████████| 4/4 [00:00<00:00, 51.40it/s]\n",
      "Finding Adjacent Dongs: 100%|████████████████████████████████████████████████████████| 34/34 [00:00<00:00, 1701.60it/s]\n",
      "Getting HDONG [Weekday]: 100%|███████████████████████████████████████████████████████████| 4/4 [00:00<00:00, 48.28it/s]\n",
      "Getting HDONG [Weekend]: 100%|███████████████████████████████████████████████████████████| 4/4 [00:00<00:00, 48.30it/s]\n",
      "Finding Adjacent Dongs: 100%|████████████████████████████████████████████████████████| 34/34 [00:00<00:00, 1684.54it/s]\n",
      "Getting HDONG [Weekday]: 100%|███████████████████████████████████████████████████████████| 4/4 [00:00<00:00, 48.91it/s]\n",
      "Getting HDONG [Weekend]: 100%|███████████████████████████████████████████████████████████| 4/4 [00:00<00:00, 49.52it/s]\n",
      "Finding Adjacent Dongs: 100%|████████████████████████████████████████████████████████| 34/34 [00:00<00:00, 1701.81it/s]\n",
      "Getting HDONG [Weekday]: 100%|███████████████████████████████████████████████████████████| 4/4 [00:00<00:00, 48.34it/s]\n",
      "Getting HDONG [Weekend]: 100%|███████████████████████████████████████████████████████████| 4/4 [00:00<00:00, 50.15it/s]\n",
      "Finding Adjacent Dongs: 100%|████████████████████████████████████████████████████████| 34/34 [00:00<00:00, 1620.86it/s]\n",
      "Getting HDONG [Weekday]: 100%|███████████████████████████████████████████████████████████| 4/4 [00:00<00:00, 48.28it/s]\n",
      "Getting HDONG [Weekend]: 100%|███████████████████████████████████████████████████████████| 4/4 [00:00<00:00, 50.75it/s]\n",
      "Finding Adjacent Dongs: 100%|████████████████████████████████████████████████████████| 34/34 [00:00<00:00, 1706.25it/s]\n",
      "Getting HDONG [Weekday]: 100%|███████████████████████████████████████████████████████████| 4/4 [00:00<00:00, 48.89it/s]\n",
      "Getting HDONG [Weekend]: 100%|███████████████████████████████████████████████████████████| 4/4 [00:00<00:00, 48.32it/s]\n",
      "Finding Adjacent Dongs: 100%|████████████████████████████████████████████████████████| 34/34 [00:00<00:00, 1622.96it/s]\n",
      "Getting HDONG [Weekday]: 100%|███████████████████████████████████████████████████████████| 4/4 [00:00<00:00, 49.50it/s]\n",
      "Getting HDONG [Weekend]: 100%|███████████████████████████████████████████████████████████| 4/4 [00:00<00:00, 50.71it/s]\n",
      "Finding Adjacent Dongs: 100%|████████████████████████████████████████████████████████| 34/34 [00:00<00:00, 1794.02it/s]\n",
      "Getting HDONG [Weekday]: 100%|███████████████████████████████████████████████████████████| 4/4 [00:00<00:00, 49.83it/s]\n",
      "Getting HDONG [Weekend]: 100%|███████████████████████████████████████████████████████████| 4/4 [00:00<00:00, 50.36it/s]\n"
     ]
    }
   ],
   "source": [
    "result = {}\n",
    "for class_ in living_population.Covid_class.unique():\n",
    "    for var in living_population.variable.unique():\n",
    "        result[(class_,var)] = MCLP(adjacent_dist, living_population, convenience_index, Ages=var, covid_class=class_, N=4)"
   ]
  },
  {
   "cell_type": "code",
   "execution_count": 50,
   "metadata": {
    "ExecuteTime": {
     "end_time": "2020-09-12T11:17:13.278404Z",
     "start_time": "2020-09-12T11:17:13.273417Z"
    }
   },
   "outputs": [
    {
     "data": {
      "text/plain": [
       "{('A', '3059'): (['신당동', '명동', '월계3동', '상계2동'], ['신당동', '월계3동', '명동', '상계2동']),\n",
       " ('A', '30L'): (['신당동', '명동', '월계3동', '하계1동'], ['신당동', '월계3동', '명동', '하계1동']),\n",
       " ('A', '60U'): (['신당동', '명동', '월계3동', '상계2동'], ['신당동', '월계3동', '명동', '상계2동']),\n",
       " ('B', '3059'): (['신당동', '명동', '월계3동', '상계2동'], ['신당동', '월계3동', '명동', '상계2동']),\n",
       " ('B', '30L'): (['신당동', '월계3동', '명동', '하계1동'], ['신당동', '월계3동', '명동', '하계1동']),\n",
       " ('B', '60U'): (['신당동', '명동', '월계3동', '상계2동'], ['신당동', '월계3동', '명동', '상계2동']),\n",
       " ('C', '3059'): (['신당동', '명동', '월계3동', '상계2동'], ['신당동', '월계3동', '명동', '상계2동']),\n",
       " ('C', '30L'): (['신당동', '월계3동', '명동', '하계1동'], ['신당동', '월계3동', '명동', '하계1동']),\n",
       " ('C', '60U'): (['신당동', '명동', '월계3동', '상계2동'], ['신당동', '월계3동', '명동', '상계2동']),\n",
       " ('D', '3059'): (['신당동', '명동', '월계3동', '상계2동'], ['신당동', '월계3동', '명동', '상계2동']),\n",
       " ('D', '30L'): (['신당동', '월계3동', '명동', '하계1동'], ['신당동', '월계3동', '명동', '하계1동']),\n",
       " ('D', '60U'): (['신당동', '명동', '월계3동', '상계2동'], ['신당동', '월계3동', '명동', '상계2동']),\n",
       " ('E', '3059'): (['신당동', '명동', '월계3동', '상계2동'], ['신당동', '월계3동', '명동', '상계2동']),\n",
       " ('E', '30L'): (['신당동', '월계3동', '명동', '하계1동'], ['신당동', '월계3동', '명동', '하계1동']),\n",
       " ('E', '60U'): (['신당동', '명동', '월계3동', '상계2동'], ['신당동', '월계3동', '명동', '상계2동'])}"
      ]
     },
     "execution_count": 50,
     "metadata": {},
     "output_type": "execute_result"
    }
   ],
   "source": [
    "result"
   ]
  },
  {
   "cell_type": "code",
   "execution_count": 21,
   "metadata": {
    "ExecuteTime": {
     "end_time": "2020-09-15T12:36:40.098634Z",
     "start_time": "2020-09-15T12:36:40.094240Z"
    }
   },
   "outputs": [],
   "source": [
    "tmp_dict = {dong:0 for dong in adjacent_dist.columns}"
   ]
  },
  {
   "cell_type": "code",
   "execution_count": 23,
   "metadata": {
    "ExecuteTime": {
     "end_time": "2020-09-15T12:37:12.986376Z",
     "start_time": "2020-09-15T12:37:12.978398Z"
    }
   },
   "outputs": [
    {
     "data": {
      "text/plain": [
       "['공릉1동',\n",
       " '공릉2동',\n",
       " '상계10동',\n",
       " '상계1동',\n",
       " '상계2동',\n",
       " '상계3.4동',\n",
       " '상계5동',\n",
       " '상계6.7동',\n",
       " '상계8동',\n",
       " '상계9동',\n",
       " '월계1동',\n",
       " '월계2동',\n",
       " '월계3동',\n",
       " '중계1동',\n",
       " '중계2.3동',\n",
       " '중계4동',\n",
       " '중계본동',\n",
       " '하계1동',\n",
       " '하계2동',\n",
       " '광희동',\n",
       " '다산동',\n",
       " '동화동',\n",
       " '명동',\n",
       " '소공동',\n",
       " '신당5동',\n",
       " '신당동',\n",
       " '약수동',\n",
       " '을지로동',\n",
       " '장충동',\n",
       " '중림동',\n",
       " '청구동',\n",
       " '필동',\n",
       " '황학동',\n",
       " '회현동']"
      ]
     },
     "execution_count": 23,
     "metadata": {},
     "output_type": "execute_result"
    }
   ],
   "source": [
    "[key for key,val in tmp_dict.items() if val==0]"
   ]
  },
  {
   "cell_type": "code",
   "execution_count": null,
   "metadata": {},
   "outputs": [],
   "source": []
  },
  {
   "cell_type": "code",
   "execution_count": 20,
   "metadata": {
    "ExecuteTime": {
     "end_time": "2020-09-15T12:28:27.032959Z",
     "start_time": "2020-09-15T12:28:27.019495Z"
    }
   },
   "outputs": [
    {
     "data": {
      "text/plain": [
       "['소공동', '을지로동', '필동', '회현동']"
      ]
     },
     "execution_count": 20,
     "metadata": {},
     "output_type": "execute_result"
    }
   ],
   "source": [
    "list(adjacent_dist.loc[adjacent_dist['명동']==0, '명동'].drop('명동').index)"
   ]
  },
  {
   "cell_type": "code",
   "execution_count": null,
   "metadata": {},
   "outputs": [],
   "source": [
    "def MCLP(dist_file, population_file, convenience_file, distance='adjacent', N=5, covid_class='A', Ages='3059'):\n",
    "    HDONGS=dist_file.columns.tolist()\n",
    "    \n",
    "    # 평일 생활인구, 주말 생활인구\n",
    "    weekday_living_pop_dict = dict(population_file.loc[(population_file.dayofweek==0) & (population_file.Covid_class==covid_class) & (population_file.variable==Ages)].set_index('HDNG_NM')['value'])\n",
    "    weekend_living_pop_dict = dict(population_file.loc[(population_file.dayofweek==1) & (population_file.Covid_class==covid_class) & (population_file.variable==Ages)].set_index('HDNG_NM')['value'])\n",
    "    \n",
    "    conv_dict = dict(convenience_file.set_index(['HDONG_NM'])['conv'])\n",
    "    \n",
    "    considered_dong = {dong:0 for dong in HDONGS}\n",
    "    \n",
    "    \"\"\"\n",
    "    # case안의 행정동끼리는 인접하지 않도록 filtering\n",
    "    filtered_case = []\n",
    "    \n",
    "    for case in tqdm(all_cases, desc='Filtering Cases'):\n",
    "        if sum(sum((dist_file.loc[case,case]==0).values)) == N:\n",
    "            filtered_case.append(case)\n",
    "    \"\"\"\n",
    "    \n",
    "    #각 행정동별 인접 행정동\n",
    "    adjacent_dong_dict = {}\n",
    "    \n",
    "    for dong in tqdm(HDONGS, desc='Finding Adjacent Dongs'):\n",
    "        adjacent_dong_dict[dong] = list(dist_file.loc[dist_file[dong]==0, dong].drop(dong).index)\n",
    "    \n",
    "    weekday_HDONG = []\n",
    "    weekend_HDONG = []\n",
    "    \n",
    "    adjacent_dong_dict_copy = copy.deepcopy(adjacent_dong_dict)\n",
    "    HDONGS_copy = copy.deepcopy(HDONGS)\n",
    "    \n",
    "    for i in trange(N, desc='Getting HDONG [Weekday]'):\n",
    "        not_considered = [dong for dong,considered in considered_dong.items() if considered==0]\n",
    "        hdong = HDONGS_copy[np.argmax()]\n",
    "    \n",
    "    \n",
    "    for i in trange(N, desc='Getting HDONG [Weekday]'):\n",
    "        if i != 0:\n",
    "            adjacent_dong_dict_copy = {}\n",
    "            for dong in HDONGS_copy:\n",
    "                tmp_df = dist_file.loc[HDONGS_copy,HDONGS_copy]\n",
    "                adjacent_dong_dict_copy[dong] = list(tmp_df.loc[tmp_df[dong]==0, dong].drop(dong).index)\n",
    "                \n",
    "                \n",
    "        hdong = HDONGS_copy[np.argmax([weekday_living_pop_dict.get(dong) + (conv_dict.get(dong)*(sum([weekday_living_pop_dict.get(adjacent_dong) for adjacent_dong in adjacent_dongs])))\n",
    "                           for dong, adjacent_dongs in adjacent_dong_dict_copy.items()])]\n",
    "        \n",
    "        weekday_HDONG.append(hdong)\n",
    "\n",
    "        drop_dongs = adjacent_dong_dict_copy.get(hdong)\n",
    "        drop_dongs.append(hdong)\n",
    "        #print(list(adjacent_dong_dict_copy.keys()))\n",
    "        \n",
    "        for dong in drop_dongs:\n",
    "            adjacent_dong_dict_copy.pop(dong)\n",
    "            HDONGS_copy.remove(dong)\n",
    "        \n",
    "    adjacent_dong_dict_copy = copy.deepcopy(adjacent_dong_dict)\n",
    "    HDONGS_copy = copy.deepcopy(HDONGS)\n",
    "    \n",
    "    for i in trange(N, desc='Getting HDONG [Weekend]'):\n",
    "        if i != 0:\n",
    "            adjacent_dong_dict_copy = {}\n",
    "            for dong in HDONGS_copy:\n",
    "                tmp_df = dist_file.loc[HDONGS_copy,HDONGS_copy]\n",
    "                adjacent_dong_dict_copy[dong] = list(tmp_df.loc[tmp_df[dong]==0, dong].drop(dong).index)\n",
    "                \n",
    "                \n",
    "        hdong = HDONGS_copy[np.argmax([weekend_living_pop_dict.get(dong) + (conv_dict.get(dong)*(sum([weekend_living_pop_dict.get(adjacent_dong) for adjacent_dong in adjacent_dongs])))\n",
    "                           for dong, adjacent_dongs in adjacent_dong_dict_copy.items()])]\n",
    "        \n",
    "        weekend_HDONG.append(hdong)\n",
    "\n",
    "        drop_dongs = adjacent_dong_dict_copy.get(hdong)\n",
    "        drop_dongs.append(hdong)\n",
    "        #print(list(adjacent_dong_dict_copy.keys()))\n",
    "        \n",
    "        for dong in drop_dongs:\n",
    "            adjacent_dong_dict_copy.pop(dong)\n",
    "            HDONGS_copy.remove(dong)\n",
    "            \n",
    "    return weekday_HDONG, weekend_HDONG"
   ]
  }
 ],
 "metadata": {
  "kernelspec": {
   "display_name": "Python 3",
   "language": "python",
   "name": "python3"
  },
  "language_info": {
   "codemirror_mode": {
    "name": "ipython",
    "version": 3
   },
   "file_extension": ".py",
   "mimetype": "text/x-python",
   "name": "python",
   "nbconvert_exporter": "python",
   "pygments_lexer": "ipython3",
   "version": "3.7.2"
  },
  "toc": {
   "base_numbering": 1,
   "nav_menu": {},
   "number_sections": true,
   "sideBar": true,
   "skip_h1_title": false,
   "title_cell": "Table of Contents",
   "title_sidebar": "Contents",
   "toc_cell": false,
   "toc_position": {},
   "toc_section_display": true,
   "toc_window_display": false
  },
  "varInspector": {
   "cols": {
    "lenName": 16,
    "lenType": 16,
    "lenVar": 40
   },
   "kernels_config": {
    "python": {
     "delete_cmd_postfix": "",
     "delete_cmd_prefix": "del ",
     "library": "var_list.py",
     "varRefreshCmd": "print(var_dic_list())"
    },
    "r": {
     "delete_cmd_postfix": ") ",
     "delete_cmd_prefix": "rm(",
     "library": "var_list.r",
     "varRefreshCmd": "cat(var_dic_list()) "
    }
   },
   "types_to_exclude": [
    "module",
    "function",
    "builtin_function_or_method",
    "instance",
    "_Feature"
   ],
   "window_display": false
  }
 },
 "nbformat": 4,
 "nbformat_minor": 2
}
