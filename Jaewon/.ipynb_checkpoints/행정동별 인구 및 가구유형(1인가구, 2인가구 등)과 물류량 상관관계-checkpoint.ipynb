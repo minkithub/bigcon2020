{
 "cells": [
  {
   "cell_type": "code",
   "execution_count": 1,
   "metadata": {
    "ExecuteTime": {
     "end_time": "2020-08-12T05:42:05.256454Z",
     "start_time": "2020-08-12T05:42:04.349894Z"
    }
   },
   "outputs": [],
   "source": [
    "import pandas as pd\n",
    "import numpy as np\n",
    "import scipy \n",
    "\n",
    "import matplotlib as mpl\n",
    "import matplotlib.pyplot as plt\n",
    "import seaborn as sns\n",
    "%matplotlib inline\n",
    "\n",
    "from random import choices,sample\n",
    "\n",
    "import os\n",
    "import gc\n",
    "import pickle\n",
    "\n",
    "import warnings\n",
    "warnings.filterwarnings('ignore')\n",
    "\n",
    "from datetime import timedelta\n",
    "from tqdm import tqdm\n",
    "\n",
    "plt.style.use('ggplot')\n",
    "\n",
    "mpl.rcParams['axes.unicode_minus'] = False\n",
    "plt.rcParams[\"font.family\"] = \"Malgun Gothic\"\n",
    "\n",
    "os.chdir(\"../../\")\n",
    "root_path = os.getcwd()\n",
    "\n",
    "raw_file_path = os.path.join(root_path, \"Bigcon2020_raw_file\")\n",
    "csv_file_path = os.path.join(root_path, \"BigCon_2020/csv_files\")\n",
    "pickle_file_path = os.path.join(root_path, \"BigCon_2020/pickle_files\")\n",
    "\n",
    "raw_file_folders = os.listdir(raw_file_path)\n",
    "\n",
    "folder_path = os.path.join(raw_file_path, raw_file_folders[0])"
   ]
  },
  {
   "cell_type": "code",
   "execution_count": 195,
   "metadata": {
    "ExecuteTime": {
     "end_time": "2020-08-12T07:35:37.334430Z",
     "start_time": "2020-08-12T07:35:37.318445Z"
    }
   },
   "outputs": [],
   "source": [
    "seoul_pop = pd.read_table(\"행정동_가구원수별_가구수.txt\", header=[1], thousands=',')\n",
    "daegu_pop = pd.read_csv(\"구·군_동·읍·면별_세대원수별_세대수_20200809161016.csv\", encoding='cp949', header=[1])"
   ]
  },
  {
   "cell_type": "code",
   "execution_count": 196,
   "metadata": {
    "ExecuteTime": {
     "end_time": "2020-08-12T07:35:37.910379Z",
     "start_time": "2020-08-12T07:35:37.902045Z"
    }
   },
   "outputs": [],
   "source": [
    "daegu_pop = daegu_pop.iloc[:,[0,1,-10,-9,-8,-7,-6,-5,-4,-3,-2,-1]]"
   ]
  },
  {
   "cell_type": "code",
   "execution_count": 33,
   "metadata": {
    "ExecuteTime": {
     "end_time": "2020-08-12T06:13:09.247141Z",
     "start_time": "2020-08-12T06:13:08.758653Z"
    }
   },
   "outputs": [],
   "source": [
    "file_names = [file_name for file_name in os.listdir(folder_path) if file_name.split(sep='.')[-1]=='CSV']\n",
    "\n",
    "df_list = []\n",
    "\n",
    "for file_name in file_names:\n",
    "    file_path = os.path.join(folder_path, file_name)\n",
    "    df = pd.read_csv(file_path, sep='|')\n",
    "    df_list.append(df)"
   ]
  },
  {
   "cell_type": "code",
   "execution_count": 34,
   "metadata": {
    "ExecuteTime": {
     "end_time": "2020-08-12T06:13:09.694848Z",
     "start_time": "2020-08-12T06:13:09.670819Z"
    }
   },
   "outputs": [],
   "source": [
    "flow_age = pd.concat(df_list[:8]).reset_index(drop=True)\n",
    "flow_time = pd.concat(df_list[8:]).reset_index(drop=True)"
   ]
  },
  {
   "cell_type": "code",
   "execution_count": 83,
   "metadata": {
    "ExecuteTime": {
     "end_time": "2020-08-12T06:26:19.594129Z",
     "start_time": "2020-08-12T06:26:19.426129Z"
    }
   },
   "outputs": [],
   "source": [
    "cj = pd.read_csv(os.path.join(csv_file_path, \"2020빅콘_물류_원본.csv\"), thousands=',')"
   ]
  },
  {
   "cell_type": "code",
   "execution_count": 88,
   "metadata": {
    "ExecuteTime": {
     "end_time": "2020-08-12T06:28:16.494991Z",
     "start_time": "2020-08-12T06:28:16.431044Z"
    }
   },
   "outputs": [],
   "source": [
    "cj_cat_merge = cj.groupby(['DL_YMD','CTPV_NM','CTGG_NM','HDNG_NM']).sum().iloc[:,-1].reset_index(name='INVC_CONT')"
   ]
  },
  {
   "cell_type": "code",
   "execution_count": 198,
   "metadata": {
    "ExecuteTime": {
     "end_time": "2020-08-12T07:35:58.663440Z",
     "start_time": "2020-08-12T07:35:58.647420Z"
    }
   },
   "outputs": [],
   "source": [
    "seoul_pop.drop('기간', axis=1, inplace=True)"
   ]
  },
  {
   "cell_type": "code",
   "execution_count": 199,
   "metadata": {
    "ExecuteTime": {
     "end_time": "2020-08-12T07:36:05.294160Z",
     "start_time": "2020-08-12T07:36:05.286129Z"
    }
   },
   "outputs": [],
   "source": [
    "daegu_pop.columns = ['GU_NM','HDONG_NM','total','pop1','pop2','pop3','pop4','pop5','pop6','pop7','pop8','pop9']\n",
    "seoul_pop.columns = ['GU_NM','HDONG_NM','total','pop1','pop2','pop3','pop4','pop5','pop6','pop7']"
   ]
  },
  {
   "cell_type": "code",
   "execution_count": 108,
   "metadata": {
    "ExecuteTime": {
     "end_time": "2020-08-12T06:55:36.070078Z",
     "start_time": "2020-08-12T06:55:36.054103Z"
    }
   },
   "outputs": [],
   "source": [
    "total_dong = flow_time.HDONG_NM.unique().tolist()\n",
    "\n",
    "total_gu = ['중구','수성구','노원구']\n",
    "total_dong += ['수성2·3가동']"
   ]
  },
  {
   "cell_type": "code",
   "execution_count": 200,
   "metadata": {
    "ExecuteTime": {
     "end_time": "2020-08-12T07:36:08.332050Z",
     "start_time": "2020-08-12T07:36:08.324023Z"
    }
   },
   "outputs": [],
   "source": [
    "daegu_pop = daegu_pop.loc[(daegu_pop.HDONG_NM.isin(total_dong)) & (daegu_pop.GU_NM.isin(total_gu))].reset_index(drop=True)"
   ]
  },
  {
   "cell_type": "code",
   "execution_count": 201,
   "metadata": {
    "ExecuteTime": {
     "end_time": "2020-08-12T07:36:08.787899Z",
     "start_time": "2020-08-12T07:36:08.779905Z"
    }
   },
   "outputs": [],
   "source": [
    "seoul_pop = seoul_pop.loc[(seoul_pop.HDONG_NM.isin(total_dong)) & (seoul_pop.GU_NM.isin(total_gu))].reset_index(drop=True)"
   ]
  },
  {
   "cell_type": "code",
   "execution_count": 202,
   "metadata": {
    "ExecuteTime": {
     "end_time": "2020-08-12T07:36:15.284889Z",
     "start_time": "2020-08-12T07:36:15.276862Z"
    }
   },
   "outputs": [],
   "source": [
    "cj_cat_merge.rename(columns={'CTGG_NM':'GU_NM', 'HDNG_NM':'HDONG_NM'}, inplace=True)"
   ]
  },
  {
   "cell_type": "code",
   "execution_count": 203,
   "metadata": {
    "ExecuteTime": {
     "end_time": "2020-08-12T07:36:15.961262Z",
     "start_time": "2020-08-12T07:36:15.929076Z"
    }
   },
   "outputs": [],
   "source": [
    "cj_cat_merge=cj_cat_merge.replace('수성2·3가동', '수성2.3가동')\n",
    "cj_cat_merge=cj_cat_merge.replace('신당제5동', '신당5동')"
   ]
  },
  {
   "cell_type": "code",
   "execution_count": 209,
   "metadata": {
    "ExecuteTime": {
     "end_time": "2020-08-12T07:37:09.627733Z",
     "start_time": "2020-08-12T07:37:09.614371Z"
    }
   },
   "outputs": [],
   "source": [
    "daegu_pop=daegu_pop.replace('수성2·3가동', '수성2.3가동')"
   ]
  },
  {
   "cell_type": "code",
   "execution_count": 210,
   "metadata": {
    "ExecuteTime": {
     "end_time": "2020-08-12T07:37:12.513107Z",
     "start_time": "2020-08-12T07:37:12.498435Z"
    }
   },
   "outputs": [],
   "source": [
    "tmp1=cj_cat_merge.merge(daegu_pop)"
   ]
  },
  {
   "cell_type": "code",
   "execution_count": 211,
   "metadata": {
    "ExecuteTime": {
     "end_time": "2020-08-12T07:37:13.188049Z",
     "start_time": "2020-08-12T07:37:13.169546Z"
    }
   },
   "outputs": [],
   "source": [
    "tmp2=cj_cat_merge.merge(seoul_pop)"
   ]
  },
  {
   "cell_type": "code",
   "execution_count": 212,
   "metadata": {
    "ExecuteTime": {
     "end_time": "2020-08-12T07:37:15.658274Z",
     "start_time": "2020-08-12T07:37:15.641118Z"
    }
   },
   "outputs": [],
   "source": [
    "tmp1=tmp1.iloc[:,:-2]"
   ]
  },
  {
   "cell_type": "code",
   "execution_count": 213,
   "metadata": {
    "ExecuteTime": {
     "end_time": "2020-08-12T07:37:18.088426Z",
     "start_time": "2020-08-12T07:37:18.068678Z"
    }
   },
   "outputs": [],
   "source": [
    "cj_with_pop = pd.concat([tmp1,tmp2]).reset_index(drop=True)"
   ]
  },
  {
   "cell_type": "code",
   "execution_count": 222,
   "metadata": {
    "ExecuteTime": {
     "end_time": "2020-08-12T07:39:27.069326Z",
     "start_time": "2020-08-12T07:39:27.045310Z"
    }
   },
   "outputs": [
    {
     "data": {
      "text/html": [
       "<div>\n",
       "<style scoped>\n",
       "    .dataframe tbody tr th:only-of-type {\n",
       "        vertical-align: middle;\n",
       "    }\n",
       "\n",
       "    .dataframe tbody tr th {\n",
       "        vertical-align: top;\n",
       "    }\n",
       "\n",
       "    .dataframe thead th {\n",
       "        text-align: right;\n",
       "    }\n",
       "</style>\n",
       "<table border=\"1\" class=\"dataframe\">\n",
       "  <thead>\n",
       "    <tr style=\"text-align: right;\">\n",
       "      <th></th>\n",
       "      <th>INVC_CONT</th>\n",
       "      <th>total</th>\n",
       "      <th>pop1</th>\n",
       "      <th>pop2</th>\n",
       "      <th>pop3</th>\n",
       "      <th>pop4</th>\n",
       "      <th>pop5</th>\n",
       "      <th>pop6</th>\n",
       "      <th>pop7</th>\n",
       "    </tr>\n",
       "  </thead>\n",
       "  <tbody>\n",
       "    <tr>\n",
       "      <th>0</th>\n",
       "      <td>333</td>\n",
       "      <td>1862</td>\n",
       "      <td>2310</td>\n",
       "      <td>2775</td>\n",
       "      <td>3192</td>\n",
       "      <td>743</td>\n",
       "      <td>116</td>\n",
       "      <td>28</td>\n",
       "      <td>8</td>\n",
       "    </tr>\n",
       "    <tr>\n",
       "      <th>1</th>\n",
       "      <td>56</td>\n",
       "      <td>1862</td>\n",
       "      <td>2310</td>\n",
       "      <td>2775</td>\n",
       "      <td>3192</td>\n",
       "      <td>743</td>\n",
       "      <td>116</td>\n",
       "      <td>28</td>\n",
       "      <td>8</td>\n",
       "    </tr>\n",
       "    <tr>\n",
       "      <th>2</th>\n",
       "      <td>10</td>\n",
       "      <td>1862</td>\n",
       "      <td>2310</td>\n",
       "      <td>2775</td>\n",
       "      <td>3192</td>\n",
       "      <td>743</td>\n",
       "      <td>116</td>\n",
       "      <td>28</td>\n",
       "      <td>8</td>\n",
       "    </tr>\n",
       "    <tr>\n",
       "      <th>3</th>\n",
       "      <td>2</td>\n",
       "      <td>1862</td>\n",
       "      <td>2310</td>\n",
       "      <td>2775</td>\n",
       "      <td>3192</td>\n",
       "      <td>743</td>\n",
       "      <td>116</td>\n",
       "      <td>28</td>\n",
       "      <td>8</td>\n",
       "    </tr>\n",
       "    <tr>\n",
       "      <th>4</th>\n",
       "      <td>1</td>\n",
       "      <td>1862</td>\n",
       "      <td>2310</td>\n",
       "      <td>2775</td>\n",
       "      <td>3192</td>\n",
       "      <td>743</td>\n",
       "      <td>116</td>\n",
       "      <td>28</td>\n",
       "      <td>8</td>\n",
       "    </tr>\n",
       "    <tr>\n",
       "      <th>...</th>\n",
       "      <td>...</td>\n",
       "      <td>...</td>\n",
       "      <td>...</td>\n",
       "      <td>...</td>\n",
       "      <td>...</td>\n",
       "      <td>...</td>\n",
       "      <td>...</td>\n",
       "      <td>...</td>\n",
       "      <td>...</td>\n",
       "    </tr>\n",
       "    <tr>\n",
       "      <th>16564</th>\n",
       "      <td>1773</td>\n",
       "      <td>2343</td>\n",
       "      <td>1174</td>\n",
       "      <td>575</td>\n",
       "      <td>313</td>\n",
       "      <td>208</td>\n",
       "      <td>51</td>\n",
       "      <td>17</td>\n",
       "      <td>5</td>\n",
       "    </tr>\n",
       "    <tr>\n",
       "      <th>16565</th>\n",
       "      <td>1718</td>\n",
       "      <td>2343</td>\n",
       "      <td>1174</td>\n",
       "      <td>575</td>\n",
       "      <td>313</td>\n",
       "      <td>208</td>\n",
       "      <td>51</td>\n",
       "      <td>17</td>\n",
       "      <td>5</td>\n",
       "    </tr>\n",
       "    <tr>\n",
       "      <th>16566</th>\n",
       "      <td>1478</td>\n",
       "      <td>2343</td>\n",
       "      <td>1174</td>\n",
       "      <td>575</td>\n",
       "      <td>313</td>\n",
       "      <td>208</td>\n",
       "      <td>51</td>\n",
       "      <td>17</td>\n",
       "      <td>5</td>\n",
       "    </tr>\n",
       "    <tr>\n",
       "      <th>16567</th>\n",
       "      <td>203</td>\n",
       "      <td>2343</td>\n",
       "      <td>1174</td>\n",
       "      <td>575</td>\n",
       "      <td>313</td>\n",
       "      <td>208</td>\n",
       "      <td>51</td>\n",
       "      <td>17</td>\n",
       "      <td>5</td>\n",
       "    </tr>\n",
       "    <tr>\n",
       "      <th>16568</th>\n",
       "      <td>102</td>\n",
       "      <td>2343</td>\n",
       "      <td>1174</td>\n",
       "      <td>575</td>\n",
       "      <td>313</td>\n",
       "      <td>208</td>\n",
       "      <td>51</td>\n",
       "      <td>17</td>\n",
       "      <td>5</td>\n",
       "    </tr>\n",
       "  </tbody>\n",
       "</table>\n",
       "<p>16569 rows × 9 columns</p>\n",
       "</div>"
      ],
      "text/plain": [
       "       INVC_CONT  total  pop1  pop2  pop3  pop4  pop5 pop6 pop7\n",
       "0            333   1862  2310  2775  3192   743   116   28    8\n",
       "1             56   1862  2310  2775  3192   743   116   28    8\n",
       "2             10   1862  2310  2775  3192   743   116   28    8\n",
       "3              2   1862  2310  2775  3192   743   116   28    8\n",
       "4              1   1862  2310  2775  3192   743   116   28    8\n",
       "...          ...    ...   ...   ...   ...   ...   ...  ...  ...\n",
       "16564       1773   2343  1174   575   313   208    51   17    5\n",
       "16565       1718   2343  1174   575   313   208    51   17    5\n",
       "16566       1478   2343  1174   575   313   208    51   17    5\n",
       "16567        203   2343  1174   575   313   208    51   17    5\n",
       "16568        102   2343  1174   575   313   208    51   17    5\n",
       "\n",
       "[16569 rows x 9 columns]"
      ]
     },
     "execution_count": 222,
     "metadata": {},
     "output_type": "execute_result"
    }
   ],
   "source": [
    "cj_with_pop.iloc[:,4:]"
   ]
  },
  {
   "cell_type": "code",
   "execution_count": null,
   "metadata": {},
   "outputs": [],
   "source": []
  }
 ],
 "metadata": {
  "kernelspec": {
   "display_name": "Python 3",
   "language": "python",
   "name": "python3"
  },
  "language_info": {
   "codemirror_mode": {
    "name": "ipython",
    "version": 3
   },
   "file_extension": ".py",
   "mimetype": "text/x-python",
   "name": "python",
   "nbconvert_exporter": "python",
   "pygments_lexer": "ipython3",
   "version": "3.7.2"
  },
  "toc": {
   "base_numbering": 1,
   "nav_menu": {},
   "number_sections": true,
   "sideBar": true,
   "skip_h1_title": false,
   "title_cell": "Table of Contents",
   "title_sidebar": "Contents",
   "toc_cell": false,
   "toc_position": {},
   "toc_section_display": true,
   "toc_window_display": false
  },
  "varInspector": {
   "cols": {
    "lenName": 16,
    "lenType": 16,
    "lenVar": 40
   },
   "kernels_config": {
    "python": {
     "delete_cmd_postfix": "",
     "delete_cmd_prefix": "del ",
     "library": "var_list.py",
     "varRefreshCmd": "print(var_dic_list())"
    },
    "r": {
     "delete_cmd_postfix": ") ",
     "delete_cmd_prefix": "rm(",
     "library": "var_list.r",
     "varRefreshCmd": "cat(var_dic_list()) "
    }
   },
   "types_to_exclude": [
    "module",
    "function",
    "builtin_function_or_method",
    "instance",
    "_Feature"
   ],
   "window_display": false
  }
 },
 "nbformat": 4,
 "nbformat_minor": 2
}
