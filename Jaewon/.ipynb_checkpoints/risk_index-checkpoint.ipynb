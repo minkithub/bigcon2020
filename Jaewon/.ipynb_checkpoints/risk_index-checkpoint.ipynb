{
 "cells": [
  {
   "cell_type": "code",
   "execution_count": 1,
   "metadata": {
    "ExecuteTime": {
     "end_time": "2020-08-11T10:12:19.432619Z",
     "start_time": "2020-08-11T10:12:14.576097Z"
    }
   },
   "outputs": [],
   "source": [
    "import pandas as pd\n",
    "import numpy as np\n",
    "import scipy \n",
    "\n",
    "import matplotlib as mpl\n",
    "import matplotlib.pyplot as plt\n",
    "import seaborn as sns\n",
    "%matplotlib inline\n",
    "\n",
    "from random import choices,sample\n",
    "\n",
    "import os\n",
    "import gc\n",
    "import pickle\n",
    "\n",
    "import warnings\n",
    "warnings.filterwarnings('ignore')\n",
    "\n",
    "from datetime import timedelta\n",
    "from tqdm import tqdm\n",
    "\n",
    "plt.style.use('ggplot')\n",
    "\n",
    "mpl.rcParams['axes.unicode_minus'] = False\n",
    "plt.rcParams[\"font.family\"] = \"Malgun Gothic\"\n",
    "\n",
    "os.chdir(\"../../\")\n",
    "root_path = os.getcwd()\n",
    "\n",
    "raw_file_path = os.path.join(root_path, \"Bigcon2020_raw_file\")\n",
    "csv_file_path = os.path.join(root_path, \"BigCon_2020/csv_files\")\n",
    "pickle_file_path = os.path.join(root_path, \"BigCon_2020/pickle_files\")\n",
    "\n",
    "raw_file_folders = os.listdir(raw_file_path)\n",
    "\n",
    "folder_path = os.path.join(raw_file_path, raw_file_folders[0])"
   ]
  },
  {
   "cell_type": "code",
   "execution_count": 331,
   "metadata": {
    "ExecuteTime": {
     "end_time": "2020-08-12T04:25:26.665502Z",
     "start_time": "2020-08-12T04:25:26.657523Z"
    }
   },
   "outputs": [],
   "source": [
    "def register_add_time_property(register):\n",
    "    register['STD_DD']=pd.to_datetime(register.STD_DD, format='%Y%m%d')\n",
    "    \n",
    "    register['year'] = register['STD_DD'].dt.year.values\n",
    "    register['month'] = register['STD_DD'].dt.month.values\n",
    "    register['weekofyear'] = register['STD_DD'].dt.weekofyear.values\n",
    "    register['dayofweek'] = register['STD_DD'].dt.dayofweek.values\n",
    "\n",
    "    register['weekday'] = np.where(register.dayofweek<5,'평일','주말')\n",
    "    \n",
    "    return register"
   ]
  },
  {
   "cell_type": "code",
   "execution_count": 188,
   "metadata": {
    "ExecuteTime": {
     "end_time": "2020-08-11T16:29:15.647408Z",
     "start_time": "2020-08-11T16:29:15.631455Z"
    }
   },
   "outputs": [],
   "source": [
    "cat_dict = {10 : '숙박',\n",
    "20 : '레저용품',\n",
    "21 : '레저업소',\n",
    "22 : '문화취미',\n",
    "30 : '가구',\n",
    "31 : '전기',\n",
    "32 : '주방용구',\n",
    "33 : '연료판매',\n",
    "34 : '광학제품',\n",
    "35 : '가전',\n",
    "40 : '유통업',\n",
    "42 : '의복',\n",
    "43 : '직물',\n",
    "44 : '신변잡화',\n",
    "50 : '서적문구',\n",
    "52 : '사무통신',\n",
    "60 : '자동차판매',\n",
    "62 : '자동차 정비',\n",
    "70 : '의료기관',\n",
    "71 : '보건위생',\n",
    "80 : '요식업소',\n",
    "81 : '음료식품',\n",
    "92 : '수리서비스'}"
   ]
  },
  {
   "cell_type": "code",
   "execution_count": 2,
   "metadata": {
    "ExecuteTime": {
     "end_time": "2020-08-11T10:12:22.409010Z",
     "start_time": "2020-08-11T10:12:22.401019Z"
    }
   },
   "outputs": [],
   "source": [
    "sk_files = [file for file in os.listdir(csv_file_path) if file.startswith('SK_melted')]\n",
    "card_files = [file for file in os.listdir(csv_file_path) if file.startswith('카드')]"
   ]
  },
  {
   "cell_type": "code",
   "execution_count": 3,
   "metadata": {
    "ExecuteTime": {
     "end_time": "2020-08-11T10:13:03.811130Z",
     "start_time": "2020-08-11T10:13:02.507133Z"
    }
   },
   "outputs": [],
   "source": [
    "df_list_card = []\n",
    "\n",
    "for file_name in card_files:\n",
    "    file_path = os.path.join(csv_file_path, file_name)\n",
    "    df = pd.read_csv(file_path)\n",
    "    df_list_card.append(df)"
   ]
  },
  {
   "cell_type": "code",
   "execution_count": 4,
   "metadata": {
    "ExecuteTime": {
     "end_time": "2020-08-11T10:13:06.189803Z",
     "start_time": "2020-08-11T10:13:05.380879Z"
    }
   },
   "outputs": [],
   "source": [
    "df_list_sk = []\n",
    "\n",
    "for file_name in sk_files:\n",
    "    file_path = os.path.join(csv_file_path, file_name)\n",
    "    df = pd.read_csv(file_path)\n",
    "    df_list_sk.append(df)"
   ]
  },
  {
   "cell_type": "code",
   "execution_count": 10,
   "metadata": {
    "ExecuteTime": {
     "end_time": "2020-08-11T10:14:03.601139Z",
     "start_time": "2020-08-11T10:14:03.504749Z"
    }
   },
   "outputs": [],
   "source": [
    "register = df_list_card[1].drop(df_list_card[1].columns[0], axis=1)\n",
    "\n",
    "with open(os.path.join(pickle_file_path,'카드_구_행정동_코드_명_변환.pickle'), 'rb') as f:\n",
    "    convert_dict = pickle.load(f)\n",
    "\n",
    "register['GU_NM'] = register.GU_CD.map(convert_dict.get('구'))\n",
    "register['HDONG_NM'] = register.DONG_CD.map(convert_dict.get('행정동'))\n",
    "register['MCT_CAT_NM'] = register.MCT_CAT_CD.map(cat_dict)\n",
    "\n",
    "register = register_add_time_property(register)\n",
    "\n",
    "register.head()"
   ]
  },
  {
   "cell_type": "code",
   "execution_count": null,
   "metadata": {},
   "outputs": [],
   "source": [
    "with open(os.path.join(pickle_file_path,'카드_구_행정동_코드_명_변환.pickle'), 'rb') as f:\n",
    "    convert_dict = pickle.load(f)\n",
    "\n",
    "register['GU_NM'] = register.GU_CD.map(convert_dict.get('구'))\n",
    "register['HDONG_NM'] = register.DONG_CD.map(convert_dict.get('행정동'))"
   ]
  },
  {
   "cell_type": "code",
   "execution_count": 13,
   "metadata": {
    "ExecuteTime": {
     "end_time": "2020-08-11T10:14:39.158388Z",
     "start_time": "2020-08-11T10:14:39.142439Z"
    }
   },
   "outputs": [],
   "source": [
    "fp_age= df_list_sk[0]\n",
    "fp_time = df_list_sk[1]"
   ]
  },
  {
   "cell_type": "code",
   "execution_count": 68,
   "metadata": {
    "ExecuteTime": {
     "end_time": "2020-08-11T10:50:00.687423Z",
     "start_time": "2020-08-11T10:50:00.678449Z"
    }
   },
   "outputs": [],
   "source": [
    "def get_minNmax_fp_date(df):\n",
    "    \n",
    "    #설연휴 유동인구의 경우 특별한 케이스이므로 제외    \n",
    "    df_feb_2019 = df.query('year==2019 & month==2 & STD_YMD not in[\\'2019-02-01\\',\\'2019-02-02\\',\\'2019-02-03\\',\\'2019-02-04\\',\\'2019-02-05\\',\\'2019-02-06\\']')\n",
    "    df_mar_2019 = df.query('year==2019 & month==3')\n",
    "    \n",
    "    df_feb_2020 = df.query('year==2020 & month==2')\n",
    "    df_mar_2020 = df.query('year==2020 & month==3')\n",
    "    \n",
    "    mx2019 = np.argmax(df_feb_2019.groupby(['STD_YMD'])['flow_counts'].sum())\n",
    "    mn2019 = np.argmin(df_mar_2019.groupby(['STD_YMD'])['flow_counts'].sum())\n",
    "    \n",
    "    mx2020 = np.argmax(df_feb_2020.groupby(['STD_YMD'])['flow_counts'].sum())\n",
    "    mn2020 = np.argmin(df_mar_2020.groupby(['STD_YMD'])['flow_counts'].sum())\n",
    "    \n",
    "    return mn2019,mx2019,mn2020,mx2020"
   ]
  },
  {
   "cell_type": "code",
   "execution_count": 333,
   "metadata": {
    "ExecuteTime": {
     "end_time": "2020-08-12T04:26:13.001696Z",
     "start_time": "2020-08-12T04:26:12.984743Z"
    }
   },
   "outputs": [],
   "source": [
    "def risk_index_fp(df):\n",
    "    hdong = list(df.HDONG_NM.unique())\n",
    "    risk_by_dong = {}\n",
    "    \n",
    "    for dong in tqdm(hdong):\n",
    "        tmp_df = df.loc[df.HDONG_NM==dong]\n",
    "        min2019,max2019,min2020,max2020 = get_minNmax_fp_date(tmp_df)\n",
    "        \n",
    "        tmp_df = tmp_df.groupby('STD_YMD')['flow_counts'].sum().reset_index()\n",
    "        \n",
    "        # min_date_index_2019 = tmp_df[tmp_df.STD_YMD == min2019].index.values[0]\n",
    "        # max_date_index_2019 = tmp_df[tmp_df.STD_YMD == max2019].index.values[0]\n",
    "        \n",
    "        min_date_index_2020 = tmp_df[tmp_df.STD_YMD == min2020].index.values[0]\n",
    "        max_date_index_2020 = tmp_df[tmp_df.STD_YMD == max2020].index.values[0]\n",
    "        \n",
    "        # fp_feb_2019 = tmp_df.iloc[min_date_index_2019:min_date_index_2019+7,1].sum()\n",
    "        # fp_mar_2019 = tmp_df.iloc[max_date_index_2019:max_date_index_2019+7,1].sum()\n",
    "        \n",
    "        fp_feb_2019 = tmp_df.iloc[:28,1].mean()\n",
    "        fp_mar_2019 = tmp_df.iloc[28:28+31,1].mean()\n",
    "        \n",
    "        fp_feb_2020 = tmp_df.iloc[min_date_index_2020:min_date_index_2020+7,1].sum()\n",
    "        fp_mar_2020 = tmp_df.iloc[max_date_index_2020:max_date_index_2020+7,1].sum()\n",
    "        \n",
    "        r1 = (fp_mar_2019 - fp_feb_2019)/fp_feb_2019\n",
    "        r2 = (fp_mar_2020 - fp_feb_2020)/fp_feb_2020\n",
    "        \n",
    "        risk = np.sqrt((r1+1)*(r2+1))-1\n",
    "        \n",
    "        risk_by_dong[dong] = risk\n",
    "        \n",
    "    return risk_by_dong"
   ]
  },
  {
   "cell_type": "code",
   "execution_count": 334,
   "metadata": {
    "ExecuteTime": {
     "end_time": "2020-08-12T04:26:16.134322Z",
     "start_time": "2020-08-12T04:26:13.658941Z"
    }
   },
   "outputs": [
    {
     "name": "stderr",
     "output_type": "stream",
     "text": [
      "100%|███████████████████████████████████████████████████████████████████| 69/69 [00:02<00:00, 28.18it/s]\n"
     ]
    },
    {
     "data": {
      "text/plain": [
       "{'고산1동': 0.16434175780614302,\n",
       " '고산2동': 0.14683700127673216,\n",
       " '고산3동': 0.12188458055948792,\n",
       " '공릉1동': 0.11580190981322058,\n",
       " '공릉2동': 0.161186476099745,\n",
       " '광희동': 0.22643143625665796,\n",
       " '남산1동': 0.2480224307585377,\n",
       " '남산2동': 0.35023624640543605,\n",
       " '남산3동': 0.17448727350555737,\n",
       " '남산4동': 0.10010788911926283,\n",
       " '다산동': 0.21509276750020767,\n",
       " '대봉1동': 0.14303057324373913,\n",
       " '대봉2동': 0.22114842277266433,\n",
       " '대신동': 0.30583784905608136,\n",
       " '동인동': 0.24795224564474205,\n",
       " '동화동': 0.42128369224935125,\n",
       " '두산동': 0.1394192784922983,\n",
       " '만촌1동': 0.18314637381369514,\n",
       " '만촌2동': 0.2814392636565004,\n",
       " '만촌3동': 0.1493902699675418,\n",
       " '명동': 0.2463117226525937,\n",
       " '범물1동': 0.13586474396814907,\n",
       " '범물2동': 0.09829860687624659,\n",
       " '범어1동': 0.18770667476399594,\n",
       " '범어2동': 0.28240535550614254,\n",
       " '범어3동': 0.2415832516281764,\n",
       " '범어4동': 0.4390105149218524,\n",
       " '삼덕동': 0.312531212022078,\n",
       " '상계10동': 0.10026788710594903,\n",
       " '상계1동': 0.12097645754258601,\n",
       " '상계2동': 0.18588715398880407,\n",
       " '상계3.4동': 0.03713464318237758,\n",
       " '상계5동': 0.07114612993583713,\n",
       " '상계6.7동': 0.10612803842133389,\n",
       " '상계8동': 0.03092868791364589,\n",
       " '상계9동': 0.09588312062134552,\n",
       " '상동': 0.1853348415162861,\n",
       " '성내1동': 0.29761668328789903,\n",
       " '성내2동': 0.3717679025623086,\n",
       " '성내3동': 0.2523921246651406,\n",
       " '소공동': 0.1950819389524181,\n",
       " '수성1가동': 0.10591712612698156,\n",
       " '수성2.3가동': 0.1762043709511354,\n",
       " '수성4가동': 0.1980215106687364,\n",
       " '신당5동': 0.17932448862373374,\n",
       " '신당동': 0.22421512820403788,\n",
       " '약수동': 0.2865607035177351,\n",
       " '월계1동': 0.09641072220267577,\n",
       " '월계2동': -0.015003088725583202,\n",
       " '월계3동': 0.09377158453573231,\n",
       " '을지로동': 0.20500505226882582,\n",
       " '장충동': 0.13642367215820128,\n",
       " '중계1동': 0.1417980369434373,\n",
       " '중계2.3동': 0.07169930904790811,\n",
       " '중계4동': 0.06706244081235413,\n",
       " '중계본동': 0.0718959103726109,\n",
       " '중동': 0.12821067208980463,\n",
       " '중림동': 0.18992231374969304,\n",
       " '지산1동': 0.29436866437873377,\n",
       " '지산2동': 0.4284331510645145,\n",
       " '청구동': 0.11849665733397563,\n",
       " '파동': 0.13293797774083438,\n",
       " '필동': 0.2335027162524046,\n",
       " '하계1동': 0.21967696419136962,\n",
       " '하계2동': 0.14375169314223601,\n",
       " '황금1동': 0.2942594692148317,\n",
       " '황금2동': 0.4458409224446249,\n",
       " '황학동': 0.14829666875171843,\n",
       " '회현동': 0.2657348746266954}"
      ]
     },
     "execution_count": 334,
     "metadata": {},
     "output_type": "execute_result"
    }
   ],
   "source": [
    "risk_fp = risk_index_fp(fp_time)\n",
    "risk_fp"
   ]
  },
  {
   "cell_type": "code",
   "execution_count": 158,
   "metadata": {
    "ExecuteTime": {
     "end_time": "2020-08-11T16:12:01.603220Z",
     "start_time": "2020-08-11T16:12:01.411347Z"
    }
   },
   "outputs": [
    {
     "data": {
      "text/plain": [
       "<matplotlib.axes._subplots.AxesSubplot at 0x1d63c08a0f0>"
      ]
     },
     "execution_count": 158,
     "metadata": {},
     "output_type": "execute_result"
    },
    {
     "data": {
      "image/png": "[encoded data removed]",
      "text/plain": [
       "<Figure size 864x360 with 1 Axes>"
      ]
     },
     "metadata": {
      "needs_background": "light"
     },
     "output_type": "display_data"
    }
   ],
   "source": [
    "plt.figure(figsize=(12,5))\n",
    "sns.distplot([v for i,v in risk_fp.items()], kde=False, bins=30)"
   ]
  },
  {
   "cell_type": "code",
   "execution_count": 154,
   "metadata": {
    "ExecuteTime": {
     "end_time": "2020-08-11T16:06:31.619136Z",
     "start_time": "2020-08-11T16:06:31.611128Z"
    }
   },
   "outputs": [],
   "source": [
    "def get_minNmax_cardAMT_date(df):\n",
    "    \n",
    "    # 설연휴 유동인구의 경우 특별한 케이스이므로 제외    \n",
    "    # df_feb_2019 = df.query('year==2019 & month==2 & STD_DD not in[\\'2019-02-01\\',\\'2019-02-02\\',\\'2019-02-03\\',\\'2019-02-04\\',\\'2019-02-05\\',\\'2019-02-06\\']')\n",
    "    # df_mar_2019 = df.query('year==2019 & month==3')\n",
    "    \n",
    "    df_feb_2020 = df.query('year==2020 & month==2')\n",
    "    df_mar_2020 = df.query('year==2020 & month==3')\n",
    "    \n",
    "    # mx2019 = np.argmax(df_feb_2019.groupby(['STD_YMD'])['flow_counts'].sum())\n",
    "    # mn2019 = np.argmin(df_mar_2019.groupby(['STD_YMD'])['flow_counts'].sum())\n",
    "    \n",
    "    mx2020 = np.argmax(df_feb_2020.groupby(['STD_DD'])['USE_AMT'].sum())\n",
    "    mn2020 = np.argmin(df_mar_2020.groupby(['STD_DD'])['USE_AMT'].sum())\n",
    "    \n",
    "    return mn2020,mx2020"
   ]
  },
  {
   "cell_type": "code",
   "execution_count": 310,
   "metadata": {
    "ExecuteTime": {
     "end_time": "2020-08-12T04:10:49.539200Z",
     "start_time": "2020-08-12T04:10:49.510278Z"
    }
   },
   "outputs": [],
   "source": [
    "# outlier제거하는 방향으로 해봐야할듯\n",
    "\n",
    "def risk_index_cardAMT(df):\n",
    "    hdong = list(df.HDONG_NM.unique())\n",
    "    risk_by_dong = {}\n",
    "    \n",
    "    for dong in tqdm(hdong):\n",
    "        tmp_df = df.loc[df.HDONG_NM==dong]\n",
    "        min2020,max2020 = get_minNmax_cardAMT_date(tmp_df)\n",
    "        \n",
    "        tmp_df = tmp_df.groupby(['STD_DD','year','month'])['USE_AMT'].sum().reset_index()\n",
    "        \n",
    "        min_date_index_2020 = tmp_df[tmp_df.STD_DD == min2020].index.values[0]\n",
    "        max_date_index_2020 = tmp_df[tmp_df.STD_DD == max2020].index.values[0]\n",
    "        \n",
    "        # 2월과 3월의 날짜가 차이가 나기때문에 평균소비액으로 계산\n",
    "        # 가끔 불규칙한 주기로 매출액이 유독 높아지는 날이 있음. 이에 대한 근거가 생기기 전까지는 이상치로 판단하여\n",
    "        # 제거하는 방향으로 진행.\n",
    "        \n",
    "        # 하위 5%와 상위5% 소비금액 제거후 평균계산\n",
    "        # 5%기준으로 한 이유 : 월별로 값을 보기때문에 데이터의 크기가 31을 넘지 않음. 가장 큰 날 하루를 뺀다고 했을때 이미 3%가 넘으므로 5%를 기준으로 하게 됨\n",
    "        feb_2019_filter = tmp_df.query('year==2019 & month==2').groupby('STD_DD')['USE_AMT'].sum().quantile([.05,.95]).astype(int).tolist()\n",
    "        mar_2019_filter = tmp_df.query('year==2019 & month==3').groupby('STD_DD')['USE_AMT'].sum().quantile([.05,.95]).astype(int).tolist()\n",
    "        \n",
    "        # mean_cardAMT_feb_2019 = tmp_df.iloc[:28,1].mean() # 19.02.01 ~ 19.02.28까지 매출의 평균\n",
    "        # mean_cardAMT_mar_2019 = tmp_df.iloc[28:28+31,1].mean() # 19.03.01 ~ 19.03.31까지 매출의 평균\n",
    "        \n",
    "        mean_cardAMT_feb_2019 = np.mean([val for val in tmp_df.query('year==2019 & month==2').groupby('STD_DD')['USE_AMT'].sum() \\\n",
    "                             if val in range(*feb_2019_filter)])\n",
    "        mean_cardAMT_mar_2019 = np.mean([val for val in tmp_df.query('year==2019 & month==3').groupby('STD_DD')['USE_AMT'].sum() \\\n",
    "                                 if val in range(*mar_2019_filter)]) \n",
    "        \n",
    "        cardAMT_feb_2020 = tmp_df.iloc[min_date_index_2020:min_date_index_2020+7,-1].sum()\n",
    "        cardAMT_mar_2020 = tmp_df.iloc[max_date_index_2020:max_date_index_2020+7,-1].sum()\n",
    "        \n",
    "        r1 = (mean_cardAMT_mar_2019 - mean_cardAMT_feb_2019)/mean_cardAMT_feb_2019\n",
    "        r2 = (cardAMT_mar_2020 - cardAMT_feb_2020)/cardAMT_feb_2020\n",
    "        \n",
    "        risk = np.sqrt((r1+1)*(r2+1))-1\n",
    "        \n",
    "        risk_by_dong[dong] = risk\n",
    "        \n",
    "    return risk_by_dong"
   ]
  },
  {
   "cell_type": "code",
   "execution_count": 327,
   "metadata": {
    "ExecuteTime": {
     "end_time": "2020-08-12T04:22:54.509588Z",
     "start_time": "2020-08-12T04:22:54.488649Z"
    }
   },
   "outputs": [],
   "source": [
    "def plot_cardAMT_risk(df, dong):\n",
    "    tmp_df = df.loc[df.HDONG_NM==dong].reset_index(drop=True)\n",
    "    # feb_2019_filter = tmp_df.query('year==2019 & month==2').groupby('STD_DD')['USE_AMT'].sum().quantile([.05,.95]).astype(int).tolist()\n",
    "    # mar_2019_filter = tmp_df.query('year==2019 & month==3').groupby('STD_DD')['USE_AMT'].sum().quantile([.05,.95]).astype(int).tolist()\n",
    "    \n",
    "    mean_feb_2019 = tmp_df.query('year==2019 & month==2').groupby('STD_DD')['USE_AMT'].sum().mean()\n",
    "    mean_mar_2019 = tmp_df.query('year==2019 & month==3').groupby('STD_DD')['USE_AMT'].sum().mean()\n",
    "    \n",
    "    # mean_feb_2019 = np.mean([val for val in tmp_df.query('year==2019 & month==2').groupby('STD_DD')['USE_AMT'].sum() \\\n",
    "    #                      if val in range(*feb_2019_filter)])\n",
    "    # mean_mar_2019 = np.mean([val for val in tmp_df.query('year==2019 & month==3').groupby('STD_DD')['USE_AMT'].sum() \\\n",
    "    #                         if val in range(*mar_2019_filter)])\n",
    "    \n",
    "    max_feb_2020 = np.max(tmp_df.query('year==2020 & month==2').groupby('STD_DD')['USE_AMT'].sum())\n",
    "\n",
    "    fig, ax = plt.subplots(figsize=(16,9))\n",
    "    ax = sns.lineplot(\n",
    "        data = tmp_df.groupby('STD_DD')['USE_AMT'].sum().reset_index(),\n",
    "        x = 'STD_DD',\n",
    "        y = 'USE_AMT'\n",
    "    )\n",
    "    \n",
    "    low, high = ax.get_ybound()\n",
    "\n",
    "    ax.vlines(x=120.5, ymin=low*0.9, ymax=high*1.1, color='blue', linewidth=0.8)\n",
    "    ax.hlines(y=mean_feb_2019, xmin=-0.5, xmax=28.5)\n",
    "    ax.hlines(y=mean_mar_2019, xmin=28.5, xmax=59.5)\n",
    "    \n",
    "    if mean_mar_2019 - mean_feb_2019 > 0:\n",
    "        ax.annotate(f'{np.abs((mean_mar_2019 - mean_feb_2019)/mean_feb_2019):.2%} 증가', (24,low*1.2))\n",
    "    else:\n",
    "        ax.annotate(f'{np.abs((mean_mar_2019 - mean_feb_2019)/mean_feb_2019):.2%} 감소', (24,low*1.2))\n",
    "        \n",
    "    ax.annotate(s='', xy=(28.5,mean_feb_2019), xytext=(28.5,mean_mar_2019), arrowprops=dict(arrowstyle='<->', color='blue'))"
   ]
  },
  {
   "cell_type": "code",
   "execution_count": 311,
   "metadata": {
    "ExecuteTime": {
     "end_time": "2020-08-12T04:10:57.694947Z",
     "start_time": "2020-08-12T04:10:50.252840Z"
    }
   },
   "outputs": [
    {
     "name": "stderr",
     "output_type": "stream",
     "text": [
      "100%|███████████████████████████████████████████████████████████████████| 47/47 [00:07<00:00,  6.41it/s]\n"
     ]
    },
    {
     "data": {
      "text/plain": [
       "{'공릉2동': 0.16868895193129863,\n",
       " '남산1동': 0.1641202571213023,\n",
       " '남산2동': 0.22247618276842474,\n",
       " '남산3동': 0.5040495693466842,\n",
       " '남산4동': 0.039695670129803684,\n",
       " '대봉1동': 0.15995845337740655,\n",
       " '대봉2동': 0.08438731531968036,\n",
       " '대신동': 0.12914684914906682,\n",
       " '동인동': 0.40637828501511897,\n",
       " '만촌1동': 0.12691189588310237,\n",
       " '만촌2동': 0.155742798679682,\n",
       " '만촌3동': 0.21759323099375827,\n",
       " '범물1동': 0.2816913332354709,\n",
       " '범물2동': 0.03114184794677577,\n",
       " '범어1동': 0.3492457543340233,\n",
       " '범어2동': 0.14831391460800547,\n",
       " '범어3동': 0.31357997689809536,\n",
       " '범어4동': 0.13649681645513856,\n",
       " '삼덕동': 0.41510112670096233,\n",
       " '상계10동': 0.10271416036794112,\n",
       " '상계3.4동': 0.06986562222560111,\n",
       " '상계6.7동': 0.1448958839738428,\n",
       " '상계8동': 0.03956876321614322,\n",
       " '상계9동': 0.007471480203442127,\n",
       " '상동': 0.25538124975866694,\n",
       " '성내1동': 0.4067641827461501,\n",
       " '성내2동': 0.5013378838213722,\n",
       " '성내3동': 0.7529911297097143,\n",
       " '수성1가동': 0.25868379060191704,\n",
       " '수성2.3가동': 0.21686710376237173,\n",
       " '수성4가동': 0.1798443854282501,\n",
       " '신당동': 0.1210814077783402,\n",
       " '약수동': 0.04754504484053812,\n",
       " '을지로동': 0.17154166161870932,\n",
       " '중계1동': 0.08279789553677164,\n",
       " '중계2.3동': 0.14193895614750374,\n",
       " '중계4동': 0.061301871562283505,\n",
       " '중계본동': 0.04855484086453421,\n",
       " '중동': 0.18721266376068457,\n",
       " '지산1동': 0.24289133113366868,\n",
       " '지산2동': 0.06640378060149255,\n",
       " '청구동': -0.0044716659507412215,\n",
       " '파동': 0.013811503283443383,\n",
       " '하계1동': 0.1614624756677896,\n",
       " '하계2동': -0.0639473997977631,\n",
       " '황금1동': 0.15164695306610265,\n",
       " '황금2동': 0.6893537330658905}"
      ]
     },
     "execution_count": 311,
     "metadata": {},
     "output_type": "execute_result"
    }
   ],
   "source": [
    "risk_index_cardAMT(register)"
   ]
  },
  {
   "cell_type": "code",
   "execution_count": null,
   "metadata": {},
   "outputs": [],
   "source": []
  },
  {
   "cell_type": "code",
   "execution_count": null,
   "metadata": {},
   "outputs": [],
   "source": []
  },
  {
   "cell_type": "code",
   "execution_count": null,
   "metadata": {},
   "outputs": [],
   "source": []
  }
 ],
 "metadata": {
  "kernelspec": {
   "display_name": "Python 3",
   "language": "python",
   "name": "python3"
  },
  "language_info": {
   "codemirror_mode": {
    "name": "ipython",
    "version": 3
   },
   "file_extension": ".py",
   "mimetype": "text/x-python",
   "name": "python",
   "nbconvert_exporter": "python",
   "pygments_lexer": "ipython3",
   "version": "3.7.2"
  },
  "toc": {
   "base_numbering": 1,
   "nav_menu": {},
   "number_sections": true,
   "sideBar": true,
   "skip_h1_title": false,
   "title_cell": "Table of Contents",
   "title_sidebar": "Contents",
   "toc_cell": false,
   "toc_position": {},
   "toc_section_display": true,
   "toc_window_display": false
  },
  "varInspector": {
   "cols": {
    "lenName": 16,
    "lenType": 16,
    "lenVar": 40
   },
   "kernels_config": {
    "python": {
     "delete_cmd_postfix": "",
     "delete_cmd_prefix": "del ",
     "library": "var_list.py",
     "varRefreshCmd": "print(var_dic_list())"
    },
    "r": {
     "delete_cmd_postfix": ") ",
     "delete_cmd_prefix": "rm(",
     "library": "var_list.r",
     "varRefreshCmd": "cat(var_dic_list()) "
    }
   },
   "types_to_exclude": [
    "module",
    "function",
    "builtin_function_or_method",
    "instance",
    "_Feature"
   ],
   "window_display": false
  }
 },
 "nbformat": 4,
 "nbformat_minor": 2
}
