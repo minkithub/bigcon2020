{
 "cells": [
  {
   "cell_type": "code",
   "execution_count": 1,
   "metadata": {
    "ExecuteTime": {
     "end_time": "2020-08-31T12:48:15.877244Z",
     "start_time": "2020-08-31T12:48:12.018243Z"
    }
   },
   "outputs": [],
   "source": [
    "import geopandas as gpd\n",
    "from pyproj import transform,Proj\n",
    "from shapely.geometry import MultiPoint, Point\n",
    "\n",
    "import pandas as pd\n",
    "import numpy as np\n",
    "\n",
    "import os\n",
    "import gc\n",
    "import warnings\n",
    "\n",
    "from tqdm import trange\n",
    "\n",
    "warnings.filterwarnings('ignore')\n",
    "\n",
    "import glob\n",
    "from PIL import Image\n",
    "\n",
    "import matplotlib as mpl\n",
    "import matplotlib.pyplot as plt\n",
    "import seaborn as sns\n",
    "\n",
    "plt.style.use('ggplot')\n",
    "\n",
    "mpl.rcParams['axes.unicode_minus'] = False\n",
    "plt.rcParams[\"font.family\"] = \"Malgun Gothic\"\n",
    "\n",
    "%matplotlib inline\n",
    "\n",
    "os.chdir(\"../../\")\n",
    "root_path = os.getcwd()\n",
    "\n",
    "raw_file_path = os.path.join(root_path, \"Bigcon2020_raw_file\")\n",
    "csv_file_path = os.path.join(root_path, \"BigCon_2020/csv_files\")\n",
    "pickle_file_path = os.path.join(root_path, \"BigCon_2020/pickle_files\")\n",
    "\n",
    "image_path = 'C:/Users/rears/OneDrive/바탕 화면/dacon_covid19/'"
   ]
  },
  {
   "cell_type": "code",
   "execution_count": null,
   "metadata": {},
   "outputs": [],
   "source": []
  },
  {
   "cell_type": "code",
   "execution_count": 2,
   "metadata": {
    "ExecuteTime": {
     "end_time": "2020-08-31T12:48:25.357201Z",
     "start_time": "2020-08-31T12:48:25.222438Z"
    }
   },
   "outputs": [],
   "source": [
    "raw_file_folders = os.listdir(raw_file_path)\n",
    "geo_df=gpd.read_file(os.path.join(raw_file_path,raw_file_folders[0],'4개지역_행정동.SHP'))"
   ]
  },
  {
   "cell_type": "code",
   "execution_count": 53,
   "metadata": {
    "ExecuteTime": {
     "end_time": "2020-08-31T13:35:22.696512Z",
     "start_time": "2020-08-31T13:35:22.691540Z"
    }
   },
   "outputs": [
    {
     "data": {
      "text/plain": [
       "['EMD.dbf', 'EMD.prj', 'EMD.shp', 'EMD.shx']"
      ]
     },
     "execution_count": 53,
     "metadata": {},
     "output_type": "execute_result"
    }
   ],
   "source": [
    "os.listdir('EMD_202005')"
   ]
  },
  {
   "cell_type": "code",
   "execution_count": 62,
   "metadata": {
    "ExecuteTime": {
     "end_time": "2020-08-31T13:44:21.739789Z",
     "start_time": "2020-08-31T13:44:20.646716Z"
    }
   },
   "outputs": [
    {
     "data": {
      "text/html": [
       "<div>\n",
       "<style scoped>\n",
       "    .dataframe tbody tr th:only-of-type {\n",
       "        vertical-align: middle;\n",
       "    }\n",
       "\n",
       "    .dataframe tbody tr th {\n",
       "        vertical-align: top;\n",
       "    }\n",
       "\n",
       "    .dataframe thead th {\n",
       "        text-align: right;\n",
       "    }\n",
       "</style>\n",
       "<table border=\"1\" class=\"dataframe\">\n",
       "  <thead>\n",
       "    <tr style=\"text-align: right;\">\n",
       "      <th></th>\n",
       "      <th>EMD_CD</th>\n",
       "      <th>EMD_ENG_NM</th>\n",
       "      <th>EMD_KOR_NM</th>\n",
       "      <th>geometry</th>\n",
       "    </tr>\n",
       "  </thead>\n",
       "  <tbody>\n",
       "    <tr>\n",
       "      <th>2682</th>\n",
       "      <td>43150108</td>\n",
       "      <td>Myeong-dong</td>\n",
       "      <td>¸íµ¿</td>\n",
       "      <td>POLYGON ((1063019.381 1904578.773, 1063053.357...</td>\n",
       "    </tr>\n",
       "    <tr>\n",
       "      <th>4619</th>\n",
       "      <td>48129154</td>\n",
       "      <td>Myeong-dong</td>\n",
       "      <td>¸íµ¿</td>\n",
       "      <td>MULTIPOLYGON (((1110511.715 1675077.943, 11103...</td>\n",
       "    </tr>\n",
       "    <tr>\n",
       "      <th>4836</th>\n",
       "      <td>48330115</td>\n",
       "      <td>Myeong-dong</td>\n",
       "      <td>¸íµ¿</td>\n",
       "      <td>POLYGON ((1150651.913 1711735.567, 1150657.629...</td>\n",
       "    </tr>\n",
       "  </tbody>\n",
       "</table>\n",
       "</div>"
      ],
      "text/plain": [
       "        EMD_CD   EMD_ENG_NM EMD_KOR_NM  \\\n",
       "2682  43150108  Myeong-dong       ¸íµ¿   \n",
       "4619  48129154  Myeong-dong       ¸íµ¿   \n",
       "4836  48330115  Myeong-dong       ¸íµ¿   \n",
       "\n",
       "                                               geometry  \n",
       "2682  POLYGON ((1063019.381 1904578.773, 1063053.357...  \n",
       "4619  MULTIPOLYGON (((1110511.715 1675077.943, 11103...  \n",
       "4836  POLYGON ((1150651.913 1711735.567, 1150657.629...  "
      ]
     },
     "execution_count": 62,
     "metadata": {},
     "output_type": "execute_result"
    }
   ],
   "source": [
    "gpd.read_file(os.path.join('EMD_202005','EMD.dbf')).query('EMD_ENG_NM==\\'Myeong-dong\\'')"
   ]
  },
  {
   "cell_type": "code",
   "execution_count": 65,
   "metadata": {
    "ExecuteTime": {
     "end_time": "2020-08-31T13:44:48.670833Z",
     "start_time": "2020-08-31T13:44:48.659828Z"
    }
   },
   "outputs": [
    {
     "data": {
      "text/plain": [
       "57    POLYGON ((955040.008 1952214.778, 955040.007 1...\n",
       "Name: geometry, dtype: geometry"
      ]
     },
     "execution_count": 65,
     "metadata": {},
     "output_type": "execute_result"
    }
   ],
   "source": [
    "geo_df.loc[geo_df.HDONG_NM=='명동'].geometry"
   ]
  },
  {
   "cell_type": "code",
   "execution_count": 57,
   "metadata": {
    "ExecuteTime": {
     "end_time": "2020-08-31T13:39:42.819842Z",
     "start_time": "2020-08-31T13:39:42.788926Z"
    }
   },
   "outputs": [
    {
     "data": {
      "text/html": [
       "<div>\n",
       "<style scoped>\n",
       "    .dataframe tbody tr th:only-of-type {\n",
       "        vertical-align: middle;\n",
       "    }\n",
       "\n",
       "    .dataframe tbody tr th {\n",
       "        vertical-align: top;\n",
       "    }\n",
       "\n",
       "    .dataframe thead th {\n",
       "        text-align: right;\n",
       "    }\n",
       "</style>\n",
       "<table border=\"1\" class=\"dataframe\">\n",
       "  <thead>\n",
       "    <tr style=\"text-align: right;\">\n",
       "      <th></th>\n",
       "      <th>geometry</th>\n",
       "    </tr>\n",
       "  </thead>\n",
       "  <tbody>\n",
       "    <tr>\n",
       "      <th>0</th>\n",
       "      <td>POLYGON ((1110163.050 1760631.159, 1110159.980...</td>\n",
       "    </tr>\n",
       "    <tr>\n",
       "      <th>1</th>\n",
       "      <td>POLYGON ((1108750.463 1760472.331, 1108750.254...</td>\n",
       "    </tr>\n",
       "    <tr>\n",
       "      <th>2</th>\n",
       "      <td>POLYGON ((1110796.393 1761790.272, 1110768.063...</td>\n",
       "    </tr>\n",
       "    <tr>\n",
       "      <th>3</th>\n",
       "      <td>POLYGON ((1101901.259 1759682.396, 1101895.505...</td>\n",
       "    </tr>\n",
       "    <tr>\n",
       "      <th>4</th>\n",
       "      <td>POLYGON ((1104959.292 1764030.763, 1104950.336...</td>\n",
       "    </tr>\n",
       "    <tr>\n",
       "      <th>...</th>\n",
       "      <td>...</td>\n",
       "    </tr>\n",
       "    <tr>\n",
       "      <th>64</th>\n",
       "      <td>POLYGON ((953267.837 1951244.338, 953260.413 1...</td>\n",
       "    </tr>\n",
       "    <tr>\n",
       "      <th>65</th>\n",
       "      <td>POLYGON ((957542.926 1950997.368, 957519.101 1...</td>\n",
       "    </tr>\n",
       "    <tr>\n",
       "      <th>66</th>\n",
       "      <td>POLYGON ((955947.962 1951617.335, 955934.934 1...</td>\n",
       "    </tr>\n",
       "    <tr>\n",
       "      <th>67</th>\n",
       "      <td>POLYGON ((957926.315 1951862.361, 957912.004 1...</td>\n",
       "    </tr>\n",
       "    <tr>\n",
       "      <th>68</th>\n",
       "      <td>POLYGON ((954425.410 1950536.931, 954424.260 1...</td>\n",
       "    </tr>\n",
       "  </tbody>\n",
       "</table>\n",
       "<p>69 rows × 1 columns</p>\n",
       "</div>"
      ],
      "text/plain": [
       "                                             geometry\n",
       "0   POLYGON ((1110163.050 1760631.159, 1110159.980...\n",
       "1   POLYGON ((1108750.463 1760472.331, 1108750.254...\n",
       "2   POLYGON ((1110796.393 1761790.272, 1110768.063...\n",
       "3   POLYGON ((1101901.259 1759682.396, 1101895.505...\n",
       "4   POLYGON ((1104959.292 1764030.763, 1104950.336...\n",
       "..                                                ...\n",
       "64  POLYGON ((953267.837 1951244.338, 953260.413 1...\n",
       "65  POLYGON ((957542.926 1950997.368, 957519.101 1...\n",
       "66  POLYGON ((955947.962 1951617.335, 955934.934 1...\n",
       "67  POLYGON ((957926.315 1951862.361, 957912.004 1...\n",
       "68  POLYGON ((954425.410 1950536.931, 954424.260 1...\n",
       "\n",
       "[69 rows x 1 columns]"
      ]
     },
     "execution_count": 57,
     "metadata": {},
     "output_type": "execute_result"
    }
   ],
   "source": [
    "geo_df[['geometry']]"
   ]
  },
  {
   "cell_type": "code",
   "execution_count": 4,
   "metadata": {
    "ExecuteTime": {
     "end_time": "2020-08-31T12:49:01.179493Z",
     "start_time": "2020-08-31T12:49:01.176501Z"
    }
   },
   "outputs": [],
   "source": [
    "bus_info=os.path.join(csv_file_path,'bus_info')"
   ]
  },
  {
   "cell_type": "code",
   "execution_count": 14,
   "metadata": {
    "ExecuteTime": {
     "end_time": "2020-08-31T13:05:44.284510Z",
     "start_time": "2020-08-31T13:05:29.375390Z"
    }
   },
   "outputs": [],
   "source": [
    "bus_station=pd.concat([pd.read_csv(os.path.join(bus_info,file), encoding='cp949') for file in os.listdir(bus_info) if file.endswith('csv')])"
   ]
  },
  {
   "cell_type": "code",
   "execution_count": 19,
   "metadata": {
    "ExecuteTime": {
     "end_time": "2020-08-31T13:06:34.000714Z",
     "start_time": "2020-08-31T13:06:33.129872Z"
    }
   },
   "outputs": [],
   "source": [
    "bus_station_info=[pd.read_excel(os.path.join(bus_info,file)) for file in os.listdir(bus_info) if file.endswith('xlsx')][0]"
   ]
  },
  {
   "cell_type": "code",
   "execution_count": 123,
   "metadata": {
    "ExecuteTime": {
     "end_time": "2020-08-31T14:07:36.070945Z",
     "start_time": "2020-08-31T14:07:36.035007Z"
    }
   },
   "outputs": [
    {
     "data": {
      "text/html": [
       "<div>\n",
       "<style scoped>\n",
       "    .dataframe tbody tr th:only-of-type {\n",
       "        vertical-align: middle;\n",
       "    }\n",
       "\n",
       "    .dataframe tbody tr th {\n",
       "        vertical-align: top;\n",
       "    }\n",
       "\n",
       "    .dataframe thead th {\n",
       "        text-align: right;\n",
       "    }\n",
       "</style>\n",
       "<table border=\"1\" class=\"dataframe\">\n",
       "  <thead>\n",
       "    <tr style=\"text-align: right;\">\n",
       "      <th></th>\n",
       "      <th>STD_YYYY</th>\n",
       "      <th>HDONG_CD</th>\n",
       "      <th>HDONG_NM</th>\n",
       "      <th>SIDO_CD</th>\n",
       "      <th>SIDO_NM</th>\n",
       "      <th>SGNG_CD</th>\n",
       "      <th>SGNG_NM</th>\n",
       "      <th>AREA</th>\n",
       "      <th>LENGTH</th>\n",
       "      <th>X_COORD</th>\n",
       "      <th>Y_COORD</th>\n",
       "      <th>geometry</th>\n",
       "    </tr>\n",
       "  </thead>\n",
       "  <tbody>\n",
       "    <tr>\n",
       "      <th>0</th>\n",
       "      <td>2020</td>\n",
       "      <td>2726067000</td>\n",
       "      <td>고산1동</td>\n",
       "      <td>27</td>\n",
       "      <td>대구광역시</td>\n",
       "      <td>27260</td>\n",
       "      <td>수성구</td>\n",
       "      <td>8881312.38</td>\n",
       "      <td>17757.54</td>\n",
       "      <td>128.69963062806</td>\n",
       "      <td>35.8117467030855</td>\n",
       "      <td>POLYGON ((1110163.050 1760631.159, 1110159.980...</td>\n",
       "    </tr>\n",
       "    <tr>\n",
       "      <th>1</th>\n",
       "      <td>2020</td>\n",
       "      <td>2726068000</td>\n",
       "      <td>고산2동</td>\n",
       "      <td>27</td>\n",
       "      <td>대구광역시</td>\n",
       "      <td>27260</td>\n",
       "      <td>수성구</td>\n",
       "      <td>24523329.28</td>\n",
       "      <td>25763.81</td>\n",
       "      <td>128.677147073408</td>\n",
       "      <td>35.838758403345</td>\n",
       "      <td>POLYGON ((1108750.463 1760472.331, 1108750.254...</td>\n",
       "    </tr>\n",
       "    <tr>\n",
       "      <th>2</th>\n",
       "      <td>2020</td>\n",
       "      <td>2726069000</td>\n",
       "      <td>고산3동</td>\n",
       "      <td>27</td>\n",
       "      <td>대구광역시</td>\n",
       "      <td>27260</td>\n",
       "      <td>수성구</td>\n",
       "      <td>5315712.45</td>\n",
       "      <td>11274.68</td>\n",
       "      <td>128.714043831276</td>\n",
       "      <td>35.8490479398919</td>\n",
       "      <td>POLYGON ((1110796.393 1761790.272, 1110768.063...</td>\n",
       "    </tr>\n",
       "    <tr>\n",
       "      <th>3</th>\n",
       "      <td>2020</td>\n",
       "      <td>2726064000</td>\n",
       "      <td>두산동</td>\n",
       "      <td>27</td>\n",
       "      <td>대구광역시</td>\n",
       "      <td>27260</td>\n",
       "      <td>수성구</td>\n",
       "      <td>1966650.15</td>\n",
       "      <td>7777.10</td>\n",
       "      <td>128.620832776346</td>\n",
       "      <td>35.8285656536299</td>\n",
       "      <td>POLYGON ((1101901.259 1759682.396, 1101895.505...</td>\n",
       "    </tr>\n",
       "    <tr>\n",
       "      <th>4</th>\n",
       "      <td>2020</td>\n",
       "      <td>2726055000</td>\n",
       "      <td>만촌1동</td>\n",
       "      <td>27</td>\n",
       "      <td>대구광역시</td>\n",
       "      <td>27260</td>\n",
       "      <td>수성구</td>\n",
       "      <td>2830625.94</td>\n",
       "      <td>8778.85</td>\n",
       "      <td>128.649513200936</td>\n",
       "      <td>35.8706818518603</td>\n",
       "      <td>POLYGON ((1104959.292 1764030.763, 1104950.336...</td>\n",
       "    </tr>\n",
       "    <tr>\n",
       "      <th>...</th>\n",
       "      <td>...</td>\n",
       "      <td>...</td>\n",
       "      <td>...</td>\n",
       "      <td>...</td>\n",
       "      <td>...</td>\n",
       "      <td>...</td>\n",
       "      <td>...</td>\n",
       "      <td>...</td>\n",
       "      <td>...</td>\n",
       "      <td>...</td>\n",
       "      <td>...</td>\n",
       "      <td>...</td>\n",
       "    </tr>\n",
       "    <tr>\n",
       "      <th>64</th>\n",
       "      <td>2020</td>\n",
       "      <td>1114068000</td>\n",
       "      <td>중림동</td>\n",
       "      <td>11</td>\n",
       "      <td>서울특별시</td>\n",
       "      <td>11140</td>\n",
       "      <td>중구</td>\n",
       "      <td>482329.92</td>\n",
       "      <td>3500.86</td>\n",
       "      <td>126.966042028799</td>\n",
       "      <td>37.5573555328314</td>\n",
       "      <td>POLYGON ((953267.837 1951244.338, 953260.413 1...</td>\n",
       "    </tr>\n",
       "    <tr>\n",
       "      <th>65</th>\n",
       "      <td>2020</td>\n",
       "      <td>1114064500</td>\n",
       "      <td>청구동</td>\n",
       "      <td>11</td>\n",
       "      <td>서울특별시</td>\n",
       "      <td>11140</td>\n",
       "      <td>중구</td>\n",
       "      <td>336949.37</td>\n",
       "      <td>2696.70</td>\n",
       "      <td>127.015201201613</td>\n",
       "      <td>37.5568631855271</td>\n",
       "      <td>POLYGON ((957542.926 1950997.368, 957519.101 1...</td>\n",
       "    </tr>\n",
       "    <tr>\n",
       "      <th>66</th>\n",
       "      <td>2020</td>\n",
       "      <td>1114057000</td>\n",
       "      <td>필동</td>\n",
       "      <td>11</td>\n",
       "      <td>서울특별시</td>\n",
       "      <td>11140</td>\n",
       "      <td>중구</td>\n",
       "      <td>1173378.79</td>\n",
       "      <td>6575.62</td>\n",
       "      <td>126.992276757613</td>\n",
       "      <td>37.5568174037835</td>\n",
       "      <td>POLYGON ((955947.962 1951617.335, 955934.934 1...</td>\n",
       "    </tr>\n",
       "    <tr>\n",
       "      <th>67</th>\n",
       "      <td>2020</td>\n",
       "      <td>1114067000</td>\n",
       "      <td>황학동</td>\n",
       "      <td>11</td>\n",
       "      <td>서울특별시</td>\n",
       "      <td>11140</td>\n",
       "      <td>중구</td>\n",
       "      <td>328678.23</td>\n",
       "      <td>2381.97</td>\n",
       "      <td>127.020846207973</td>\n",
       "      <td>37.5685359648242</td>\n",
       "      <td>POLYGON ((957926.315 1951862.361, 957912.004 1...</td>\n",
       "    </tr>\n",
       "    <tr>\n",
       "      <th>68</th>\n",
       "      <td>2020</td>\n",
       "      <td>1114054000</td>\n",
       "      <td>회현동</td>\n",
       "      <td>11</td>\n",
       "      <td>서울특별시</td>\n",
       "      <td>11140</td>\n",
       "      <td>중구</td>\n",
       "      <td>847351.57</td>\n",
       "      <td>4540.89</td>\n",
       "      <td>126.976855625748</td>\n",
       "      <td>37.5571782653588</td>\n",
       "      <td>POLYGON ((954425.410 1950536.931, 954424.260 1...</td>\n",
       "    </tr>\n",
       "  </tbody>\n",
       "</table>\n",
       "<p>69 rows × 12 columns</p>\n",
       "</div>"
      ],
      "text/plain": [
       "   STD_YYYY    HDONG_CD HDONG_NM SIDO_CD SIDO_NM SGNG_CD SGNG_NM         AREA  \\\n",
       "0      2020  2726067000     고산1동      27   대구광역시   27260     수성구   8881312.38   \n",
       "1      2020  2726068000     고산2동      27   대구광역시   27260     수성구  24523329.28   \n",
       "2      2020  2726069000     고산3동      27   대구광역시   27260     수성구   5315712.45   \n",
       "3      2020  2726064000      두산동      27   대구광역시   27260     수성구   1966650.15   \n",
       "4      2020  2726055000     만촌1동      27   대구광역시   27260     수성구   2830625.94   \n",
       "..      ...         ...      ...     ...     ...     ...     ...          ...   \n",
       "64     2020  1114068000      중림동      11   서울특별시   11140      중구    482329.92   \n",
       "65     2020  1114064500      청구동      11   서울특별시   11140      중구    336949.37   \n",
       "66     2020  1114057000       필동      11   서울특별시   11140      중구   1173378.79   \n",
       "67     2020  1114067000      황학동      11   서울특별시   11140      중구    328678.23   \n",
       "68     2020  1114054000      회현동      11   서울특별시   11140      중구    847351.57   \n",
       "\n",
       "      LENGTH           X_COORD           Y_COORD  \\\n",
       "0   17757.54   128.69963062806  35.8117467030855   \n",
       "1   25763.81  128.677147073408   35.838758403345   \n",
       "2   11274.68  128.714043831276  35.8490479398919   \n",
       "3    7777.10  128.620832776346  35.8285656536299   \n",
       "4    8778.85  128.649513200936  35.8706818518603   \n",
       "..       ...               ...               ...   \n",
       "64   3500.86  126.966042028799  37.5573555328314   \n",
       "65   2696.70  127.015201201613  37.5568631855271   \n",
       "66   6575.62  126.992276757613  37.5568174037835   \n",
       "67   2381.97  127.020846207973  37.5685359648242   \n",
       "68   4540.89  126.976855625748  37.5571782653588   \n",
       "\n",
       "                                             geometry  \n",
       "0   POLYGON ((1110163.050 1760631.159, 1110159.980...  \n",
       "1   POLYGON ((1108750.463 1760472.331, 1108750.254...  \n",
       "2   POLYGON ((1110796.393 1761790.272, 1110768.063...  \n",
       "3   POLYGON ((1101901.259 1759682.396, 1101895.505...  \n",
       "4   POLYGON ((1104959.292 1764030.763, 1104950.336...  \n",
       "..                                                ...  \n",
       "64  POLYGON ((953267.837 1951244.338, 953260.413 1...  \n",
       "65  POLYGON ((957542.926 1950997.368, 957519.101 1...  \n",
       "66  POLYGON ((955947.962 1951617.335, 955934.934 1...  \n",
       "67  POLYGON ((957926.315 1951862.361, 957912.004 1...  \n",
       "68  POLYGON ((954425.410 1950536.931, 954424.260 1...  \n",
       "\n",
       "[69 rows x 12 columns]"
      ]
     },
     "execution_count": 123,
     "metadata": {},
     "output_type": "execute_result"
    }
   ],
   "source": [
    "geo_df"
   ]
  },
  {
   "cell_type": "code",
   "execution_count": null,
   "metadata": {},
   "outputs": [],
   "source": [
    "bus_station_info['point'] = None"
   ]
  },
  {
   "cell_type": "code",
   "execution_count": 153,
   "metadata": {
    "ExecuteTime": {
     "end_time": "2020-08-31T14:50:00.127555Z",
     "start_time": "2020-08-31T14:41:07.052047Z"
    }
   },
   "outputs": [
    {
     "name": "stderr",
     "output_type": "stream",
     "text": [
      "100%|████████████████████████████████████████████████████████████████████████████| 11280/11280 [08:53<00:00, 21.16it/s]\n"
     ]
    }
   ],
   "source": [
    "for i in trange(bus_station_info.shape[0]):\n",
    "    x=bus_station_info.iloc[i,:].X좌표\n",
    "    y=bus_station_info.iloc[i,:].Y좌표\n",
    "    \n",
    "    bus_station_info.iloc[i,-1]=Point(transform(proj_WGS84,proj_UTMK,x,y))"
   ]
  },
  {
   "cell_type": "code",
   "execution_count": 120,
   "metadata": {
    "ExecuteTime": {
     "end_time": "2020-08-31T14:06:23.734443Z",
     "start_time": "2020-08-31T14:06:23.497115Z"
    }
   },
   "outputs": [],
   "source": [
    "# x=geo_df.geometry.apply(lambda x: MultiPoint(list(x.exterior.coords)))[0][0].x\n",
    "# y=geo_df.geometry.apply(lambda x: MultiPoint(list(x.exterior.coords)))[0][0].y"
   ]
  },
  {
   "cell_type": "code",
   "execution_count": 228,
   "metadata": {
    "ExecuteTime": {
     "end_time": "2020-08-31T15:26:16.522304Z",
     "start_time": "2020-08-31T15:26:15.994136Z"
    }
   },
   "outputs": [],
   "source": [
    "boundary_point = geo_df.geometry.apply(lambda x: MultiPoint(list(x.exterior.coords))).apply(lambda t : [(p.x, p.y) for p in t])"
   ]
  },
  {
   "cell_type": "code",
   "execution_count": 242,
   "metadata": {
    "ExecuteTime": {
     "end_time": "2020-08-31T15:28:46.729312Z",
     "start_time": "2020-08-31T15:28:46.721348Z"
    }
   },
   "outputs": [
    {
     "data": {
      "text/plain": [
       "(953683.6653736102, 1950536.9311430962)"
      ]
     },
     "execution_count": 242,
     "metadata": {},
     "output_type": "execute_result"
    }
   ],
   "source": [
    "min([t[0] for t in boundary_point[57]]), min([t[1] for t in boundary_point[57]])"
   ]
  },
  {
   "cell_type": "code",
   "execution_count": 241,
   "metadata": {
    "ExecuteTime": {
     "end_time": "2020-08-31T15:28:44.660719Z",
     "start_time": "2020-08-31T15:28:44.652718Z"
    }
   },
   "outputs": [
    {
     "data": {
      "text/plain": [
       "(955040.0078799353, 1952364.0505612176)"
      ]
     },
     "execution_count": 241,
     "metadata": {},
     "output_type": "execute_result"
    }
   ],
   "source": [
    "max([t[0] for t in boundary_point[57]]), max([t[1] for t in boundary_point[57]])"
   ]
  },
  {
   "cell_type": "code",
   "execution_count": null,
   "metadata": {},
   "outputs": [],
   "source": []
  },
  {
   "cell_type": "code",
   "execution_count": 240,
   "metadata": {
    "ExecuteTime": {
     "end_time": "2020-08-31T15:28:21.302833Z",
     "start_time": "2020-08-31T15:28:21.294870Z"
    }
   },
   "outputs": [
    {
     "data": {
      "text/plain": [
       "0        POINT (954953.4472414826 1952083.487207221)\n",
       "1        POINT (955737.5763993721 1953124.169037486)\n",
       "2        POINT (955896.2869434773 1953510.331291817)\n",
       "3        POINT (954940.6524992425 1951951.987410024)\n",
       "4        POINT (956198.9272839265 1953905.016739041)\n",
       "                            ...                     \n",
       "11275    POINT (968331.8950139196 1949871.457470266)\n",
       "11276    POINT (968394.5284989876 1949899.717839497)\n",
       "11277    POINT (966933.9296050069 1948017.953336857)\n",
       "11278    POINT (967102.9673859276 1948297.384568186)\n",
       "11279    POINT (967267.3853974621 1948761.392385483)\n",
       "Name: point, Length: 11280, dtype: object"
      ]
     },
     "execution_count": 240,
     "metadata": {},
     "output_type": "execute_result"
    }
   ],
   "source": [
    "bus_station_info.point"
   ]
  },
  {
   "cell_type": "code",
   "execution_count": 170,
   "metadata": {
    "ExecuteTime": {
     "end_time": "2020-08-31T14:54:53.710678Z",
     "start_time": "2020-08-31T14:54:53.698717Z"
    }
   },
   "outputs": [
    {
     "data": {
      "text/plain": [
       "0     False\n",
       "1     False\n",
       "2     False\n",
       "3     False\n",
       "4     False\n",
       "      ...  \n",
       "64    False\n",
       "65    False\n",
       "66    False\n",
       "67    False\n",
       "68    False\n",
       "Name: geometry, Length: 69, dtype: bool"
      ]
     },
     "execution_count": 170,
     "metadata": {},
     "output_type": "execute_result"
    }
   ],
   "source": [
    "geo_df.geometry.apply(lambda x :x.contains(bus_station_info.point[0]))"
   ]
  },
  {
   "cell_type": "code",
   "execution_count": null,
   "metadata": {},
   "outputs": [],
   "source": [
    "geo_df.geometry.contains(bus_station_info.point[i])"
   ]
  },
  {
   "cell_type": "code",
   "execution_count": 122,
   "metadata": {
    "ExecuteTime": {
     "end_time": "2020-08-31T14:06:29.465203Z",
     "start_time": "2020-08-31T14:06:29.411346Z"
    }
   },
   "outputs": [
    {
     "data": {
      "text/plain": [
       "(128.71765517867536, 35.83878136282792)"
      ]
     },
     "execution_count": 122,
     "metadata": {},
     "output_type": "execute_result"
    }
   ],
   "source": [
    "transform(proj_UTMK,proj_WGS84,x,y)"
   ]
  },
  {
   "cell_type": "code",
   "execution_count": 30,
   "metadata": {
    "ExecuteTime": {
     "end_time": "2020-08-31T13:22:53.729765Z",
     "start_time": "2020-08-31T13:22:53.724813Z"
    }
   },
   "outputs": [
    {
     "data": {
      "text/plain": [
       "126.9877498816"
      ]
     },
     "execution_count": 30,
     "metadata": {},
     "output_type": "execute_result"
    }
   ],
   "source": [
    "bus_station_info.iloc[0,3:5][0]"
   ]
  },
  {
   "cell_type": "code",
   "execution_count": 180,
   "metadata": {
    "ExecuteTime": {
     "end_time": "2020-08-31T15:05:26.734160Z",
     "start_time": "2020-08-31T15:05:23.771819Z"
    }
   },
   "outputs": [
    {
     "name": "stderr",
     "output_type": "stream",
     "text": [
      "100%|██████████████████████████████████████████████████████████████████████████| 11280/11280 [00:02<00:00, 3818.11it/s]\n"
     ]
    }
   ],
   "source": [
    "bus_station_indices=[]\n",
    "\n",
    "for i in trange(bus_station_info.shape[0]):\n",
    "    if sum(geo_df.geometry.contains(bus_station_info.point[i]))==1:\n",
    "        bus_station_indices.append(i)"
   ]
  },
  {
   "cell_type": "code",
   "execution_count": 202,
   "metadata": {
    "ExecuteTime": {
     "end_time": "2020-08-31T15:14:06.998344Z",
     "start_time": "2020-08-31T15:14:06.990348Z"
    }
   },
   "outputs": [
    {
     "data": {
      "text/plain": [
       "57"
      ]
     },
     "execution_count": 202,
     "metadata": {},
     "output_type": "execute_result"
    }
   ],
   "source": [
    "pd.Series(geo_df.geometry.contains(bus_station_info.point[3])+0).idxmax()"
   ]
  },
  {
   "cell_type": "code",
   "execution_count": 217,
   "metadata": {
    "ExecuteTime": {
     "end_time": "2020-08-31T15:17:07.771151Z",
     "start_time": "2020-08-31T15:17:07.755192Z"
    }
   },
   "outputs": [
    {
     "data": {
      "text/html": [
       "<div>\n",
       "<style scoped>\n",
       "    .dataframe tbody tr th:only-of-type {\n",
       "        vertical-align: middle;\n",
       "    }\n",
       "\n",
       "    .dataframe tbody tr th {\n",
       "        vertical-align: top;\n",
       "    }\n",
       "\n",
       "    .dataframe thead th {\n",
       "        text-align: right;\n",
       "    }\n",
       "</style>\n",
       "<table border=\"1\" class=\"dataframe\">\n",
       "  <thead>\n",
       "    <tr style=\"text-align: right;\">\n",
       "      <th></th>\n",
       "      <th>표준ID</th>\n",
       "      <th>ARS-ID</th>\n",
       "      <th>정류장명</th>\n",
       "      <th>X좌표</th>\n",
       "      <th>Y좌표</th>\n",
       "      <th>비고</th>\n",
       "      <th>point</th>\n",
       "    </tr>\n",
       "  </thead>\n",
       "  <tbody>\n",
       "    <tr>\n",
       "      <th>0</th>\n",
       "      <td>100000001</td>\n",
       "      <td>1001</td>\n",
       "      <td>종로2가사거리</td>\n",
       "      <td>126.987750</td>\n",
       "      <td>37.569765</td>\n",
       "      <td>NaN</td>\n",
       "      <td>POINT (954953.4472414826 1952083.487207221)</td>\n",
       "    </tr>\n",
       "    <tr>\n",
       "      <th>1</th>\n",
       "      <td>100000002</td>\n",
       "      <td>1002</td>\n",
       "      <td>창경궁.서울대학교병원</td>\n",
       "      <td>126.996566</td>\n",
       "      <td>37.579183</td>\n",
       "      <td>NaN</td>\n",
       "      <td>POINT (955737.5763993721 1953124.169037486)</td>\n",
       "    </tr>\n",
       "    <tr>\n",
       "      <th>2</th>\n",
       "      <td>100000003</td>\n",
       "      <td>1003</td>\n",
       "      <td>명륜3가.성대입구</td>\n",
       "      <td>126.998340</td>\n",
       "      <td>37.582671</td>\n",
       "      <td>NaN</td>\n",
       "      <td>POINT (955896.2869434773 1953510.331291817)</td>\n",
       "    </tr>\n",
       "    <tr>\n",
       "      <th>3</th>\n",
       "      <td>100000004</td>\n",
       "      <td>1004</td>\n",
       "      <td>종로2가.삼일교</td>\n",
       "      <td>126.987613</td>\n",
       "      <td>37.568579</td>\n",
       "      <td>NaN</td>\n",
       "      <td>POINT (954940.6524992425 1951951.987410024)</td>\n",
       "    </tr>\n",
       "    <tr>\n",
       "      <th>4</th>\n",
       "      <td>100000005</td>\n",
       "      <td>1005</td>\n",
       "      <td>혜화동로터리.여운형활동터</td>\n",
       "      <td>127.001744</td>\n",
       "      <td>37.586243</td>\n",
       "      <td>NaN</td>\n",
       "      <td>POINT (956198.9272839265 1953905.016739041)</td>\n",
       "    </tr>\n",
       "    <tr>\n",
       "      <th>...</th>\n",
       "      <td>...</td>\n",
       "      <td>...</td>\n",
       "      <td>...</td>\n",
       "      <td>...</td>\n",
       "      <td>...</td>\n",
       "      <td>...</td>\n",
       "      <td>...</td>\n",
       "    </tr>\n",
       "    <tr>\n",
       "      <th>11275</th>\n",
       "      <td>124000334</td>\n",
       "      <td>25995</td>\n",
       "      <td>우성아파트</td>\n",
       "      <td>127.139339</td>\n",
       "      <td>37.550386</td>\n",
       "      <td>NaN</td>\n",
       "      <td>POINT (968331.8950139196 1949871.457470266)</td>\n",
       "    </tr>\n",
       "    <tr>\n",
       "      <th>11276</th>\n",
       "      <td>124000333</td>\n",
       "      <td>25996</td>\n",
       "      <td>우성아파트</td>\n",
       "      <td>127.140046</td>\n",
       "      <td>37.550643</td>\n",
       "      <td>NaN</td>\n",
       "      <td>POINT (968394.5284989876 1949899.717839497)</td>\n",
       "    </tr>\n",
       "    <tr>\n",
       "      <th>11277</th>\n",
       "      <td>124000332</td>\n",
       "      <td>25997</td>\n",
       "      <td>조일약국</td>\n",
       "      <td>127.123596</td>\n",
       "      <td>37.533630</td>\n",
       "      <td>NaN</td>\n",
       "      <td>POINT (966933.9296050069 1948017.953336857)</td>\n",
       "    </tr>\n",
       "    <tr>\n",
       "      <th>11278</th>\n",
       "      <td>124000331</td>\n",
       "      <td>25998</td>\n",
       "      <td>성내시장</td>\n",
       "      <td>127.125497</td>\n",
       "      <td>37.536155</td>\n",
       "      <td>NaN</td>\n",
       "      <td>POINT (967102.9673859276 1948297.384568186)</td>\n",
       "    </tr>\n",
       "    <tr>\n",
       "      <th>11279</th>\n",
       "      <td>124000330</td>\n",
       "      <td>25999</td>\n",
       "      <td>천호우체국.로데오거리</td>\n",
       "      <td>127.127337</td>\n",
       "      <td>37.540343</td>\n",
       "      <td>NaN</td>\n",
       "      <td>POINT (967267.3853974621 1948761.392385483)</td>\n",
       "    </tr>\n",
       "  </tbody>\n",
       "</table>\n",
       "<p>11280 rows × 7 columns</p>\n",
       "</div>"
      ],
      "text/plain": [
       "            표준ID  ARS-ID           정류장명         X좌표        Y좌표   비고  \\\n",
       "0      100000001    1001        종로2가사거리  126.987750  37.569765  NaN   \n",
       "1      100000002    1002    창경궁.서울대학교병원  126.996566  37.579183  NaN   \n",
       "2      100000003    1003      명륜3가.성대입구  126.998340  37.582671  NaN   \n",
       "3      100000004    1004       종로2가.삼일교  126.987613  37.568579  NaN   \n",
       "4      100000005    1005  혜화동로터리.여운형활동터  127.001744  37.586243  NaN   \n",
       "...          ...     ...            ...         ...        ...  ...   \n",
       "11275  124000334   25995          우성아파트  127.139339  37.550386  NaN   \n",
       "11276  124000333   25996          우성아파트  127.140046  37.550643  NaN   \n",
       "11277  124000332   25997           조일약국  127.123596  37.533630  NaN   \n",
       "11278  124000331   25998           성내시장  127.125497  37.536155  NaN   \n",
       "11279  124000330   25999    천호우체국.로데오거리  127.127337  37.540343  NaN   \n",
       "\n",
       "                                             point  \n",
       "0      POINT (954953.4472414826 1952083.487207221)  \n",
       "1      POINT (955737.5763993721 1953124.169037486)  \n",
       "2      POINT (955896.2869434773 1953510.331291817)  \n",
       "3      POINT (954940.6524992425 1951951.987410024)  \n",
       "4      POINT (956198.9272839265 1953905.016739041)  \n",
       "...                                            ...  \n",
       "11275  POINT (968331.8950139196 1949871.457470266)  \n",
       "11276  POINT (968394.5284989876 1949899.717839497)  \n",
       "11277  POINT (966933.9296050069 1948017.953336857)  \n",
       "11278  POINT (967102.9673859276 1948297.384568186)  \n",
       "11279  POINT (967267.3853974621 1948761.392385483)  \n",
       "\n",
       "[11280 rows x 7 columns]"
      ]
     },
     "execution_count": 217,
     "metadata": {},
     "output_type": "execute_result"
    }
   ],
   "source": [
    "bus_station_info"
   ]
  },
  {
   "cell_type": "code",
   "execution_count": 220,
   "metadata": {
    "ExecuteTime": {
     "end_time": "2020-08-31T15:18:06.072647Z",
     "start_time": "2020-08-31T15:18:06.008649Z"
    }
   },
   "outputs": [
    {
     "data": {
      "text/html": [
       "<div>\n",
       "<style scoped>\n",
       "    .dataframe tbody tr th:only-of-type {\n",
       "        vertical-align: middle;\n",
       "    }\n",
       "\n",
       "    .dataframe tbody tr th {\n",
       "        vertical-align: top;\n",
       "    }\n",
       "\n",
       "    .dataframe thead th {\n",
       "        text-align: right;\n",
       "    }\n",
       "</style>\n",
       "<table border=\"1\" class=\"dataframe\">\n",
       "  <thead>\n",
       "    <tr style=\"text-align: right;\">\n",
       "      <th></th>\n",
       "      <th>STD_YYYY</th>\n",
       "      <th>HDONG_CD</th>\n",
       "      <th>HDONG_NM</th>\n",
       "      <th>SIDO_CD</th>\n",
       "      <th>SIDO_NM</th>\n",
       "      <th>SGNG_CD</th>\n",
       "      <th>SGNG_NM</th>\n",
       "      <th>AREA</th>\n",
       "      <th>LENGTH</th>\n",
       "      <th>X_COORD</th>\n",
       "      <th>Y_COORD</th>\n",
       "      <th>geometry</th>\n",
       "    </tr>\n",
       "  </thead>\n",
       "  <tbody>\n",
       "    <tr>\n",
       "      <th>35</th>\n",
       "      <td>2020</td>\n",
       "      <td>1135059500</td>\n",
       "      <td>공릉1동</td>\n",
       "      <td>11</td>\n",
       "      <td>서울특별시</td>\n",
       "      <td>11350</td>\n",
       "      <td>노원구</td>\n",
       "      <td>1224521.56</td>\n",
       "      <td>5518.75</td>\n",
       "      <td>127.072580677484</td>\n",
       "      <td>37.6240928160769</td>\n",
       "      <td>POLYGON ((963092.252 1957830.712, 963061.973 1...</td>\n",
       "    </tr>\n",
       "    <tr>\n",
       "      <th>36</th>\n",
       "      <td>2020</td>\n",
       "      <td>1135060000</td>\n",
       "      <td>공릉2동</td>\n",
       "      <td>11</td>\n",
       "      <td>서울특별시</td>\n",
       "      <td>11350</td>\n",
       "      <td>노원구</td>\n",
       "      <td>7006762.92</td>\n",
       "      <td>12460.30</td>\n",
       "      <td>127.094192345443</td>\n",
       "      <td>37.6315827276983</td>\n",
       "      <td>POLYGON ((965812.344 1959605.628, 965794.935 1...</td>\n",
       "    </tr>\n",
       "    <tr>\n",
       "      <th>37</th>\n",
       "      <td>2020</td>\n",
       "      <td>1135072000</td>\n",
       "      <td>상계10동</td>\n",
       "      <td>11</td>\n",
       "      <td>서울특별시</td>\n",
       "      <td>11350</td>\n",
       "      <td>노원구</td>\n",
       "      <td>812666.82</td>\n",
       "      <td>4960.89</td>\n",
       "      <td>127.058355723751</td>\n",
       "      <td>37.659583069717</td>\n",
       "      <td>POLYGON ((961691.873 1962520.538, 961647.075 1...</td>\n",
       "    </tr>\n",
       "    <tr>\n",
       "      <th>38</th>\n",
       "      <td>2020</td>\n",
       "      <td>1135063000</td>\n",
       "      <td>상계1동</td>\n",
       "      <td>11</td>\n",
       "      <td>서울특별시</td>\n",
       "      <td>11350</td>\n",
       "      <td>노원구</td>\n",
       "      <td>5192495.41</td>\n",
       "      <td>10692.72</td>\n",
       "      <td>127.064629697743</td>\n",
       "      <td>37.6833998457384</td>\n",
       "      <td>POLYGON ((963366.957 1965813.457, 963264.335 1...</td>\n",
       "    </tr>\n",
       "    <tr>\n",
       "      <th>39</th>\n",
       "      <td>2020</td>\n",
       "      <td>1135064000</td>\n",
       "      <td>상계2동</td>\n",
       "      <td>11</td>\n",
       "      <td>서울특별시</td>\n",
       "      <td>11350</td>\n",
       "      <td>노원구</td>\n",
       "      <td>624377.16</td>\n",
       "      <td>4252.19</td>\n",
       "      <td>127.067094017867</td>\n",
       "      <td>37.6566552079364</td>\n",
       "      <td>POLYGON ((962250.446 1961861.375, 962250.383 1...</td>\n",
       "    </tr>\n",
       "    <tr>\n",
       "      <th>40</th>\n",
       "      <td>2020</td>\n",
       "      <td>1135066500</td>\n",
       "      <td>상계3.4동</td>\n",
       "      <td>11</td>\n",
       "      <td>서울특별시</td>\n",
       "      <td>11350</td>\n",
       "      <td>노원구</td>\n",
       "      <td>5749582.10</td>\n",
       "      <td>10573.09</td>\n",
       "      <td>127.08314317742</td>\n",
       "      <td>37.6757523619367</td>\n",
       "      <td>POLYGON ((964410.534 1963426.492, 964392.467 1...</td>\n",
       "    </tr>\n",
       "    <tr>\n",
       "      <th>41</th>\n",
       "      <td>2020</td>\n",
       "      <td>1135067000</td>\n",
       "      <td>상계5동</td>\n",
       "      <td>11</td>\n",
       "      <td>서울특별시</td>\n",
       "      <td>11350</td>\n",
       "      <td>노원구</td>\n",
       "      <td>567542.62</td>\n",
       "      <td>3347.07</td>\n",
       "      <td>127.070177320924</td>\n",
       "      <td>37.6634377815075</td>\n",
       "      <td>POLYGON ((962577.233 1962732.613, 962558.941 1...</td>\n",
       "    </tr>\n",
       "    <tr>\n",
       "      <th>42</th>\n",
       "      <td>2020</td>\n",
       "      <td>1135069500</td>\n",
       "      <td>상계6.7동</td>\n",
       "      <td>11</td>\n",
       "      <td>서울특별시</td>\n",
       "      <td>11350</td>\n",
       "      <td>노원구</td>\n",
       "      <td>1434588.18</td>\n",
       "      <td>5869.68</td>\n",
       "      <td>127.060127802523</td>\n",
       "      <td>37.6485971896481</td>\n",
       "      <td>POLYGON ((961942.639 1961314.366, 961934.743 1...</td>\n",
       "    </tr>\n",
       "    <tr>\n",
       "      <th>43</th>\n",
       "      <td>2020</td>\n",
       "      <td>1135070000</td>\n",
       "      <td>상계8동</td>\n",
       "      <td>11</td>\n",
       "      <td>서울특별시</td>\n",
       "      <td>11350</td>\n",
       "      <td>노원구</td>\n",
       "      <td>673099.72</td>\n",
       "      <td>3469.86</td>\n",
       "      <td>127.053644338822</td>\n",
       "      <td>37.6662501290963</td>\n",
       "      <td>POLYGON ((961079.566 1962500.209, 960853.334 1...</td>\n",
       "    </tr>\n",
       "    <tr>\n",
       "      <th>44</th>\n",
       "      <td>2020</td>\n",
       "      <td>1135071000</td>\n",
       "      <td>상계9동</td>\n",
       "      <td>11</td>\n",
       "      <td>서울특별시</td>\n",
       "      <td>11350</td>\n",
       "      <td>노원구</td>\n",
       "      <td>753785.09</td>\n",
       "      <td>4392.37</td>\n",
       "      <td>127.062377792728</td>\n",
       "      <td>37.6676738482574</td>\n",
       "      <td>POLYGON ((962087.877 1963246.649, 962048.920 1...</td>\n",
       "    </tr>\n",
       "    <tr>\n",
       "      <th>45</th>\n",
       "      <td>2020</td>\n",
       "      <td>1135056000</td>\n",
       "      <td>월계1동</td>\n",
       "      <td>11</td>\n",
       "      <td>서울특별시</td>\n",
       "      <td>11350</td>\n",
       "      <td>노원구</td>\n",
       "      <td>1166227.69</td>\n",
       "      <td>4788.23</td>\n",
       "      <td>127.058407659784</td>\n",
       "      <td>37.6219049914248</td>\n",
       "      <td>POLYGON ((961696.551 1957373.175, 961693.724 1...</td>\n",
       "    </tr>\n",
       "    <tr>\n",
       "      <th>46</th>\n",
       "      <td>2020</td>\n",
       "      <td>1135057000</td>\n",
       "      <td>월계2동</td>\n",
       "      <td>11</td>\n",
       "      <td>서울특별시</td>\n",
       "      <td>11350</td>\n",
       "      <td>노원구</td>\n",
       "      <td>1980238.59</td>\n",
       "      <td>6143.72</td>\n",
       "      <td>127.051165363276</td>\n",
       "      <td>37.63397828936</td>\n",
       "      <td>POLYGON ((961081.146 1959046.924, 960790.205 1...</td>\n",
       "    </tr>\n",
       "    <tr>\n",
       "      <th>47</th>\n",
       "      <td>2020</td>\n",
       "      <td>1135058000</td>\n",
       "      <td>월계3동</td>\n",
       "      <td>11</td>\n",
       "      <td>서울특별시</td>\n",
       "      <td>11350</td>\n",
       "      <td>노원구</td>\n",
       "      <td>1142796.41</td>\n",
       "      <td>5833.32</td>\n",
       "      <td>127.064711649713</td>\n",
       "      <td>37.6247996242304</td>\n",
       "      <td>POLYGON ((962125.184 1957945.693, 962103.303 1...</td>\n",
       "    </tr>\n",
       "    <tr>\n",
       "      <th>48</th>\n",
       "      <td>2020</td>\n",
       "      <td>1135062100</td>\n",
       "      <td>중계1동</td>\n",
       "      <td>11</td>\n",
       "      <td>서울특별시</td>\n",
       "      <td>11350</td>\n",
       "      <td>노원구</td>\n",
       "      <td>628062.77</td>\n",
       "      <td>3592.25</td>\n",
       "      <td>127.073704660222</td>\n",
       "      <td>37.6501114878983</td>\n",
       "      <td>POLYGON ((962794.399 1961717.119, 962792.845 1...</td>\n",
       "    </tr>\n",
       "    <tr>\n",
       "      <th>49</th>\n",
       "      <td>2020</td>\n",
       "      <td>1135062500</td>\n",
       "      <td>중계2.3동</td>\n",
       "      <td>11</td>\n",
       "      <td>서울특별시</td>\n",
       "      <td>11350</td>\n",
       "      <td>노원구</td>\n",
       "      <td>917459.99</td>\n",
       "      <td>4353.50</td>\n",
       "      <td>127.065855936474</td>\n",
       "      <td>37.6434036468999</td>\n",
       "      <td>POLYGON ((962226.359 1960488.053, 962093.241 1...</td>\n",
       "    </tr>\n",
       "    <tr>\n",
       "      <th>50</th>\n",
       "      <td>2020</td>\n",
       "      <td>1135062400</td>\n",
       "      <td>중계4동</td>\n",
       "      <td>11</td>\n",
       "      <td>서울특별시</td>\n",
       "      <td>11350</td>\n",
       "      <td>노원구</td>\n",
       "      <td>1831140.50</td>\n",
       "      <td>6429.14</td>\n",
       "      <td>127.083623990819</td>\n",
       "      <td>37.6585758703223</td>\n",
       "      <td>POLYGON ((964316.492 1962785.948, 964253.890 1...</td>\n",
       "    </tr>\n",
       "    <tr>\n",
       "      <th>51</th>\n",
       "      <td>2020</td>\n",
       "      <td>1135061900</td>\n",
       "      <td>중계본동</td>\n",
       "      <td>11</td>\n",
       "      <td>서울특별시</td>\n",
       "      <td>11350</td>\n",
       "      <td>노원구</td>\n",
       "      <td>1867572.70</td>\n",
       "      <td>5673.58</td>\n",
       "      <td>127.085487737781</td>\n",
       "      <td>37.6476314920143</td>\n",
       "      <td>POLYGON ((964245.873 1960547.426, 964223.087 1...</td>\n",
       "    </tr>\n",
       "    <tr>\n",
       "      <th>52</th>\n",
       "      <td>2020</td>\n",
       "      <td>1135061100</td>\n",
       "      <td>하계1동</td>\n",
       "      <td>11</td>\n",
       "      <td>서울특별시</td>\n",
       "      <td>11350</td>\n",
       "      <td>노원구</td>\n",
       "      <td>1522251.10</td>\n",
       "      <td>5940.43</td>\n",
       "      <td>127.075006253426</td>\n",
       "      <td>37.6385443549675</td>\n",
       "      <td>POLYGON ((963274.985 1960170.127, 963227.531 1...</td>\n",
       "    </tr>\n",
       "    <tr>\n",
       "      <th>53</th>\n",
       "      <td>2020</td>\n",
       "      <td>1135061200</td>\n",
       "      <td>하계2동</td>\n",
       "      <td>11</td>\n",
       "      <td>서울특별시</td>\n",
       "      <td>11350</td>\n",
       "      <td>노원구</td>\n",
       "      <td>502928.23</td>\n",
       "      <td>3389.46</td>\n",
       "      <td>127.064952059084</td>\n",
       "      <td>37.634922865182</td>\n",
       "      <td>POLYGON ((962078.906 1959190.632, 962070.091 1...</td>\n",
       "    </tr>\n",
       "    <tr>\n",
       "      <th>54</th>\n",
       "      <td>2020</td>\n",
       "      <td>1114059000</td>\n",
       "      <td>광희동</td>\n",
       "      <td>11</td>\n",
       "      <td>서울특별시</td>\n",
       "      <td>11140</td>\n",
       "      <td>중구</td>\n",
       "      <td>741195.05</td>\n",
       "      <td>5359.72</td>\n",
       "      <td>127.003692947513</td>\n",
       "      <td>37.5651771776684</td>\n",
       "      <td>POLYGON ((956871.822 1951982.161, 956868.441 1...</td>\n",
       "    </tr>\n",
       "    <tr>\n",
       "      <th>55</th>\n",
       "      <td>2020</td>\n",
       "      <td>1114062500</td>\n",
       "      <td>다산동</td>\n",
       "      <td>11</td>\n",
       "      <td>서울특별시</td>\n",
       "      <td>11140</td>\n",
       "      <td>중구</td>\n",
       "      <td>521341.19</td>\n",
       "      <td>4124.64</td>\n",
       "      <td>127.008419495876</td>\n",
       "      <td>37.5550340631202</td>\n",
       "      <td>POLYGON ((957055.236 1951313.304, 956816.646 1...</td>\n",
       "    </tr>\n",
       "    <tr>\n",
       "      <th>56</th>\n",
       "      <td>2020</td>\n",
       "      <td>1114066500</td>\n",
       "      <td>동화동</td>\n",
       "      <td>11</td>\n",
       "      <td>서울특별시</td>\n",
       "      <td>11140</td>\n",
       "      <td>중구</td>\n",
       "      <td>328213.50</td>\n",
       "      <td>2994.67</td>\n",
       "      <td>127.01864830948</td>\n",
       "      <td>37.5606737789162</td>\n",
       "      <td>POLYGON ((957906.335 1951370.632, 957902.853 1...</td>\n",
       "    </tr>\n",
       "    <tr>\n",
       "      <th>57</th>\n",
       "      <td>2020</td>\n",
       "      <td>1114055000</td>\n",
       "      <td>명동</td>\n",
       "      <td>11</td>\n",
       "      <td>서울특별시</td>\n",
       "      <td>11140</td>\n",
       "      <td>중구</td>\n",
       "      <td>1053644.29</td>\n",
       "      <td>6472.97</td>\n",
       "      <td>126.984204994077</td>\n",
       "      <td>37.5635855225755</td>\n",
       "      <td>POLYGON ((955040.008 1952214.778, 955040.007 1...</td>\n",
       "    </tr>\n",
       "    <tr>\n",
       "      <th>58</th>\n",
       "      <td>2020</td>\n",
       "      <td>1114052000</td>\n",
       "      <td>소공동</td>\n",
       "      <td>11</td>\n",
       "      <td>서울특별시</td>\n",
       "      <td>11140</td>\n",
       "      <td>중구</td>\n",
       "      <td>893419.62</td>\n",
       "      <td>4367.79</td>\n",
       "      <td>126.974020056852</td>\n",
       "      <td>37.564293390876</td>\n",
       "      <td>POLYGON ((954272.149 1951850.514, 954267.845 1...</td>\n",
       "    </tr>\n",
       "    <tr>\n",
       "      <th>59</th>\n",
       "      <td>2020</td>\n",
       "      <td>1114065000</td>\n",
       "      <td>신당5동</td>\n",
       "      <td>11</td>\n",
       "      <td>서울특별시</td>\n",
       "      <td>11140</td>\n",
       "      <td>중구</td>\n",
       "      <td>321347.03</td>\n",
       "      <td>2668.71</td>\n",
       "      <td>127.021837599297</td>\n",
       "      <td>37.5636273781666</td>\n",
       "      <td>POLYGON ((958209.264 1951753.867, 958200.407 1...</td>\n",
       "    </tr>\n",
       "    <tr>\n",
       "      <th>60</th>\n",
       "      <td>2020</td>\n",
       "      <td>1114061500</td>\n",
       "      <td>신당동</td>\n",
       "      <td>11</td>\n",
       "      <td>서울특별시</td>\n",
       "      <td>11140</td>\n",
       "      <td>중구</td>\n",
       "      <td>544408.19</td>\n",
       "      <td>3475.62</td>\n",
       "      <td>127.013671065263</td>\n",
       "      <td>37.5657239453701</td>\n",
       "      <td>POLYGON ((957441.172 1951909.880, 957412.450 1...</td>\n",
       "    </tr>\n",
       "    <tr>\n",
       "      <th>61</th>\n",
       "      <td>2020</td>\n",
       "      <td>1114063500</td>\n",
       "      <td>약수동</td>\n",
       "      <td>11</td>\n",
       "      <td>서울특별시</td>\n",
       "      <td>11140</td>\n",
       "      <td>중구</td>\n",
       "      <td>490077.51</td>\n",
       "      <td>3896.34</td>\n",
       "      <td>127.010300656641</td>\n",
       "      <td>37.5501699450313</td>\n",
       "      <td>POLYGON ((957294.052 1950539.100, 957282.692 1...</td>\n",
       "    </tr>\n",
       "    <tr>\n",
       "      <th>62</th>\n",
       "      <td>2020</td>\n",
       "      <td>1114060500</td>\n",
       "      <td>을지로동</td>\n",
       "      <td>11</td>\n",
       "      <td>서울특별시</td>\n",
       "      <td>11140</td>\n",
       "      <td>중구</td>\n",
       "      <td>599091.52</td>\n",
       "      <td>4524.58</td>\n",
       "      <td>126.996386576655</td>\n",
       "      <td>37.5665846436975</td>\n",
       "      <td>POLYGON ((956318.685 1952364.497, 956318.681 1...</td>\n",
       "    </tr>\n",
       "    <tr>\n",
       "      <th>63</th>\n",
       "      <td>2020</td>\n",
       "      <td>1114058000</td>\n",
       "      <td>장충동</td>\n",
       "      <td>11</td>\n",
       "      <td>서울특별시</td>\n",
       "      <td>11140</td>\n",
       "      <td>중구</td>\n",
       "      <td>1310554.91</td>\n",
       "      <td>7373.04</td>\n",
       "      <td>127.001637316895</td>\n",
       "      <td>37.5558643497356</td>\n",
       "      <td>POLYGON ((956708.730 1951343.840, 956705.393 1...</td>\n",
       "    </tr>\n",
       "    <tr>\n",
       "      <th>64</th>\n",
       "      <td>2020</td>\n",
       "      <td>1114068000</td>\n",
       "      <td>중림동</td>\n",
       "      <td>11</td>\n",
       "      <td>서울특별시</td>\n",
       "      <td>11140</td>\n",
       "      <td>중구</td>\n",
       "      <td>482329.92</td>\n",
       "      <td>3500.86</td>\n",
       "      <td>126.966042028799</td>\n",
       "      <td>37.5573555328314</td>\n",
       "      <td>POLYGON ((953267.837 1951244.338, 953260.413 1...</td>\n",
       "    </tr>\n",
       "    <tr>\n",
       "      <th>65</th>\n",
       "      <td>2020</td>\n",
       "      <td>1114064500</td>\n",
       "      <td>청구동</td>\n",
       "      <td>11</td>\n",
       "      <td>서울특별시</td>\n",
       "      <td>11140</td>\n",
       "      <td>중구</td>\n",
       "      <td>336949.37</td>\n",
       "      <td>2696.70</td>\n",
       "      <td>127.015201201613</td>\n",
       "      <td>37.5568631855271</td>\n",
       "      <td>POLYGON ((957542.926 1950997.368, 957519.101 1...</td>\n",
       "    </tr>\n",
       "    <tr>\n",
       "      <th>66</th>\n",
       "      <td>2020</td>\n",
       "      <td>1114057000</td>\n",
       "      <td>필동</td>\n",
       "      <td>11</td>\n",
       "      <td>서울특별시</td>\n",
       "      <td>11140</td>\n",
       "      <td>중구</td>\n",
       "      <td>1173378.79</td>\n",
       "      <td>6575.62</td>\n",
       "      <td>126.992276757613</td>\n",
       "      <td>37.5568174037835</td>\n",
       "      <td>POLYGON ((955947.962 1951617.335, 955934.934 1...</td>\n",
       "    </tr>\n",
       "    <tr>\n",
       "      <th>67</th>\n",
       "      <td>2020</td>\n",
       "      <td>1114067000</td>\n",
       "      <td>황학동</td>\n",
       "      <td>11</td>\n",
       "      <td>서울특별시</td>\n",
       "      <td>11140</td>\n",
       "      <td>중구</td>\n",
       "      <td>328678.23</td>\n",
       "      <td>2381.97</td>\n",
       "      <td>127.020846207973</td>\n",
       "      <td>37.5685359648242</td>\n",
       "      <td>POLYGON ((957926.315 1951862.361, 957912.004 1...</td>\n",
       "    </tr>\n",
       "    <tr>\n",
       "      <th>68</th>\n",
       "      <td>2020</td>\n",
       "      <td>1114054000</td>\n",
       "      <td>회현동</td>\n",
       "      <td>11</td>\n",
       "      <td>서울특별시</td>\n",
       "      <td>11140</td>\n",
       "      <td>중구</td>\n",
       "      <td>847351.57</td>\n",
       "      <td>4540.89</td>\n",
       "      <td>126.976855625748</td>\n",
       "      <td>37.5571782653588</td>\n",
       "      <td>POLYGON ((954425.410 1950536.931, 954424.260 1...</td>\n",
       "    </tr>\n",
       "  </tbody>\n",
       "</table>\n",
       "</div>"
      ],
      "text/plain": [
       "   STD_YYYY    HDONG_CD HDONG_NM SIDO_CD SIDO_NM SGNG_CD SGNG_NM        AREA  \\\n",
       "35     2020  1135059500     공릉1동      11   서울특별시   11350     노원구  1224521.56   \n",
       "36     2020  1135060000     공릉2동      11   서울특별시   11350     노원구  7006762.92   \n",
       "37     2020  1135072000    상계10동      11   서울특별시   11350     노원구   812666.82   \n",
       "38     2020  1135063000     상계1동      11   서울특별시   11350     노원구  5192495.41   \n",
       "39     2020  1135064000     상계2동      11   서울특별시   11350     노원구   624377.16   \n",
       "40     2020  1135066500   상계3.4동      11   서울특별시   11350     노원구  5749582.10   \n",
       "41     2020  1135067000     상계5동      11   서울특별시   11350     노원구   567542.62   \n",
       "42     2020  1135069500   상계6.7동      11   서울특별시   11350     노원구  1434588.18   \n",
       "43     2020  1135070000     상계8동      11   서울특별시   11350     노원구   673099.72   \n",
       "44     2020  1135071000     상계9동      11   서울특별시   11350     노원구   753785.09   \n",
       "45     2020  1135056000     월계1동      11   서울특별시   11350     노원구  1166227.69   \n",
       "46     2020  1135057000     월계2동      11   서울특별시   11350     노원구  1980238.59   \n",
       "47     2020  1135058000     월계3동      11   서울특별시   11350     노원구  1142796.41   \n",
       "48     2020  1135062100     중계1동      11   서울특별시   11350     노원구   628062.77   \n",
       "49     2020  1135062500   중계2.3동      11   서울특별시   11350     노원구   917459.99   \n",
       "50     2020  1135062400     중계4동      11   서울특별시   11350     노원구  1831140.50   \n",
       "51     2020  1135061900     중계본동      11   서울특별시   11350     노원구  1867572.70   \n",
       "52     2020  1135061100     하계1동      11   서울특별시   11350     노원구  1522251.10   \n",
       "53     2020  1135061200     하계2동      11   서울특별시   11350     노원구   502928.23   \n",
       "54     2020  1114059000      광희동      11   서울특별시   11140      중구   741195.05   \n",
       "55     2020  1114062500      다산동      11   서울특별시   11140      중구   521341.19   \n",
       "56     2020  1114066500      동화동      11   서울특별시   11140      중구   328213.50   \n",
       "57     2020  1114055000       명동      11   서울특별시   11140      중구  1053644.29   \n",
       "58     2020  1114052000      소공동      11   서울특별시   11140      중구   893419.62   \n",
       "59     2020  1114065000     신당5동      11   서울특별시   11140      중구   321347.03   \n",
       "60     2020  1114061500      신당동      11   서울특별시   11140      중구   544408.19   \n",
       "61     2020  1114063500      약수동      11   서울특별시   11140      중구   490077.51   \n",
       "62     2020  1114060500     을지로동      11   서울특별시   11140      중구   599091.52   \n",
       "63     2020  1114058000      장충동      11   서울특별시   11140      중구  1310554.91   \n",
       "64     2020  1114068000      중림동      11   서울특별시   11140      중구   482329.92   \n",
       "65     2020  1114064500      청구동      11   서울특별시   11140      중구   336949.37   \n",
       "66     2020  1114057000       필동      11   서울특별시   11140      중구  1173378.79   \n",
       "67     2020  1114067000      황학동      11   서울특별시   11140      중구   328678.23   \n",
       "68     2020  1114054000      회현동      11   서울특별시   11140      중구   847351.57   \n",
       "\n",
       "      LENGTH           X_COORD           Y_COORD  \\\n",
       "35   5518.75  127.072580677484  37.6240928160769   \n",
       "36  12460.30  127.094192345443  37.6315827276983   \n",
       "37   4960.89  127.058355723751   37.659583069717   \n",
       "38  10692.72  127.064629697743  37.6833998457384   \n",
       "39   4252.19  127.067094017867  37.6566552079364   \n",
       "40  10573.09   127.08314317742  37.6757523619367   \n",
       "41   3347.07  127.070177320924  37.6634377815075   \n",
       "42   5869.68  127.060127802523  37.6485971896481   \n",
       "43   3469.86  127.053644338822  37.6662501290963   \n",
       "44   4392.37  127.062377792728  37.6676738482574   \n",
       "45   4788.23  127.058407659784  37.6219049914248   \n",
       "46   6143.72  127.051165363276    37.63397828936   \n",
       "47   5833.32  127.064711649713  37.6247996242304   \n",
       "48   3592.25  127.073704660222  37.6501114878983   \n",
       "49   4353.50  127.065855936474  37.6434036468999   \n",
       "50   6429.14  127.083623990819  37.6585758703223   \n",
       "51   5673.58  127.085487737781  37.6476314920143   \n",
       "52   5940.43  127.075006253426  37.6385443549675   \n",
       "53   3389.46  127.064952059084   37.634922865182   \n",
       "54   5359.72  127.003692947513  37.5651771776684   \n",
       "55   4124.64  127.008419495876  37.5550340631202   \n",
       "56   2994.67   127.01864830948  37.5606737789162   \n",
       "57   6472.97  126.984204994077  37.5635855225755   \n",
       "58   4367.79  126.974020056852   37.564293390876   \n",
       "59   2668.71  127.021837599297  37.5636273781666   \n",
       "60   3475.62  127.013671065263  37.5657239453701   \n",
       "61   3896.34  127.010300656641  37.5501699450313   \n",
       "62   4524.58  126.996386576655  37.5665846436975   \n",
       "63   7373.04  127.001637316895  37.5558643497356   \n",
       "64   3500.86  126.966042028799  37.5573555328314   \n",
       "65   2696.70  127.015201201613  37.5568631855271   \n",
       "66   6575.62  126.992276757613  37.5568174037835   \n",
       "67   2381.97  127.020846207973  37.5685359648242   \n",
       "68   4540.89  126.976855625748  37.5571782653588   \n",
       "\n",
       "                                             geometry  \n",
       "35  POLYGON ((963092.252 1957830.712, 963061.973 1...  \n",
       "36  POLYGON ((965812.344 1959605.628, 965794.935 1...  \n",
       "37  POLYGON ((961691.873 1962520.538, 961647.075 1...  \n",
       "38  POLYGON ((963366.957 1965813.457, 963264.335 1...  \n",
       "39  POLYGON ((962250.446 1961861.375, 962250.383 1...  \n",
       "40  POLYGON ((964410.534 1963426.492, 964392.467 1...  \n",
       "41  POLYGON ((962577.233 1962732.613, 962558.941 1...  \n",
       "42  POLYGON ((961942.639 1961314.366, 961934.743 1...  \n",
       "43  POLYGON ((961079.566 1962500.209, 960853.334 1...  \n",
       "44  POLYGON ((962087.877 1963246.649, 962048.920 1...  \n",
       "45  POLYGON ((961696.551 1957373.175, 961693.724 1...  \n",
       "46  POLYGON ((961081.146 1959046.924, 960790.205 1...  \n",
       "47  POLYGON ((962125.184 1957945.693, 962103.303 1...  \n",
       "48  POLYGON ((962794.399 1961717.119, 962792.845 1...  \n",
       "49  POLYGON ((962226.359 1960488.053, 962093.241 1...  \n",
       "50  POLYGON ((964316.492 1962785.948, 964253.890 1...  \n",
       "51  POLYGON ((964245.873 1960547.426, 964223.087 1...  \n",
       "52  POLYGON ((963274.985 1960170.127, 963227.531 1...  \n",
       "53  POLYGON ((962078.906 1959190.632, 962070.091 1...  \n",
       "54  POLYGON ((956871.822 1951982.161, 956868.441 1...  \n",
       "55  POLYGON ((957055.236 1951313.304, 956816.646 1...  \n",
       "56  POLYGON ((957906.335 1951370.632, 957902.853 1...  \n",
       "57  POLYGON ((955040.008 1952214.778, 955040.007 1...  \n",
       "58  POLYGON ((954272.149 1951850.514, 954267.845 1...  \n",
       "59  POLYGON ((958209.264 1951753.867, 958200.407 1...  \n",
       "60  POLYGON ((957441.172 1951909.880, 957412.450 1...  \n",
       "61  POLYGON ((957294.052 1950539.100, 957282.692 1...  \n",
       "62  POLYGON ((956318.685 1952364.497, 956318.681 1...  \n",
       "63  POLYGON ((956708.730 1951343.840, 956705.393 1...  \n",
       "64  POLYGON ((953267.837 1951244.338, 953260.413 1...  \n",
       "65  POLYGON ((957542.926 1950997.368, 957519.101 1...  \n",
       "66  POLYGON ((955947.962 1951617.335, 955934.934 1...  \n",
       "67  POLYGON ((957926.315 1951862.361, 957912.004 1...  \n",
       "68  POLYGON ((954425.410 1950536.931, 954424.260 1...  "
      ]
     },
     "execution_count": 220,
     "metadata": {},
     "output_type": "execute_result"
    }
   ],
   "source": [
    "geo_df.loc[geo_df.SIDO_NM=='서울특별시']"
   ]
  },
  {
   "cell_type": "code",
   "execution_count": 218,
   "metadata": {
    "ExecuteTime": {
     "end_time": "2020-08-31T15:17:17.681445Z",
     "start_time": "2020-08-31T15:17:17.453451Z"
    }
   },
   "outputs": [
    {
     "data": {
      "text/plain": [
       "<matplotlib.axes._subplots.AxesSubplot at 0x2ad6cf905f8>"
      ]
     },
     "execution_count": 218,
     "metadata": {},
     "output_type": "execute_result"
    },
    {
     "data": {
      "image/png": "[encoded data removed]",
      "text/plain": [
       "<Figure size 864x1440 with 1 Axes>"
      ]
     },
     "metadata": {
      "needs_background": "light"
     },
     "output_type": "display_data"
    }
   ],
   "source": [
    "geo_df.loc[geo_df.SIDO_NM=='서울특별시'].plot(figsize=(12,20))"
   ]
  },
  {
   "cell_type": "code",
   "execution_count": 189,
   "metadata": {
    "ExecuteTime": {
     "end_time": "2020-08-31T15:11:40.376368Z",
     "start_time": "2020-08-31T15:11:40.360363Z"
    }
   },
   "outputs": [
    {
     "data": {
      "text/html": [
       "<div>\n",
       "<style scoped>\n",
       "    .dataframe tbody tr th:only-of-type {\n",
       "        vertical-align: middle;\n",
       "    }\n",
       "\n",
       "    .dataframe tbody tr th {\n",
       "        vertical-align: top;\n",
       "    }\n",
       "\n",
       "    .dataframe thead th {\n",
       "        text-align: right;\n",
       "    }\n",
       "</style>\n",
       "<table border=\"1\" class=\"dataframe\">\n",
       "  <thead>\n",
       "    <tr style=\"text-align: right;\">\n",
       "      <th></th>\n",
       "      <th>표준ID</th>\n",
       "      <th>ARS-ID</th>\n",
       "      <th>정류장명</th>\n",
       "      <th>X좌표</th>\n",
       "      <th>Y좌표</th>\n",
       "      <th>비고</th>\n",
       "      <th>point</th>\n",
       "    </tr>\n",
       "  </thead>\n",
       "  <tbody>\n",
       "    <tr>\n",
       "      <th>0</th>\n",
       "      <td>100000001</td>\n",
       "      <td>1001</td>\n",
       "      <td>종로2가사거리</td>\n",
       "      <td>126.987750</td>\n",
       "      <td>37.569765</td>\n",
       "      <td>NaN</td>\n",
       "      <td>POINT (954953.4472414826 1952083.487207221)</td>\n",
       "    </tr>\n",
       "    <tr>\n",
       "      <th>1</th>\n",
       "      <td>100000002</td>\n",
       "      <td>1002</td>\n",
       "      <td>창경궁.서울대학교병원</td>\n",
       "      <td>126.996566</td>\n",
       "      <td>37.579183</td>\n",
       "      <td>NaN</td>\n",
       "      <td>POINT (955737.5763993721 1953124.169037486)</td>\n",
       "    </tr>\n",
       "    <tr>\n",
       "      <th>2</th>\n",
       "      <td>100000003</td>\n",
       "      <td>1003</td>\n",
       "      <td>명륜3가.성대입구</td>\n",
       "      <td>126.998340</td>\n",
       "      <td>37.582671</td>\n",
       "      <td>NaN</td>\n",
       "      <td>POINT (955896.2869434773 1953510.331291817)</td>\n",
       "    </tr>\n",
       "    <tr>\n",
       "      <th>3</th>\n",
       "      <td>100000004</td>\n",
       "      <td>1004</td>\n",
       "      <td>종로2가.삼일교</td>\n",
       "      <td>126.987613</td>\n",
       "      <td>37.568579</td>\n",
       "      <td>NaN</td>\n",
       "      <td>POINT (954940.6524992425 1951951.987410024)</td>\n",
       "    </tr>\n",
       "    <tr>\n",
       "      <th>4</th>\n",
       "      <td>100000005</td>\n",
       "      <td>1005</td>\n",
       "      <td>혜화동로터리.여운형활동터</td>\n",
       "      <td>127.001744</td>\n",
       "      <td>37.586243</td>\n",
       "      <td>NaN</td>\n",
       "      <td>POINT (956198.9272839265 1953905.016739041)</td>\n",
       "    </tr>\n",
       "    <tr>\n",
       "      <th>...</th>\n",
       "      <td>...</td>\n",
       "      <td>...</td>\n",
       "      <td>...</td>\n",
       "      <td>...</td>\n",
       "      <td>...</td>\n",
       "      <td>...</td>\n",
       "      <td>...</td>\n",
       "    </tr>\n",
       "    <tr>\n",
       "      <th>11275</th>\n",
       "      <td>124000334</td>\n",
       "      <td>25995</td>\n",
       "      <td>우성아파트</td>\n",
       "      <td>127.139339</td>\n",
       "      <td>37.550386</td>\n",
       "      <td>NaN</td>\n",
       "      <td>POINT (968331.8950139196 1949871.457470266)</td>\n",
       "    </tr>\n",
       "    <tr>\n",
       "      <th>11276</th>\n",
       "      <td>124000333</td>\n",
       "      <td>25996</td>\n",
       "      <td>우성아파트</td>\n",
       "      <td>127.140046</td>\n",
       "      <td>37.550643</td>\n",
       "      <td>NaN</td>\n",
       "      <td>POINT (968394.5284989876 1949899.717839497)</td>\n",
       "    </tr>\n",
       "    <tr>\n",
       "      <th>11277</th>\n",
       "      <td>124000332</td>\n",
       "      <td>25997</td>\n",
       "      <td>조일약국</td>\n",
       "      <td>127.123596</td>\n",
       "      <td>37.533630</td>\n",
       "      <td>NaN</td>\n",
       "      <td>POINT (966933.9296050069 1948017.953336857)</td>\n",
       "    </tr>\n",
       "    <tr>\n",
       "      <th>11278</th>\n",
       "      <td>124000331</td>\n",
       "      <td>25998</td>\n",
       "      <td>성내시장</td>\n",
       "      <td>127.125497</td>\n",
       "      <td>37.536155</td>\n",
       "      <td>NaN</td>\n",
       "      <td>POINT (967102.9673859276 1948297.384568186)</td>\n",
       "    </tr>\n",
       "    <tr>\n",
       "      <th>11279</th>\n",
       "      <td>124000330</td>\n",
       "      <td>25999</td>\n",
       "      <td>천호우체국.로데오거리</td>\n",
       "      <td>127.127337</td>\n",
       "      <td>37.540343</td>\n",
       "      <td>NaN</td>\n",
       "      <td>POINT (967267.3853974621 1948761.392385483)</td>\n",
       "    </tr>\n",
       "  </tbody>\n",
       "</table>\n",
       "<p>11280 rows × 7 columns</p>\n",
       "</div>"
      ],
      "text/plain": [
       "            표준ID  ARS-ID           정류장명         X좌표        Y좌표   비고  \\\n",
       "0      100000001    1001        종로2가사거리  126.987750  37.569765  NaN   \n",
       "1      100000002    1002    창경궁.서울대학교병원  126.996566  37.579183  NaN   \n",
       "2      100000003    1003      명륜3가.성대입구  126.998340  37.582671  NaN   \n",
       "3      100000004    1004       종로2가.삼일교  126.987613  37.568579  NaN   \n",
       "4      100000005    1005  혜화동로터리.여운형활동터  127.001744  37.586243  NaN   \n",
       "...          ...     ...            ...         ...        ...  ...   \n",
       "11275  124000334   25995          우성아파트  127.139339  37.550386  NaN   \n",
       "11276  124000333   25996          우성아파트  127.140046  37.550643  NaN   \n",
       "11277  124000332   25997           조일약국  127.123596  37.533630  NaN   \n",
       "11278  124000331   25998           성내시장  127.125497  37.536155  NaN   \n",
       "11279  124000330   25999    천호우체국.로데오거리  127.127337  37.540343  NaN   \n",
       "\n",
       "                                             point  \n",
       "0      POINT (954953.4472414826 1952083.487207221)  \n",
       "1      POINT (955737.5763993721 1953124.169037486)  \n",
       "2      POINT (955896.2869434773 1953510.331291817)  \n",
       "3      POINT (954940.6524992425 1951951.987410024)  \n",
       "4      POINT (956198.9272839265 1953905.016739041)  \n",
       "...                                            ...  \n",
       "11275  POINT (968331.8950139196 1949871.457470266)  \n",
       "11276  POINT (968394.5284989876 1949899.717839497)  \n",
       "11277  POINT (966933.9296050069 1948017.953336857)  \n",
       "11278  POINT (967102.9673859276 1948297.384568186)  \n",
       "11279  POINT (967267.3853974621 1948761.392385483)  \n",
       "\n",
       "[11280 rows x 7 columns]"
      ]
     },
     "execution_count": 189,
     "metadata": {},
     "output_type": "execute_result"
    }
   ],
   "source": [
    "bus_station_info"
   ]
  },
  {
   "cell_type": "code",
   "execution_count": null,
   "metadata": {},
   "outputs": [],
   "source": []
  },
  {
   "cell_type": "code",
   "execution_count": 69,
   "metadata": {
    "ExecuteTime": {
     "end_time": "2020-08-31T13:52:54.065079Z",
     "start_time": "2020-08-31T13:52:54.011255Z"
    }
   },
   "outputs": [],
   "source": [
    "proj_UTMK = Proj(init='epsg:5178')\n",
    "proj_WGS84 = Proj(init='epsg:4326')"
   ]
  },
  {
   "cell_type": "code",
   "execution_count": 35,
   "metadata": {
    "ExecuteTime": {
     "end_time": "2020-08-31T13:23:40.894240Z",
     "start_time": "2020-08-31T13:23:40.889290Z"
    }
   },
   "outputs": [],
   "source": [
    "a = Point(bus_station_info.iloc[0,3:5][0],bus_station_info.iloc[0,3:5][1])"
   ]
  },
  {
   "cell_type": "code",
   "execution_count": 135,
   "metadata": {
    "ExecuteTime": {
     "end_time": "2020-08-31T14:34:33.998637Z",
     "start_time": "2020-08-31T14:34:29.426027Z"
    }
   },
   "outputs": [
    {
     "data": {
      "text/plain": [
       "0      (954953.4472414826, 1952083.487207221)\n",
       "1      (955737.5763993721, 1953124.169037486)\n",
       "2     (955896.2869434773, 1953510.3312918171)\n",
       "3     (954940.6524992425, 1951951.9874100238)\n",
       "4     (956198.9272839265, 1953905.0167390408)\n",
       "                       ...                   \n",
       "95     (956017.1677648153, 1952042.951633285)\n",
       "96    (955803.0193676194, 1952607.8489233754)\n",
       "97     (954969.2181180683, 1952907.701049599)\n",
       "98    (954647.3769185286, 1952753.0474090762)\n",
       "99    (954555.3889586496, 1952374.2285695786)\n",
       "Length: 100, dtype: object"
      ]
     },
     "execution_count": 135,
     "metadata": {},
     "output_type": "execute_result"
    }
   ],
   "source": [
    "bus_station_info.iloc[:100].apply(lambda x : transform(proj_WGS84,proj_UTMK,x['X좌표'], x['Y좌표']),axis=1)"
   ]
  },
  {
   "cell_type": "code",
   "execution_count": 136,
   "metadata": {
    "ExecuteTime": {
     "end_time": "2020-08-31T14:35:04.871766Z",
     "start_time": "2020-08-31T14:35:04.867771Z"
    }
   },
   "outputs": [],
   "source": []
  },
  {
   "cell_type": "code",
   "execution_count": 147,
   "metadata": {
    "ExecuteTime": {
     "end_time": "2020-08-31T14:39:58.531675Z",
     "start_time": "2020-08-31T14:39:58.047714Z"
    }
   },
   "outputs": [
    {
     "name": "stderr",
     "output_type": "stream",
     "text": [
      "100%|██████████████████████████████████████████████████████████████████████████████████| 10/10 [00:00<00:00, 21.01it/s]\n"
     ]
    }
   ],
   "source": [
    "convert_list=[]\n",
    "\n",
    "for i in trange(10):\n",
    "    x=bus_station_info.iloc[i,:].X좌표\n",
    "    y=bus_station_info.iloc[i,:].Y좌표\n",
    "    \n",
    "    convert_list.append(transform(proj_WGS84,proj_UTMK,x,y))"
   ]
  }
 ],
 "metadata": {
  "kernelspec": {
   "display_name": "Python 3",
   "language": "python",
   "name": "python3"
  },
  "language_info": {
   "codemirror_mode": {
    "name": "ipython",
    "version": 3
   },
   "file_extension": ".py",
   "mimetype": "text/x-python",
   "name": "python",
   "nbconvert_exporter": "python",
   "pygments_lexer": "ipython3",
   "version": "3.7.2"
  },
  "toc": {
   "base_numbering": 1,
   "nav_menu": {},
   "number_sections": true,
   "sideBar": true,
   "skip_h1_title": false,
   "title_cell": "Table of Contents",
   "title_sidebar": "Contents",
   "toc_cell": false,
   "toc_position": {},
   "toc_section_display": true,
   "toc_window_display": false
  },
  "varInspector": {
   "cols": {
    "lenName": 16,
    "lenType": 16,
    "lenVar": 40
   },
   "kernels_config": {
    "python": {
     "delete_cmd_postfix": "",
     "delete_cmd_prefix": "del ",
     "library": "var_list.py",
     "varRefreshCmd": "print(var_dic_list())"
    },
    "r": {
     "delete_cmd_postfix": ") ",
     "delete_cmd_prefix": "rm(",
     "library": "var_list.r",
     "varRefreshCmd": "cat(var_dic_list()) "
    }
   },
   "types_to_exclude": [
    "module",
    "function",
    "builtin_function_or_method",
    "instance",
    "_Feature"
   ],
   "window_display": false
  }
 },
 "nbformat": 4,
 "nbformat_minor": 2
}
