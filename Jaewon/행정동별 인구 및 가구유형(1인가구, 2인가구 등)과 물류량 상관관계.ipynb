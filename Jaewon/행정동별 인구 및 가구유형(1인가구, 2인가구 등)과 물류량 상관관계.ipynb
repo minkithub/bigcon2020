{
 "cells": [
  {
   "cell_type": "code",
   "execution_count": 1,
   "metadata": {
    "ExecuteTime": {
     "end_time": "2020-08-14T03:31:10.670799Z",
     "start_time": "2020-08-14T03:31:09.750643Z"
    }
   },
   "outputs": [],
   "source": [
    "import pandas as pd\n",
    "import numpy as np\n",
    "import scipy \n",
    "\n",
    "import matplotlib as mpl\n",
    "import matplotlib.pyplot as plt\n",
    "import seaborn as sns\n",
    "%matplotlib inline\n",
    "\n",
    "from random import choices,sample\n",
    "\n",
    "import os\n",
    "import gc\n",
    "import pickle\n",
    "\n",
    "import warnings\n",
    "warnings.filterwarnings('ignore')\n",
    "\n",
    "from datetime import timedelta\n",
    "from tqdm import tqdm\n",
    "\n",
    "plt.style.use('ggplot')\n",
    "\n",
    "mpl.rcParams['axes.unicode_minus'] = False\n",
    "plt.rcParams[\"font.family\"] = \"Malgun Gothic\"\n",
    "\n",
    "os.chdir(\"../../\")\n",
    "root_path = os.getcwd()\n",
    "\n",
    "raw_file_path = os.path.join(root_path, \"Bigcon2020_raw_file\")\n",
    "csv_file_path = os.path.join(root_path, \"BigCon_2020/csv_files\")\n",
    "pickle_file_path = os.path.join(root_path, \"BigCon_2020/pickle_files\")\n",
    "\n",
    "raw_file_folders = os.listdir(raw_file_path)\n",
    "\n",
    "folder_path = os.path.join(raw_file_path, raw_file_folders[0])"
   ]
  },
  {
   "cell_type": "code",
   "execution_count": 45,
   "metadata": {
    "ExecuteTime": {
     "end_time": "2020-08-14T03:38:18.401514Z",
     "start_time": "2020-08-14T03:38:18.385560Z"
    }
   },
   "outputs": [],
   "source": [
    "seoul_pop = pd.read_table(\"행정동_가구원수별_가구수.txt\", header=[1], thousands=',')\n",
    "daegu_pop = pd.read_csv(\"구·군_동·읍·면별_세대원수별_세대수_20200809161016.csv\", encoding='cp949', header=[1])\n",
    "\n",
    "seoul_pop.drop('기간', axis=1, inplace=True)\n",
    "daegu_pop = daegu_pop.iloc[:,[0,1,-10,-9,-8,-7,-6,-5,-4,-3,-2,-1]]"
   ]
  },
  {
   "cell_type": "code",
   "execution_count": 46,
   "metadata": {
    "ExecuteTime": {
     "end_time": "2020-08-14T03:38:19.089057Z",
     "start_time": "2020-08-14T03:38:18.873200Z"
    }
   },
   "outputs": [],
   "source": [
    "cj = pd.read_csv(os.path.join(csv_file_path, \"2020빅콘_물류_원본.csv\"), thousands=',')\n",
    "cj_cat_merge = cj.groupby(['DL_YMD','CTPV_NM','CTGG_NM','HDNG_NM']).sum().iloc[:,-1].reset_index(name='INVC_CONT')"
   ]
  },
  {
   "cell_type": "code",
   "execution_count": 47,
   "metadata": {
    "ExecuteTime": {
     "end_time": "2020-08-14T03:38:19.513645Z",
     "start_time": "2020-08-14T03:38:19.505684Z"
    }
   },
   "outputs": [],
   "source": [
    "daegu_pop.columns = ['GU_NM','HDONG_NM','total','pop1','pop2','pop3','pop4','pop5','pop6','pop7','pop8','pop9']\n",
    "seoul_pop.columns = ['GU_NM','HDONG_NM','total','pop1','pop2','pop3','pop4','pop5','pop6','pop7']"
   ]
  },
  {
   "cell_type": "code",
   "execution_count": 48,
   "metadata": {
    "ExecuteTime": {
     "end_time": "2020-08-14T03:38:19.937365Z",
     "start_time": "2020-08-14T03:38:19.929543Z"
    }
   },
   "outputs": [],
   "source": [
    "total_dong = flow_time.HDONG_NM.unique().tolist()\n",
    "\n",
    "total_gu = ['중구','수성구','노원구']\n",
    "total_dong += ['수성2·3가동']"
   ]
  },
  {
   "cell_type": "code",
   "execution_count": 49,
   "metadata": {
    "ExecuteTime": {
     "end_time": "2020-08-14T03:38:20.369841Z",
     "start_time": "2020-08-14T03:38:20.362017Z"
    }
   },
   "outputs": [],
   "source": [
    "daegu_pop = daegu_pop.loc[(daegu_pop.HDONG_NM.isin(total_dong)) & (daegu_pop.GU_NM.isin(total_gu))].reset_index(drop=True)\n",
    "seoul_pop = seoul_pop.loc[(seoul_pop.HDONG_NM.isin(total_dong)) & (seoul_pop.GU_NM.isin(total_gu))].reset_index(drop=True)"
   ]
  },
  {
   "cell_type": "code",
   "execution_count": 50,
   "metadata": {
    "ExecuteTime": {
     "end_time": "2020-08-14T03:38:21.361987Z",
     "start_time": "2020-08-14T03:38:21.353996Z"
    }
   },
   "outputs": [],
   "source": [
    "cj_cat_merge.rename(columns={'CTGG_NM':'GU_NM', 'HDNG_NM':'HDONG_NM'}, inplace=True)"
   ]
  },
  {
   "cell_type": "code",
   "execution_count": 51,
   "metadata": {
    "ExecuteTime": {
     "end_time": "2020-08-14T03:38:22.346146Z",
     "start_time": "2020-08-14T03:38:22.314166Z"
    }
   },
   "outputs": [],
   "source": [
    "cj_cat_merge=cj_cat_merge.replace('수성2·3가동', '수성2.3가동')\n",
    "cj_cat_merge=cj_cat_merge.replace('신당제5동', '신당5동')"
   ]
  },
  {
   "cell_type": "code",
   "execution_count": 25,
   "metadata": {
    "ExecuteTime": {
     "end_time": "2020-08-14T03:33:26.463802Z",
     "start_time": "2020-08-14T03:33:26.439819Z"
    }
   },
   "outputs": [],
   "source": [
    "\"\"\"\n",
    "cj_cat_merge['DL_YMD'] = pd.to_datetime(cj_cat_merge['DL_YMD'].apply(lambda x:'20'+str(x)), format='%Y%m%d')\n",
    "\n",
    "cj_cat_merge['dayofweek'] = cj_cat_merge.DL_YMD.dt.dayofweek.values\n",
    "cj_cat_merge['weekday'] = np.where(cj_cat_merge.dayofweek < 5, '평일', '주말')\n",
    "\n",
    "cj_cat_merge = cj_cat_merge.loc[cj_cat_merge.weekday=='평일'].reset_index()\n",
    "\"\"\""
   ]
  },
  {
   "cell_type": "code",
   "execution_count": 52,
   "metadata": {
    "ExecuteTime": {
     "end_time": "2020-08-14T03:38:26.474577Z",
     "start_time": "2020-08-14T03:38:26.458591Z"
    }
   },
   "outputs": [],
   "source": [
    "daegu_pop=daegu_pop.replace('수성2·3가동', '수성2.3가동')"
   ]
  },
  {
   "cell_type": "code",
   "execution_count": 53,
   "metadata": {
    "ExecuteTime": {
     "end_time": "2020-08-14T03:38:26.952155Z",
     "start_time": "2020-08-14T03:38:26.936036Z"
    }
   },
   "outputs": [],
   "source": [
    "tmp1=cj_cat_merge.merge(daegu_pop)\n",
    "tmp2=cj_cat_merge.merge(seoul_pop)"
   ]
  },
  {
   "cell_type": "code",
   "execution_count": 54,
   "metadata": {
    "ExecuteTime": {
     "end_time": "2020-08-14T03:38:27.375757Z",
     "start_time": "2020-08-14T03:38:27.367710Z"
    }
   },
   "outputs": [],
   "source": [
    "tmp1=tmp1.iloc[:,:-2]"
   ]
  },
  {
   "cell_type": "code",
   "execution_count": 55,
   "metadata": {
    "ExecuteTime": {
     "end_time": "2020-08-14T03:38:27.823577Z",
     "start_time": "2020-08-14T03:38:27.807588Z"
    }
   },
   "outputs": [],
   "source": [
    "cj_with_pop = pd.concat([tmp1,tmp2]).reset_index(drop=True)"
   ]
  },
  {
   "cell_type": "code",
   "execution_count": null,
   "metadata": {},
   "outputs": [],
   "source": []
  },
  {
   "cell_type": "code",
   "execution_count": 57,
   "metadata": {
    "ExecuteTime": {
     "end_time": "2020-08-14T03:38:39.386194Z",
     "start_time": "2020-08-14T03:38:39.370630Z"
    }
   },
   "outputs": [
    {
     "data": {
      "text/html": [
       "<div>\n",
       "<style scoped>\n",
       "    .dataframe tbody tr th:only-of-type {\n",
       "        vertical-align: middle;\n",
       "    }\n",
       "\n",
       "    .dataframe tbody tr th {\n",
       "        vertical-align: top;\n",
       "    }\n",
       "\n",
       "    .dataframe thead th {\n",
       "        text-align: right;\n",
       "    }\n",
       "</style>\n",
       "<table border=\"1\" class=\"dataframe\">\n",
       "  <thead>\n",
       "    <tr style=\"text-align: right;\">\n",
       "      <th></th>\n",
       "      <th>pop1</th>\n",
       "      <th>pop2</th>\n",
       "      <th>pop3</th>\n",
       "      <th>pop4</th>\n",
       "      <th>pop5</th>\n",
       "    </tr>\n",
       "  </thead>\n",
       "  <tbody>\n",
       "    <tr>\n",
       "      <th>INVC_CONT</th>\n",
       "      <td>0.350237</td>\n",
       "      <td>0.378518</td>\n",
       "      <td>0.395081</td>\n",
       "      <td>0.351328</td>\n",
       "      <td>0.33915</td>\n",
       "    </tr>\n",
       "  </tbody>\n",
       "</table>\n",
       "</div>"
      ],
      "text/plain": [
       "               pop1      pop2      pop3      pop4     pop5\n",
       "INVC_CONT  0.350237  0.378518  0.395081  0.351328  0.33915"
      ]
     },
     "execution_count": 57,
     "metadata": {},
     "output_type": "execute_result"
    }
   ],
   "source": [
    "cj_with_pop.iloc[:,4:].corr().iloc[:1,2:]"
   ]
  },
  {
   "cell_type": "markdown",
   "metadata": {},
   "source": [
    "주말포함"
   ]
  },
  {
   "cell_type": "code",
   "execution_count": 44,
   "metadata": {
    "ExecuteTime": {
     "end_time": "2020-08-14T03:36:49.705076Z",
     "start_time": "2020-08-14T03:36:49.689123Z"
    },
    "scrolled": true
   },
   "outputs": [
    {
     "data": {
      "text/html": [
       "<div>\n",
       "<style scoped>\n",
       "    .dataframe tbody tr th:only-of-type {\n",
       "        vertical-align: middle;\n",
       "    }\n",
       "\n",
       "    .dataframe tbody tr th {\n",
       "        vertical-align: top;\n",
       "    }\n",
       "\n",
       "    .dataframe thead th {\n",
       "        text-align: right;\n",
       "    }\n",
       "</style>\n",
       "<table border=\"1\" class=\"dataframe\">\n",
       "  <thead>\n",
       "    <tr style=\"text-align: right;\">\n",
       "      <th></th>\n",
       "      <th>pop1</th>\n",
       "      <th>pop2</th>\n",
       "      <th>pop3</th>\n",
       "      <th>pop4</th>\n",
       "      <th>pop5</th>\n",
       "    </tr>\n",
       "  </thead>\n",
       "  <tbody>\n",
       "    <tr>\n",
       "      <th>INVC_CONT</th>\n",
       "      <td>0.502524</td>\n",
       "      <td>0.54079</td>\n",
       "      <td>0.563414</td>\n",
       "      <td>0.502939</td>\n",
       "      <td>0.486082</td>\n",
       "    </tr>\n",
       "  </tbody>\n",
       "</table>\n",
       "</div>"
      ],
      "text/plain": [
       "               pop1     pop2      pop3      pop4      pop5\n",
       "INVC_CONT  0.502524  0.54079  0.563414  0.502939  0.486082"
      ]
     },
     "execution_count": 44,
     "metadata": {},
     "output_type": "execute_result"
    }
   ],
   "source": [
    "cj_with_pop.iloc[:,4:].corr().iloc[:1,3:]"
   ]
  },
  {
   "cell_type": "markdown",
   "metadata": {},
   "source": [
    "주말제외"
   ]
  },
  {
   "cell_type": "code",
   "execution_count": null,
   "metadata": {},
   "outputs": [],
   "source": []
  }
 ],
 "metadata": {
  "kernelspec": {
   "display_name": "Python 3",
   "language": "python",
   "name": "python3"
  },
  "language_info": {
   "codemirror_mode": {
    "name": "ipython",
    "version": 3
   },
   "file_extension": ".py",
   "mimetype": "text/x-python",
   "name": "python",
   "nbconvert_exporter": "python",
   "pygments_lexer": "ipython3",
   "version": "3.7.2"
  },
  "toc": {
   "base_numbering": 1,
   "nav_menu": {},
   "number_sections": true,
   "sideBar": true,
   "skip_h1_title": false,
   "title_cell": "Table of Contents",
   "title_sidebar": "Contents",
   "toc_cell": false,
   "toc_position": {},
   "toc_section_display": true,
   "toc_window_display": false
  },
  "varInspector": {
   "cols": {
    "lenName": 16,
    "lenType": 16,
    "lenVar": 40
   },
   "kernels_config": {
    "python": {
     "delete_cmd_postfix": "",
     "delete_cmd_prefix": "del ",
     "library": "var_list.py",
     "varRefreshCmd": "print(var_dic_list())"
    },
    "r": {
     "delete_cmd_postfix": ") ",
     "delete_cmd_prefix": "rm(",
     "library": "var_list.r",
     "varRefreshCmd": "cat(var_dic_list()) "
    }
   },
   "types_to_exclude": [
    "module",
    "function",
    "builtin_function_or_method",
    "instance",
    "_Feature"
   ],
   "window_display": false
  }
 },
 "nbformat": 4,
 "nbformat_minor": 2
}
