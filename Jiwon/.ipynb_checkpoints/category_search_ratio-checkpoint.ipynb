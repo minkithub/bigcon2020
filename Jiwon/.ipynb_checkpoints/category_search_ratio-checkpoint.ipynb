{
 "cells": [
  {
   "cell_type": "code",
   "execution_count": 1,
   "metadata": {},
   "outputs": [],
   "source": [
    "import pandas as pd\n",
    "import numpy as np\n",
    "import warnings\n",
    "import os\n",
    "import sys\n",
    "import urllib.request\n",
    "import joblib\n",
    "import simplejson as json\n",
    "from time import time\n",
    "warnings.filterwarnings(action='ignore')\n",
    "\n",
    "import seaborn as sns\n",
    "sns.set_palette(\"pastel\")\n",
    "import matplotlib.pylab as plt\n",
    "from matplotlib import font_manager, rc\n",
    "%matplotlib inline\n",
    "\n",
    "import platform\n",
    "your_os = platform.system()\n",
    "if your_os == 'Linux':\n",
    "    rc('font', family='NanumGothic')\n",
    "elif your_os == 'Windows':\n",
    "    ttf = \"c:/Windows/Fonts/malgun.ttf\"\n",
    "    font_name = font_manager.FontProperties(fname=ttf).get_name()\n",
    "    rc('font', family=font_name)\n",
    "elif your_os == 'Darwin':\n",
    "    rc('font', family='AppleGothic')"
   ]
  },
  {
   "cell_type": "code",
   "execution_count": 2,
   "metadata": {},
   "outputs": [],
   "source": [
    "def get_body(data, year):\n",
    "    b = []\n",
    "    for i, n in zip(data.iloc[:,1], data.iloc[:,2]):\n",
    "        body = {\n",
    "            \"startDate\":str(year)+\"-02-01\",\n",
    "            \"endDate\":str(year)+\"-05-31\",\n",
    "            \"timeUnit\":\"date\",\n",
    "            \"keywordGroups\":[\n",
    "                {\"groupName\":str(i),\"keywords\":n},\n",
    "            ],\n",
    "        }\n",
    "        b.append(body)\n",
    "        \n",
    "    return b\n",
    "\n",
    "def get_trend(body):\n",
    "    url = \"https://openapi.naver.com/v1/datalab/search\"\n",
    "    \n",
    "    request = urllib.request.Request(url)\n",
    "    request.add_header(\"X-Naver-Client-Id\", client_id)\n",
    "    request.add_header(\"X-Naver-Client-Secret\", client_secret)\n",
    "    request.add_header(\"Content-Type\",\"application/json\")\n",
    "    response = urllib.request.urlopen(request, data=body.encode(\"utf-8\"))\n",
    "    \n",
    "    return json.loads(response.read().decode('utf-8'))"
   ]
  },
  {
   "cell_type": "code",
   "execution_count": 3,
   "metadata": {
    "scrolled": true
   },
   "outputs": [],
   "source": [
    "kword = pd.read_excel('크롤링 업종 키워드.xlsx')\n",
    "kword['키워드'] = kword['키워드'].apply(lambda x: x.split(','))"
   ]
  },
  {
   "cell_type": "code",
   "execution_count": 4,
   "metadata": {},
   "outputs": [],
   "source": [
    "client_id = \"ZZaGdL0GiBdzFjkoDO91\"\n",
    "client_secret = \"RViQJsT4yv\""
   ]
  },
  {
   "cell_type": "code",
   "execution_count": 5,
   "metadata": {},
   "outputs": [],
   "source": [
    "body2019 = get_body(kword,2019)\n",
    "trend2019 = []\n",
    "for i in body2019:\n",
    "    data = get_trend(json.dumps(i, indent=4, ensure_ascii=False))['results'][0]['data']\n",
    "    category = get_trend(json.dumps(i, indent=4, ensure_ascii=False))['results'][0]['title']\n",
    "    trend2019.append((category,data))\n",
    "\n",
    "body2020 = get_body(kword,2020)\n",
    "trend2020 = []\n",
    "for i in body2020:\n",
    "    data = get_trend(json.dumps(i, indent=4, ensure_ascii=False))['results'][0]['data']\n",
    "    category = get_trend(json.dumps(i, indent=4, ensure_ascii=False))['results'][0]['title']\n",
    "    trend2020.append((category,data))"
   ]
  },
  {
   "cell_type": "code",
   "execution_count": 6,
   "metadata": {},
   "outputs": [],
   "source": [
    "df1 = pd.DataFrame()\n",
    "for i in np.arange(0,len(trend2019)):\n",
    "    temp0 = pd.DataFrame(pd.DataFrame(trend2019)[1][i])\n",
    "    temp0['category'] = pd.DataFrame(trend2019)[0][i]\n",
    "    df1 = pd.concat([df1,temp0])"
   ]
  },
  {
   "cell_type": "code",
   "execution_count": 7,
   "metadata": {},
   "outputs": [],
   "source": [
    "df2 = pd.DataFrame()\n",
    "for i in np.arange(0,len(trend2020)):\n",
    "    temp0 = pd.DataFrame(pd.DataFrame(trend2020)[1][i])\n",
    "    temp0['category'] = pd.DataFrame(trend2020)[0][i]\n",
    "    df2 = pd.concat([df2,temp0])"
   ]
  },
  {
   "cell_type": "code",
   "execution_count": 8,
   "metadata": {},
   "outputs": [],
   "source": [
    "df2019 = pd.merge(df1,kword[['업종대분류코드','업종대분류명']],left_on='category', right_on='업종대분류명').drop(columns='업종대분류명')\n",
    "df2020 = pd.merge(df2,kword[['업종대분류코드','업종대분류명']],left_on='category', right_on='업종대분류명').drop(columns='업종대분류명')"
   ]
  },
  {
   "cell_type": "code",
   "execution_count": 11,
   "metadata": {},
   "outputs": [],
   "source": [
    "df = pd.concat([df2019,df2020])\n",
    "#df.to_csv('category_search_ratio.csv')"
   ]
  }
 ],
 "metadata": {
  "kernelspec": {
   "display_name": "Python 3",
   "language": "python",
   "name": "python3"
  },
  "language_info": {
   "codemirror_mode": {
    "name": "ipython",
    "version": 3
   },
   "file_extension": ".py",
   "mimetype": "text/x-python",
   "name": "python",
   "nbconvert_exporter": "python",
   "pygments_lexer": "ipython3",
   "version": "3.7.7"
  }
 },
 "nbformat": 4,
 "nbformat_minor": 4
}
