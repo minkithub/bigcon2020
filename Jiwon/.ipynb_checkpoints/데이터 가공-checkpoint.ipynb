{
 "cells": [
  {
   "cell_type": "code",
   "execution_count": 2,
   "metadata": {},
   "outputs": [],
   "source": [
    "import pandas as pd\n",
    "import numpy as np"
   ]
  },
  {
   "cell_type": "code",
   "execution_count": 9,
   "metadata": {},
   "outputs": [],
   "source": [
    "data = pd.read_csv('local_people_data.csv')\n",
    "data.drop(columns='총생활인구수',inplace=True)"
   ]
  },
  {
   "cell_type": "code",
   "execution_count": 10,
   "metadata": {},
   "outputs": [],
   "source": [
    "df = pd.melt(data,id_vars=['STD_DD','시간대구분','행정동코드','G_DNG_NM'],var_name='HUMAN_NM',value_name='FLOW')"
   ]
  },
  {
   "cell_type": "code",
   "execution_count": 11,
   "metadata": {},
   "outputs": [],
   "source": [
    "df['SEX_CD'] = np.where(df['HUMAN_NM'].str.contains('남자'),'M','F')"
   ]
  },
  {
   "cell_type": "code",
   "execution_count": 31,
   "metadata": {},
   "outputs": [],
   "source": [
    "df['HDONG_NM'] = df['G_DNG_NM'].str[6:].apply(lambda x: x.strip())"
   ]
  },
  {
   "cell_type": "code",
   "execution_count": 39,
   "metadata": {},
   "outputs": [],
   "source": [
    "df['WEEK_NUM'] = pd.to_datetime(df['STD_DD']).dt.weekofyear"
   ]
  },
  {
   "cell_type": "code",
   "execution_count": 40,
   "metadata": {},
   "outputs": [
    {
     "data": {
      "text/html": [
       "<div>\n",
       "<style scoped>\n",
       "    .dataframe tbody tr th:only-of-type {\n",
       "        vertical-align: middle;\n",
       "    }\n",
       "\n",
       "    .dataframe tbody tr th {\n",
       "        vertical-align: top;\n",
       "    }\n",
       "\n",
       "    .dataframe thead th {\n",
       "        text-align: right;\n",
       "    }\n",
       "</style>\n",
       "<table border=\"1\" class=\"dataframe\">\n",
       "  <thead>\n",
       "    <tr style=\"text-align: right;\">\n",
       "      <th></th>\n",
       "      <th>STD_DD</th>\n",
       "      <th>시간대구분</th>\n",
       "      <th>행정동코드</th>\n",
       "      <th>G_DNG_NM</th>\n",
       "      <th>HUMAN_NM</th>\n",
       "      <th>FLOW</th>\n",
       "      <th>SEX_CD</th>\n",
       "      <th>HDONG_NM</th>\n",
       "      <th>WEEK_NUM</th>\n",
       "    </tr>\n",
       "  </thead>\n",
       "  <tbody>\n",
       "    <tr>\n",
       "      <th>0</th>\n",
       "      <td>2019-02-01</td>\n",
       "      <td>0</td>\n",
       "      <td>11350625</td>\n",
       "      <td>서울 노원구 중계2.3동</td>\n",
       "      <td>남자_0009세생활인구수</td>\n",
       "      <td>1858.3096</td>\n",
       "      <td>M</td>\n",
       "      <td>중계2.3동</td>\n",
       "      <td>5</td>\n",
       "    </tr>\n",
       "    <tr>\n",
       "      <th>1</th>\n",
       "      <td>2019-02-01</td>\n",
       "      <td>1</td>\n",
       "      <td>11350625</td>\n",
       "      <td>서울 노원구 중계2.3동</td>\n",
       "      <td>남자_0009세생활인구수</td>\n",
       "      <td>1785.0549</td>\n",
       "      <td>M</td>\n",
       "      <td>중계2.3동</td>\n",
       "      <td>5</td>\n",
       "    </tr>\n",
       "    <tr>\n",
       "      <th>2</th>\n",
       "      <td>2019-02-01</td>\n",
       "      <td>2</td>\n",
       "      <td>11350625</td>\n",
       "      <td>서울 노원구 중계2.3동</td>\n",
       "      <td>남자_0009세생활인구수</td>\n",
       "      <td>1733.5305</td>\n",
       "      <td>M</td>\n",
       "      <td>중계2.3동</td>\n",
       "      <td>5</td>\n",
       "    </tr>\n",
       "    <tr>\n",
       "      <th>3</th>\n",
       "      <td>2019-02-01</td>\n",
       "      <td>3</td>\n",
       "      <td>11350625</td>\n",
       "      <td>서울 노원구 중계2.3동</td>\n",
       "      <td>남자_0009세생활인구수</td>\n",
       "      <td>1745.2137</td>\n",
       "      <td>M</td>\n",
       "      <td>중계2.3동</td>\n",
       "      <td>5</td>\n",
       "    </tr>\n",
       "    <tr>\n",
       "      <th>4</th>\n",
       "      <td>2019-02-01</td>\n",
       "      <td>4</td>\n",
       "      <td>11350625</td>\n",
       "      <td>서울 노원구 중계2.3동</td>\n",
       "      <td>남자_0009세생활인구수</td>\n",
       "      <td>1712.3663</td>\n",
       "      <td>M</td>\n",
       "      <td>중계2.3동</td>\n",
       "      <td>5</td>\n",
       "    </tr>\n",
       "    <tr>\n",
       "      <th>...</th>\n",
       "      <td>...</td>\n",
       "      <td>...</td>\n",
       "      <td>...</td>\n",
       "      <td>...</td>\n",
       "      <td>...</td>\n",
       "      <td>...</td>\n",
       "      <td>...</td>\n",
       "      <td>...</td>\n",
       "      <td>...</td>\n",
       "    </tr>\n",
       "    <tr>\n",
       "      <th>5506363</th>\n",
       "      <td>2020-05-31</td>\n",
       "      <td>19</td>\n",
       "      <td>11140605</td>\n",
       "      <td>서울 중구 을지로동</td>\n",
       "      <td>여자_70세이상생활인구수</td>\n",
       "      <td>301.2843</td>\n",
       "      <td>F</td>\n",
       "      <td>을지로동</td>\n",
       "      <td>22</td>\n",
       "    </tr>\n",
       "    <tr>\n",
       "      <th>5506364</th>\n",
       "      <td>2020-05-31</td>\n",
       "      <td>20</td>\n",
       "      <td>11140605</td>\n",
       "      <td>서울 중구 을지로동</td>\n",
       "      <td>여자_70세이상생활인구수</td>\n",
       "      <td>301.9059</td>\n",
       "      <td>F</td>\n",
       "      <td>을지로동</td>\n",
       "      <td>22</td>\n",
       "    </tr>\n",
       "    <tr>\n",
       "      <th>5506365</th>\n",
       "      <td>2020-05-31</td>\n",
       "      <td>21</td>\n",
       "      <td>11140605</td>\n",
       "      <td>서울 중구 을지로동</td>\n",
       "      <td>여자_70세이상생활인구수</td>\n",
       "      <td>246.0693</td>\n",
       "      <td>F</td>\n",
       "      <td>을지로동</td>\n",
       "      <td>22</td>\n",
       "    </tr>\n",
       "    <tr>\n",
       "      <th>5506366</th>\n",
       "      <td>2020-05-31</td>\n",
       "      <td>22</td>\n",
       "      <td>11140605</td>\n",
       "      <td>서울 중구 을지로동</td>\n",
       "      <td>여자_70세이상생활인구수</td>\n",
       "      <td>251.1501</td>\n",
       "      <td>F</td>\n",
       "      <td>을지로동</td>\n",
       "      <td>22</td>\n",
       "    </tr>\n",
       "    <tr>\n",
       "      <th>5506367</th>\n",
       "      <td>2020-05-31</td>\n",
       "      <td>23</td>\n",
       "      <td>11140605</td>\n",
       "      <td>서울 중구 을지로동</td>\n",
       "      <td>여자_70세이상생활인구수</td>\n",
       "      <td>247.0219</td>\n",
       "      <td>F</td>\n",
       "      <td>을지로동</td>\n",
       "      <td>22</td>\n",
       "    </tr>\n",
       "  </tbody>\n",
       "</table>\n",
       "<p>5506368 rows × 9 columns</p>\n",
       "</div>"
      ],
      "text/plain": [
       "             STD_DD  시간대구분     행정동코드       G_DNG_NM       HUMAN_NM       FLOW  \\\n",
       "0        2019-02-01      0  11350625  서울 노원구 중계2.3동  남자_0009세생활인구수  1858.3096   \n",
       "1        2019-02-01      1  11350625  서울 노원구 중계2.3동  남자_0009세생활인구수  1785.0549   \n",
       "2        2019-02-01      2  11350625  서울 노원구 중계2.3동  남자_0009세생활인구수  1733.5305   \n",
       "3        2019-02-01      3  11350625  서울 노원구 중계2.3동  남자_0009세생활인구수  1745.2137   \n",
       "4        2019-02-01      4  11350625  서울 노원구 중계2.3동  남자_0009세생활인구수  1712.3663   \n",
       "...             ...    ...       ...            ...            ...        ...   \n",
       "5506363  2020-05-31     19  11140605     서울 중구 을지로동  여자_70세이상생활인구수   301.2843   \n",
       "5506364  2020-05-31     20  11140605     서울 중구 을지로동  여자_70세이상생활인구수   301.9059   \n",
       "5506365  2020-05-31     21  11140605     서울 중구 을지로동  여자_70세이상생활인구수   246.0693   \n",
       "5506366  2020-05-31     22  11140605     서울 중구 을지로동  여자_70세이상생활인구수   251.1501   \n",
       "5506367  2020-05-31     23  11140605     서울 중구 을지로동  여자_70세이상생활인구수   247.0219   \n",
       "\n",
       "        SEX_CD HDONG_NM  WEEK_NUM  \n",
       "0            M   중계2.3동         5  \n",
       "1            M   중계2.3동         5  \n",
       "2            M   중계2.3동         5  \n",
       "3            M   중계2.3동         5  \n",
       "4            M   중계2.3동         5  \n",
       "...        ...      ...       ...  \n",
       "5506363      F     을지로동        22  \n",
       "5506364      F     을지로동        22  \n",
       "5506365      F     을지로동        22  \n",
       "5506366      F     을지로동        22  \n",
       "5506367      F     을지로동        22  \n",
       "\n",
       "[5506368 rows x 9 columns]"
      ]
     },
     "execution_count": 40,
     "metadata": {},
     "output_type": "execute_result"
    }
   ],
   "source": [
    "df"
   ]
  },
  {
   "cell_type": "markdown",
   "metadata": {},
   "source": [
    "-----------------"
   ]
  },
  {
   "cell_type": "code",
   "execution_count": 6,
   "metadata": {},
   "outputs": [],
   "source": [
    "flag = pd.read_csv('SK_melted_flow_age.csv')\n",
    "flag['SEX_CD'] = np.where(flag['age'].str.startswith('MAN'),'M','F')\n",
    "flag['AGE_CD'] = flag['age'].str[-4:]"
   ]
  },
  {
   "cell_type": "code",
   "execution_count": 7,
   "metadata": {},
   "outputs": [],
   "source": [
    "flag = flag.rename(columns={'flow_counts':'FLOW','year':'YEAR','month':'MONTH','weekofyear':'WEEK_NUM','dayofweek':'WEEKDAY'})"
   ]
  },
  {
   "cell_type": "code",
   "execution_count": 8,
   "metadata": {},
   "outputs": [],
   "source": [
    "flag.to_csv('TOTAL_FLOW_AGE_MELT.csv',index=False)"
   ]
  },
  {
   "cell_type": "code",
   "execution_count": null,
   "metadata": {},
   "outputs": [],
   "source": []
  }
 ],
 "metadata": {
  "kernelspec": {
   "display_name": "Python 3",
   "language": "python",
   "name": "python3"
  },
  "language_info": {
   "codemirror_mode": {
    "name": "ipython",
    "version": 3
   },
   "file_extension": ".py",
   "mimetype": "text/x-python",
   "name": "python",
   "nbconvert_exporter": "python",
   "pygments_lexer": "ipython3",
   "version": "3.7.7"
  }
 },
 "nbformat": 4,
 "nbformat_minor": 4
}
