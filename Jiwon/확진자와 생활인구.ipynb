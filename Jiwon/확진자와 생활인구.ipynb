{
 "cells": [
  {
   "cell_type": "code",
   "execution_count": 1,
   "metadata": {
    "ExecuteTime": {
     "end_time": "2020-09-03T13:16:32.956107Z",
     "start_time": "2020-09-03T13:16:31.213012Z"
    }
   },
   "outputs": [],
   "source": [
    "import pandas as pd\n",
    "import numpy as np\n",
    "import seaborn as sns\n",
    "import matplotlib.pyplot as plt\n",
    "from datetime import datetime\n",
    "import warnings\n",
    "import matplotlib\n",
    "from numpy import inf\n",
    "from scipy import stats\n",
    "import scipy as sp\n",
    "\n",
    "matplotlib.rcParams['axes.unicode_minus'] = False\n",
    "warnings.filterwarnings('ignore')\n",
    "plt.style.use('seaborn')\n",
    "%matplotlib inline\n",
    "plt.rcParams['font.family'] = 'Malgun Gothic'"
   ]
  },
  {
   "cell_type": "code",
   "execution_count": 2,
   "metadata": {
    "ExecuteTime": {
     "end_time": "2020-09-03T13:16:39.481981Z",
     "start_time": "2020-09-03T13:16:32.958102Z"
    }
   },
   "outputs": [],
   "source": [
    "pati = pd.read_csv('서울_전국_코로나.csv').drop(columns='Unnamed: 0')\n",
    "popu = pd.read_csv('local_people_melt.csv')"
   ]
  },
  {
   "cell_type": "code",
   "execution_count": 3,
   "metadata": {
    "ExecuteTime": {
     "end_time": "2020-09-03T13:16:41.087223Z",
     "start_time": "2020-09-03T13:16:39.484941Z"
    }
   },
   "outputs": [],
   "source": [
    "popu['GU_NM'] = popu['G_DNG_NM'].str[:6]"
   ]
  },
  {
   "cell_type": "code",
   "execution_count": 4,
   "metadata": {
    "ExecuteTime": {
     "end_time": "2020-09-03T13:16:42.361000Z",
     "start_time": "2020-09-03T13:16:41.089190Z"
    }
   },
   "outputs": [],
   "source": [
    "popu = popu.query('9<=시간대구분<=21')"
   ]
  },
  {
   "cell_type": "code",
   "execution_count": 5,
   "metadata": {
    "ExecuteTime": {
     "end_time": "2020-09-03T13:16:42.369978Z",
     "start_time": "2020-09-03T13:16:42.361999Z"
    }
   },
   "outputs": [],
   "source": [
    "pati0 = pd.melt(pati, id_vars='날짜', value_name='CONT', var_name='구분')"
   ]
  },
  {
   "cell_type": "code",
   "execution_count": 6,
   "metadata": {
    "ExecuteTime": {
     "end_time": "2020-09-03T13:16:42.392916Z",
     "start_time": "2020-09-03T13:16:42.372969Z"
    }
   },
   "outputs": [
    {
     "data": {
      "text/html": [
       "<div>\n",
       "<style scoped>\n",
       "    .dataframe tbody tr th:only-of-type {\n",
       "        vertical-align: middle;\n",
       "    }\n",
       "\n",
       "    .dataframe tbody tr th {\n",
       "        vertical-align: top;\n",
       "    }\n",
       "\n",
       "    .dataframe thead th {\n",
       "        text-align: right;\n",
       "    }\n",
       "</style>\n",
       "<table border=\"1\" class=\"dataframe\">\n",
       "  <thead>\n",
       "    <tr style=\"text-align: right;\">\n",
       "      <th></th>\n",
       "      <th>날짜</th>\n",
       "      <th>구분</th>\n",
       "      <th>CONT</th>\n",
       "    </tr>\n",
       "  </thead>\n",
       "  <tbody>\n",
       "    <tr>\n",
       "      <th>0</th>\n",
       "      <td>2020-01-24</td>\n",
       "      <td>중구 신규 확진자</td>\n",
       "      <td>0.0</td>\n",
       "    </tr>\n",
       "    <tr>\n",
       "      <th>1</th>\n",
       "      <td>2020-01-25</td>\n",
       "      <td>중구 신규 확진자</td>\n",
       "      <td>0.0</td>\n",
       "    </tr>\n",
       "    <tr>\n",
       "      <th>2</th>\n",
       "      <td>2020-01-26</td>\n",
       "      <td>중구 신규 확진자</td>\n",
       "      <td>0.0</td>\n",
       "    </tr>\n",
       "    <tr>\n",
       "      <th>3</th>\n",
       "      <td>2020-01-27</td>\n",
       "      <td>중구 신규 확진자</td>\n",
       "      <td>0.0</td>\n",
       "    </tr>\n",
       "    <tr>\n",
       "      <th>4</th>\n",
       "      <td>2020-01-28</td>\n",
       "      <td>중구 신규 확진자</td>\n",
       "      <td>0.0</td>\n",
       "    </tr>\n",
       "    <tr>\n",
       "      <th>...</th>\n",
       "      <td>...</td>\n",
       "      <td>...</td>\n",
       "      <td>...</td>\n",
       "    </tr>\n",
       "    <tr>\n",
       "      <th>727</th>\n",
       "      <td>2020-07-19</td>\n",
       "      <td>전국 신규 확진자</td>\n",
       "      <td>4.0</td>\n",
       "    </tr>\n",
       "    <tr>\n",
       "      <th>728</th>\n",
       "      <td>2020-07-20</td>\n",
       "      <td>전국 신규 확진자</td>\n",
       "      <td>20.0</td>\n",
       "    </tr>\n",
       "    <tr>\n",
       "      <th>729</th>\n",
       "      <td>2020-07-21</td>\n",
       "      <td>전국 신규 확진자</td>\n",
       "      <td>29.0</td>\n",
       "    </tr>\n",
       "    <tr>\n",
       "      <th>730</th>\n",
       "      <td>2020-07-22</td>\n",
       "      <td>전국 신규 확진자</td>\n",
       "      <td>39.0</td>\n",
       "    </tr>\n",
       "    <tr>\n",
       "      <th>731</th>\n",
       "      <td>2020-07-23</td>\n",
       "      <td>전국 신규 확진자</td>\n",
       "      <td>28.0</td>\n",
       "    </tr>\n",
       "  </tbody>\n",
       "</table>\n",
       "<p>732 rows × 3 columns</p>\n",
       "</div>"
      ],
      "text/plain": [
       "             날짜         구분  CONT\n",
       "0    2020-01-24  중구 신규 확진자   0.0\n",
       "1    2020-01-25  중구 신규 확진자   0.0\n",
       "2    2020-01-26  중구 신규 확진자   0.0\n",
       "3    2020-01-27  중구 신규 확진자   0.0\n",
       "4    2020-01-28  중구 신규 확진자   0.0\n",
       "..          ...        ...   ...\n",
       "727  2020-07-19  전국 신규 확진자   4.0\n",
       "728  2020-07-20  전국 신규 확진자  20.0\n",
       "729  2020-07-21  전국 신규 확진자  29.0\n",
       "730  2020-07-22  전국 신규 확진자  39.0\n",
       "731  2020-07-23  전국 신규 확진자  28.0\n",
       "\n",
       "[732 rows x 3 columns]"
      ]
     },
     "execution_count": 6,
     "metadata": {},
     "output_type": "execute_result"
    }
   ],
   "source": [
    "pati0"
   ]
  },
  {
   "cell_type": "code",
   "execution_count": 7,
   "metadata": {
    "ExecuteTime": {
     "end_time": "2020-09-03T13:16:44.599444Z",
     "start_time": "2020-09-03T13:16:42.394910Z"
    }
   },
   "outputs": [
    {
     "data": {
      "text/plain": [
       "<matplotlib.axes._subplots.AxesSubplot at 0x25bf6c06fc8>"
      ]
     },
     "execution_count": 7,
     "metadata": {},
     "output_type": "execute_result"
    },
    {
     "data": {
      "image/png": "[encoded data removed]",
      "text/plain": [
       "<Figure size 432x288 with 1 Axes>"
      ]
     },
     "metadata": {
      "needs_background": "light"
     },
     "output_type": "display_data"
    }
   ],
   "source": [
    "sns.lineplot(data = pati0,x='날짜',y='CONT',hue='구분')"
   ]
  },
  {
   "cell_type": "code",
   "execution_count": 8,
   "metadata": {
    "ExecuteTime": {
     "end_time": "2020-09-03T13:16:44.626346Z",
     "start_time": "2020-09-03T13:16:44.601406Z"
    }
   },
   "outputs": [
    {
     "data": {
      "text/html": [
       "<div>\n",
       "<style scoped>\n",
       "    .dataframe tbody tr th:only-of-type {\n",
       "        vertical-align: middle;\n",
       "    }\n",
       "\n",
       "    .dataframe tbody tr th {\n",
       "        vertical-align: top;\n",
       "    }\n",
       "\n",
       "    .dataframe thead th {\n",
       "        text-align: right;\n",
       "    }\n",
       "</style>\n",
       "<table border=\"1\" class=\"dataframe\">\n",
       "  <thead>\n",
       "    <tr style=\"text-align: right;\">\n",
       "      <th></th>\n",
       "      <th>중구 신규 확진자</th>\n",
       "      <th>노원구 신규 확진자</th>\n",
       "      <th>서울 신규 확진자</th>\n",
       "      <th>전국 신규 확진자</th>\n",
       "    </tr>\n",
       "  </thead>\n",
       "  <tbody>\n",
       "    <tr>\n",
       "      <th>중구 신규 확진자</th>\n",
       "      <td>1.000000</td>\n",
       "      <td>-0.029835</td>\n",
       "      <td>0.292162</td>\n",
       "      <td>-0.034426</td>\n",
       "    </tr>\n",
       "    <tr>\n",
       "      <th>노원구 신규 확진자</th>\n",
       "      <td>-0.029835</td>\n",
       "      <td>1.000000</td>\n",
       "      <td>0.377663</td>\n",
       "      <td>0.205131</td>\n",
       "    </tr>\n",
       "    <tr>\n",
       "      <th>서울 신규 확진자</th>\n",
       "      <td>0.292162</td>\n",
       "      <td>0.377663</td>\n",
       "      <td>1.000000</td>\n",
       "      <td>0.086657</td>\n",
       "    </tr>\n",
       "    <tr>\n",
       "      <th>전국 신규 확진자</th>\n",
       "      <td>-0.034426</td>\n",
       "      <td>0.205131</td>\n",
       "      <td>0.086657</td>\n",
       "      <td>1.000000</td>\n",
       "    </tr>\n",
       "  </tbody>\n",
       "</table>\n",
       "</div>"
      ],
      "text/plain": [
       "            중구 신규 확진자  노원구 신규 확진자  서울 신규 확진자  전국 신규 확진자\n",
       "중구 신규 확진자    1.000000   -0.029835   0.292162  -0.034426\n",
       "노원구 신규 확진자  -0.029835    1.000000   0.377663   0.205131\n",
       "서울 신규 확진자    0.292162    0.377663   1.000000   0.086657\n",
       "전국 신규 확진자   -0.034426    0.205131   0.086657   1.000000"
      ]
     },
     "execution_count": 8,
     "metadata": {},
     "output_type": "execute_result"
    }
   ],
   "source": [
    "pati.set_index('날짜').corr()\n",
    "# 서울과 중구의 상관계수가 가장 높음"
   ]
  },
  {
   "cell_type": "code",
   "execution_count": 9,
   "metadata": {
    "ExecuteTime": {
     "end_time": "2020-09-03T13:16:45.432575Z",
     "start_time": "2020-09-03T13:16:44.631333Z"
    }
   },
   "outputs": [],
   "source": [
    "df1 = popu.groupby(['GU_NM','시간대구분','STD_DD'])['FLOW'].sum().reset_index()\n",
    "df2 = df1.groupby(['GU_NM','STD_DD'])['FLOW'].mean().reset_index()"
   ]
  },
  {
   "cell_type": "code",
   "execution_count": 10,
   "metadata": {
    "ExecuteTime": {
     "end_time": "2020-09-03T13:16:45.443543Z",
     "start_time": "2020-09-03T13:16:45.434568Z"
    }
   },
   "outputs": [],
   "source": [
    "df2 = pd.pivot(data=df2,index='STD_DD',values='FLOW',columns='GU_NM')"
   ]
  },
  {
   "cell_type": "code",
   "execution_count": 11,
   "metadata": {
    "ExecuteTime": {
     "end_time": "2020-09-03T13:16:45.454514Z",
     "start_time": "2020-09-03T13:16:45.445538Z"
    }
   },
   "outputs": [],
   "source": [
    "pati = pati.rename(columns={'날짜':'STD_DD'})"
   ]
  },
  {
   "cell_type": "code",
   "execution_count": 12,
   "metadata": {
    "ExecuteTime": {
     "end_time": "2020-09-03T13:16:45.466518Z",
     "start_time": "2020-09-03T13:16:45.455511Z"
    }
   },
   "outputs": [],
   "source": [
    "dfdf = pd.merge(pati,df2,on='STD_DD')"
   ]
  },
  {
   "cell_type": "code",
   "execution_count": 13,
   "metadata": {
    "ExecuteTime": {
     "end_time": "2020-09-03T13:16:45.479446Z",
     "start_time": "2020-09-03T13:16:45.468477Z"
    }
   },
   "outputs": [],
   "source": [
    "dfdf = dfdf.loc[dfdf['STD_DD']<'2020-05-06',:]\n",
    "dfdf['period'] = np.where(dfdf['STD_DD']<'2020-02-21','normal',np.where(dfdf['STD_DD']<'2020-03-16','spread',np.where(dfdf['STD_DD']<'2020-03-22','ease','resliance')))"
   ]
  },
  {
   "cell_type": "code",
   "execution_count": 14,
   "metadata": {
    "ExecuteTime": {
     "end_time": "2020-09-03T13:16:51.974665Z",
     "start_time": "2020-09-03T13:16:51.948789Z"
    }
   },
   "outputs": [
    {
     "data": {
      "text/html": [
       "<div>\n",
       "<style scoped>\n",
       "    .dataframe tbody tr th:only-of-type {\n",
       "        vertical-align: middle;\n",
       "    }\n",
       "\n",
       "    .dataframe tbody tr th {\n",
       "        vertical-align: top;\n",
       "    }\n",
       "\n",
       "    .dataframe thead th {\n",
       "        text-align: right;\n",
       "    }\n",
       "</style>\n",
       "<table border=\"1\" class=\"dataframe\">\n",
       "  <thead>\n",
       "    <tr style=\"text-align: right;\">\n",
       "      <th></th>\n",
       "      <th>중구 신규 확진자</th>\n",
       "      <th>노원구 신규 확진자</th>\n",
       "      <th>서울 신규 확진자</th>\n",
       "      <th>전국 신규 확진자</th>\n",
       "      <th>서울 노원구</th>\n",
       "      <th>서울 중구</th>\n",
       "    </tr>\n",
       "  </thead>\n",
       "  <tbody>\n",
       "    <tr>\n",
       "      <th>중구 신규 확진자</th>\n",
       "      <td>0.0</td>\n",
       "      <td>0.0</td>\n",
       "      <td>0.000000</td>\n",
       "      <td>0.000000</td>\n",
       "      <td>0.000000</td>\n",
       "      <td>0.000000</td>\n",
       "    </tr>\n",
       "    <tr>\n",
       "      <th>노원구 신규 확진자</th>\n",
       "      <td>0.0</td>\n",
       "      <td>0.0</td>\n",
       "      <td>0.000000</td>\n",
       "      <td>0.000000</td>\n",
       "      <td>0.000000</td>\n",
       "      <td>0.000000</td>\n",
       "    </tr>\n",
       "    <tr>\n",
       "      <th>서울 신규 확진자</th>\n",
       "      <td>0.0</td>\n",
       "      <td>0.0</td>\n",
       "      <td>1.000000</td>\n",
       "      <td>0.835707</td>\n",
       "      <td>-0.156001</td>\n",
       "      <td>0.124557</td>\n",
       "    </tr>\n",
       "    <tr>\n",
       "      <th>전국 신규 확진자</th>\n",
       "      <td>0.0</td>\n",
       "      <td>0.0</td>\n",
       "      <td>0.835707</td>\n",
       "      <td>1.000000</td>\n",
       "      <td>-0.234090</td>\n",
       "      <td>0.189505</td>\n",
       "    </tr>\n",
       "    <tr>\n",
       "      <th>서울 노원구</th>\n",
       "      <td>0.0</td>\n",
       "      <td>0.0</td>\n",
       "      <td>-0.156001</td>\n",
       "      <td>-0.234090</td>\n",
       "      <td>1.000000</td>\n",
       "      <td>-0.990061</td>\n",
       "    </tr>\n",
       "    <tr>\n",
       "      <th>서울 중구</th>\n",
       "      <td>0.0</td>\n",
       "      <td>0.0</td>\n",
       "      <td>0.124557</td>\n",
       "      <td>0.189505</td>\n",
       "      <td>-0.990061</td>\n",
       "      <td>1.000000</td>\n",
       "    </tr>\n",
       "  </tbody>\n",
       "</table>\n",
       "</div>"
      ],
      "text/plain": [
       "            중구 신규 확진자  노원구 신규 확진자  서울 신규 확진자  전국 신규 확진자    서울 노원구    서울 중구 \n",
       "중구 신규 확진자         0.0         0.0   0.000000   0.000000  0.000000  0.000000\n",
       "노원구 신규 확진자        0.0         0.0   0.000000   0.000000  0.000000  0.000000\n",
       "서울 신규 확진자         0.0         0.0   1.000000   0.835707 -0.156001  0.124557\n",
       "전국 신규 확진자         0.0         0.0   0.835707   1.000000 -0.234090  0.189505\n",
       "서울 노원구            0.0         0.0  -0.156001  -0.234090  1.000000 -0.990061\n",
       "서울 중구             0.0         0.0   0.124557   0.189505 -0.990061  1.000000"
      ]
     },
     "execution_count": 14,
     "metadata": {},
     "output_type": "execute_result"
    }
   ],
   "source": [
    "dfdf.query('period == \"normal\"').drop(columns='period').set_index('STD_DD').corr().fillna(0)\n",
    "# 서울 신규확진자와 전국 신규 확진자(0.83)\n",
    "# 서울 노원구 유동인구와 전국 신규 확진자(-0.23)\n",
    "# 전국 신규 확진자와 서울 중구 유동인구(0.189)"
   ]
  },
  {
   "cell_type": "code",
   "execution_count": 15,
   "metadata": {
    "ExecuteTime": {
     "end_time": "2020-09-03T13:16:52.108309Z",
     "start_time": "2020-09-03T13:16:52.092350Z"
    }
   },
   "outputs": [
    {
     "data": {
      "text/html": [
       "<div>\n",
       "<style scoped>\n",
       "    .dataframe tbody tr th:only-of-type {\n",
       "        vertical-align: middle;\n",
       "    }\n",
       "\n",
       "    .dataframe tbody tr th {\n",
       "        vertical-align: top;\n",
       "    }\n",
       "\n",
       "    .dataframe thead th {\n",
       "        text-align: right;\n",
       "    }\n",
       "</style>\n",
       "<table border=\"1\" class=\"dataframe\">\n",
       "  <thead>\n",
       "    <tr style=\"text-align: right;\">\n",
       "      <th></th>\n",
       "      <th>중구 신규 확진자</th>\n",
       "      <th>노원구 신규 확진자</th>\n",
       "      <th>서울 신규 확진자</th>\n",
       "      <th>전국 신규 확진자</th>\n",
       "      <th>서울 노원구</th>\n",
       "      <th>서울 중구</th>\n",
       "    </tr>\n",
       "  </thead>\n",
       "  <tbody>\n",
       "    <tr>\n",
       "      <th>중구 신규 확진자</th>\n",
       "      <td>1.000000</td>\n",
       "      <td>0.096909</td>\n",
       "      <td>0.296873</td>\n",
       "      <td>-0.173055</td>\n",
       "      <td>-0.145244</td>\n",
       "      <td>0.133858</td>\n",
       "    </tr>\n",
       "    <tr>\n",
       "      <th>노원구 신규 확진자</th>\n",
       "      <td>0.096909</td>\n",
       "      <td>1.000000</td>\n",
       "      <td>0.497524</td>\n",
       "      <td>-0.067370</td>\n",
       "      <td>-0.187817</td>\n",
       "      <td>0.186886</td>\n",
       "    </tr>\n",
       "    <tr>\n",
       "      <th>서울 신규 확진자</th>\n",
       "      <td>0.296873</td>\n",
       "      <td>0.497524</td>\n",
       "      <td>1.000000</td>\n",
       "      <td>-0.246486</td>\n",
       "      <td>-0.238860</td>\n",
       "      <td>0.211749</td>\n",
       "    </tr>\n",
       "    <tr>\n",
       "      <th>전국 신규 확진자</th>\n",
       "      <td>-0.173055</td>\n",
       "      <td>-0.067370</td>\n",
       "      <td>-0.246486</td>\n",
       "      <td>1.000000</td>\n",
       "      <td>0.190903</td>\n",
       "      <td>-0.157424</td>\n",
       "    </tr>\n",
       "    <tr>\n",
       "      <th>서울 노원구</th>\n",
       "      <td>-0.145244</td>\n",
       "      <td>-0.187817</td>\n",
       "      <td>-0.238860</td>\n",
       "      <td>0.190903</td>\n",
       "      <td>1.000000</td>\n",
       "      <td>-0.986143</td>\n",
       "    </tr>\n",
       "    <tr>\n",
       "      <th>서울 중구</th>\n",
       "      <td>0.133858</td>\n",
       "      <td>0.186886</td>\n",
       "      <td>0.211749</td>\n",
       "      <td>-0.157424</td>\n",
       "      <td>-0.986143</td>\n",
       "      <td>1.000000</td>\n",
       "    </tr>\n",
       "  </tbody>\n",
       "</table>\n",
       "</div>"
      ],
      "text/plain": [
       "            중구 신규 확진자  노원구 신규 확진자  서울 신규 확진자  전국 신규 확진자    서울 노원구    서울 중구 \n",
       "중구 신규 확진자    1.000000    0.096909   0.296873  -0.173055 -0.145244  0.133858\n",
       "노원구 신규 확진자   0.096909    1.000000   0.497524  -0.067370 -0.187817  0.186886\n",
       "서울 신규 확진자    0.296873    0.497524   1.000000  -0.246486 -0.238860  0.211749\n",
       "전국 신규 확진자   -0.173055   -0.067370  -0.246486   1.000000  0.190903 -0.157424\n",
       "서울 노원구      -0.145244   -0.187817  -0.238860   0.190903  1.000000 -0.986143\n",
       "서울 중구        0.133858    0.186886   0.211749  -0.157424 -0.986143  1.000000"
      ]
     },
     "execution_count": 15,
     "metadata": {},
     "output_type": "execute_result"
    }
   ],
   "source": [
    "dfdf.query('period == \"spread\"').drop(columns='period').set_index('STD_DD').corr().fillna(0)\n",
    "# 서울 신규 확진자와 노원구 신규 확진자(0.497), 그리고 서울 신규 확진자와 서울 노원구 유동인구(-0.238)\n",
    "# 중구 신규 확진자와 서울 신규 확진자(0.29)\n",
    "# 전국 신규 확진자와 서울 신규 확진자(-0.246)"
   ]
  },
  {
   "cell_type": "code",
   "execution_count": 16,
   "metadata": {
    "ExecuteTime": {
     "end_time": "2020-09-03T13:16:52.292814Z",
     "start_time": "2020-09-03T13:16:52.271871Z"
    }
   },
   "outputs": [
    {
     "data": {
      "text/html": [
       "<div>\n",
       "<style scoped>\n",
       "    .dataframe tbody tr th:only-of-type {\n",
       "        vertical-align: middle;\n",
       "    }\n",
       "\n",
       "    .dataframe tbody tr th {\n",
       "        vertical-align: top;\n",
       "    }\n",
       "\n",
       "    .dataframe thead th {\n",
       "        text-align: right;\n",
       "    }\n",
       "</style>\n",
       "<table border=\"1\" class=\"dataframe\">\n",
       "  <thead>\n",
       "    <tr style=\"text-align: right;\">\n",
       "      <th></th>\n",
       "      <th>중구 신규 확진자</th>\n",
       "      <th>노원구 신규 확진자</th>\n",
       "      <th>서울 신규 확진자</th>\n",
       "      <th>전국 신규 확진자</th>\n",
       "      <th>서울 노원구</th>\n",
       "      <th>서울 중구</th>\n",
       "    </tr>\n",
       "  </thead>\n",
       "  <tbody>\n",
       "    <tr>\n",
       "      <th>중구 신규 확진자</th>\n",
       "      <td>1.000000</td>\n",
       "      <td>-0.094491</td>\n",
       "      <td>0.461982</td>\n",
       "      <td>0.582802</td>\n",
       "      <td>-0.069107</td>\n",
       "      <td>0.127327</td>\n",
       "    </tr>\n",
       "    <tr>\n",
       "      <th>노원구 신규 확진자</th>\n",
       "      <td>-0.094491</td>\n",
       "      <td>1.000000</td>\n",
       "      <td>0.333705</td>\n",
       "      <td>0.211722</td>\n",
       "      <td>-0.156819</td>\n",
       "      <td>0.186221</td>\n",
       "    </tr>\n",
       "    <tr>\n",
       "      <th>서울 신규 확진자</th>\n",
       "      <td>0.461982</td>\n",
       "      <td>0.333705</td>\n",
       "      <td>1.000000</td>\n",
       "      <td>0.881874</td>\n",
       "      <td>0.083782</td>\n",
       "      <td>0.059439</td>\n",
       "    </tr>\n",
       "    <tr>\n",
       "      <th>전국 신규 확진자</th>\n",
       "      <td>0.582802</td>\n",
       "      <td>0.211722</td>\n",
       "      <td>0.881874</td>\n",
       "      <td>1.000000</td>\n",
       "      <td>-0.014596</td>\n",
       "      <td>0.163272</td>\n",
       "    </tr>\n",
       "    <tr>\n",
       "      <th>서울 노원구</th>\n",
       "      <td>-0.069107</td>\n",
       "      <td>-0.156819</td>\n",
       "      <td>0.083782</td>\n",
       "      <td>-0.014596</td>\n",
       "      <td>1.000000</td>\n",
       "      <td>-0.874260</td>\n",
       "    </tr>\n",
       "    <tr>\n",
       "      <th>서울 중구</th>\n",
       "      <td>0.127327</td>\n",
       "      <td>0.186221</td>\n",
       "      <td>0.059439</td>\n",
       "      <td>0.163272</td>\n",
       "      <td>-0.874260</td>\n",
       "      <td>1.000000</td>\n",
       "    </tr>\n",
       "  </tbody>\n",
       "</table>\n",
       "</div>"
      ],
      "text/plain": [
       "            중구 신규 확진자  노원구 신규 확진자  서울 신규 확진자  전국 신규 확진자    서울 노원구    서울 중구 \n",
       "중구 신규 확진자    1.000000   -0.094491   0.461982   0.582802 -0.069107  0.127327\n",
       "노원구 신규 확진자  -0.094491    1.000000   0.333705   0.211722 -0.156819  0.186221\n",
       "서울 신규 확진자    0.461982    0.333705   1.000000   0.881874  0.083782  0.059439\n",
       "전국 신규 확진자    0.582802    0.211722   0.881874   1.000000 -0.014596  0.163272\n",
       "서울 노원구      -0.069107   -0.156819   0.083782  -0.014596  1.000000 -0.874260\n",
       "서울 중구        0.127327    0.186221   0.059439   0.163272 -0.874260  1.000000"
      ]
     },
     "execution_count": 16,
     "metadata": {},
     "output_type": "execute_result"
    }
   ],
   "source": [
    "dfdf.query('period == \"resliance\"').drop(columns='period').set_index('STD_DD').corr().fillna(0)\n",
    "# 전국 신규 확진자와 서울 신규 확진자(0.88)\n",
    "# 전국 신규 확진자와 중구 신규 확진자(0.582)\n",
    "# 서울 신규 확진자와 중구 신규 확진자(0.461)\n",
    "# "
   ]
  },
  {
   "cell_type": "code",
   "execution_count": 17,
   "metadata": {
    "ExecuteTime": {
     "end_time": "2020-09-03T13:16:52.620020Z",
     "start_time": "2020-09-03T13:16:52.602580Z"
    }
   },
   "outputs": [
    {
     "data": {
      "text/html": [
       "<div>\n",
       "<style scoped>\n",
       "    .dataframe tbody tr th:only-of-type {\n",
       "        vertical-align: middle;\n",
       "    }\n",
       "\n",
       "    .dataframe tbody tr th {\n",
       "        vertical-align: top;\n",
       "    }\n",
       "\n",
       "    .dataframe thead th {\n",
       "        text-align: right;\n",
       "    }\n",
       "</style>\n",
       "<table border=\"1\" class=\"dataframe\">\n",
       "  <thead>\n",
       "    <tr style=\"text-align: right;\">\n",
       "      <th></th>\n",
       "      <th>중구 신규 확진자</th>\n",
       "      <th>노원구 신규 확진자</th>\n",
       "      <th>서울 신규 확진자</th>\n",
       "      <th>전국 신규 확진자</th>\n",
       "      <th>서울 노원구</th>\n",
       "      <th>서울 중구</th>\n",
       "    </tr>\n",
       "  </thead>\n",
       "  <tbody>\n",
       "    <tr>\n",
       "      <th>중구 신규 확진자</th>\n",
       "      <td>0.0</td>\n",
       "      <td>0.000000</td>\n",
       "      <td>0.000000</td>\n",
       "      <td>0.000000</td>\n",
       "      <td>0.000000</td>\n",
       "      <td>0.000000</td>\n",
       "    </tr>\n",
       "    <tr>\n",
       "      <th>노원구 신규 확진자</th>\n",
       "      <td>0.0</td>\n",
       "      <td>1.000000</td>\n",
       "      <td>0.805228</td>\n",
       "      <td>0.506156</td>\n",
       "      <td>-0.424808</td>\n",
       "      <td>0.397554</td>\n",
       "    </tr>\n",
       "    <tr>\n",
       "      <th>서울 신규 확진자</th>\n",
       "      <td>0.0</td>\n",
       "      <td>0.805228</td>\n",
       "      <td>1.000000</td>\n",
       "      <td>0.299253</td>\n",
       "      <td>-0.313743</td>\n",
       "      <td>0.284277</td>\n",
       "    </tr>\n",
       "    <tr>\n",
       "      <th>전국 신규 확진자</th>\n",
       "      <td>0.0</td>\n",
       "      <td>0.506156</td>\n",
       "      <td>0.299253</td>\n",
       "      <td>1.000000</td>\n",
       "      <td>-0.387443</td>\n",
       "      <td>0.299869</td>\n",
       "    </tr>\n",
       "    <tr>\n",
       "      <th>서울 노원구</th>\n",
       "      <td>0.0</td>\n",
       "      <td>-0.424808</td>\n",
       "      <td>-0.313743</td>\n",
       "      <td>-0.387443</td>\n",
       "      <td>1.000000</td>\n",
       "      <td>-0.994746</td>\n",
       "    </tr>\n",
       "    <tr>\n",
       "      <th>서울 중구</th>\n",
       "      <td>0.0</td>\n",
       "      <td>0.397554</td>\n",
       "      <td>0.284277</td>\n",
       "      <td>0.299869</td>\n",
       "      <td>-0.994746</td>\n",
       "      <td>1.000000</td>\n",
       "    </tr>\n",
       "  </tbody>\n",
       "</table>\n",
       "</div>"
      ],
      "text/plain": [
       "            중구 신규 확진자  노원구 신규 확진자  서울 신규 확진자  전국 신규 확진자    서울 노원구    서울 중구 \n",
       "중구 신규 확진자         0.0    0.000000   0.000000   0.000000  0.000000  0.000000\n",
       "노원구 신규 확진자        0.0    1.000000   0.805228   0.506156 -0.424808  0.397554\n",
       "서울 신규 확진자         0.0    0.805228   1.000000   0.299253 -0.313743  0.284277\n",
       "전국 신규 확진자         0.0    0.506156   0.299253   1.000000 -0.387443  0.299869\n",
       "서울 노원구            0.0   -0.424808  -0.313743  -0.387443  1.000000 -0.994746\n",
       "서울 중구             0.0    0.397554   0.284277   0.299869 -0.994746  1.000000"
      ]
     },
     "execution_count": 17,
     "metadata": {},
     "output_type": "execute_result"
    }
   ],
   "source": [
    "dfdf.query('period == \"ease\"').drop(columns='period').set_index('STD_DD').corr().fillna(0)\n",
    "# 서울 노원구 생활인구와 서울 노원구 신규 확진자(-0.42)\n",
    "# "
   ]
  },
  {
   "cell_type": "code",
   "execution_count": null,
   "metadata": {},
   "outputs": [],
   "source": []
  }
 ],
 "metadata": {
  "kernelspec": {
   "display_name": "Python 3",
   "language": "python",
   "name": "python3"
  },
  "language_info": {
   "codemirror_mode": {
    "name": "ipython",
    "version": 3
   },
   "file_extension": ".py",
   "mimetype": "text/x-python",
   "name": "python",
   "nbconvert_exporter": "python",
   "pygments_lexer": "ipython3",
   "version": "3.7.7"
  },
  "toc": {
   "base_numbering": 1,
   "nav_menu": {},
   "number_sections": true,
   "sideBar": true,
   "skip_h1_title": false,
   "title_cell": "Table of Contents",
   "title_sidebar": "Contents",
   "toc_cell": false,
   "toc_position": {},
   "toc_section_display": true,
   "toc_window_display": false
  }
 },
 "nbformat": 4,
 "nbformat_minor": 4
}
