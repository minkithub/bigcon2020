{
 "cells": [
  {
   "cell_type": "code",
   "execution_count": 1,
   "metadata": {},
   "outputs": [],
   "source": [
    "import pandas as pd\n",
    "import numpy as np\n",
    "import warnings\n",
    "import os\n",
    "warnings.filterwarnings(action='ignore')\n",
    "\n",
    "import seaborn as sns\n",
    "sns.set_palette(\"pastel\")\n",
    "import matplotlib.pylab as plt\n",
    "from matplotlib import font_manager, rc\n",
    "%matplotlib inline\n",
    "\n",
    "import platform\n",
    "your_os = platform.system()\n",
    "if your_os == 'Linux':\n",
    "    rc('font', family='NanumGothic')\n",
    "elif your_os == 'Windows':\n",
    "    ttf = \"c:/Windows/Fonts/malgun.ttf\"\n",
    "    font_name = font_manager.FontProperties(fname=ttf).get_name()\n",
    "    rc('font', family=font_name)\n",
    "elif your_os == 'Darwin':\n",
    "    rc('font', family='AppleGothic')\n",
    "rc('axes', unicode_minus=False)"
   ]
  },
  {
   "cell_type": "code",
   "execution_count": 2,
   "metadata": {},
   "outputs": [],
   "source": [
    "mul = pd.read_excel('2020 빅콘테스트_CJ올리브네트웍스_제공DB.xlsx')\n",
    "data = pd.read_csv('2020 bigcontest data_wisenut.csv',sep='\u0007')"
   ]
  },
  {
   "cell_type": "code",
   "execution_count": 3,
   "metadata": {},
   "outputs": [],
   "source": [
    "data = data.rename(columns =  {'GU_NM(삭제)':'GU_NM', 'DONG_NM(삭제)':'DONG_NM'})\n",
    "data['CTGG_CD'] = data['GU_CD'].astype('str').str[:2].astype('int64')\n",
    "data['HDNG_CD'] = data['DONG_CD']\n",
    "data['CGDG_CD'] = data['CTGG_CD'].astype('str')+data['HDNG_CD'].astype('str')"
   ]
  },
  {
   "cell_type": "code",
   "execution_count": 4,
   "metadata": {},
   "outputs": [],
   "source": [
    "mul['DL_YM'] = mul['DL_YMD'].astype('str').str[:4].astype('int64')\n",
    "mul['CGDG_CD'] = mul['CTGG_CD'].astype('str')+mul['HDNG_CD'].astype('str')\n",
    "\n",
    "mul['YEAR'] = '20'+mul['DL_YM'].astype('str').str[:2]\n",
    "mul['MONTH'] = mul['DL_YM'].astype('str').str[-2:]"
   ]
  },
  {
   "cell_type": "markdown",
   "metadata": {},
   "source": [
    "* 도서/ 음반 => 문화취미\n",
    "* 스포츠/레저 => 레저업소\n",
    "* 식품 => 요식업소(억지일수도...)\n",
    "* 화장품/미용 => 보건위생(세부분류가 화장품, 마스크, 소독재, 온천장, 피부미용실, 사우나, 안마, 마사지, 목욕탕 해당되기 때문)"
   ]
  },
  {
   "cell_type": "code",
   "execution_count": 5,
   "metadata": {},
   "outputs": [],
   "source": [
    "mul_f1 = mul.query('(DL_GD_LCLS_CD == 12) or (DL_GD_LCLS_CD == 16) or (DL_GD_LCLS_CD == 17) or (DL_GD_LCLS_CD == 21)')"
   ]
  },
  {
   "cell_type": "code",
   "execution_count": 6,
   "metadata": {},
   "outputs": [],
   "source": [
    "up_dl = mul_f1.groupby(['YEAR','MONTH','DL_GD_LCLS_NM'])['INVC_CONT'].sum().reset_index()\n",
    "up_dl_gd = mul_f1.groupby(['YEAR','MONTH','DL_GD_LCLS_NM','CGDG_CD'])['INVC_CONT'].sum().reset_index()"
   ]
  },
  {
   "cell_type": "code",
   "execution_count": 7,
   "metadata": {},
   "outputs": [],
   "source": [
    "data.drop(columns=['SEQ','HDNG_CD','HDNG_CD','CTGG_CD','GU_CD','DONG_CD'],inplace=True)"
   ]
  },
  {
   "cell_type": "code",
   "execution_count": 8,
   "metadata": {},
   "outputs": [],
   "source": [
    "df = pd.melt(data,id_vars=['CGDG_CD','GU_NM','DONG_NM'],var_name='CAT',value_name='CNT')"
   ]
  },
  {
   "cell_type": "code",
   "execution_count": 9,
   "metadata": {},
   "outputs": [],
   "source": [
    "df['MONTH'] = df['CAT'].str[-2:].astype('int64')\n",
    "df['YEAR'] = df['CAT'].str[-6:-2].astype('int64')\n",
    "df['CAT'] = df['CAT'].str[:-7]"
   ]
  },
  {
   "cell_type": "code",
   "execution_count": 10,
   "metadata": {},
   "outputs": [],
   "source": [
    "df['GU_DONG'] = df[['GU_NM', 'DONG_NM']].apply(lambda x: ','.join(x), axis=1)"
   ]
  },
  {
   "cell_type": "code",
   "execution_count": 11,
   "metadata": {},
   "outputs": [],
   "source": [
    "f = df[df['CAT'].str.contains('TIVE')]\n",
    "f['UP'] = f['CAT'].str[:3]\n",
    "f['SENTIMENT'] = f['CAT'].str[-8:-5]"
   ]
  },
  {
   "cell_type": "code",
   "execution_count": 12,
   "metadata": {},
   "outputs": [],
   "source": [
    "up_dl_gd['MONTH'] = up_dl_gd['MONTH'].astype('int64')\n",
    "up_dl_gd['YEAR'] = up_dl_gd['YEAR'].astype('int64')"
   ]
  },
  {
   "cell_type": "code",
   "execution_count": 24,
   "metadata": {},
   "outputs": [],
   "source": [
    "up_cnt = f.query('SENTIMENT == \"POS\"').groupby(['YEAR','MONTH','GU_DONG','CGDG_CD','UP'])['CNT'].sum().reset_index()"
   ]
  },
  {
   "cell_type": "code",
   "execution_count": 45,
   "metadata": {},
   "outputs": [],
   "source": [
    "a = pd.pivot_table(up_cnt,index=['YEAR','MONTH','CGDG_CD','GU_DONG'],columns='UP',values='CNT').reset_index()\n",
    "b = pd.pivot_table(up_dl_gd, index=['YEAR','MONTH','CGDG_CD'],columns='DL_GD_LCLS_NM',values='INVC_CONT').reset_index()"
   ]
  },
  {
   "cell_type": "code",
   "execution_count": 46,
   "metadata": {},
   "outputs": [],
   "source": [
    "a1 = pd.pivot_table(up_cnt,index=['YEAR', 'CGDG_CD','GU_DONG'],columns=['UP','MONTH'],values='CNT').reset_index()\n",
    "b1 = pd.pivot_table(up_dl_gd, index=['YEAR','CGDG_CD'],columns=['DL_GD_LCLS_NM','MONTH'],values='INVC_CONT').reset_index()"
   ]
  },
  {
   "cell_type": "code",
   "execution_count": 47,
   "metadata": {},
   "outputs": [
    {
     "data": {
      "text/html": [
       "<div>\n",
       "<style scoped>\n",
       "    .dataframe tbody tr th:only-of-type {\n",
       "        vertical-align: middle;\n",
       "    }\n",
       "\n",
       "    .dataframe tbody tr th {\n",
       "        vertical-align: top;\n",
       "    }\n",
       "\n",
       "    .dataframe thead th {\n",
       "        text-align: right;\n",
       "    }\n",
       "</style>\n",
       "<table border=\"1\" class=\"dataframe\">\n",
       "  <thead>\n",
       "    <tr style=\"text-align: right;\">\n",
       "      <th>UP</th>\n",
       "      <th>YEAR</th>\n",
       "      <th>MONTH</th>\n",
       "      <th>CGDG_CD</th>\n",
       "      <th>GU_DONG</th>\n",
       "      <th>UP1</th>\n",
       "      <th>UP2</th>\n",
       "      <th>UP3</th>\n",
       "      <th>UP4</th>\n",
       "      <th>UP5</th>\n",
       "      <th>UP6</th>\n",
       "    </tr>\n",
       "  </thead>\n",
       "  <tbody>\n",
       "    <tr>\n",
       "      <th>0</th>\n",
       "      <td>2019</td>\n",
       "      <td>2</td>\n",
       "      <td>11517</td>\n",
       "      <td>대구 중구,동인동</td>\n",
       "      <td>0</td>\n",
       "      <td>0</td>\n",
       "      <td>24</td>\n",
       "      <td>14</td>\n",
       "      <td>38</td>\n",
       "      <td>20</td>\n",
       "    </tr>\n",
       "    <tr>\n",
       "      <th>1</th>\n",
       "      <td>2019</td>\n",
       "      <td>2</td>\n",
       "      <td>11545</td>\n",
       "      <td>대구 중구,삼덕동</td>\n",
       "      <td>26</td>\n",
       "      <td>0</td>\n",
       "      <td>2</td>\n",
       "      <td>6</td>\n",
       "      <td>38</td>\n",
       "      <td>43</td>\n",
       "    </tr>\n",
       "    <tr>\n",
       "      <th>2</th>\n",
       "      <td>2019</td>\n",
       "      <td>2</td>\n",
       "      <td>11565</td>\n",
       "      <td>대구 중구,성내동</td>\n",
       "      <td>19</td>\n",
       "      <td>0</td>\n",
       "      <td>3</td>\n",
       "      <td>0</td>\n",
       "      <td>0</td>\n",
       "      <td>0</td>\n",
       "    </tr>\n",
       "    <tr>\n",
       "      <th>3</th>\n",
       "      <td>2019</td>\n",
       "      <td>2</td>\n",
       "      <td>11595</td>\n",
       "      <td>대구 중구,대신동</td>\n",
       "      <td>19</td>\n",
       "      <td>0</td>\n",
       "      <td>3</td>\n",
       "      <td>0</td>\n",
       "      <td>0</td>\n",
       "      <td>0</td>\n",
       "    </tr>\n",
       "    <tr>\n",
       "      <th>4</th>\n",
       "      <td>2019</td>\n",
       "      <td>2</td>\n",
       "      <td>11640</td>\n",
       "      <td>대구 중구,남산동</td>\n",
       "      <td>19</td>\n",
       "      <td>0</td>\n",
       "      <td>73</td>\n",
       "      <td>147</td>\n",
       "      <td>0</td>\n",
       "      <td>14</td>\n",
       "    </tr>\n",
       "    <tr>\n",
       "      <th>...</th>\n",
       "      <td>...</td>\n",
       "      <td>...</td>\n",
       "      <td>...</td>\n",
       "      <td>...</td>\n",
       "      <td>...</td>\n",
       "      <td>...</td>\n",
       "      <td>...</td>\n",
       "      <td>...</td>\n",
       "      <td>...</td>\n",
       "      <td>...</td>\n",
       "    </tr>\n",
       "    <tr>\n",
       "      <th>275</th>\n",
       "      <td>2020</td>\n",
       "      <td>5</td>\n",
       "      <td>35560</td>\n",
       "      <td>서울 노원구,월계동</td>\n",
       "      <td>3</td>\n",
       "      <td>0</td>\n",
       "      <td>296</td>\n",
       "      <td>205</td>\n",
       "      <td>386</td>\n",
       "      <td>85</td>\n",
       "    </tr>\n",
       "    <tr>\n",
       "      <th>276</th>\n",
       "      <td>2020</td>\n",
       "      <td>5</td>\n",
       "      <td>35595</td>\n",
       "      <td>서울 노원구,공릉동</td>\n",
       "      <td>235</td>\n",
       "      <td>2</td>\n",
       "      <td>437</td>\n",
       "      <td>4301</td>\n",
       "      <td>908</td>\n",
       "      <td>242</td>\n",
       "    </tr>\n",
       "    <tr>\n",
       "      <th>277</th>\n",
       "      <td>2020</td>\n",
       "      <td>5</td>\n",
       "      <td>35611</td>\n",
       "      <td>서울 노원구,하계동</td>\n",
       "      <td>138</td>\n",
       "      <td>0</td>\n",
       "      <td>213</td>\n",
       "      <td>4426</td>\n",
       "      <td>938</td>\n",
       "      <td>17</td>\n",
       "    </tr>\n",
       "    <tr>\n",
       "      <th>278</th>\n",
       "      <td>2020</td>\n",
       "      <td>5</td>\n",
       "      <td>35619</td>\n",
       "      <td>서울 노원구,중계동</td>\n",
       "      <td>0</td>\n",
       "      <td>0</td>\n",
       "      <td>718</td>\n",
       "      <td>436</td>\n",
       "      <td>396</td>\n",
       "      <td>79</td>\n",
       "    </tr>\n",
       "    <tr>\n",
       "      <th>279</th>\n",
       "      <td>2020</td>\n",
       "      <td>5</td>\n",
       "      <td>35630</td>\n",
       "      <td>서울 노원구,상계동</td>\n",
       "      <td>138</td>\n",
       "      <td>0</td>\n",
       "      <td>860</td>\n",
       "      <td>4659</td>\n",
       "      <td>956</td>\n",
       "      <td>76</td>\n",
       "    </tr>\n",
       "  </tbody>\n",
       "</table>\n",
       "<p>280 rows × 10 columns</p>\n",
       "</div>"
      ],
      "text/plain": [
       "UP   YEAR  MONTH CGDG_CD     GU_DONG  UP1  UP2  UP3   UP4  UP5  UP6\n",
       "0    2019      2   11517   대구 중구,동인동    0    0   24    14   38   20\n",
       "1    2019      2   11545   대구 중구,삼덕동   26    0    2     6   38   43\n",
       "2    2019      2   11565   대구 중구,성내동   19    0    3     0    0    0\n",
       "3    2019      2   11595   대구 중구,대신동   19    0    3     0    0    0\n",
       "4    2019      2   11640   대구 중구,남산동   19    0   73   147    0   14\n",
       "..    ...    ...     ...         ...  ...  ...  ...   ...  ...  ...\n",
       "275  2020      5   35560  서울 노원구,월계동    3    0  296   205  386   85\n",
       "276  2020      5   35595  서울 노원구,공릉동  235    2  437  4301  908  242\n",
       "277  2020      5   35611  서울 노원구,하계동  138    0  213  4426  938   17\n",
       "278  2020      5   35619  서울 노원구,중계동    0    0  718   436  396   79\n",
       "279  2020      5   35630  서울 노원구,상계동  138    0  860  4659  956   76\n",
       "\n",
       "[280 rows x 10 columns]"
      ]
     },
     "execution_count": 47,
     "metadata": {},
     "output_type": "execute_result"
    }
   ],
   "source": [
    "a"
   ]
  },
  {
   "cell_type": "code",
   "execution_count": 50,
   "metadata": {},
   "outputs": [
    {
     "data": {
      "text/plain": [
       "<matplotlib.axes._subplots.AxesSubplot at 0x1fa5b30cb08>"
      ]
     },
     "execution_count": 50,
     "metadata": {},
     "output_type": "execute_result"
    },
    {
     "data": {
      "image/png": "[encoded data removed]",
      "text/plain": [
       "<Figure size 432x288 with 2 Axes>"
      ]
     },
     "metadata": {
      "needs_background": "light"
     },
     "output_type": "display_data"
    }
   ],
   "source": [
    "c = pd.merge(a,b,how='inner',on=['CGDG_CD','YEAR','MONTH']).query('YEAR == 2019').drop(columns=['YEAR','MONTH','UP1','UP4'])\n",
    "sns.heatmap(c.corr(),annot=True)"
   ]
  },
  {
   "cell_type": "code",
   "execution_count": 28,
   "metadata": {},
   "outputs": [
    {
     "data": {
      "text/plain": [
       "<matplotlib.axes._subplots.AxesSubplot at 0x1fa5bbc1fc8>"
      ]
     },
     "execution_count": 28,
     "metadata": {},
     "output_type": "execute_result"
    },
    {
     "data": {
      "image/png": "[encoded data removed]",
      "text/plain": [
       "<Figure size 432x288 with 2 Axes>"
      ]
     },
     "metadata": {
      "needs_background": "light"
     },
     "output_type": "display_data"
    }
   ],
   "source": [
    "d = pd.merge(a,b,how='inner',on=['CGDG_CD','YEAR','MONTH']).query('YEAR == 2020').drop(columns=['YEAR','MONTH','UP1','UP4'])\n",
    "sns.heatmap(d.corr(),annot=True)"
   ]
  },
  {
   "cell_type": "code",
   "execution_count": 29,
   "metadata": {},
   "outputs": [
    {
     "data": {
      "text/plain": [
       "<matplotlib.axes._subplots.AxesSubplot at 0x1fa5bbbafc8>"
      ]
     },
     "execution_count": 29,
     "metadata": {},
     "output_type": "execute_result"
    },
    {
     "data": {
      "image/png": "[encoded data removed]",
      "text/plain": [
       "<Figure size 432x288 with 2 Axes>"
      ]
     },
     "metadata": {
      "needs_background": "light"
     },
     "output_type": "display_data"
    }
   ],
   "source": [
    "e = pd.merge(a,b,how='inner',on=['CGDG_CD','YEAR','MONTH']).drop(columns=['YEAR','MONTH','UP1','UP4'])\n",
    "sns.heatmap(e.corr(),annot=True)"
   ]
  },
  {
   "cell_type": "code",
   "execution_count": 30,
   "metadata": {},
   "outputs": [
    {
     "data": {
      "text/html": [
       "<div>\n",
       "<style scoped>\n",
       "    .dataframe tbody tr th:only-of-type {\n",
       "        vertical-align: middle;\n",
       "    }\n",
       "\n",
       "    .dataframe tbody tr th {\n",
       "        vertical-align: top;\n",
       "    }\n",
       "\n",
       "    .dataframe thead th {\n",
       "        text-align: right;\n",
       "    }\n",
       "</style>\n",
       "<table border=\"1\" class=\"dataframe\">\n",
       "  <thead>\n",
       "    <tr style=\"text-align: right;\">\n",
       "      <th>UP</th>\n",
       "      <th>YEAR</th>\n",
       "      <th>MONTH</th>\n",
       "      <th>CGDG_CD</th>\n",
       "      <th>GU_DONG</th>\n",
       "      <th>UP1</th>\n",
       "      <th>UP2</th>\n",
       "      <th>UP3</th>\n",
       "      <th>UP4</th>\n",
       "      <th>UP5</th>\n",
       "      <th>UP6</th>\n",
       "    </tr>\n",
       "  </thead>\n",
       "  <tbody>\n",
       "    <tr>\n",
       "      <th>0</th>\n",
       "      <td>2019</td>\n",
       "      <td>2</td>\n",
       "      <td>11517</td>\n",
       "      <td>대구 중구,동인동</td>\n",
       "      <td>0</td>\n",
       "      <td>0</td>\n",
       "      <td>24</td>\n",
       "      <td>14</td>\n",
       "      <td>38</td>\n",
       "      <td>20</td>\n",
       "    </tr>\n",
       "    <tr>\n",
       "      <th>1</th>\n",
       "      <td>2019</td>\n",
       "      <td>2</td>\n",
       "      <td>11545</td>\n",
       "      <td>대구 중구,삼덕동</td>\n",
       "      <td>26</td>\n",
       "      <td>0</td>\n",
       "      <td>2</td>\n",
       "      <td>6</td>\n",
       "      <td>38</td>\n",
       "      <td>43</td>\n",
       "    </tr>\n",
       "    <tr>\n",
       "      <th>2</th>\n",
       "      <td>2019</td>\n",
       "      <td>2</td>\n",
       "      <td>11565</td>\n",
       "      <td>대구 중구,성내동</td>\n",
       "      <td>19</td>\n",
       "      <td>0</td>\n",
       "      <td>3</td>\n",
       "      <td>0</td>\n",
       "      <td>0</td>\n",
       "      <td>0</td>\n",
       "    </tr>\n",
       "    <tr>\n",
       "      <th>3</th>\n",
       "      <td>2019</td>\n",
       "      <td>2</td>\n",
       "      <td>11595</td>\n",
       "      <td>대구 중구,대신동</td>\n",
       "      <td>19</td>\n",
       "      <td>0</td>\n",
       "      <td>3</td>\n",
       "      <td>0</td>\n",
       "      <td>0</td>\n",
       "      <td>0</td>\n",
       "    </tr>\n",
       "    <tr>\n",
       "      <th>4</th>\n",
       "      <td>2019</td>\n",
       "      <td>2</td>\n",
       "      <td>11640</td>\n",
       "      <td>대구 중구,남산동</td>\n",
       "      <td>19</td>\n",
       "      <td>0</td>\n",
       "      <td>73</td>\n",
       "      <td>147</td>\n",
       "      <td>0</td>\n",
       "      <td>14</td>\n",
       "    </tr>\n",
       "    <tr>\n",
       "      <th>...</th>\n",
       "      <td>...</td>\n",
       "      <td>...</td>\n",
       "      <td>...</td>\n",
       "      <td>...</td>\n",
       "      <td>...</td>\n",
       "      <td>...</td>\n",
       "      <td>...</td>\n",
       "      <td>...</td>\n",
       "      <td>...</td>\n",
       "      <td>...</td>\n",
       "    </tr>\n",
       "    <tr>\n",
       "      <th>275</th>\n",
       "      <td>2020</td>\n",
       "      <td>5</td>\n",
       "      <td>35560</td>\n",
       "      <td>서울 노원구,월계동</td>\n",
       "      <td>3</td>\n",
       "      <td>0</td>\n",
       "      <td>296</td>\n",
       "      <td>205</td>\n",
       "      <td>386</td>\n",
       "      <td>85</td>\n",
       "    </tr>\n",
       "    <tr>\n",
       "      <th>276</th>\n",
       "      <td>2020</td>\n",
       "      <td>5</td>\n",
       "      <td>35595</td>\n",
       "      <td>서울 노원구,공릉동</td>\n",
       "      <td>235</td>\n",
       "      <td>2</td>\n",
       "      <td>437</td>\n",
       "      <td>4301</td>\n",
       "      <td>908</td>\n",
       "      <td>242</td>\n",
       "    </tr>\n",
       "    <tr>\n",
       "      <th>277</th>\n",
       "      <td>2020</td>\n",
       "      <td>5</td>\n",
       "      <td>35611</td>\n",
       "      <td>서울 노원구,하계동</td>\n",
       "      <td>138</td>\n",
       "      <td>0</td>\n",
       "      <td>213</td>\n",
       "      <td>4426</td>\n",
       "      <td>938</td>\n",
       "      <td>17</td>\n",
       "    </tr>\n",
       "    <tr>\n",
       "      <th>278</th>\n",
       "      <td>2020</td>\n",
       "      <td>5</td>\n",
       "      <td>35619</td>\n",
       "      <td>서울 노원구,중계동</td>\n",
       "      <td>0</td>\n",
       "      <td>0</td>\n",
       "      <td>718</td>\n",
       "      <td>436</td>\n",
       "      <td>396</td>\n",
       "      <td>79</td>\n",
       "    </tr>\n",
       "    <tr>\n",
       "      <th>279</th>\n",
       "      <td>2020</td>\n",
       "      <td>5</td>\n",
       "      <td>35630</td>\n",
       "      <td>서울 노원구,상계동</td>\n",
       "      <td>138</td>\n",
       "      <td>0</td>\n",
       "      <td>860</td>\n",
       "      <td>4659</td>\n",
       "      <td>956</td>\n",
       "      <td>76</td>\n",
       "    </tr>\n",
       "  </tbody>\n",
       "</table>\n",
       "<p>280 rows × 10 columns</p>\n",
       "</div>"
      ],
      "text/plain": [
       "UP   YEAR  MONTH CGDG_CD     GU_DONG  UP1  UP2  UP3   UP4  UP5  UP6\n",
       "0    2019      2   11517   대구 중구,동인동    0    0   24    14   38   20\n",
       "1    2019      2   11545   대구 중구,삼덕동   26    0    2     6   38   43\n",
       "2    2019      2   11565   대구 중구,성내동   19    0    3     0    0    0\n",
       "3    2019      2   11595   대구 중구,대신동   19    0    3     0    0    0\n",
       "4    2019      2   11640   대구 중구,남산동   19    0   73   147    0   14\n",
       "..    ...    ...     ...         ...  ...  ...  ...   ...  ...  ...\n",
       "275  2020      5   35560  서울 노원구,월계동    3    0  296   205  386   85\n",
       "276  2020      5   35595  서울 노원구,공릉동  235    2  437  4301  908  242\n",
       "277  2020      5   35611  서울 노원구,하계동  138    0  213  4426  938   17\n",
       "278  2020      5   35619  서울 노원구,중계동    0    0  718   436  396   79\n",
       "279  2020      5   35630  서울 노원구,상계동  138    0  860  4659  956   76\n",
       "\n",
       "[280 rows x 10 columns]"
      ]
     },
     "execution_count": 30,
     "metadata": {},
     "output_type": "execute_result"
    }
   ],
   "source": [
    "a"
   ]
  }
 ],
 "metadata": {
  "kernelspec": {
   "display_name": "Python 3",
   "language": "python",
   "name": "python3"
  },
  "language_info": {
   "codemirror_mode": {
    "name": "ipython",
    "version": 3
   },
   "file_extension": ".py",
   "mimetype": "text/x-python",
   "name": "python",
   "nbconvert_exporter": "python",
   "pygments_lexer": "ipython3",
   "version": "3.7.7"
  }
 },
 "nbformat": 4,
 "nbformat_minor": 4
}
