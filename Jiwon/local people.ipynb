{
 "cells": [
  {
   "cell_type": "code",
   "execution_count": 2,
   "metadata": {
    "ExecuteTime": {
     "end_time": "2020-09-03T11:56:08.706820Z",
     "start_time": "2020-09-03T11:56:06.501398Z"
    }
   },
   "outputs": [],
   "source": [
    "import pandas as pd\n",
    "import numpy as np\n",
    "import warnings\n",
    "import os\n",
    "import sys\n",
    "import urllib.request\n",
    "import joblib\n",
    "import simplejson as json\n",
    "from time import time\n",
    "warnings.filterwarnings(action='ignore')\n",
    "\n",
    "import seaborn as sns\n",
    "sns.set_palette(\"pastel\")\n",
    "import matplotlib.pylab as plt\n",
    "from matplotlib import font_manager, rc\n",
    "%matplotlib inline\n",
    "\n",
    "import platform\n",
    "your_os = platform.system()\n",
    "if your_os == 'Linux':\n",
    "    rc('font', family='NanumGothic')\n",
    "elif your_os == 'Windows':\n",
    "    ttf = \"c:/Windows/Fonts/malgun.ttf\"\n",
    "    font_name = font_manager.FontProperties(fname=ttf).get_name()\n",
    "    rc('font', family=font_name)\n",
    "elif your_os == 'Darwin':\n",
    "    rc('font', family='AppleGothic')"
   ]
  },
  {
   "cell_type": "code",
   "execution_count": 3,
   "metadata": {
    "ExecuteTime": {
     "end_time": "2020-09-03T11:56:08.711776Z",
     "start_time": "2020-09-03T11:56:08.707787Z"
    }
   },
   "outputs": [],
   "source": [
    "#LPD_201902 = pd.read_csv('LOCAL_PEOPLE_DONG_201902.csv',index_col=False)\n",
    "#dfcolumns = pd.read_csv('LOCAL_PEOPLE_DONG_201903.csv',\n",
    "#                        nrows = 1)\n",
    "#LPD_201903 = pd.read_csv('LOCAL_PEOPLE_DONG_201903.csv', header = None, \n",
    "#                         skiprows = 1, usecols = list(range(len(dfcolumns.columns))), \n",
    "#                         names = dfcolumns.columns)\n",
    "#LPD_201904 = pd.read_csv('LOCAL_PEOPLE_DONG_201904.csv',index_col=False)\n",
    "#LPD_201905 = pd.read_csv('LOCAL_PEOPLE_DONG_201905.csv',index_col=False)\n",
    "#LPD_202002 = pd.read_csv('LOCAL_PEOPLE_DONG_202002.csv',index_col=False)\n",
    "#LPD_202003 = pd.read_csv('LOCAL_PEOPLE_DONG_202003.csv',index_col=False)\n",
    "#LPD_202004 = pd.read_csv('LOCAL_PEOPLE_DONG_202004.csv',index_col=False)\n",
    "#LPD_202005 = pd.read_csv('LOCAL_PEOPLE_DONG_202005.csv',index_col=False)"
   ]
  },
  {
   "cell_type": "code",
   "execution_count": 4,
   "metadata": {
    "ExecuteTime": {
     "end_time": "2020-09-03T11:56:13.105985Z",
     "start_time": "2020-09-03T11:56:08.713771Z"
    }
   },
   "outputs": [],
   "source": [
    "LPD_202006 = pd.read_csv('LOCAL_PEOPLE_DONG_202006.csv',index_col=False)\n",
    "LPD_202007 = pd.read_csv('LOCAL_PEOPLE_DONG_202007.csv',index_col=False)"
   ]
  },
  {
   "cell_type": "code",
   "execution_count": 5,
   "metadata": {
    "ExecuteTime": {
     "end_time": "2020-09-03T11:56:16.205380Z",
     "start_time": "2020-09-03T11:56:16.107593Z"
    }
   },
   "outputs": [],
   "source": [
    "df = pd.concat([LPD_202006, LPD_202007])"
   ]
  },
  {
   "cell_type": "code",
   "execution_count": 6,
   "metadata": {
    "ExecuteTime": {
     "end_time": "2020-09-03T11:56:17.754471Z",
     "start_time": "2020-09-03T11:56:17.349346Z"
    }
   },
   "outputs": [],
   "source": [
    "df.rename(columns = {'남자0세부터9세생활인구수':'남자_0009세생활인구수'},inplace=True)\n",
    "df.rename(columns = {'남자70세이상생활인구수':'남자_70세이상생활인구수'},inplace=True)\n",
    "df.rename(columns = {'여자0세부터9세생활인구수':'여자_0009세생활인구수'},inplace=True)\n",
    "df.rename(columns = {'여자70세이상생활인구수':'여자_70세이상생활인구수'},inplace=True)"
   ]
  },
  {
   "cell_type": "code",
   "execution_count": 7,
   "metadata": {
    "ExecuteTime": {
     "end_time": "2020-09-03T11:56:21.792437Z",
     "start_time": "2020-09-03T11:56:19.458771Z"
    }
   },
   "outputs": [],
   "source": [
    "for i in np.arange(1,13):\n",
    "    temp = list(df.columns[4:])[i][:2]+'_'+list(df.columns[4:])[i][2:4]+list(df.columns[4:])[i][7:]\n",
    "    name = list(df.columns[4:])[i]\n",
    "    df.rename(columns={name:temp},inplace=True)\n",
    "\n",
    "for i in np.arange(15,27):\n",
    "    temp = list(df.columns[4:])[i][:2]+'_'+list(df.columns[4:])[i][2:4]+list(df.columns[4:])[i][7:]\n",
    "    name = list(df.columns[4:])[i]\n",
    "    df.rename(columns={name:temp},inplace=True)"
   ]
  },
  {
   "cell_type": "code",
   "execution_count": 8,
   "metadata": {
    "ExecuteTime": {
     "end_time": "2020-09-03T11:56:22.968787Z",
     "start_time": "2020-09-03T11:56:22.942848Z"
    }
   },
   "outputs": [],
   "source": [
    "cd = pd.read_csv('행정동코드_매핑정보.csv',encoding='cp949',header=1)\n",
    "cd['G_DNG_NM'] = cd[['DO_NM','CT_NM','H_DNG_NM']].apply(lambda x: ' '.join(x), axis=1)\n",
    "GU_DONG = cd[['H_DNG_CD','G_DNG_NM']]\n",
    "GU_DONG.rename(columns = {'H_DNG_CD':'행정동코드'},inplace=True)"
   ]
  },
  {
   "cell_type": "code",
   "execution_count": 9,
   "metadata": {
    "ExecuteTime": {
     "end_time": "2020-09-03T11:56:27.013336Z",
     "start_time": "2020-09-03T11:56:26.736804Z"
    }
   },
   "outputs": [],
   "source": [
    "life_pup = pd.merge(df,GU_DONG,on='행정동코드',how='inner')"
   ]
  },
  {
   "cell_type": "code",
   "execution_count": 10,
   "metadata": {
    "ExecuteTime": {
     "end_time": "2020-09-03T11:56:30.141892Z",
     "start_time": "2020-09-03T11:56:29.411976Z"
    }
   },
   "outputs": [],
   "source": [
    "life_pup = pd.concat([life_pup[life_pup['G_DNG_NM'].str.contains('노원구')], life_pup[life_pup['G_DNG_NM'].str.contains('중구')]])"
   ]
  },
  {
   "cell_type": "code",
   "execution_count": 11,
   "metadata": {
    "ExecuteTime": {
     "end_time": "2020-09-03T11:56:30.156851Z",
     "start_time": "2020-09-03T11:56:30.142890Z"
    }
   },
   "outputs": [],
   "source": [
    "life_pup.rename(columns = {'기준일ID':'STD_DD'},inplace=True)"
   ]
  },
  {
   "cell_type": "code",
   "execution_count": 12,
   "metadata": {
    "ExecuteTime": {
     "end_time": "2020-09-03T11:56:39.657074Z",
     "start_time": "2020-09-03T11:56:30.687278Z"
    }
   },
   "outputs": [],
   "source": [
    "life_pup['STD_DD'] = life_pup['STD_DD'].apply(lambda x: pd.to_datetime(str(x), format='%Y%m%d'))"
   ]
  },
  {
   "cell_type": "code",
   "execution_count": 13,
   "metadata": {
    "ExecuteTime": {
     "end_time": "2020-09-03T11:56:39.672857Z",
     "start_time": "2020-09-03T11:56:39.659071Z"
    }
   },
   "outputs": [],
   "source": [
    "life_pup = life_pup.reset_index(drop=True)"
   ]
  },
  {
   "cell_type": "code",
   "execution_count": 16,
   "metadata": {
    "ExecuteTime": {
     "end_time": "2020-09-03T11:59:47.226974Z",
     "start_time": "2020-09-03T11:59:47.213969Z"
    }
   },
   "outputs": [],
   "source": [
    "life_pup = life_pup.drop(columns=['행정동코드','총생활인구수'])"
   ]
  },
  {
   "cell_type": "code",
   "execution_count": 23,
   "metadata": {
    "ExecuteTime": {
     "end_time": "2020-09-03T12:06:22.163292Z",
     "start_time": "2020-09-03T12:06:22.044611Z"
    }
   },
   "outputs": [],
   "source": [
    "pup = pd.melt(life_pup,id_vars=['STD_DD','시간대구분','G_DNG_NM'],var_name='HUMAN_NM',value_name='FLOW')"
   ]
  },
  {
   "cell_type": "code",
   "execution_count": 24,
   "metadata": {
    "ExecuteTime": {
     "end_time": "2020-09-03T12:08:18.641540Z",
     "start_time": "2020-09-03T12:08:16.291264Z"
    }
   },
   "outputs": [],
   "source": [
    "pup['SEX_CD'] = np.where(pup['HUMAN_NM'].str.contains('남자'),'M','F')\n",
    "pup['HDONG_NM'] = pup['G_DNG_NM'].str[6:].apply(lambda x: x.strip())\n",
    "pup['WEEK_NUM'] = pd.to_datetime(pup['STD_DD']).dt.weekofyear\n",
    "pup['AGE_CD'] = pup['HUMAN_NM'].str[3:8]\n",
    "pup['WEEKDAY'] = pd.to_datetime(pup['STD_DD']).dt.weekday"
   ]
  },
  {
   "cell_type": "code",
   "execution_count": 27,
   "metadata": {
    "ExecuteTime": {
     "end_time": "2020-09-03T12:10:43.183136Z",
     "start_time": "2020-09-03T12:10:43.030546Z"
    }
   },
   "outputs": [],
   "source": [
    "pup = pup.drop(columns='HUMAN_NM')"
   ]
  },
  {
   "cell_type": "code",
   "execution_count": 29,
   "metadata": {
    "ExecuteTime": {
     "end_time": "2020-09-03T12:11:16.197828Z",
     "start_time": "2020-09-03T12:10:56.300142Z"
    }
   },
   "outputs": [],
   "source": [
    "pup.to_csv('local_people_melt_0607.csv',index=False)"
   ]
  },
  {
   "cell_type": "code",
   "execution_count": 22,
   "metadata": {
    "ExecuteTime": {
     "end_time": "2020-09-03T12:06:02.706475Z",
     "start_time": "2020-09-03T12:05:55.904234Z"
    }
   },
   "outputs": [
    {
     "data": {
      "text/html": [
       "<div>\n",
       "<style scoped>\n",
       "    .dataframe tbody tr th:only-of-type {\n",
       "        vertical-align: middle;\n",
       "    }\n",
       "\n",
       "    .dataframe tbody tr th {\n",
       "        vertical-align: top;\n",
       "    }\n",
       "\n",
       "    .dataframe thead th {\n",
       "        text-align: right;\n",
       "    }\n",
       "</style>\n",
       "<table border=\"1\" class=\"dataframe\">\n",
       "  <thead>\n",
       "    <tr style=\"text-align: right;\">\n",
       "      <th></th>\n",
       "      <th>STD_DD</th>\n",
       "      <th>시간대구분</th>\n",
       "      <th>행정동코드</th>\n",
       "      <th>G_DNG_NM</th>\n",
       "      <th>HUMAN_NM</th>\n",
       "      <th>FLOW</th>\n",
       "      <th>SEX_CD</th>\n",
       "      <th>HDONG_NM</th>\n",
       "      <th>WEEK_NUM</th>\n",
       "      <th>AGE_CD</th>\n",
       "      <th>WEEKDAY</th>\n",
       "    </tr>\n",
       "  </thead>\n",
       "  <tbody>\n",
       "    <tr>\n",
       "      <th>0</th>\n",
       "      <td>2019-02-01</td>\n",
       "      <td>0</td>\n",
       "      <td>11350625</td>\n",
       "      <td>서울 노원구 중계2.3동</td>\n",
       "      <td>남자_0009세생활인구수</td>\n",
       "      <td>1858.3096</td>\n",
       "      <td>M</td>\n",
       "      <td>중계2.3동</td>\n",
       "      <td>5</td>\n",
       "      <td>0009세</td>\n",
       "      <td>4</td>\n",
       "    </tr>\n",
       "    <tr>\n",
       "      <th>1</th>\n",
       "      <td>2019-02-01</td>\n",
       "      <td>1</td>\n",
       "      <td>11350625</td>\n",
       "      <td>서울 노원구 중계2.3동</td>\n",
       "      <td>남자_0009세생활인구수</td>\n",
       "      <td>1785.0549</td>\n",
       "      <td>M</td>\n",
       "      <td>중계2.3동</td>\n",
       "      <td>5</td>\n",
       "      <td>0009세</td>\n",
       "      <td>4</td>\n",
       "    </tr>\n",
       "    <tr>\n",
       "      <th>2</th>\n",
       "      <td>2019-02-01</td>\n",
       "      <td>2</td>\n",
       "      <td>11350625</td>\n",
       "      <td>서울 노원구 중계2.3동</td>\n",
       "      <td>남자_0009세생활인구수</td>\n",
       "      <td>1733.5305</td>\n",
       "      <td>M</td>\n",
       "      <td>중계2.3동</td>\n",
       "      <td>5</td>\n",
       "      <td>0009세</td>\n",
       "      <td>4</td>\n",
       "    </tr>\n",
       "    <tr>\n",
       "      <th>3</th>\n",
       "      <td>2019-02-01</td>\n",
       "      <td>3</td>\n",
       "      <td>11350625</td>\n",
       "      <td>서울 노원구 중계2.3동</td>\n",
       "      <td>남자_0009세생활인구수</td>\n",
       "      <td>1745.2137</td>\n",
       "      <td>M</td>\n",
       "      <td>중계2.3동</td>\n",
       "      <td>5</td>\n",
       "      <td>0009세</td>\n",
       "      <td>4</td>\n",
       "    </tr>\n",
       "    <tr>\n",
       "      <th>4</th>\n",
       "      <td>2019-02-01</td>\n",
       "      <td>4</td>\n",
       "      <td>11350625</td>\n",
       "      <td>서울 노원구 중계2.3동</td>\n",
       "      <td>남자_0009세생활인구수</td>\n",
       "      <td>1712.3663</td>\n",
       "      <td>M</td>\n",
       "      <td>중계2.3동</td>\n",
       "      <td>5</td>\n",
       "      <td>0009세</td>\n",
       "      <td>4</td>\n",
       "    </tr>\n",
       "    <tr>\n",
       "      <th>...</th>\n",
       "      <td>...</td>\n",
       "      <td>...</td>\n",
       "      <td>...</td>\n",
       "      <td>...</td>\n",
       "      <td>...</td>\n",
       "      <td>...</td>\n",
       "      <td>...</td>\n",
       "      <td>...</td>\n",
       "      <td>...</td>\n",
       "      <td>...</td>\n",
       "      <td>...</td>\n",
       "    </tr>\n",
       "    <tr>\n",
       "      <th>5506363</th>\n",
       "      <td>2020-05-31</td>\n",
       "      <td>19</td>\n",
       "      <td>11140605</td>\n",
       "      <td>서울 중구 을지로동</td>\n",
       "      <td>여자_70세이상생활인구수</td>\n",
       "      <td>301.2843</td>\n",
       "      <td>F</td>\n",
       "      <td>을지로동</td>\n",
       "      <td>22</td>\n",
       "      <td>70세이상</td>\n",
       "      <td>6</td>\n",
       "    </tr>\n",
       "    <tr>\n",
       "      <th>5506364</th>\n",
       "      <td>2020-05-31</td>\n",
       "      <td>20</td>\n",
       "      <td>11140605</td>\n",
       "      <td>서울 중구 을지로동</td>\n",
       "      <td>여자_70세이상생활인구수</td>\n",
       "      <td>301.9059</td>\n",
       "      <td>F</td>\n",
       "      <td>을지로동</td>\n",
       "      <td>22</td>\n",
       "      <td>70세이상</td>\n",
       "      <td>6</td>\n",
       "    </tr>\n",
       "    <tr>\n",
       "      <th>5506365</th>\n",
       "      <td>2020-05-31</td>\n",
       "      <td>21</td>\n",
       "      <td>11140605</td>\n",
       "      <td>서울 중구 을지로동</td>\n",
       "      <td>여자_70세이상생활인구수</td>\n",
       "      <td>246.0693</td>\n",
       "      <td>F</td>\n",
       "      <td>을지로동</td>\n",
       "      <td>22</td>\n",
       "      <td>70세이상</td>\n",
       "      <td>6</td>\n",
       "    </tr>\n",
       "    <tr>\n",
       "      <th>5506366</th>\n",
       "      <td>2020-05-31</td>\n",
       "      <td>22</td>\n",
       "      <td>11140605</td>\n",
       "      <td>서울 중구 을지로동</td>\n",
       "      <td>여자_70세이상생활인구수</td>\n",
       "      <td>251.1501</td>\n",
       "      <td>F</td>\n",
       "      <td>을지로동</td>\n",
       "      <td>22</td>\n",
       "      <td>70세이상</td>\n",
       "      <td>6</td>\n",
       "    </tr>\n",
       "    <tr>\n",
       "      <th>5506367</th>\n",
       "      <td>2020-05-31</td>\n",
       "      <td>23</td>\n",
       "      <td>11140605</td>\n",
       "      <td>서울 중구 을지로동</td>\n",
       "      <td>여자_70세이상생활인구수</td>\n",
       "      <td>247.0219</td>\n",
       "      <td>F</td>\n",
       "      <td>을지로동</td>\n",
       "      <td>22</td>\n",
       "      <td>70세이상</td>\n",
       "      <td>6</td>\n",
       "    </tr>\n",
       "  </tbody>\n",
       "</table>\n",
       "<p>5506368 rows × 11 columns</p>\n",
       "</div>"
      ],
      "text/plain": [
       "             STD_DD  시간대구분     행정동코드       G_DNG_NM       HUMAN_NM       FLOW  \\\n",
       "0        2019-02-01      0  11350625  서울 노원구 중계2.3동  남자_0009세생활인구수  1858.3096   \n",
       "1        2019-02-01      1  11350625  서울 노원구 중계2.3동  남자_0009세생활인구수  1785.0549   \n",
       "2        2019-02-01      2  11350625  서울 노원구 중계2.3동  남자_0009세생활인구수  1733.5305   \n",
       "3        2019-02-01      3  11350625  서울 노원구 중계2.3동  남자_0009세생활인구수  1745.2137   \n",
       "4        2019-02-01      4  11350625  서울 노원구 중계2.3동  남자_0009세생활인구수  1712.3663   \n",
       "...             ...    ...       ...            ...            ...        ...   \n",
       "5506363  2020-05-31     19  11140605     서울 중구 을지로동  여자_70세이상생활인구수   301.2843   \n",
       "5506364  2020-05-31     20  11140605     서울 중구 을지로동  여자_70세이상생활인구수   301.9059   \n",
       "5506365  2020-05-31     21  11140605     서울 중구 을지로동  여자_70세이상생활인구수   246.0693   \n",
       "5506366  2020-05-31     22  11140605     서울 중구 을지로동  여자_70세이상생활인구수   251.1501   \n",
       "5506367  2020-05-31     23  11140605     서울 중구 을지로동  여자_70세이상생활인구수   247.0219   \n",
       "\n",
       "        SEX_CD HDONG_NM  WEEK_NUM AGE_CD  WEEKDAY  \n",
       "0            M   중계2.3동         5  0009세        4  \n",
       "1            M   중계2.3동         5  0009세        4  \n",
       "2            M   중계2.3동         5  0009세        4  \n",
       "3            M   중계2.3동         5  0009세        4  \n",
       "4            M   중계2.3동         5  0009세        4  \n",
       "...        ...      ...       ...    ...      ...  \n",
       "5506363      F     을지로동        22  70세이상        6  \n",
       "5506364      F     을지로동        22  70세이상        6  \n",
       "5506365      F     을지로동        22  70세이상        6  \n",
       "5506366      F     을지로동        22  70세이상        6  \n",
       "5506367      F     을지로동        22  70세이상        6  \n",
       "\n",
       "[5506368 rows x 11 columns]"
      ]
     },
     "execution_count": 22,
     "metadata": {},
     "output_type": "execute_result"
    }
   ],
   "source": [
    "pd.read_csv('local_people_melt.csv')"
   ]
  }
 ],
 "metadata": {
  "kernelspec": {
   "display_name": "Python 3",
   "language": "python",
   "name": "python3"
  },
  "language_info": {
   "codemirror_mode": {
    "name": "ipython",
    "version": 3
   },
   "file_extension": ".py",
   "mimetype": "text/x-python",
   "name": "python",
   "nbconvert_exporter": "python",
   "pygments_lexer": "ipython3",
   "version": "3.7.7"
  },
  "toc": {
   "base_numbering": 1,
   "nav_menu": {},
   "number_sections": true,
   "sideBar": true,
   "skip_h1_title": false,
   "title_cell": "Table of Contents",
   "title_sidebar": "Contents",
   "toc_cell": false,
   "toc_position": {},
   "toc_section_display": true,
   "toc_window_display": false
  }
 },
 "nbformat": 4,
 "nbformat_minor": 4
}
