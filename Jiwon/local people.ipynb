{
 "cells": [
  {
   "cell_type": "code",
   "execution_count": 1,
   "metadata": {},
   "outputs": [],
   "source": [
    "import pandas as pd\n",
    "import numpy as np\n",
    "import warnings\n",
    "import os\n",
    "import sys\n",
    "import urllib.request\n",
    "import joblib\n",
    "import simplejson as json\n",
    "from time import time\n",
    "warnings.filterwarnings(action='ignore')\n",
    "\n",
    "import seaborn as sns\n",
    "sns.set_palette(\"pastel\")\n",
    "import matplotlib.pylab as plt\n",
    "from matplotlib import font_manager, rc\n",
    "%matplotlib inline\n",
    "\n",
    "import platform\n",
    "your_os = platform.system()\n",
    "if your_os == 'Linux':\n",
    "    rc('font', family='NanumGothic')\n",
    "elif your_os == 'Windows':\n",
    "    ttf = \"c:/Windows/Fonts/malgun.ttf\"\n",
    "    font_name = font_manager.FontProperties(fname=ttf).get_name()\n",
    "    rc('font', family=font_name)\n",
    "elif your_os == 'Darwin':\n",
    "    rc('font', family='AppleGothic')"
   ]
  },
  {
   "cell_type": "code",
   "execution_count": 2,
   "metadata": {},
   "outputs": [],
   "source": [
    "LPD_201902 = pd.read_csv('LOCAL_PEOPLE_DONG_201902.csv',index_col=False)\n",
    "dfcolumns = pd.read_csv('LOCAL_PEOPLE_DONG_201903.csv',\n",
    "                        nrows = 1)\n",
    "LPD_201903 = pd.read_csv('LOCAL_PEOPLE_DONG_201903.csv', header = None, \n",
    "                         skiprows = 1, usecols = list(range(len(dfcolumns.columns))), \n",
    "                         names = dfcolumns.columns)\n",
    "LPD_201904 = pd.read_csv('LOCAL_PEOPLE_DONG_201904.csv',index_col=False)\n",
    "LPD_201905 = pd.read_csv('LOCAL_PEOPLE_DONG_201905.csv',index_col=False)\n",
    "LPD_202002 = pd.read_csv('LOCAL_PEOPLE_DONG_202002.csv',index_col=False)\n",
    "LPD_202003 = pd.read_csv('LOCAL_PEOPLE_DONG_202003.csv',index_col=False)\n",
    "LPD_202004 = pd.read_csv('LOCAL_PEOPLE_DONG_202004.csv',index_col=False)\n",
    "LPD_202005 = pd.read_csv('LOCAL_PEOPLE_DONG_202005.csv',index_col=False)"
   ]
  },
  {
   "cell_type": "code",
   "execution_count": 3,
   "metadata": {},
   "outputs": [],
   "source": [
    "df = pd.concat([LPD_201902, LPD_201903, LPD_201904, LPD_201905, LPD_202002, LPD_202003, LPD_202004, LPD_202005])"
   ]
  },
  {
   "cell_type": "code",
   "execution_count": 4,
   "metadata": {},
   "outputs": [],
   "source": [
    "df.rename(columns = {'남자0세부터9세생활인구수':'남자_0009세생활인구수'},inplace=True)\n",
    "df.rename(columns = {'남자70세이상생활인구수':'남자_70세이상생활인구수'},inplace=True)\n",
    "df.rename(columns = {'여자0세부터9세생활인구수':'여자_0009세생활인구수'},inplace=True)\n",
    "df.rename(columns = {'여자70세이상생활인구수':'여자_70세이상생활인구수'},inplace=True)"
   ]
  },
  {
   "cell_type": "code",
   "execution_count": 6,
   "metadata": {},
   "outputs": [],
   "source": [
    "for i in np.arange(1,13):\n",
    "    temp = list(df.columns[4:])[i][:2]+'_'+list(df.columns[4:])[i][2:4]+list(df.columns[4:])[i][7:]\n",
    "    name = list(df.columns[4:])[i]\n",
    "    df.rename(columns={name:temp},inplace=True)\n",
    "\n",
    "for i in np.arange(15,27):\n",
    "    temp = list(df.columns[4:])[i][:2]+'_'+list(df.columns[4:])[i][2:4]+list(df.columns[4:])[i][7:]\n",
    "    name = list(df.columns[4:])[i]\n",
    "    df.rename(columns={name:temp},inplace=True)"
   ]
  },
  {
   "cell_type": "code",
   "execution_count": 9,
   "metadata": {},
   "outputs": [],
   "source": [
    "cd = pd.read_csv('행정동코드_매핑정보.csv',encoding='cp949',header=1)\n",
    "cd['G_DNG_NM'] = cd[['DO_NM','CT_NM','H_DNG_NM']].apply(lambda x: ' '.join(x), axis=1)\n",
    "GU_DONG = cd[['H_DNG_CD','G_DNG_NM']]\n",
    "GU_DONG.rename(columns = {'H_DNG_CD':'행정동코드'},inplace=True)"
   ]
  },
  {
   "cell_type": "code",
   "execution_count": 11,
   "metadata": {},
   "outputs": [],
   "source": [
    "life_pup = pd.merge(df,GU_DONG,on='행정동코드',how='inner')"
   ]
  },
  {
   "cell_type": "code",
   "execution_count": 27,
   "metadata": {},
   "outputs": [],
   "source": [
    "life_pup = pd.concat([life_pup[life_pup['G_DNG_NM'].str.contains('노원구')], life_pup[life_pup['G_DNG_NM'].str.contains('중구')]])"
   ]
  },
  {
   "cell_type": "code",
   "execution_count": 28,
   "metadata": {},
   "outputs": [],
   "source": [
    "life_pup.rename(columns = {'기준일ID':'STD_DD'},inplace=True)"
   ]
  },
  {
   "cell_type": "code",
   "execution_count": 29,
   "metadata": {},
   "outputs": [],
   "source": [
    "life_pup['STD_DD'] = life_pup['STD_DD'].apply(lambda x: pd.to_datetime(str(x), format='%Y%m%d'))"
   ]
  },
  {
   "cell_type": "code",
   "execution_count": 32,
   "metadata": {},
   "outputs": [],
   "source": [
    "life_pup = life_pup.reset_index(drop=True)"
   ]
  },
  {
   "cell_type": "code",
   "execution_count": 33,
   "metadata": {},
   "outputs": [],
   "source": [
    "life_pup.to_csv('local_people_data.csv',index=False)"
   ]
  }
 ],
 "metadata": {
  "kernelspec": {
   "display_name": "Python 3",
   "language": "python",
   "name": "python3"
  },
  "language_info": {
   "codemirror_mode": {
    "name": "ipython",
    "version": 3
   },
   "file_extension": ".py",
   "mimetype": "text/x-python",
   "name": "python",
   "nbconvert_exporter": "python",
   "pygments_lexer": "ipython3",
   "version": "3.7.7"
  }
 },
 "nbformat": 4,
 "nbformat_minor": 4
}
